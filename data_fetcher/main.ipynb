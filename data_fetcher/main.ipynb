{
 "cells": [
  {
   "cell_type": "markdown",
   "id": "02b43a95",
   "metadata": {},
   "source": [
    "# **API & WEBHOOK-BASED DATA RETRIEVAL**"
   ]
  },
  {
   "cell_type": "markdown",
   "id": "3c636a87",
   "metadata": {},
   "source": [
    "### **1) REQUIREMENTS SETUP**"
   ]
  },
  {
   "cell_type": "code",
   "execution_count": 1,
   "id": "4ecc6c9a",
   "metadata": {
    "ExecuteTime": {
     "end_time": "2025-10-30T23:00:32.680584Z",
     "start_time": "2025-10-30T23:00:32.669619Z"
    }
   },
   "outputs": [],
   "source": [
    "# !pip install -r requirements.txt"
   ]
  },
  {
   "cell_type": "code",
   "execution_count": 2,
   "id": "7cb394ac",
   "metadata": {
    "ExecuteTime": {
     "end_time": "2025-10-31T13:38:05.849052Z",
     "start_time": "2025-10-31T13:37:59.096165Z"
    }
   },
   "outputs": [],
   "source": [
    "import warnings\n",
    "warnings.filterwarnings(\"ignore\")\n",
    "import os\n",
    "import pandas as pd\n",
    "import numpy as np"
   ]
  },
  {
   "cell_type": "markdown",
   "id": "c506530d",
   "metadata": {},
   "source": [
    "### **2) MODULES IMPORT**"
   ]
  },
  {
   "cell_type": "code",
   "execution_count": 3,
   "id": "d27670ad",
   "metadata": {
    "ExecuteTime": {
     "end_time": "2025-10-30T23:02:30.046048Z",
     "start_time": "2025-10-30T23:02:29.949375Z"
    }
   },
   "outputs": [],
   "source": [
    "from FRED_module import fetch_FRED\n",
    "from EUROSTAT_module import fetch_EUROSTAT\n",
    "from WB_module import fetch_WB \n",
    "from YFINANCE_module import fetch_YFINANCE\n",
    "from DBNOMICS_module import fetch_DBNOMICS"
   ]
  },
  {
   "cell_type": "markdown",
   "id": "d7d2dd32",
   "metadata": {},
   "source": [
    "### **3) DATA FETCHING**"
   ]
  },
  {
   "cell_type": "markdown",
   "id": "27ef5590",
   "metadata": {},
   "source": [
    "#### **3.1) EUROSTAT-extracted indicators**"
   ]
  },
  {
   "cell_type": "code",
   "execution_count": 4,
   "id": "7513e0c6",
   "metadata": {},
   "outputs": [
    {
     "data": {
      "application/vnd.microsoft.datawrangler.viewer.v0+json": {
       "columns": [
        {
         "name": "index",
         "rawType": "int64",
         "type": "integer"
        },
        {
         "name": "Country",
         "rawType": "object",
         "type": "string"
        },
        {
         "name": "Level 1 Index",
         "rawType": "object",
         "type": "string"
        },
        {
         "name": "Time",
         "rawType": "object",
         "type": "string"
        },
        {
         "name": "Indprod Index Value (I21)",
         "rawType": "float64",
         "type": "float"
        }
       ],
       "ref": "ee6ebb35-ec7f-4820-84df-2c439cc48d0f",
       "rows": [
        [
         "26762",
         "SK",
         "D",
         "2025-04",
         "82.8"
        ],
        [
         "26763",
         "SK",
         "D",
         "2025-05",
         "81.0"
        ],
        [
         "26764",
         "SK",
         "D",
         "2025-06",
         "79.1"
        ],
        [
         "26765",
         "SK",
         "D",
         "2025-07",
         "76.9"
        ],
        [
         "26766",
         "SK",
         "D",
         "2025-08",
         "75.1"
        ]
       ],
       "shape": {
        "columns": 4,
        "rows": 5
       }
      },
      "text/html": [
       "<div>\n",
       "<style scoped>\n",
       "    .dataframe tbody tr th:only-of-type {\n",
       "        vertical-align: middle;\n",
       "    }\n",
       "\n",
       "    .dataframe tbody tr th {\n",
       "        vertical-align: top;\n",
       "    }\n",
       "\n",
       "    .dataframe thead th {\n",
       "        text-align: right;\n",
       "    }\n",
       "</style>\n",
       "<table border=\"1\" class=\"dataframe\">\n",
       "  <thead>\n",
       "    <tr style=\"text-align: right;\">\n",
       "      <th></th>\n",
       "      <th>Country</th>\n",
       "      <th>Level 1 Index</th>\n",
       "      <th>Time</th>\n",
       "      <th>Indprod Index Value (I21)</th>\n",
       "    </tr>\n",
       "  </thead>\n",
       "  <tbody>\n",
       "    <tr>\n",
       "      <th>26762</th>\n",
       "      <td>SK</td>\n",
       "      <td>D</td>\n",
       "      <td>2025-04</td>\n",
       "      <td>82.8</td>\n",
       "    </tr>\n",
       "    <tr>\n",
       "      <th>26763</th>\n",
       "      <td>SK</td>\n",
       "      <td>D</td>\n",
       "      <td>2025-05</td>\n",
       "      <td>81.0</td>\n",
       "    </tr>\n",
       "    <tr>\n",
       "      <th>26764</th>\n",
       "      <td>SK</td>\n",
       "      <td>D</td>\n",
       "      <td>2025-06</td>\n",
       "      <td>79.1</td>\n",
       "    </tr>\n",
       "    <tr>\n",
       "      <th>26765</th>\n",
       "      <td>SK</td>\n",
       "      <td>D</td>\n",
       "      <td>2025-07</td>\n",
       "      <td>76.9</td>\n",
       "    </tr>\n",
       "    <tr>\n",
       "      <th>26766</th>\n",
       "      <td>SK</td>\n",
       "      <td>D</td>\n",
       "      <td>2025-08</td>\n",
       "      <td>75.1</td>\n",
       "    </tr>\n",
       "  </tbody>\n",
       "</table>\n",
       "</div>"
      ],
      "text/plain": [
       "      Country Level 1 Index     Time  Indprod Index Value (I21)\n",
       "26762      SK             D  2025-04                       82.8\n",
       "26763      SK             D  2025-05                       81.0\n",
       "26764      SK             D  2025-06                       79.1\n",
       "26765      SK             D  2025-07                       76.9\n",
       "26766      SK             D  2025-08                       75.1"
      ]
     },
     "execution_count": 4,
     "metadata": {},
     "output_type": "execute_result"
    }
   ],
   "source": [
    "# Industrial Production Indicators by EU member state (monthly, level 1 indicators, Index: 2021=100, non-seasonally adjusted, 1996-01, 2025-08)\n",
    "# https://ec.europa.eu/eurostat/databrowser/view/sts_inpr_m/default/table?lang=en\n",
    "# Level 1 Indicators: Mining and Quarrying (B), Manufacturing (C), Electricity, gas, steam and air conditioning supply (D)\n",
    "EURO_indprod_m_raw = fetch_EUROSTAT(\n",
    "    \"sts_inpr_m\",\n",
    "    filters = {\n",
    "    \"geo\": [\"EU27_2020\", \"EU28\", \"EA20\", \"EA19\",  \n",
    "    \"BE\", \"BG\", \"CZ\", \"DK\", \"DE\", \"EE\", \"IE\", \"EL\", \"ES\", \"FR\",\n",
    "    \"HR\", \"IT\", \"CY\", \"LV\", \"LT\", \"LU\", \"HU\", \"MT\", \"NL\", \"AT\",\n",
    "    \"PL\", \"PT\", \"RO\", \"SI\", \"SK\", \"FI\", \"SE\"],\n",
    "    \"s_adj\": \"NSA\",\n",
    "    \"unit\": \"I21\",\n",
    "    \"nace_r2\": [\"B\", \"C\", \"D\"]\n",
    "    }\n",
    ")\n",
    "\n",
    "EURO_indprod_m_raw = EURO_indprod_m_raw[[\"geo\", \"nace_r2\", \"time\", \"value\"]]\n",
    "EURO_indprod_m_raw = EURO_indprod_m_raw.rename(columns={\n",
    "    \"geo\": \"Country\",\n",
    "    \"time\": \"Time\",\n",
    "    \"nace_r2\": \"Level 1 Index\", \n",
    "    \"value\": \"Indprod Index Value (I21)\"\n",
    "})\n",
    "EURO_indprod_m_raw = EURO_indprod_m_raw.sort_values([\"Country\", \"Level 1 Index\", \"Time\"])\n",
    "\n",
    "EURO_indprod_m_raw.tail()"
   ]
  },
  {
   "cell_type": "code",
   "execution_count": 5,
   "id": "426de587",
   "metadata": {},
   "outputs": [
    {
     "data": {
      "application/vnd.microsoft.datawrangler.viewer.v0+json": {
       "columns": [
        {
         "name": "index",
         "rawType": "int64",
         "type": "integer"
        },
        {
         "name": "Country",
         "rawType": "object",
         "type": "string"
        },
        {
         "name": "Time",
         "rawType": "object",
         "type": "string"
        },
        {
         "name": "Unemployment Rate (%pop in LF)",
         "rawType": "float64",
         "type": "float"
        }
       ],
       "ref": "bea49e7c-36b0-4828-9520-302f956b6f7e",
       "rows": [
        [
         "10970",
         "SK",
         "2025-05",
         "5.2"
        ],
        [
         "10971",
         "SK",
         "2025-06",
         "5.3"
        ],
        [
         "10972",
         "SK",
         "2025-07",
         "5.4"
        ],
        [
         "10973",
         "SK",
         "2025-08",
         "5.5"
        ],
        [
         "10974",
         "SK",
         "2025-09",
         "5.6"
        ]
       ],
       "shape": {
        "columns": 3,
        "rows": 5
       }
      },
      "text/html": [
       "<div>\n",
       "<style scoped>\n",
       "    .dataframe tbody tr th:only-of-type {\n",
       "        vertical-align: middle;\n",
       "    }\n",
       "\n",
       "    .dataframe tbody tr th {\n",
       "        vertical-align: top;\n",
       "    }\n",
       "\n",
       "    .dataframe thead th {\n",
       "        text-align: right;\n",
       "    }\n",
       "</style>\n",
       "<table border=\"1\" class=\"dataframe\">\n",
       "  <thead>\n",
       "    <tr style=\"text-align: right;\">\n",
       "      <th></th>\n",
       "      <th>Country</th>\n",
       "      <th>Time</th>\n",
       "      <th>Unemployment Rate (%pop in LF)</th>\n",
       "    </tr>\n",
       "  </thead>\n",
       "  <tbody>\n",
       "    <tr>\n",
       "      <th>10970</th>\n",
       "      <td>SK</td>\n",
       "      <td>2025-05</td>\n",
       "      <td>5.2</td>\n",
       "    </tr>\n",
       "    <tr>\n",
       "      <th>10971</th>\n",
       "      <td>SK</td>\n",
       "      <td>2025-06</td>\n",
       "      <td>5.3</td>\n",
       "    </tr>\n",
       "    <tr>\n",
       "      <th>10972</th>\n",
       "      <td>SK</td>\n",
       "      <td>2025-07</td>\n",
       "      <td>5.4</td>\n",
       "    </tr>\n",
       "    <tr>\n",
       "      <th>10973</th>\n",
       "      <td>SK</td>\n",
       "      <td>2025-08</td>\n",
       "      <td>5.5</td>\n",
       "    </tr>\n",
       "    <tr>\n",
       "      <th>10974</th>\n",
       "      <td>SK</td>\n",
       "      <td>2025-09</td>\n",
       "      <td>5.6</td>\n",
       "    </tr>\n",
       "  </tbody>\n",
       "</table>\n",
       "</div>"
      ],
      "text/plain": [
       "      Country     Time  Unemployment Rate (%pop in LF)\n",
       "10970      SK  2025-05                             5.2\n",
       "10971      SK  2025-06                             5.3\n",
       "10972      SK  2025-07                             5.4\n",
       "10973      SK  2025-08                             5.5\n",
       "10974      SK  2025-09                             5.6"
      ]
     },
     "execution_count": 5,
     "metadata": {},
     "output_type": "execute_result"
    }
   ],
   "source": [
    "# Unemployment rate by EU member state (initially quarterly transformed by duplication to monthly, Percentage of population in the labour force (age-class = total, sex-class=total), non-seasonally adjusted, 1994-01 (varying), 2025-08)\n",
    "# https://ec.europa.eu/eurostat/databrowser/view/une_rt_m/default/table?lang=en\n",
    "EURO_unem_m_raw = fetch_EUROSTAT(\n",
    "    \"une_rt_m\",\n",
    "    filters = {\n",
    "    \"geo\": [\"EU27_2020\", \"EU28\", \"EA20\", \"EA19\",  \n",
    "    \"BE\", \"BG\", \"CZ\", \"DK\", \"DE\", \"EE\", \"IE\", \"EL\", \"ES\", \"FR\",\n",
    "    \"HR\", \"IT\", \"CY\", \"LV\", \"LT\", \"LU\", \"HU\", \"MT\", \"NL\", \"AT\",\n",
    "    \"PL\", \"PT\", \"RO\", \"SI\", \"SK\", \"FI\", \"SE\"],\n",
    "    \"s_adj\": \"NSA\",\n",
    "    \"unit\": \"PC_ACT\",\n",
    "    \"freq\": \"M\",\n",
    "    \"age\": \"TOTAL\",\n",
    "    \"sex\": \"T\"\n",
    "    }\n",
    ")\n",
    "\n",
    "EURO_unem_m_raw = EURO_unem_m_raw[[\"geo\", \"time\", \"value\"]]\n",
    "EURO_unem_m_raw = EURO_unem_m_raw.rename(columns={\n",
    "    \"geo\": \"Country\",\n",
    "    \"time\": \"Time\",\n",
    "    \"value\": \"Unemployment Rate (%pop in LF)\"\n",
    "})\n",
    "\n",
    "EURO_unem_m_raw.tail()"
   ]
  },
  {
   "cell_type": "code",
   "execution_count": null,
   "id": "80debdbc",
   "metadata": {
    "ExecuteTime": {
     "end_time": "2025-10-30T23:02:45.918961Z",
     "start_time": "2025-10-30T23:02:42.279133Z"
    }
   },
   "outputs": [
    {
     "data": {
      "application/vnd.microsoft.datawrangler.viewer.v0+json": {
       "columns": [
        {
         "name": "index",
         "rawType": "int64",
         "type": "integer"
        },
        {
         "name": "Country",
         "rawType": "object",
         "type": "string"
        },
        {
         "name": "Time",
         "rawType": "object",
         "type": "string"
        },
        {
         "name": "GDP (Million EUR)",
         "rawType": "float64",
         "type": "float"
        }
       ],
       "ref": "f2bc3293-b4a5-4e1c-9b15-c50862dbdd6e",
       "rows": [
        [
         "0",
         "AT",
         "1995-01",
         "14395.533333333333"
        ],
        [
         "1",
         "AT",
         "1995-02",
         "14395.533333333333"
        ],
        [
         "2",
         "AT",
         "1995-03",
         "14395.533333333333"
        ],
        [
         "3",
         "AT",
         "1995-04",
         "15595.6"
        ],
        [
         "4",
         "AT",
         "1995-05",
         "15595.6"
        ]
       ],
       "shape": {
        "columns": 3,
        "rows": 5
       }
      },
      "text/html": [
       "<div>\n",
       "<style scoped>\n",
       "    .dataframe tbody tr th:only-of-type {\n",
       "        vertical-align: middle;\n",
       "    }\n",
       "\n",
       "    .dataframe tbody tr th {\n",
       "        vertical-align: top;\n",
       "    }\n",
       "\n",
       "    .dataframe thead th {\n",
       "        text-align: right;\n",
       "    }\n",
       "</style>\n",
       "<table border=\"1\" class=\"dataframe\">\n",
       "  <thead>\n",
       "    <tr style=\"text-align: right;\">\n",
       "      <th></th>\n",
       "      <th>Country</th>\n",
       "      <th>Time</th>\n",
       "      <th>GDP (Million EUR)</th>\n",
       "    </tr>\n",
       "  </thead>\n",
       "  <tbody>\n",
       "    <tr>\n",
       "      <th>0</th>\n",
       "      <td>AT</td>\n",
       "      <td>1995-01</td>\n",
       "      <td>14395.533333</td>\n",
       "    </tr>\n",
       "    <tr>\n",
       "      <th>1</th>\n",
       "      <td>AT</td>\n",
       "      <td>1995-02</td>\n",
       "      <td>14395.533333</td>\n",
       "    </tr>\n",
       "    <tr>\n",
       "      <th>2</th>\n",
       "      <td>AT</td>\n",
       "      <td>1995-03</td>\n",
       "      <td>14395.533333</td>\n",
       "    </tr>\n",
       "    <tr>\n",
       "      <th>3</th>\n",
       "      <td>AT</td>\n",
       "      <td>1995-04</td>\n",
       "      <td>15595.600000</td>\n",
       "    </tr>\n",
       "    <tr>\n",
       "      <th>4</th>\n",
       "      <td>AT</td>\n",
       "      <td>1995-05</td>\n",
       "      <td>15595.600000</td>\n",
       "    </tr>\n",
       "  </tbody>\n",
       "</table>\n",
       "</div>"
      ],
      "text/plain": [
       "  Country     Time  GDP (Million EUR)\n",
       "0      AT  1995-01       14395.533333\n",
       "1      AT  1995-02       14395.533333\n",
       "2      AT  1995-03       14395.533333\n",
       "3      AT  1995-04       15595.600000\n",
       "4      AT  1995-05       15595.600000"
      ]
     },
     "execution_count": 6,
     "metadata": {},
     "output_type": "execute_result"
    }
   ],
   "source": [
    "# UPDATE IN USD\n",
    "\n",
    "# Gross domestic product at market prices by EU member state (initially quarterly transformed by duplication to monthly, current prices in million euro, non-seasonally adjusted, 1995-Q1 (varying), 2025-Q2)\n",
    "# https://ec.europa.eu/eurostat/databrowser/view/namq_10_gdp/default/table?lang=en\n",
    "EURO_GDP_q_raw = fetch_EUROSTAT(\n",
    "    \"namq_10_gdp\",\n",
    "    filters = {\n",
    "    \"geo\": [\"EU27_2020\", \"EU28\", \"EA20\", \"EA19\",  \n",
    "    \"BE\", \"BG\", \"CZ\", \"DK\", \"DE\", \"EE\", \"IE\", \"EL\", \"ES\", \"FR\",\n",
    "    \"HR\", \"IT\", \"CY\", \"LV\", \"LT\", \"LU\", \"HU\", \"MT\", \"NL\", \"AT\",\n",
    "    \"PL\", \"PT\", \"RO\", \"SI\", \"SK\", \"FI\", \"SE\"],\n",
    "    \"na_item\": \"B1GQ\",\n",
    "    \"s_adj\": \"NSA\",\n",
    "    \"unit\": \"CP_MEUR\"\n",
    "    }\n",
    ")\n",
    "\n",
    "EURO_GDP_q_raw = EURO_GDP_q_raw[[\"geo\", \"time\", \"value\"]]\n",
    "EURO_GDP_q_raw = EURO_GDP_q_raw.rename(columns={\n",
    "    \"geo\": \"Country\",\n",
    "    \"time\": \"Time\",\n",
    "    \"value\": \"GDP (Million EUR)\"\n",
    "})\n",
    "\n",
    "# Increasing data granularity from quarterly to monthly data by extending the quarter value to single months \n",
    "EURO_GDP_q_raw[\"Time\"] = pd.PeriodIndex(EURO_GDP_q_raw[\"Time\"], freq=\"Q\").to_timestamp()\n",
    "expanded_rows = []\n",
    "\n",
    "for _, row in EURO_GDP_q_raw.iterrows():\n",
    "    quarter_end = row[\"Time\"]\n",
    "    start_month = quarter_end - pd.offsets.QuarterEnd(startingMonth=3) + pd.DateOffset(days=1)\n",
    "    for i in range(3):\n",
    "        month = (start_month + pd.DateOffset(months=i)).strftime(\"%Y-%m\")\n",
    "        expanded_rows.append({\n",
    "            \"Country\": row[\"Country\"],\n",
    "            \"Time\": month,\n",
    "            \"GDP (Million EUR)\": row[\"GDP (Million EUR)\"] / 3\n",
    "        })\n",
    "\n",
    "EURO_GDP_m_raw = pd.DataFrame(expanded_rows)\n",
    "EURO_GDP_m_raw = EURO_GDP_m_raw.sort_values(by=[\"Country\", \"Time\"]).reset_index(drop=True)\n",
    "\n",
    "EURO_GDP_m_raw.head()"
   ]
  },
  {
   "cell_type": "code",
   "execution_count": 7,
   "id": "33618a0a",
   "metadata": {},
   "outputs": [
    {
     "data": {
      "application/vnd.microsoft.datawrangler.viewer.v0+json": {
       "columns": [
        {
         "name": "index",
         "rawType": "int64",
         "type": "integer"
        },
        {
         "name": "Country",
         "rawType": "object",
         "type": "string"
        },
        {
         "name": "Time",
         "rawType": "object",
         "type": "string"
        },
        {
         "name": "HICP (%, annual rate of change)",
         "rawType": "float64",
         "type": "float"
        }
       ],
       "ref": "65d23dc8-789f-449b-ad0a-a7e628a6a87d",
       "rows": [
        [
         "10466",
         "SK",
         "2025-06",
         "4.6"
        ],
        [
         "10467",
         "SK",
         "2025-07",
         "4.6"
        ],
        [
         "10468",
         "SK",
         "2025-08",
         "4.4"
        ],
        [
         "10469",
         "SK",
         "2025-09",
         "4.6"
        ],
        [
         "10470",
         "SK",
         "2025-10",
         "3.8"
        ]
       ],
       "shape": {
        "columns": 3,
        "rows": 5
       }
      },
      "text/html": [
       "<div>\n",
       "<style scoped>\n",
       "    .dataframe tbody tr th:only-of-type {\n",
       "        vertical-align: middle;\n",
       "    }\n",
       "\n",
       "    .dataframe tbody tr th {\n",
       "        vertical-align: top;\n",
       "    }\n",
       "\n",
       "    .dataframe thead th {\n",
       "        text-align: right;\n",
       "    }\n",
       "</style>\n",
       "<table border=\"1\" class=\"dataframe\">\n",
       "  <thead>\n",
       "    <tr style=\"text-align: right;\">\n",
       "      <th></th>\n",
       "      <th>Country</th>\n",
       "      <th>Time</th>\n",
       "      <th>HICP (%, annual rate of change)</th>\n",
       "    </tr>\n",
       "  </thead>\n",
       "  <tbody>\n",
       "    <tr>\n",
       "      <th>10466</th>\n",
       "      <td>SK</td>\n",
       "      <td>2025-06</td>\n",
       "      <td>4.6</td>\n",
       "    </tr>\n",
       "    <tr>\n",
       "      <th>10467</th>\n",
       "      <td>SK</td>\n",
       "      <td>2025-07</td>\n",
       "      <td>4.6</td>\n",
       "    </tr>\n",
       "    <tr>\n",
       "      <th>10468</th>\n",
       "      <td>SK</td>\n",
       "      <td>2025-08</td>\n",
       "      <td>4.4</td>\n",
       "    </tr>\n",
       "    <tr>\n",
       "      <th>10469</th>\n",
       "      <td>SK</td>\n",
       "      <td>2025-09</td>\n",
       "      <td>4.6</td>\n",
       "    </tr>\n",
       "    <tr>\n",
       "      <th>10470</th>\n",
       "      <td>SK</td>\n",
       "      <td>2025-10</td>\n",
       "      <td>3.8</td>\n",
       "    </tr>\n",
       "  </tbody>\n",
       "</table>\n",
       "</div>"
      ],
      "text/plain": [
       "      Country     Time  HICP (%, annual rate of change)\n",
       "10466      SK  2025-06                              4.6\n",
       "10467      SK  2025-07                              4.6\n",
       "10468      SK  2025-08                              4.4\n",
       "10469      SK  2025-09                              4.6\n",
       "10470      SK  2025-10                              3.8"
      ]
     },
     "execution_count": 7,
     "metadata": {},
     "output_type": "execute_result"
    }
   ],
   "source": [
    "# HICP by EU member state (monthly, annual rate of change, 1997-01 (varying), 2025-09)\n",
    "# https://ec.europa.eu/eurostat/databrowser/view/PRC_HICP_MANR__custom_3807536/bookmark/table?lang=en&bookmarkId=cd099aa2-8977-42d5-b5d8-bc5edd3a94df&c=1668007557361 \n",
    "EURO_HICP_m_raw = fetch_EUROSTAT(\n",
    "    \"prc_hicp_manr\",\n",
    "    filters={\n",
    "    \"geo\": [\n",
    "    \"EU27_2020\", \"EU28\", \"EA20\", \"EA19\", \n",
    "    \"BE\", \"BG\", \"CZ\", \"DK\", \"DE\", \"EE\", \"IE\", \"EL\", \"ES\", \"FR\",\n",
    "    \"HR\", \"IT\", \"CY\", \"LV\", \"LT\", \"LU\", \"HU\", \"MT\", \"NL\", \"AT\",\n",
    "    \"PL\", \"PT\", \"RO\", \"SI\", \"SK\", \"FI\", \"SE\"\n",
    "    ],\n",
    "    \"coicop\": \"CP00\", \n",
    "    \"unit\": \"RCH_A\"\n",
    "    }\n",
    ")\n",
    "\n",
    "EURO_HICP_m_raw = EURO_HICP_m_raw[[\"geo\", \"time\", \"value\"]]\n",
    "EURO_HICP_m_raw = EURO_HICP_m_raw.rename(columns={\n",
    "    \"geo\": \"Country\",\n",
    "    \"time\": \"Time\",\n",
    "    \"value\": \"HICP (%, annual rate of change)\"\n",
    "})\n",
    "\n",
    "EURO_HICP_m_raw.tail()"
   ]
  },
  {
   "cell_type": "markdown",
   "id": "d0b2bf0f",
   "metadata": {},
   "source": [
    "#### **3.2) FRED-extracted indicators**"
   ]
  },
  {
   "cell_type": "code",
   "execution_count": 8,
   "id": "d937246d",
   "metadata": {},
   "outputs": [
    {
     "data": {
      "application/vnd.microsoft.datawrangler.viewer.v0+json": {
       "columns": [
        {
         "name": "index",
         "rawType": "int64",
         "type": "integer"
        },
        {
         "name": "Country",
         "rawType": "object",
         "type": "string"
        },
        {
         "name": "Time",
         "rawType": "object",
         "type": "string"
        },
        {
         "name": "USD-EUR Spot Exchange Rate",
         "rawType": "float64",
         "type": "float"
        }
       ],
       "ref": "22517446-7eef-4890-837d-c3e73306e9f4",
       "rows": [
        [
         "6435",
         "SK",
         "2025-06",
         "1.153365"
        ],
        [
         "6436",
         "SK",
         "2025-07",
         "1.1670818181818183"
        ],
        [
         "6437",
         "SK",
         "2025-08",
         "1.1647476190476191"
        ],
        [
         "6438",
         "SK",
         "2025-09",
         "1.1738714285714285"
        ],
        [
         "6439",
         "SK",
         "2025-10",
         "1.1648941176470589"
        ]
       ],
       "shape": {
        "columns": 3,
        "rows": 5
       }
      },
      "text/html": [
       "<div>\n",
       "<style scoped>\n",
       "    .dataframe tbody tr th:only-of-type {\n",
       "        vertical-align: middle;\n",
       "    }\n",
       "\n",
       "    .dataframe tbody tr th {\n",
       "        vertical-align: top;\n",
       "    }\n",
       "\n",
       "    .dataframe thead th {\n",
       "        text-align: right;\n",
       "    }\n",
       "</style>\n",
       "<table border=\"1\" class=\"dataframe\">\n",
       "  <thead>\n",
       "    <tr style=\"text-align: right;\">\n",
       "      <th></th>\n",
       "      <th>Country</th>\n",
       "      <th>Time</th>\n",
       "      <th>USD-EUR Spot Exchange Rate</th>\n",
       "    </tr>\n",
       "  </thead>\n",
       "  <tbody>\n",
       "    <tr>\n",
       "      <th>6435</th>\n",
       "      <td>SK</td>\n",
       "      <td>2025-06</td>\n",
       "      <td>1.153365</td>\n",
       "    </tr>\n",
       "    <tr>\n",
       "      <th>6436</th>\n",
       "      <td>SK</td>\n",
       "      <td>2025-07</td>\n",
       "      <td>1.167082</td>\n",
       "    </tr>\n",
       "    <tr>\n",
       "      <th>6437</th>\n",
       "      <td>SK</td>\n",
       "      <td>2025-08</td>\n",
       "      <td>1.164748</td>\n",
       "    </tr>\n",
       "    <tr>\n",
       "      <th>6438</th>\n",
       "      <td>SK</td>\n",
       "      <td>2025-09</td>\n",
       "      <td>1.173871</td>\n",
       "    </tr>\n",
       "    <tr>\n",
       "      <th>6439</th>\n",
       "      <td>SK</td>\n",
       "      <td>2025-10</td>\n",
       "      <td>1.164894</td>\n",
       "    </tr>\n",
       "  </tbody>\n",
       "</table>\n",
       "</div>"
      ],
      "text/plain": [
       "     Country     Time  USD-EUR Spot Exchange Rate\n",
       "6435      SK  2025-06                    1.153365\n",
       "6436      SK  2025-07                    1.167082\n",
       "6437      SK  2025-08                    1.164748\n",
       "6438      SK  2025-09                    1.173871\n",
       "6439      SK  2025-10                    1.164894"
      ]
     },
     "execution_count": 8,
     "metadata": {},
     "output_type": "execute_result"
    }
   ],
   "source": [
    "# US-EUR exchange rate, U.S. Dollars to One Euro (initially daily, converted to monthly, non-seasonally adjusted, 1999-01, 2025-10)\n",
    "# https://fred.stlouisfed.org/series/DEXUSEU\n",
    "EXUSEU_d_raw = fetch_FRED(\"DEXUSEU\") \n",
    "EXUSEU_d_raw = EXUSEU_d_raw.rename(columns= \n",
    "        {\"date\": \"Time\", \n",
    "         \"DEXUSEU\": \"USD-EUR Spot Exchange Rate\"\n",
    "})\n",
    "\n",
    "# Aggregation (dimension from daily to monthly)\n",
    "EXUSEU_d_raw = EXUSEU_d_raw.set_index(\"Time\")\n",
    "EXUSEU_m_raw = EXUSEU_d_raw.resample(\"M\").mean().reset_index()\n",
    "EXUSEU_m_raw[\"Time\"] = EXUSEU_m_raw[\"Time\"].dt.to_period(\"M\").astype(str)\n",
    "\n",
    "# Extension to every Euro-adopting country\n",
    "euro_countries = [\n",
    "    \"BE\", \"DE\", \"EE\", \"IE\", \"EL\", \"ES\", \"FR\",\n",
    "    \"HR\", \"IT\", \"CY\", \"LV\", \"LT\", \"LU\", \"MT\",\n",
    "    \"NL\", \"AT\", \"PT\", \"SI\", \"SK\", \"FI\"\n",
    "]\n",
    "EXUSEU_m_raw = (EXUSEU_m_raw.assign(key=1).merge(pd.DataFrame({\"Country\": euro_countries, \"key\": 1}), on=\"key\").drop(\"key\", axis=1)).sort_values([\"Country\", \"Time\"]).reset_index(drop=True)\n",
    "EXUSEU_m_raw = EXUSEU_m_raw[[\"Country\", \"Time\", \"USD-EUR Spot Exchange Rate\"]]\n",
    "\n",
    "EXUSEU_m_raw.tail()"
   ]
  },
  {
   "cell_type": "code",
   "execution_count": 9,
   "id": "a6c3abe4",
   "metadata": {},
   "outputs": [
    {
     "data": {
      "application/vnd.microsoft.datawrangler.viewer.v0+json": {
       "columns": [
        {
         "name": "index",
         "rawType": "int64",
         "type": "integer"
        },
        {
         "name": "Country",
         "rawType": "object",
         "type": "string"
        },
        {
         "name": "Time",
         "rawType": "object",
         "type": "string"
        },
        {
         "name": "USD-BGN Spot Exchange Rate",
         "rawType": "float64",
         "type": "float"
        }
       ],
       "ref": "b385f3ac-71a4-41b0-a834-be25438dd627",
       "rows": [
        [
         "769",
         "BG",
         "2021-02",
         "1.6167"
        ],
        [
         "770",
         "BG",
         "2021-03",
         "1.6447"
        ],
        [
         "771",
         "BG",
         "2021-04",
         "1.6366"
        ],
        [
         "772",
         "BG",
         "2021-05",
         "1.6084"
        ],
        [
         "773",
         "BG",
         "2021-06",
         "1.6237"
        ]
       ],
       "shape": {
        "columns": 3,
        "rows": 5
       }
      },
      "text/html": [
       "<div>\n",
       "<style scoped>\n",
       "    .dataframe tbody tr th:only-of-type {\n",
       "        vertical-align: middle;\n",
       "    }\n",
       "\n",
       "    .dataframe tbody tr th {\n",
       "        vertical-align: top;\n",
       "    }\n",
       "\n",
       "    .dataframe thead th {\n",
       "        text-align: right;\n",
       "    }\n",
       "</style>\n",
       "<table border=\"1\" class=\"dataframe\">\n",
       "  <thead>\n",
       "    <tr style=\"text-align: right;\">\n",
       "      <th></th>\n",
       "      <th>Country</th>\n",
       "      <th>Time</th>\n",
       "      <th>USD-BGN Spot Exchange Rate</th>\n",
       "    </tr>\n",
       "  </thead>\n",
       "  <tbody>\n",
       "    <tr>\n",
       "      <th>769</th>\n",
       "      <td>BG</td>\n",
       "      <td>2021-02</td>\n",
       "      <td>1.6167</td>\n",
       "    </tr>\n",
       "    <tr>\n",
       "      <th>770</th>\n",
       "      <td>BG</td>\n",
       "      <td>2021-03</td>\n",
       "      <td>1.6447</td>\n",
       "    </tr>\n",
       "    <tr>\n",
       "      <th>771</th>\n",
       "      <td>BG</td>\n",
       "      <td>2021-04</td>\n",
       "      <td>1.6366</td>\n",
       "    </tr>\n",
       "    <tr>\n",
       "      <th>772</th>\n",
       "      <td>BG</td>\n",
       "      <td>2021-05</td>\n",
       "      <td>1.6084</td>\n",
       "    </tr>\n",
       "    <tr>\n",
       "      <th>773</th>\n",
       "      <td>BG</td>\n",
       "      <td>2021-06</td>\n",
       "      <td>1.6237</td>\n",
       "    </tr>\n",
       "  </tbody>\n",
       "</table>\n",
       "</div>"
      ],
      "text/plain": [
       "    Country     Time  USD-BGN Spot Exchange Rate\n",
       "769      BG  2021-02                      1.6167\n",
       "770      BG  2021-03                      1.6447\n",
       "771      BG  2021-04                      1.6366\n",
       "772      BG  2021-05                      1.6084\n",
       "773      BG  2021-06                      1.6237"
      ]
     },
     "execution_count": 9,
     "metadata": {},
     "output_type": "execute_result"
    }
   ],
   "source": [
    "# US-BGN exchange rate, U.S. Dollars to One Bulgarian Lev (monthly, non-seasonally adjusted, 1960-01, 2021-06)\n",
    "# https://fred.stlouisfed.org/series/BGRCCUSMA02STM\n",
    "\n",
    "EXUSBGN_m_raw = fetch_FRED(\"BGRCCUSMA02STM\") \n",
    "EXUSBGN_m_raw = EXUSBGN_m_raw.rename(columns= \n",
    "        {\"date\": \"Time\", \n",
    "         \"BGRCCUSMA02STM\": \"USD-BGN Spot Exchange Rate\"\n",
    "})\n",
    "\n",
    "EXUSBGN_m_raw[\"Time\"] = EXUSBGN_m_raw[\"Time\"].dt.to_period(\"M\").astype(str)\n",
    "\n",
    "EXUSBGN_m_raw[\"Country\"] = \"BG\"\n",
    "EXUSBGN_m_raw = EXUSBGN_m_raw[[\"Country\", \"Time\", \"USD-BGN Spot Exchange Rate\"]]\n",
    "\n",
    "EXUSBGN_m_raw.tail()"
   ]
  },
  {
   "cell_type": "code",
   "execution_count": 10,
   "id": "1f6f01ce",
   "metadata": {},
   "outputs": [
    {
     "data": {
      "application/vnd.microsoft.datawrangler.viewer.v0+json": {
       "columns": [
        {
         "name": "index",
         "rawType": "int64",
         "type": "integer"
        },
        {
         "name": "Country",
         "rawType": "object",
         "type": "string"
        },
        {
         "name": "Time",
         "rawType": "object",
         "type": "string"
        },
        {
         "name": "USD-SKK Spot Exchange Rate",
         "rawType": "float64",
         "type": "float"
        }
       ],
       "ref": "1c430a54-3507-4996-8e50-64847456d011",
       "rows": [
        [
         "653",
         "SE",
         "2025-06",
         "0.10473183675029679"
        ],
        [
         "654",
         "SE",
         "2025-07",
         "0.10419384981593209"
        ],
        [
         "655",
         "SE",
         "2025-08",
         "0.10441221145561064"
        ],
        [
         "656",
         "SE",
         "2025-09",
         "0.10669300459694432"
        ],
        [
         "657",
         "SE",
         "2025-10",
         "0.10603600608521925"
        ]
       ],
       "shape": {
        "columns": 3,
        "rows": 5
       }
      },
      "text/html": [
       "<div>\n",
       "<style scoped>\n",
       "    .dataframe tbody tr th:only-of-type {\n",
       "        vertical-align: middle;\n",
       "    }\n",
       "\n",
       "    .dataframe tbody tr th {\n",
       "        vertical-align: top;\n",
       "    }\n",
       "\n",
       "    .dataframe thead th {\n",
       "        text-align: right;\n",
       "    }\n",
       "</style>\n",
       "<table border=\"1\" class=\"dataframe\">\n",
       "  <thead>\n",
       "    <tr style=\"text-align: right;\">\n",
       "      <th></th>\n",
       "      <th>Country</th>\n",
       "      <th>Time</th>\n",
       "      <th>USD-SKK Spot Exchange Rate</th>\n",
       "    </tr>\n",
       "  </thead>\n",
       "  <tbody>\n",
       "    <tr>\n",
       "      <th>653</th>\n",
       "      <td>SE</td>\n",
       "      <td>2025-06</td>\n",
       "      <td>0.104732</td>\n",
       "    </tr>\n",
       "    <tr>\n",
       "      <th>654</th>\n",
       "      <td>SE</td>\n",
       "      <td>2025-07</td>\n",
       "      <td>0.104194</td>\n",
       "    </tr>\n",
       "    <tr>\n",
       "      <th>655</th>\n",
       "      <td>SE</td>\n",
       "      <td>2025-08</td>\n",
       "      <td>0.104412</td>\n",
       "    </tr>\n",
       "    <tr>\n",
       "      <th>656</th>\n",
       "      <td>SE</td>\n",
       "      <td>2025-09</td>\n",
       "      <td>0.106693</td>\n",
       "    </tr>\n",
       "    <tr>\n",
       "      <th>657</th>\n",
       "      <td>SE</td>\n",
       "      <td>2025-10</td>\n",
       "      <td>0.106036</td>\n",
       "    </tr>\n",
       "  </tbody>\n",
       "</table>\n",
       "</div>"
      ],
      "text/plain": [
       "    Country     Time  USD-SKK Spot Exchange Rate\n",
       "653      SE  2025-06                    0.104732\n",
       "654      SE  2025-07                    0.104194\n",
       "655      SE  2025-08                    0.104412\n",
       "656      SE  2025-09                    0.106693\n",
       "657      SE  2025-10                    0.106036"
      ]
     },
     "execution_count": 10,
     "metadata": {},
     "output_type": "execute_result"
    }
   ],
   "source": [
    "# US-SKK exchange rate, U.S. Dollar to One Swedish Kronor (initially SKK-US daily, converted to US-SKK monthly, non-seasonally adjusted, 1971-01, 2025-10)\n",
    "# https://fred.stlouisfed.org/series/DEXSDUS\n",
    "EXSKKUS_d_raw = fetch_FRED(\"DEXSDUS\") \n",
    "EXSKKUS_d_raw = EXSKKUS_d_raw.rename(columns= \n",
    "        {\"date\": \"Time\", \n",
    "         \"DEXSDUS\": \"SKK-USD Spot Exchange Rate\"\n",
    "})\n",
    "\n",
    "# Aggregation (dimension from daily to monthly)\n",
    "EXSKKUS_d_raw = EXSKKUS_d_raw.set_index(\"Time\")\n",
    "EXSKKUS_m_raw = EXSKKUS_d_raw.resample(\"M\").mean().reset_index()\n",
    "EXSKKUS_m_raw[\"Time\"] = EXSKKUS_m_raw[\"Time\"].dt.to_period(\"M\").astype(str)\n",
    "\n",
    "# Conversion to USXS spot exchange rate \n",
    "EXUSSKK_m_raw = EXSKKUS_m_raw.copy()\n",
    "EXUSSKK_m_raw[\"USD-SKK Spot Exchange Rate\"] = 1 / EXUSSKK_m_raw[\"SKK-USD Spot Exchange Rate\"]\n",
    "EXUSSKK_m_raw = EXUSSKK_m_raw.drop(columns=[\"SKK-USD Spot Exchange Rate\"])\n",
    "\n",
    "EXUSSKK_m_raw[\"Country\"] = \"SE\"\n",
    "EXUSSKK_m_raw = EXUSSKK_m_raw[[\"Country\", \"Time\", \"USD-SKK Spot Exchange Rate\"]]\n",
    "\n",
    "EXUSSKK_m_raw.tail()"
   ]
  },
  {
   "cell_type": "code",
   "execution_count": 11,
   "id": "97658bf4",
   "metadata": {},
   "outputs": [
    {
     "data": {
      "application/vnd.microsoft.datawrangler.viewer.v0+json": {
       "columns": [
        {
         "name": "index",
         "rawType": "int64",
         "type": "integer"
        },
        {
         "name": "Country",
         "rawType": "object",
         "type": "string"
        },
        {
         "name": "Time",
         "rawType": "object",
         "type": "string"
        },
        {
         "name": "USD-DKK Spot Exchange Rate",
         "rawType": "float64",
         "type": "float"
        }
       ],
       "ref": "de1fbdfe-ca0d-4e73-b6d3-41938364f672",
       "rows": [
        [
         "652",
         "DK",
         "2025-05",
         "0.15110990223189324"
        ],
        [
         "653",
         "DK",
         "2025-06",
         "0.15460729746444032"
        ],
        [
         "654",
         "DK",
         "2025-07",
         "0.1563868384836732"
        ],
        [
         "655",
         "DK",
         "2025-08",
         "0.15605736668799453"
        ],
        [
         "656",
         "DK",
         "2025-09",
         "0.15725743041358703"
        ]
       ],
       "shape": {
        "columns": 3,
        "rows": 5
       }
      },
      "text/html": [
       "<div>\n",
       "<style scoped>\n",
       "    .dataframe tbody tr th:only-of-type {\n",
       "        vertical-align: middle;\n",
       "    }\n",
       "\n",
       "    .dataframe tbody tr th {\n",
       "        vertical-align: top;\n",
       "    }\n",
       "\n",
       "    .dataframe thead th {\n",
       "        text-align: right;\n",
       "    }\n",
       "</style>\n",
       "<table border=\"1\" class=\"dataframe\">\n",
       "  <thead>\n",
       "    <tr style=\"text-align: right;\">\n",
       "      <th></th>\n",
       "      <th>Country</th>\n",
       "      <th>Time</th>\n",
       "      <th>USD-DKK Spot Exchange Rate</th>\n",
       "    </tr>\n",
       "  </thead>\n",
       "  <tbody>\n",
       "    <tr>\n",
       "      <th>652</th>\n",
       "      <td>DK</td>\n",
       "      <td>2025-05</td>\n",
       "      <td>0.151110</td>\n",
       "    </tr>\n",
       "    <tr>\n",
       "      <th>653</th>\n",
       "      <td>DK</td>\n",
       "      <td>2025-06</td>\n",
       "      <td>0.154607</td>\n",
       "    </tr>\n",
       "    <tr>\n",
       "      <th>654</th>\n",
       "      <td>DK</td>\n",
       "      <td>2025-07</td>\n",
       "      <td>0.156387</td>\n",
       "    </tr>\n",
       "    <tr>\n",
       "      <th>655</th>\n",
       "      <td>DK</td>\n",
       "      <td>2025-08</td>\n",
       "      <td>0.156057</td>\n",
       "    </tr>\n",
       "    <tr>\n",
       "      <th>656</th>\n",
       "      <td>DK</td>\n",
       "      <td>2025-09</td>\n",
       "      <td>0.157257</td>\n",
       "    </tr>\n",
       "  </tbody>\n",
       "</table>\n",
       "</div>"
      ],
      "text/plain": [
       "    Country     Time  USD-DKK Spot Exchange Rate\n",
       "652      DK  2025-05                    0.151110\n",
       "653      DK  2025-06                    0.154607\n",
       "654      DK  2025-07                    0.156387\n",
       "655      DK  2025-08                    0.156057\n",
       "656      DK  2025-09                    0.157257"
      ]
     },
     "execution_count": 11,
     "metadata": {},
     "output_type": "execute_result"
    }
   ],
   "source": [
    "# US-DKK exchange rate, U.S. Dollar to One Danish Krone (initially DN-US converted to US-DN, monthly non-seasonally adjusted, 1971-01, 2025-09)\n",
    "# https://fred.stlouisfed.org/series/EXDNUS\n",
    "EXDKKUS_m_raw = fetch_FRED(\"EXDNUS\") \n",
    "EXDKKUS_m_raw = EXDKKUS_m_raw.rename(columns= \n",
    "        {\"date\": \"Time\", \n",
    "         \"EXDNUS\": \"DKK-USD Spot Exchange Rate\"\n",
    "})\n",
    "\n",
    "EXDKKUS_m_raw[\"Time\"] = EXDKKUS_m_raw[\"Time\"].dt.to_period(\"M\").astype(str)\n",
    "\n",
    "# Conversion to USDN spot exchange rate \n",
    "EXUSDKK_m_raw = EXDKKUS_m_raw.copy()\n",
    "EXUSDKK_m_raw[\"USD-DKK Spot Exchange Rate\"] = 1 / EXUSDKK_m_raw[\"DKK-USD Spot Exchange Rate\"]\n",
    "EXUSDKK_m_raw = EXUSDKK_m_raw.drop(columns=[\"DKK-USD Spot Exchange Rate\"])\n",
    "\n",
    "EXUSDKK_m_raw[\"Country\"] = \"DK\"\n",
    "EXUSDKK_m_raw = EXUSDKK_m_raw[[\"Country\", \"Time\", \"USD-DKK Spot Exchange Rate\"]]\n",
    "\n",
    "EXUSDKK_m_raw.tail()"
   ]
  },
  {
   "cell_type": "code",
   "execution_count": 12,
   "id": "3ee54eb7",
   "metadata": {},
   "outputs": [
    {
     "data": {
      "application/vnd.microsoft.datawrangler.viewer.v0+json": {
       "columns": [
        {
         "name": "index",
         "rawType": "int64",
         "type": "integer"
        },
        {
         "name": "Country",
         "rawType": "object",
         "type": "string"
        },
        {
         "name": "Time",
         "rawType": "object",
         "type": "string"
        },
        {
         "name": "USD-CZK Spot Exchange Rate",
         "rawType": "float64",
         "type": "float"
        }
       ],
       "ref": "bc61f065-348d-4615-8059-3aefbcd76773",
       "rows": [
        [
         "412",
         "CZ",
         "2025-05",
         "22.0833181818182"
        ],
        [
         "413",
         "CZ",
         "2025-06",
         "21.539476190476197"
        ],
        [
         "414",
         "CZ",
         "2025-07",
         "21.0877391304348"
        ],
        [
         "415",
         "CZ",
         "2025-08",
         "21.0794761904762"
        ],
        [
         "416",
         "CZ",
         "2025-09",
         "20.7528181818182"
        ]
       ],
       "shape": {
        "columns": 3,
        "rows": 5
       }
      },
      "text/html": [
       "<div>\n",
       "<style scoped>\n",
       "    .dataframe tbody tr th:only-of-type {\n",
       "        vertical-align: middle;\n",
       "    }\n",
       "\n",
       "    .dataframe tbody tr th {\n",
       "        vertical-align: top;\n",
       "    }\n",
       "\n",
       "    .dataframe thead th {\n",
       "        text-align: right;\n",
       "    }\n",
       "</style>\n",
       "<table border=\"1\" class=\"dataframe\">\n",
       "  <thead>\n",
       "    <tr style=\"text-align: right;\">\n",
       "      <th></th>\n",
       "      <th>Country</th>\n",
       "      <th>Time</th>\n",
       "      <th>USD-CZK Spot Exchange Rate</th>\n",
       "    </tr>\n",
       "  </thead>\n",
       "  <tbody>\n",
       "    <tr>\n",
       "      <th>412</th>\n",
       "      <td>CZ</td>\n",
       "      <td>2025-05</td>\n",
       "      <td>22.083318</td>\n",
       "    </tr>\n",
       "    <tr>\n",
       "      <th>413</th>\n",
       "      <td>CZ</td>\n",
       "      <td>2025-06</td>\n",
       "      <td>21.539476</td>\n",
       "    </tr>\n",
       "    <tr>\n",
       "      <th>414</th>\n",
       "      <td>CZ</td>\n",
       "      <td>2025-07</td>\n",
       "      <td>21.087739</td>\n",
       "    </tr>\n",
       "    <tr>\n",
       "      <th>415</th>\n",
       "      <td>CZ</td>\n",
       "      <td>2025-08</td>\n",
       "      <td>21.079476</td>\n",
       "    </tr>\n",
       "    <tr>\n",
       "      <th>416</th>\n",
       "      <td>CZ</td>\n",
       "      <td>2025-09</td>\n",
       "      <td>20.752818</td>\n",
       "    </tr>\n",
       "  </tbody>\n",
       "</table>\n",
       "</div>"
      ],
      "text/plain": [
       "    Country     Time  USD-CZK Spot Exchange Rate\n",
       "412      CZ  2025-05                   22.083318\n",
       "413      CZ  2025-06                   21.539476\n",
       "414      CZ  2025-07                   21.087739\n",
       "415      CZ  2025-08                   21.079476\n",
       "416      CZ  2025-09                   20.752818"
      ]
     },
     "execution_count": 12,
     "metadata": {},
     "output_type": "execute_result"
    }
   ],
   "source": [
    "# US-CZK exchange rate, U.S. Dollar to One Czech koruna (monthly non-seasonally adjusted, 1991-01, 2025-09)\n",
    "# https://fred.stlouisfed.org/series/CCUSMA02CZM618N \n",
    "EXUSCZK_m_raw = fetch_FRED(\"CCUSMA02CZM618N\") \n",
    "EXUSCZK_m_raw = EXUSCZK_m_raw.rename(columns= \n",
    "        {\"date\": \"Time\", \n",
    "         \"CCUSMA02CZM618N\": \"USD-CZK Spot Exchange Rate\"\n",
    "})\n",
    "\n",
    "EXUSCZK_m_raw[\"Time\"] = EXUSCZK_m_raw[\"Time\"].dt.to_period(\"M\").astype(str)\n",
    "EXUSCZK_m_raw[\"Country\"] = \"CZ\"\n",
    "EXUSCZK_m_raw = EXUSCZK_m_raw[[\"Country\", \"Time\", \"USD-CZK Spot Exchange Rate\"]]\n",
    "\n",
    "EXUSCZK_m_raw.tail()"
   ]
  },
  {
   "cell_type": "code",
   "execution_count": 13,
   "id": "ff71dd33",
   "metadata": {},
   "outputs": [
    {
     "data": {
      "application/vnd.microsoft.datawrangler.viewer.v0+json": {
       "columns": [
        {
         "name": "index",
         "rawType": "int64",
         "type": "integer"
        },
        {
         "name": "Country",
         "rawType": "object",
         "type": "string"
        },
        {
         "name": "Time",
         "rawType": "object",
         "type": "string"
        },
        {
         "name": "USD-HUF Spot Exchange Rate",
         "rawType": "float64",
         "type": "float"
        }
       ],
       "ref": "42c3d3a0-7c4b-4c63-be32-0ce97d91408c",
       "rows": [
        [
         "688",
         "HU",
         "2025-05",
         "357.90590909090895"
        ],
        [
         "689",
         "HU",
         "2025-06",
         "349.176666666667"
        ],
        [
         "690",
         "HU",
         "2025-07",
         "341.577391304348"
        ],
        [
         "691",
         "HU",
         "2025-08",
         "340.91190476190496"
        ],
        [
         "692",
         "HU",
         "2025-09",
         "333.840909090909"
        ]
       ],
       "shape": {
        "columns": 3,
        "rows": 5
       }
      },
      "text/html": [
       "<div>\n",
       "<style scoped>\n",
       "    .dataframe tbody tr th:only-of-type {\n",
       "        vertical-align: middle;\n",
       "    }\n",
       "\n",
       "    .dataframe tbody tr th {\n",
       "        vertical-align: top;\n",
       "    }\n",
       "\n",
       "    .dataframe thead th {\n",
       "        text-align: right;\n",
       "    }\n",
       "</style>\n",
       "<table border=\"1\" class=\"dataframe\">\n",
       "  <thead>\n",
       "    <tr style=\"text-align: right;\">\n",
       "      <th></th>\n",
       "      <th>Country</th>\n",
       "      <th>Time</th>\n",
       "      <th>USD-HUF Spot Exchange Rate</th>\n",
       "    </tr>\n",
       "  </thead>\n",
       "  <tbody>\n",
       "    <tr>\n",
       "      <th>688</th>\n",
       "      <td>HU</td>\n",
       "      <td>2025-05</td>\n",
       "      <td>357.905909</td>\n",
       "    </tr>\n",
       "    <tr>\n",
       "      <th>689</th>\n",
       "      <td>HU</td>\n",
       "      <td>2025-06</td>\n",
       "      <td>349.176667</td>\n",
       "    </tr>\n",
       "    <tr>\n",
       "      <th>690</th>\n",
       "      <td>HU</td>\n",
       "      <td>2025-07</td>\n",
       "      <td>341.577391</td>\n",
       "    </tr>\n",
       "    <tr>\n",
       "      <th>691</th>\n",
       "      <td>HU</td>\n",
       "      <td>2025-08</td>\n",
       "      <td>340.911905</td>\n",
       "    </tr>\n",
       "    <tr>\n",
       "      <th>692</th>\n",
       "      <td>HU</td>\n",
       "      <td>2025-09</td>\n",
       "      <td>333.840909</td>\n",
       "    </tr>\n",
       "  </tbody>\n",
       "</table>\n",
       "</div>"
      ],
      "text/plain": [
       "    Country     Time  USD-HUF Spot Exchange Rate\n",
       "688      HU  2025-05                  357.905909\n",
       "689      HU  2025-06                  349.176667\n",
       "690      HU  2025-07                  341.577391\n",
       "691      HU  2025-08                  340.911905\n",
       "692      HU  2025-09                  333.840909"
      ]
     },
     "execution_count": 13,
     "metadata": {},
     "output_type": "execute_result"
    }
   ],
   "source": [
    "# US-HUF exchange rate, U.S. Dollar to One Hungarian Forint (monthly non-seasonally adjusted, 1968-01, 2025-09)\n",
    "# https://fred.stlouisfed.org/series/CCUSMA02HUM618N\n",
    "EXUSHUF_m_raw = fetch_FRED(\"CCUSMA02HUM618N\") \n",
    "EXUSHUF_m_raw = EXUSHUF_m_raw.rename(columns= \n",
    "        {\"date\": \"Time\", \n",
    "         \"CCUSMA02HUM618N\": \"USD-HUF Spot Exchange Rate\"\n",
    "})\n",
    "\n",
    "EXUSHUF_m_raw[\"Time\"] = EXUSHUF_m_raw[\"Time\"].dt.to_period(\"M\").astype(str)\n",
    "EXUSHUF_m_raw[\"Country\"] = \"HU\"\n",
    "EXUSHUF_m_raw = EXUSHUF_m_raw[[\"Country\", \"Time\", \"USD-HUF Spot Exchange Rate\"]]\n",
    "\n",
    "EXUSHUF_m_raw.tail()"
   ]
  },
  {
   "cell_type": "code",
   "execution_count": 14,
   "id": "c0197d32",
   "metadata": {},
   "outputs": [
    {
     "data": {
      "application/vnd.microsoft.datawrangler.viewer.v0+json": {
       "columns": [
        {
         "name": "index",
         "rawType": "int64",
         "type": "integer"
        },
        {
         "name": "Country",
         "rawType": "object",
         "type": "string"
        },
        {
         "name": "Time",
         "rawType": "object",
         "type": "string"
        },
        {
         "name": "USD-PLN Spot Exchange Rate",
         "rawType": "float64",
         "type": "float"
        }
       ],
       "ref": "53d12064-3261-410b-b2d0-65e61d93836d",
       "rows": [
        [
         "820",
         "PL",
         "2025-05",
         "3.7698863636363598"
        ],
        [
         "821",
         "PL",
         "2025-06",
         "3.70305714285714"
        ],
        [
         "822",
         "PL",
         "2025-07",
         "3.64047826086957"
        ],
        [
         "823",
         "PL",
         "2025-08",
         "3.6665857142857097"
        ],
        [
         "824",
         "PL",
         "2025-09",
         "3.6291954545454503"
        ]
       ],
       "shape": {
        "columns": 3,
        "rows": 5
       }
      },
      "text/html": [
       "<div>\n",
       "<style scoped>\n",
       "    .dataframe tbody tr th:only-of-type {\n",
       "        vertical-align: middle;\n",
       "    }\n",
       "\n",
       "    .dataframe tbody tr th {\n",
       "        vertical-align: top;\n",
       "    }\n",
       "\n",
       "    .dataframe thead th {\n",
       "        text-align: right;\n",
       "    }\n",
       "</style>\n",
       "<table border=\"1\" class=\"dataframe\">\n",
       "  <thead>\n",
       "    <tr style=\"text-align: right;\">\n",
       "      <th></th>\n",
       "      <th>Country</th>\n",
       "      <th>Time</th>\n",
       "      <th>USD-PLN Spot Exchange Rate</th>\n",
       "    </tr>\n",
       "  </thead>\n",
       "  <tbody>\n",
       "    <tr>\n",
       "      <th>820</th>\n",
       "      <td>PL</td>\n",
       "      <td>2025-05</td>\n",
       "      <td>3.769886</td>\n",
       "    </tr>\n",
       "    <tr>\n",
       "      <th>821</th>\n",
       "      <td>PL</td>\n",
       "      <td>2025-06</td>\n",
       "      <td>3.703057</td>\n",
       "    </tr>\n",
       "    <tr>\n",
       "      <th>822</th>\n",
       "      <td>PL</td>\n",
       "      <td>2025-07</td>\n",
       "      <td>3.640478</td>\n",
       "    </tr>\n",
       "    <tr>\n",
       "      <th>823</th>\n",
       "      <td>PL</td>\n",
       "      <td>2025-08</td>\n",
       "      <td>3.666586</td>\n",
       "    </tr>\n",
       "    <tr>\n",
       "      <th>824</th>\n",
       "      <td>PL</td>\n",
       "      <td>2025-09</td>\n",
       "      <td>3.629195</td>\n",
       "    </tr>\n",
       "  </tbody>\n",
       "</table>\n",
       "</div>"
      ],
      "text/plain": [
       "    Country     Time  USD-PLN Spot Exchange Rate\n",
       "820      PL  2025-05                    3.769886\n",
       "821      PL  2025-06                    3.703057\n",
       "822      PL  2025-07                    3.640478\n",
       "823      PL  2025-08                    3.666586\n",
       "824      PL  2025-09                    3.629195"
      ]
     },
     "execution_count": 14,
     "metadata": {},
     "output_type": "execute_result"
    }
   ],
   "source": [
    "# US-PLN exchange rate, U.S. Dollar to One Polish Zloty (monthly non-seasonally adjusted, 1957-01, 2025-09)\n",
    "# https://fred.stlouisfed.org/series/CCUSMA02PLM618N\n",
    "EXUSPLN_m_raw = fetch_FRED(\"CCUSMA02PLM618N\") \n",
    "EXUSPLN_m_raw = EXUSPLN_m_raw.rename(columns= \n",
    "        {\"date\": \"Time\", \n",
    "         \"CCUSMA02PLM618N\": \"USD-PLN Spot Exchange Rate\"\n",
    "})\n",
    "\n",
    "EXUSPLN_m_raw[\"Time\"] = EXUSPLN_m_raw[\"Time\"].dt.to_period(\"M\").astype(str)\n",
    "EXUSPLN_m_raw[\"Country\"] = \"PL\"\n",
    "EXUSPLN_m_raw = EXUSPLN_m_raw[[\"Country\", \"Time\", \"USD-PLN Spot Exchange Rate\"]]\n",
    "\n",
    "EXUSPLN_m_raw.tail()"
   ]
  },
  {
   "cell_type": "code",
   "execution_count": 15,
   "id": "4ad7495a",
   "metadata": {},
   "outputs": [
    {
     "data": {
      "application/vnd.microsoft.datawrangler.viewer.v0+json": {
       "columns": [
        {
         "name": "index",
         "rawType": "int64",
         "type": "integer"
        },
        {
         "name": "Country",
         "rawType": "object",
         "type": "string"
        },
        {
         "name": "Time",
         "rawType": "object",
         "type": "string"
        },
        {
         "name": "USD-RON Spot Exchange Rate",
         "rawType": "float64",
         "type": "float"
        }
       ],
       "ref": "421895c0-4a83-4ef3-ba5d-f849b469ad43",
       "rows": [
        [
         "798",
         "RO",
         "2023-07",
         "4.4689"
        ],
        [
         "799",
         "RO",
         "2023-08",
         "4.5294"
        ],
        [
         "800",
         "RO",
         "2023-09",
         "4.647"
        ],
        [
         "801",
         "RO",
         "2023-10",
         "4.7027"
        ],
        [
         "802",
         "RO",
         "2023-11",
         "4.6035"
        ]
       ],
       "shape": {
        "columns": 3,
        "rows": 5
       }
      },
      "text/html": [
       "<div>\n",
       "<style scoped>\n",
       "    .dataframe tbody tr th:only-of-type {\n",
       "        vertical-align: middle;\n",
       "    }\n",
       "\n",
       "    .dataframe tbody tr th {\n",
       "        vertical-align: top;\n",
       "    }\n",
       "\n",
       "    .dataframe thead th {\n",
       "        text-align: right;\n",
       "    }\n",
       "</style>\n",
       "<table border=\"1\" class=\"dataframe\">\n",
       "  <thead>\n",
       "    <tr style=\"text-align: right;\">\n",
       "      <th></th>\n",
       "      <th>Country</th>\n",
       "      <th>Time</th>\n",
       "      <th>USD-RON Spot Exchange Rate</th>\n",
       "    </tr>\n",
       "  </thead>\n",
       "  <tbody>\n",
       "    <tr>\n",
       "      <th>798</th>\n",
       "      <td>RO</td>\n",
       "      <td>2023-07</td>\n",
       "      <td>4.4689</td>\n",
       "    </tr>\n",
       "    <tr>\n",
       "      <th>799</th>\n",
       "      <td>RO</td>\n",
       "      <td>2023-08</td>\n",
       "      <td>4.5294</td>\n",
       "    </tr>\n",
       "    <tr>\n",
       "      <th>800</th>\n",
       "      <td>RO</td>\n",
       "      <td>2023-09</td>\n",
       "      <td>4.6470</td>\n",
       "    </tr>\n",
       "    <tr>\n",
       "      <th>801</th>\n",
       "      <td>RO</td>\n",
       "      <td>2023-10</td>\n",
       "      <td>4.7027</td>\n",
       "    </tr>\n",
       "    <tr>\n",
       "      <th>802</th>\n",
       "      <td>RO</td>\n",
       "      <td>2023-11</td>\n",
       "      <td>4.6035</td>\n",
       "    </tr>\n",
       "  </tbody>\n",
       "</table>\n",
       "</div>"
      ],
      "text/plain": [
       "    Country     Time  USD-RON Spot Exchange Rate\n",
       "798      RO  2023-07                      4.4689\n",
       "799      RO  2023-08                      4.5294\n",
       "800      RO  2023-09                      4.6470\n",
       "801      RO  2023-10                      4.7027\n",
       "802      RO  2023-11                      4.6035"
      ]
     },
     "execution_count": 15,
     "metadata": {},
     "output_type": "execute_result"
    }
   ],
   "source": [
    "# US-RON exchange rate, U.S. Dollar to One Romanian Leu (monthly non-seasonally adjusted, 1960-01, 2023-11)\n",
    "# https://fred.stlouisfed.org/series/CCUSMA02PLM618N\n",
    "EXUSRON_m_raw = fetch_FRED(\"ROUCCUSMA02STM\") \n",
    "EXUSRON_m_raw = EXUSRON_m_raw.rename(columns= \n",
    "        {\"date\": \"Time\", \n",
    "         \"ROUCCUSMA02STM\": \"USD-RON Spot Exchange Rate\"\n",
    "})\n",
    "\n",
    "EXUSRON_m_raw[\"Time\"] = EXUSRON_m_raw[\"Time\"].dt.to_period(\"M\").astype(str)\n",
    "EXUSRON_m_raw[\"Country\"] = \"RO\"\n",
    "EXUSRON_m_raw = EXUSRON_m_raw[[\"Country\", \"Time\", \"USD-RON Spot Exchange Rate\"]]\n",
    "\n",
    "EXUSRON_m_raw.tail()"
   ]
  },
  {
   "cell_type": "code",
   "execution_count": 16,
   "id": "1f6f2f5f",
   "metadata": {},
   "outputs": [
    {
     "data": {
      "application/vnd.microsoft.datawrangler.viewer.v0+json": {
       "columns": [
        {
         "name": "index",
         "rawType": "int64",
         "type": "integer"
        },
        {
         "name": "Time",
         "rawType": "object",
         "type": "string"
        },
        {
         "name": "Crude Oil Price (Brent, Europe)",
         "rawType": "float64",
         "type": "float"
        }
       ],
       "ref": "4da7a8a3-a347-4c36-9f69-6860615443b2",
       "rows": [
        [
         "456",
         "2025-05",
         "64.45"
        ],
        [
         "457",
         "2025-06",
         "71.44"
        ],
        [
         "458",
         "2025-07",
         "71.04"
        ],
        [
         "459",
         "2025-08",
         "67.87"
        ],
        [
         "460",
         "2025-09",
         "67.99"
        ]
       ],
       "shape": {
        "columns": 2,
        "rows": 5
       }
      },
      "text/html": [
       "<div>\n",
       "<style scoped>\n",
       "    .dataframe tbody tr th:only-of-type {\n",
       "        vertical-align: middle;\n",
       "    }\n",
       "\n",
       "    .dataframe tbody tr th {\n",
       "        vertical-align: top;\n",
       "    }\n",
       "\n",
       "    .dataframe thead th {\n",
       "        text-align: right;\n",
       "    }\n",
       "</style>\n",
       "<table border=\"1\" class=\"dataframe\">\n",
       "  <thead>\n",
       "    <tr style=\"text-align: right;\">\n",
       "      <th></th>\n",
       "      <th>Time</th>\n",
       "      <th>Crude Oil Price (Brent, Europe)</th>\n",
       "    </tr>\n",
       "  </thead>\n",
       "  <tbody>\n",
       "    <tr>\n",
       "      <th>456</th>\n",
       "      <td>2025-05</td>\n",
       "      <td>64.45</td>\n",
       "    </tr>\n",
       "    <tr>\n",
       "      <th>457</th>\n",
       "      <td>2025-06</td>\n",
       "      <td>71.44</td>\n",
       "    </tr>\n",
       "    <tr>\n",
       "      <th>458</th>\n",
       "      <td>2025-07</td>\n",
       "      <td>71.04</td>\n",
       "    </tr>\n",
       "    <tr>\n",
       "      <th>459</th>\n",
       "      <td>2025-08</td>\n",
       "      <td>67.87</td>\n",
       "    </tr>\n",
       "    <tr>\n",
       "      <th>460</th>\n",
       "      <td>2025-09</td>\n",
       "      <td>67.99</td>\n",
       "    </tr>\n",
       "  </tbody>\n",
       "</table>\n",
       "</div>"
      ],
      "text/plain": [
       "        Time  Crude Oil Price (Brent, Europe)\n",
       "456  2025-05                            64.45\n",
       "457  2025-06                            71.44\n",
       "458  2025-07                            71.04\n",
       "459  2025-08                            67.87\n",
       "460  2025-09                            67.99"
      ]
     },
     "execution_count": 16,
     "metadata": {},
     "output_type": "execute_result"
    }
   ],
   "source": [
    "# Crude Oil Prices: Brent - Europe (monthly, average price, Dollars per barrel, not seasonally adjusted, 1987-01, 2025-09)\n",
    "# https://fred.stlouisfed.org/series/MCOILBRENTEU\n",
    "\n",
    "oilprice_m_raw = fetch_FRED(\"MCOILBRENTEU\") \n",
    "oilprice_m_raw = oilprice_m_raw.rename(columns= \n",
    "        {\"date\": \"Time\", \n",
    "         \"MCOILBRENTEU\": \"Crude Oil Price (Brent, Europe)\"\n",
    "})\n",
    "\n",
    "oilprice_m_raw[\"Time\"] = oilprice_m_raw[\"Time\"].dt.to_period(\"M\").astype(str)\n",
    "\n",
    "oilprice_m_raw.tail()"
   ]
  },
  {
   "cell_type": "code",
   "execution_count": 17,
   "id": "777576cc",
   "metadata": {},
   "outputs": [
    {
     "data": {
      "application/vnd.microsoft.datawrangler.viewer.v0+json": {
       "columns": [
        {
         "name": "index",
         "rawType": "int64",
         "type": "integer"
        },
        {
         "name": "Time",
         "rawType": "object",
         "type": "string"
        },
        {
         "name": "Nominal Broad USD Index",
         "rawType": "float64",
         "type": "float"
        }
       ],
       "ref": "dd73e027-16a1-4e3f-8dee-1ca65940339f",
       "rows": [
        [
         "626",
         "2025-05",
         "122.6869"
        ],
        [
         "627",
         "2025-06",
         "120.9747"
        ],
        [
         "628",
         "2025-07",
         "120.5266"
        ],
        [
         "629",
         "2025-08",
         "120.9844"
        ],
        [
         "630",
         "2025-09",
         "120.4534"
        ]
       ],
       "shape": {
        "columns": 2,
        "rows": 5
       }
      },
      "text/html": [
       "<div>\n",
       "<style scoped>\n",
       "    .dataframe tbody tr th:only-of-type {\n",
       "        vertical-align: middle;\n",
       "    }\n",
       "\n",
       "    .dataframe tbody tr th {\n",
       "        vertical-align: top;\n",
       "    }\n",
       "\n",
       "    .dataframe thead th {\n",
       "        text-align: right;\n",
       "    }\n",
       "</style>\n",
       "<table border=\"1\" class=\"dataframe\">\n",
       "  <thead>\n",
       "    <tr style=\"text-align: right;\">\n",
       "      <th></th>\n",
       "      <th>Time</th>\n",
       "      <th>Nominal Broad USD Index</th>\n",
       "    </tr>\n",
       "  </thead>\n",
       "  <tbody>\n",
       "    <tr>\n",
       "      <th>626</th>\n",
       "      <td>2025-05</td>\n",
       "      <td>122.6869</td>\n",
       "    </tr>\n",
       "    <tr>\n",
       "      <th>627</th>\n",
       "      <td>2025-06</td>\n",
       "      <td>120.9747</td>\n",
       "    </tr>\n",
       "    <tr>\n",
       "      <th>628</th>\n",
       "      <td>2025-07</td>\n",
       "      <td>120.5266</td>\n",
       "    </tr>\n",
       "    <tr>\n",
       "      <th>629</th>\n",
       "      <td>2025-08</td>\n",
       "      <td>120.9844</td>\n",
       "    </tr>\n",
       "    <tr>\n",
       "      <th>630</th>\n",
       "      <td>2025-09</td>\n",
       "      <td>120.4534</td>\n",
       "    </tr>\n",
       "  </tbody>\n",
       "</table>\n",
       "</div>"
      ],
      "text/plain": [
       "        Time  Nominal Broad USD Index\n",
       "626  2025-05                 122.6869\n",
       "627  2025-06                 120.9747\n",
       "628  2025-07                 120.5266\n",
       "629  2025-08                 120.9844\n",
       "630  2025-09                 120.4534"
      ]
     },
     "execution_count": 17,
     "metadata": {},
     "output_type": "execute_result"
    }
   ],
   "source": [
    "# Nominal Broad U.S. Dollar Index (monthly, index Jan 2006=100, not seasonally adjusted, 2006-01, 2025-09)\n",
    "# https://fred.stlouisfed.org/series/TWEXBGSMTH\n",
    "\n",
    "usdi_m_raw = fetch_FRED(\"TWEXBGSMTH\") \n",
    "usdi_m_raw = usdi_m_raw.rename(columns= \n",
    "        {\"date\": \"Time\", \n",
    "         \"TWEXBGSMTH\": \"Nominal Broad USD Index\"\n",
    "})\n",
    "\n",
    "usdi_m_raw[\"Time\"] = usdi_m_raw[\"Time\"].dt.to_period(\"M\").astype(str)\n",
    "\n",
    "usdi_m_raw.tail()"
   ]
  },
  {
   "cell_type": "code",
   "execution_count": 18,
   "id": "f2ee5b30",
   "metadata": {},
   "outputs": [
    {
     "data": {
      "application/vnd.microsoft.datawrangler.viewer.v0+json": {
       "columns": [
        {
         "name": "index",
         "rawType": "int64",
         "type": "integer"
        },
        {
         "name": "Time",
         "rawType": "object",
         "type": "string"
        },
        {
         "name": "Market Yield on 10-Year US Trasury Securities",
         "rawType": "float64",
         "type": "float"
        }
       ],
       "ref": "2400227d-8d81-4de7-8435-114b1bd66f28",
       "rows": [
        [
         "761",
         "2025-06",
         "4.3835"
        ],
        [
         "762",
         "2025-07",
         "4.391818181818182"
        ],
        [
         "763",
         "2025-08",
         "4.2647619047619045"
        ],
        [
         "764",
         "2025-09",
         "4.12047619047619"
        ],
        [
         "765",
         "2025-10",
         "4.057"
        ]
       ],
       "shape": {
        "columns": 2,
        "rows": 5
       }
      },
      "text/html": [
       "<div>\n",
       "<style scoped>\n",
       "    .dataframe tbody tr th:only-of-type {\n",
       "        vertical-align: middle;\n",
       "    }\n",
       "\n",
       "    .dataframe tbody tr th {\n",
       "        vertical-align: top;\n",
       "    }\n",
       "\n",
       "    .dataframe thead th {\n",
       "        text-align: right;\n",
       "    }\n",
       "</style>\n",
       "<table border=\"1\" class=\"dataframe\">\n",
       "  <thead>\n",
       "    <tr style=\"text-align: right;\">\n",
       "      <th></th>\n",
       "      <th>Time</th>\n",
       "      <th>Market Yield on 10-Year US Trasury Securities</th>\n",
       "    </tr>\n",
       "  </thead>\n",
       "  <tbody>\n",
       "    <tr>\n",
       "      <th>761</th>\n",
       "      <td>2025-06</td>\n",
       "      <td>4.383500</td>\n",
       "    </tr>\n",
       "    <tr>\n",
       "      <th>762</th>\n",
       "      <td>2025-07</td>\n",
       "      <td>4.391818</td>\n",
       "    </tr>\n",
       "    <tr>\n",
       "      <th>763</th>\n",
       "      <td>2025-08</td>\n",
       "      <td>4.264762</td>\n",
       "    </tr>\n",
       "    <tr>\n",
       "      <th>764</th>\n",
       "      <td>2025-09</td>\n",
       "      <td>4.120476</td>\n",
       "    </tr>\n",
       "    <tr>\n",
       "      <th>765</th>\n",
       "      <td>2025-10</td>\n",
       "      <td>4.057000</td>\n",
       "    </tr>\n",
       "  </tbody>\n",
       "</table>\n",
       "</div>"
      ],
      "text/plain": [
       "        Time  Market Yield on 10-Year US Trasury Securities\n",
       "761  2025-06                                       4.383500\n",
       "762  2025-07                                       4.391818\n",
       "763  2025-08                                       4.264762\n",
       "764  2025-09                                       4.120476\n",
       "765  2025-10                                       4.057000"
      ]
     },
     "execution_count": 18,
     "metadata": {},
     "output_type": "execute_result"
    }
   ],
   "source": [
    "# Market Yield on U.S. Treasury Securities at 10-Year Constant Maturity, Quoted on an Investment Basis (from daily to monthly, percent, not seasonally adjusted, 1962-01, 2025-10)\n",
    "# https://fred.stlouisfed.org/series/DGS10\n",
    "\n",
    "ustyield_d_raw = fetch_FRED(\"DGS10\") \n",
    "ustyield_d_raw = ustyield_d_raw.rename(columns= \n",
    "        {\"date\": \"Time\", \n",
    "         \"DGS10\": \"Market Yield on 10-Year US Trasury Securities\"\n",
    "})\n",
    "\n",
    "# Aggregation (dimension from daily to monthly)\n",
    "ustyield_d_raw = ustyield_d_raw.set_index(\"Time\")\n",
    "ustyield_m_raw = ustyield_d_raw.resample(\"M\").mean().reset_index()\n",
    "ustyield_m_raw[\"Time\"] = ustyield_m_raw[\"Time\"].dt.to_period(\"M\").astype(str)\n",
    "\n",
    "ustyield_m_raw.tail()"
   ]
  },
  {
   "cell_type": "code",
   "execution_count": 20,
   "id": "15b745d7",
   "metadata": {},
   "outputs": [
    {
     "data": {
      "application/vnd.microsoft.datawrangler.viewer.v0+json": {
       "columns": [
        {
         "name": "index",
         "rawType": "int64",
         "type": "integer"
        },
        {
         "name": "Time",
         "rawType": "object",
         "type": "string"
        },
        {
         "name": "CBOE Volatility Index (VIX)",
         "rawType": "float64",
         "type": "float"
        }
       ],
       "ref": "6ef069fd-c9c1-4921-808d-804f4f1648c2",
       "rows": [
        [
         "425",
         "2025-06",
         "18.403333333333336"
        ],
        [
         "426",
         "2025-07",
         "16.381304347826084"
        ],
        [
         "427",
         "2025-08",
         "15.75"
        ],
        [
         "428",
         "2025-09",
         "15.789090909090909"
        ],
        [
         "429",
         "2025-10",
         "18.115909090909092"
        ]
       ],
       "shape": {
        "columns": 2,
        "rows": 5
       }
      },
      "text/html": [
       "<div>\n",
       "<style scoped>\n",
       "    .dataframe tbody tr th:only-of-type {\n",
       "        vertical-align: middle;\n",
       "    }\n",
       "\n",
       "    .dataframe tbody tr th {\n",
       "        vertical-align: top;\n",
       "    }\n",
       "\n",
       "    .dataframe thead th {\n",
       "        text-align: right;\n",
       "    }\n",
       "</style>\n",
       "<table border=\"1\" class=\"dataframe\">\n",
       "  <thead>\n",
       "    <tr style=\"text-align: right;\">\n",
       "      <th></th>\n",
       "      <th>Time</th>\n",
       "      <th>CBOE Volatility Index (VIX)</th>\n",
       "    </tr>\n",
       "  </thead>\n",
       "  <tbody>\n",
       "    <tr>\n",
       "      <th>425</th>\n",
       "      <td>2025-06</td>\n",
       "      <td>18.403333</td>\n",
       "    </tr>\n",
       "    <tr>\n",
       "      <th>426</th>\n",
       "      <td>2025-07</td>\n",
       "      <td>16.381304</td>\n",
       "    </tr>\n",
       "    <tr>\n",
       "      <th>427</th>\n",
       "      <td>2025-08</td>\n",
       "      <td>15.750000</td>\n",
       "    </tr>\n",
       "    <tr>\n",
       "      <th>428</th>\n",
       "      <td>2025-09</td>\n",
       "      <td>15.789091</td>\n",
       "    </tr>\n",
       "    <tr>\n",
       "      <th>429</th>\n",
       "      <td>2025-10</td>\n",
       "      <td>18.115909</td>\n",
       "    </tr>\n",
       "  </tbody>\n",
       "</table>\n",
       "</div>"
      ],
      "text/plain": [
       "        Time  CBOE Volatility Index (VIX)\n",
       "425  2025-06                    18.403333\n",
       "426  2025-07                    16.381304\n",
       "427  2025-08                    15.750000\n",
       "428  2025-09                    15.789091\n",
       "429  2025-10                    18.115909"
      ]
     },
     "execution_count": 20,
     "metadata": {},
     "output_type": "execute_result"
    }
   ],
   "source": [
    "# CBOE Volatility Index VIX (from daily to monthly, index, not seasonally adjusted, 1990-01, 2025-10)\n",
    "# https://fred.stlouisfed.org/series/VIXCLS\n",
    "\n",
    "VIX_d_raw = fetch_FRED(\"VIXCLS\") \n",
    "VIX_d_raw = VIX_d_raw.rename(columns= \n",
    "        {\"date\": \"Time\", \n",
    "         \"VIXCLS\": \"CBOE Volatility Index (VIX)\"\n",
    "})\n",
    "\n",
    "# Aggregation (dimension from daily to monthly)\n",
    "VIX_d_raw = VIX_d_raw.set_index(\"Time\")\n",
    "VIX_m_raw = VIX_d_raw.resample(\"M\").mean().reset_index()\n",
    "VIX_m_raw[\"Time\"] = VIX_m_raw[\"Time\"].dt.to_period(\"M\").astype(str)\n",
    "\n",
    "VIX_m_raw.tail()"
   ]
  },
  {
   "cell_type": "markdown",
   "id": "9b3565d3",
   "metadata": {},
   "source": [
    "#### **3.3) YAHOO!FINANCE-extracted indicators**"
   ]
  },
  {
   "cell_type": "code",
   "execution_count": 20,
   "id": "bbb6639f",
   "metadata": {},
   "outputs": [
    {
     "data": {
      "application/vnd.microsoft.datawrangler.viewer.v0+json": {
       "columns": [
        {
         "name": "index",
         "rawType": "int64",
         "type": "integer"
        },
        {
         "name": "Country",
         "rawType": "object",
         "type": "string"
        },
        {
         "name": "Stock Index",
         "rawType": "object",
         "type": "string"
        },
        {
         "name": "Time",
         "rawType": "period[M]",
         "type": "unknown"
        },
        {
         "name": "Log Monthly Return",
         "rawType": "float64",
         "type": "float"
        },
        {
         "name": "Volume",
         "rawType": "int64",
         "type": "integer"
        }
       ],
       "ref": "fec71009-a7f9-4fa1-8fb8-dc8766f6346a",
       "rows": [
        [
         "1354",
         "ES",
         "^IBEX",
         "2025-06",
         "-0.011391484169015297",
         "2351850100"
        ],
        [
         "1355",
         "ES",
         "^IBEX",
         "2025-07",
         "0.028541232876628107",
         "2531475800"
        ],
        [
         "1356",
         "ES",
         "^IBEX",
         "2025-08",
         "0.03674115106275988",
         "1894189600"
        ],
        [
         "1357",
         "ES",
         "^IBEX",
         "2025-09",
         "0.035464815963681846",
         "2168514900"
        ],
        [
         "1358",
         "ES",
         "^IBEX",
         "2025-10",
         "0.03587847475833844",
         "2221460500"
        ]
       ],
       "shape": {
        "columns": 5,
        "rows": 5
       }
      },
      "text/html": [
       "<div>\n",
       "<style scoped>\n",
       "    .dataframe tbody tr th:only-of-type {\n",
       "        vertical-align: middle;\n",
       "    }\n",
       "\n",
       "    .dataframe tbody tr th {\n",
       "        vertical-align: top;\n",
       "    }\n",
       "\n",
       "    .dataframe thead th {\n",
       "        text-align: right;\n",
       "    }\n",
       "</style>\n",
       "<table border=\"1\" class=\"dataframe\">\n",
       "  <thead>\n",
       "    <tr style=\"text-align: right;\">\n",
       "      <th></th>\n",
       "      <th>Country</th>\n",
       "      <th>Stock Index</th>\n",
       "      <th>Time</th>\n",
       "      <th>Log Monthly Return</th>\n",
       "      <th>Volume</th>\n",
       "    </tr>\n",
       "  </thead>\n",
       "  <tbody>\n",
       "    <tr>\n",
       "      <th>1354</th>\n",
       "      <td>ES</td>\n",
       "      <td>^IBEX</td>\n",
       "      <td>2025-06</td>\n",
       "      <td>-0.011391</td>\n",
       "      <td>2351850100</td>\n",
       "    </tr>\n",
       "    <tr>\n",
       "      <th>1355</th>\n",
       "      <td>ES</td>\n",
       "      <td>^IBEX</td>\n",
       "      <td>2025-07</td>\n",
       "      <td>0.028541</td>\n",
       "      <td>2531475800</td>\n",
       "    </tr>\n",
       "    <tr>\n",
       "      <th>1356</th>\n",
       "      <td>ES</td>\n",
       "      <td>^IBEX</td>\n",
       "      <td>2025-08</td>\n",
       "      <td>0.036741</td>\n",
       "      <td>1894189600</td>\n",
       "    </tr>\n",
       "    <tr>\n",
       "      <th>1357</th>\n",
       "      <td>ES</td>\n",
       "      <td>^IBEX</td>\n",
       "      <td>2025-09</td>\n",
       "      <td>0.035465</td>\n",
       "      <td>2168514900</td>\n",
       "    </tr>\n",
       "    <tr>\n",
       "      <th>1358</th>\n",
       "      <td>ES</td>\n",
       "      <td>^IBEX</td>\n",
       "      <td>2025-10</td>\n",
       "      <td>0.035878</td>\n",
       "      <td>2221460500</td>\n",
       "    </tr>\n",
       "  </tbody>\n",
       "</table>\n",
       "</div>"
      ],
      "text/plain": [
       "     Country Stock Index     Time  Log Monthly Return      Volume\n",
       "1354      ES       ^IBEX  2025-06           -0.011391  2351850100\n",
       "1355      ES       ^IBEX  2025-07            0.028541  2531475800\n",
       "1356      ES       ^IBEX  2025-08            0.036741  1894189600\n",
       "1357      ES       ^IBEX  2025-09            0.035465  2168514900\n",
       "1358      ES       ^IBEX  2025-10            0.035878  2221460500"
      ]
     },
     "execution_count": 20,
     "metadata": {},
     "output_type": "execute_result"
    }
   ],
   "source": [
    "# Monthly price and volume of EU country’s stock index (monthly, price (USD), number of securities traded, 2015-01, 2025-10)\n",
    "# (!!!) Not available on YFinance for Bulgaria, Croatia, Cyprus, Estonia, Greece, Hungary, Latvia, Lithuania, Luxembourg, Malta, Poland, Romania, Slovakia, Slovenia, Portugal and Sweden\n",
    "# (!!!) Volume column is dangerous, a lot of 0 values, depending on country, it must be carefully handled \n",
    "\n",
    "eu_stock_indices_tickers = {\n",
    "    \"AT\": \"^ATX\",\n",
    "    \"BE\": \"^BFX\",\n",
    "    \"CZ\": \"^PX\",\n",
    "    \"DK\": \"^OMXC25\",\n",
    "    \"FI\": \"^OMXH25\",\n",
    "    \"FR\": \"^FCHI\",\n",
    "    \"DE\": \"^GDAXI\",\n",
    "    \"IE\": \"^ISEQ\",\n",
    "    \"IT\": \"FTSEMIB.MI\",\n",
    "    \"NL\": \"^AEX\",\n",
    "    \"ES\": \"^IBEX\"\n",
    "}\n",
    "\n",
    "start = \"2015-01-01\"\n",
    "end = \"2025-10-25\"\n",
    "\n",
    "list_single_country_dfs = []\n",
    "\n",
    "# We iterate over each country and respective stock index\n",
    "# We aggregate data through concatenation based on y axis\n",
    "for country, ticker in eu_stock_indices_tickers.items():\n",
    "    df = fetch_YFINANCE(ticker, start, end)\n",
    "\n",
    "# MultiIndex columns\n",
    "    if isinstance(df.columns, pd.MultiIndex):\n",
    "        df.columns = [col[0] for col in df.columns]\n",
    "    df = df.rename(columns={\n",
    "        \"Close\": \"Closing Price (USD)\",\n",
    "        \"YearMonth\": \"Time\"\n",
    "    })\n",
    "    df[\"Log Monthly Return\"] = np.log(df[\"Closing Price (USD)\"] / df[\"Closing Price (USD)\"].shift(1))\n",
    "    df[\"Country\"] = country\n",
    "    df[\"Stock Index\"] = ticker\n",
    "\n",
    "    df = df[[\"Country\", \"Stock Index\", \"Time\", \"Log Monthly Return\", \"Volume\"]]\n",
    "\n",
    "    list_single_country_dfs.append(df)\n",
    "\n",
    "EURO_stock_m_raw = pd.concat(list_single_country_dfs, ignore_index=True)\n",
    "\n",
    "EURO_stock_m_raw.tail()"
   ]
  },
  {
   "cell_type": "markdown",
   "id": "87024af9",
   "metadata": {},
   "source": [
    "#### **3.4) OTHERS-extracted indicators**"
   ]
  },
  {
   "cell_type": "markdown",
   "id": "6351d9fe14d9e6e5",
   "metadata": {},
   "source": [
    "##### **3.4.1) USITC - HS level-6 Import data**"
   ]
  },
  {
   "cell_type": "code",
   "execution_count": null,
   "id": "e487bc7389b393e6",
   "metadata": {
    "ExecuteTime": {
     "end_time": "2025-10-30T22:51:03.951985Z",
     "start_time": "2025-10-30T22:45:55.390029Z"
    }
   },
   "outputs": [
    {
     "name": "stdout",
     "output_type": "stream",
     "text": [
      "Found 28 Excel files.\n",
      " Wrote data_csv\\Bulgaria.csv (39,203 rows)\n",
      " Wrote data_csv\\Germany.csv (204,250 rows)\n",
      " Wrote data_csv\\Hungary.csv (54,954 rows)\n",
      " Wrote data_csv\\Ireland.csv (47,591 rows)\n",
      " Wrote data_csv\\Latvia.csv (19,880 rows)\n",
      " Wrote data_csv\\Lithuania.csv (32,195 rows)\n",
      " Wrote data_csv\\Italy.csv (188,883 rows)\n",
      " Wrote data_csv\\Luxembourg.csv (10,912 rows)\n",
      " Wrote data_csv\\Malta.csv (6,031 rows)\n",
      " Wrote data_csv\\Netherlands.csv (119,320 rows)\n",
      " Wrote data_csv\\Poland.csv (95,278 rows)\n",
      " Wrote data_csv\\Croatia.csv (20,314 rows)\n",
      " Wrote data_csv\\Portugal.csv (64,519 rows)\n",
      " Wrote data_csv\\Romania.csv (47,627 rows)\n",
      " Wrote data_csv\\Slovakia.csv (37,525 rows)\n",
      " Wrote data_csv\\Slovenia.csv (34,792 rows)\n",
      " Wrote data_csv\\Spain.csv (134,768 rows)\n",
      " Wrote data_csv\\Sweden.csv (83,499 rows)\n",
      " Wrote data_csv\\United Kingdom.csv (176,718 rows)\n",
      " Wrote data_csv\\Cyprus.csv (3,300 rows)\n",
      " Wrote data_csv\\Czechia (Czech Republic).csv (73,781 rows)\n",
      " Wrote data_csv\\Denmark.csv (71,501 rows)\n",
      " Wrote data_csv\\Estonia.csv (21,546 rows)\n",
      " Wrote data_csv\\Finland.csv (53,523 rows)\n",
      " Wrote data_csv\\France.csv (165,032 rows)\n",
      " Wrote data_csv\\Greece.csv (32,058 rows)\n",
      " Wrote data_csv\\Austria.csv (89,521 rows)\n",
      " Wrote data_csv\\Belgium.csv (93,995 rows)\n",
      "\n",
      " Combined file saved as: US_import_USITC_raw.csv\n",
      "Total rows: 2,022,516\n",
      "                     Data Type         Country  Year Month HTS Number  \\\n",
      "2022511  General Customs Value  United Kingdom  2020    12     999995   \n",
      "2022512  General Customs Value  United Kingdom  2021    12     999995   \n",
      "2022513  General Customs Value  United Kingdom  2022    12     999995   \n",
      "2022514  General Customs Value  United Kingdom  2023    12     999995   \n",
      "2022515  General Customs Value  United Kingdom  2024    12     999995   \n",
      "\n",
      "                                          Description General Customs Value  \n",
      "2022511  ESTIMATED IMPORTS OF LOW VALUED TRANSACTIONS             39093.995  \n",
      "2022512  ESTIMATED IMPORTS OF LOW VALUED TRANSACTIONS             41361.471  \n",
      "2022513  ESTIMATED IMPORTS OF LOW VALUED TRANSACTIONS             51739.058  \n",
      "2022514  ESTIMATED IMPORTS OF LOW VALUED TRANSACTIONS             52086.753  \n",
      "2022515  ESTIMATED IMPORTS OF LOW VALUED TRANSACTIONS             52534.507  \n"
     ]
    }
   ],
   "source": [
    "# TEMPORARY (import from USITC_module.py)\n",
    "# US_import_raw"
   ]
  },
  {
   "cell_type": "code",
   "execution_count": null,
   "id": "2685a357",
   "metadata": {},
   "outputs": [],
   "source": [
    "# TEMPORARY (import from USITC_module.py)\n",
    "#US_export_raw"
   ]
  },
  {
   "cell_type": "code",
   "execution_count": 1,
   "id": "ce7c9584",
   "metadata": {},
   "outputs": [],
   "source": [
    "# US tariffs ratio on EU-derived imports\n",
    "# https://policy.trade.ec.europa.eu/news/joint-statement-united-states-european-union-framework-agreement-reciprocal-fair-and-balanced-trade-2025-08-21_en\n",
    "# https://www.whitehouse.gov/fact-sheets/2025/07/fact-sheet-the-united-states-and-european-union-reach-massive-trade-deal/\n",
    "# https://www.whitehouse.gov/presidential-actions/2025/09/modifying-the-scope-of-reciprocal-tariffs-and-establishing-procedures-for-implementing-trade-and-security-agreements/"
   ]
  },
  {
   "cell_type": "markdown",
   "id": "28da95a3",
   "metadata": {},
   "source": [
    "### **4) DATA ASSEMBLING**"
   ]
  },
  {
   "cell_type": "markdown",
   "id": "ca2c7214",
   "metadata": {},
   "source": [
    "#### **4.1) Dependent df**"
   ]
  },
  {
   "cell_type": "code",
   "execution_count": null,
   "id": "11532fe2",
   "metadata": {},
   "outputs": [],
   "source": [
    "# Aggregate FX market df\n",
    "# No merging, but concatenation\n",
    "# Time frame: 1957/01 (varying) - 2025/10 (varying)\n",
    "# (!!!) We cannot merge them, neither concatenate them as they have no common ground (neither country of exchnage rate)\n",
    "\n",
    "# Uploading as single dependent_df\n",
    "EXUSEU_m_raw.to_csv(\"aggregate_df/EXUSEU_dependent_df.csv\", index=False)\n",
    "EXUSBGN_m_raw.to_csv(\"aggregate_df/EXUSBGN_dependent_df.csv\", index=False)\n",
    "EXUSSKK_m_raw.to_csv(\"aggregate_df/EXUSSKK_dependent_df.csv\", index=False)\n",
    "EXUSDKK_m_raw.to_csv(\"aggregate_df/EXUSDKK_dependent_df.csv\", index=False)\n",
    "EXUSCZK_m_raw.to_csv(\"aggregate_df/EXUSCZK_dependent_df.csv\", index=False)\n",
    "EXUSHUF_m_raw.to_csv(\"aggregate_df/EXUSHUF_dependent_df.csv\", index=False)\n",
    "EXUSPLN_m_raw.to_csv(\"aggregate_df/EXUSPLN_dependent_df.csv\", index=False)\n",
    "EXUSRON_m_raw.to_csv(\"aggregate_df/EXUSRON_dependent_df.csv\", index=False)"
   ]
  },
  {
   "cell_type": "code",
   "execution_count": 21,
   "id": "3d563194",
   "metadata": {},
   "outputs": [],
   "source": [
    "# Aggregate Stock Index df\n",
    "# No merging, no concat, already cleaned \n",
    "# Time frame: 2015/01 - 2025/10 (but it can be extended)\n",
    "# (!!!) Not available on YFinance for Bulgaria, Croatia, Cyprus, Estonia, Greece, Hungary, Latvia, Lithuania, Luxembourg, Malta, Poland, Romania, Slovakia, Slovenia, Portugal and Sweden\n",
    "# (!!!) Volume column is dangerous, a lot of 0 values, depending on country, it must be carefully handled \n",
    "\n",
    "# Uploading in aggregate_df\n",
    "EURO_stock_m_raw.to_csv(\"aggregate_df/EURO_stock_dependent_df.csv\", index=False)"
   ]
  },
  {
   "cell_type": "code",
   "execution_count": null,
   "id": "1dacf7aa",
   "metadata": {},
   "outputs": [],
   "source": [
    "# Aggregate Industrial Production Indexes df\n",
    "# No merging, no concat, already cleaned \n",
    "# Time frame: 1996/01 - 2025/08 (but it can be extended)\n",
    "# (!!!) Level 1 Indicators: Mining and Quarrying (B), Manufacturing (C), Electricity, gas, steam and air conditioning supply (D)\n",
    "\n",
    "# Uploading in aggregate_df\n",
    "EURO_indprod_m_raw.to_csv(\"aggregate_df/EURO_indprod_dependent_df.csv\", index=False)"
   ]
  },
  {
   "cell_type": "markdown",
   "id": "6ce960f4",
   "metadata": {},
   "source": [
    "#### **4.2) Regime shift transition variable**"
   ]
  },
  {
   "cell_type": "code",
   "execution_count": null,
   "id": "5308dfef",
   "metadata": {
    "ExecuteTime": {
     "end_time": "2025-10-31T14:07:30.021207Z",
     "start_time": "2025-10-31T14:07:21.614027Z"
    }
   },
   "outputs": [],
   "source": [
    "# Aggregate US Import Custom Value df\n",
    "# No merging, no concat, already cleaned\n",
    "# Time frame: 2020/01 - 2025/06\n",
    "\n",
    "# Uploading in aggregate_df\n",
    "US_import_raw.to_csv(\"aggregate_df/US_import_regime_df.csv\", index=False)\n",
    "US_export_raw.to_csv(\"aggregate_df/US_export_regime_df.csv\", index=False)"
   ]
  },
  {
   "cell_type": "markdown",
   "id": "82431c59",
   "metadata": {},
   "source": [
    "#### **4.3) Explanatory variable : Exposure Computation**"
   ]
  },
  {
   "cell_type": "markdown",
   "id": "ba089615f0a81d10",
   "metadata": {},
   "source": [
    "##### **4.3.1) Country-product specific exposure weight**"
   ]
  },
  {
   "cell_type": "code",
   "execution_count": null,
   "id": "52f9ae22",
   "metadata": {
    "ExecuteTime": {
     "end_time": "2025-10-31T14:20:20.916294Z",
     "start_time": "2025-10-31T14:20:17.581403Z"
    }
   },
   "outputs": [
    {
     "name": "stdout",
     "output_type": "stream",
     "text": [
      "Export mean Preview\n",
      "  Country  HTS_Code  \\\n",
      "0      AT     10121   \n",
      "1      AT     10129   \n",
      "2      AT     10619   \n",
      "3      AT     10620   \n",
      "4      AT     10639   \n",
      "\n",
      "   Truncated_Mean_EU_Export_to_US_2022_2024H1_in_thousand ($)  \n",
      "0                                         100.985000           \n",
      "1                                          43.687083           \n",
      "2                                           6.589500           \n",
      "3                                           5.500000           \n",
      "4                                          60.581333           \n",
      "Export weight preview\n",
      "   Country  HTS_Code  \\\n",
      "0       AT     10121   \n",
      "1       AT     10129   \n",
      "2       AT     10619   \n",
      "3       AT     10620   \n",
      "4       AT     10639   \n",
      "5       AT     10690   \n",
      "6       AT     40150   \n",
      "7       AT     40221   \n",
      "8       AT     40630   \n",
      "9       AT     40690   \n",
      "10      AT     40711   \n",
      "11      AT     40900   \n",
      "12      AT     50100   \n",
      "13      AT     50790   \n",
      "14      AT     51000   \n",
      "15      AT     51199   \n",
      "16      AT     60290   \n",
      "17      AT     70920   \n",
      "18      AT     71021   \n",
      "19      AT     71090   \n",
      "\n",
      "    Truncated_Mean_EU_Export_to_US_2022_2024H1_in_thousand ($)  Export_Share  \n",
      "0                                          100.985000               0.000060  \n",
      "1                                           43.687083               0.000026  \n",
      "2                                            6.589500               0.000004  \n",
      "3                                            5.500000               0.000003  \n",
      "4                                           60.581333               0.000036  \n",
      "5                                            3.201000               0.000002  \n",
      "6                                            6.896000               0.000004  \n",
      "7                                            9.976000               0.000006  \n",
      "8                                           64.926250               0.000039  \n",
      "9                                          754.959100               0.000451  \n",
      "10                                          20.823000               0.000012  \n",
      "11                                          57.854654               0.000035  \n",
      "12                                          63.792000               0.000038  \n",
      "13                                          24.475000               0.000015  \n",
      "14                                          50.560000               0.000030  \n",
      "15                                          22.231545               0.000013  \n",
      "16                                          19.128000               0.000011  \n",
      "17                                          12.512778               0.000007  \n",
      "18                                         153.105750               0.000092  \n",
      "19                                          94.119000               0.000056  \n"
     ]
    }
   ],
   "source": [
    "# We decided to go for a truncated mean (2022-2024-06)\n",
    "\n",
    "# FIRST STEP WEIGHT EXPOSURE\n",
    "df = pd.read_csv(\"aggregate_df/US_import_regime_df.csv\")\n",
    "\n",
    "# Parse date and extract components\n",
    "df[\"Time\"] = pd.to_datetime(df[\"Time\"])\n",
    "df[\"Year\"] = df[\"Time\"].dt.year\n",
    "df[\"Month\"] = df[\"Time\"].dt.month\n",
    "\n",
    "# Keeping only the period pre-shock\n",
    "df_trunc = df[\n",
    "    ((df[\"Year\"] == 2022) | (df[\"Year\"] == 2023)) |\n",
    "    ((df[\"Year\"] == 2024) & (df[\"Month\"] <= 6))\n",
    "].copy()\n",
    "\n",
    "# mean import value per EU country–HTS pair\n",
    "import_trunc_mean = (\n",
    "    df_trunc.groupby([\"Country\", \"HTS_Code\"], as_index=False)\n",
    "    [\"Import - General custom value (USD)\"]\n",
    "    .mean()\n",
    "    .rename(columns={\"Import - General custom value (USD)\": \"Truncated_Mean_EU_Export_to_US_2022_2024H1_in_thousand ($)\"})\n",
    ")\n",
    "import_trunc_mean = import_trunc_mean.sort_values([\"Country\", \"HTS_Code\"]).reset_index(drop=True)\n",
    "\n",
    "print(\"Export mean Preview\")\n",
    "print(import_trunc_mean.head())\n",
    "\n",
    "# Normalizing within each country\n",
    "import_trunc_mean[\"Export_Share\"] = import_trunc_mean.groupby(\"Country\")[\"Truncated_Mean_EU_Export_to_US_2022_2024H1_in_thousand ($)\"].transform(\n",
    "    lambda x: x / x.sum()\n",
    ")\n",
    "# Save\n",
    "import_trunc_mean.to_csv(\"aggregate_df/EU_export_to_US_mean_in_thousand.csv\", index=False)\n",
    "\n",
    "# Preview\n",
    "print(\"Export weight preview\")\n",
    "print(import_trunc_mean.head(20))\n"
   ]
  },
  {
   "cell_type": "markdown",
   "id": "75930ed0b1228365",
   "metadata": {},
   "source": [
    "##### **4.3.2) Country-product specific tariff changes**"
   ]
  },
  {
   "cell_type": "code",
   "execution_count": null,
   "id": "3a96b8aaa71c1d67",
   "metadata": {},
   "outputs": [],
   "source": [
    "#WIP"
   ]
  },
  {
   "cell_type": "markdown",
   "id": "11a7d9e35cc6d8e1",
   "metadata": {},
   "source": [
    "#### **4.4) Trade Openess**"
   ]
  },
  {
   "cell_type": "code",
   "execution_count": null,
   "id": "c4191f5e7c1a54c7",
   "metadata": {
    "ExecuteTime": {
     "end_time": "2025-10-31T14:20:33.513993Z",
     "start_time": "2025-10-31T14:20:30.388711Z"
    }
   },
   "outputs": [
    {
     "name": "stdout",
     "output_type": "stream",
     "text": [
      "  Country  Year  GDP_USD_MILLION       GDP_USD  Exports_USD   Imports_USD  \\\n",
      "0      AT  2020        1140953.7  3.803179e+11  313657650.0  1.161667e+10   \n",
      "1      AT  2021        1218694.5  4.062315e+11  319815730.0  1.513628e+10   \n",
      "2      AT  2022        1348146.6  4.493822e+11  333846270.0  1.781265e+10   \n",
      "3      AT  2023        1433512.2  4.778374e+11  366211840.0  1.914378e+10   \n",
      "4      AT  2024        1482262.5  4.940875e+11  470719370.0  1.757329e+10   \n",
      "\n",
      "   Trade_Openness_pct_GDP  Openness_Lag1  \n",
      "0                3.136936            NaN  \n",
      "1                3.804750       3.136936  \n",
      "2                4.038099       3.804750  \n",
      "3                4.082977       4.038099  \n",
      "4                3.651986       4.082977  \n"
     ]
    }
   ],
   "source": [
    "# Load data\n",
    "gdp = pd.read_csv(\"aggregate_df/country_specific_control_df.csv\")          # Country, Time, GDP (Million EUR) (ASSUMED USD)\n",
    "us_exp = pd.read_csv(\"aggregate_df/US_export_regime_df.csv\")               # Country, Time, Export - FAS value (USD) [in thousands]\n",
    "us_imp = pd.read_csv(\"aggregate_df/US_import_regime_df.csv\")               # Country, Time, Import - General custom value (USD) [in thousands]\n",
    "\n",
    "# Parse dates & create Year\n",
    "gdp[\"Time\"]   = pd.to_datetime(gdp[\"Time\"])\n",
    "us_exp[\"Time\"] = pd.to_datetime(us_exp[\"Time\"])\n",
    "us_imp[\"Time\"] = pd.to_datetime(us_imp[\"Time\"])\n",
    "\n",
    "gdp[\"Year\"]   = gdp[\"Time\"].dt.year\n",
    "us_exp[\"Year\"] = us_exp[\"Time\"].dt.year\n",
    "us_imp[\"Year\"] = us_imp[\"Time\"].dt.year\n",
    "\n",
    "# Keep only 2020–2025\n",
    "gdp     = gdp[gdp[\"Year\"].between(2020, 2025)]\n",
    "us_exp  = us_exp[us_exp[\"Year\"].between(2020, 2025)]\n",
    "us_imp  = us_imp[us_imp[\"Year\"].between(2020, 2025)]\n",
    "\n",
    "# Aggregate to annual totals\n",
    "# GDP is in million USD -> convert to USD after summing\n",
    "gdp_annual = (\n",
    "    gdp.groupby([\"Country\", \"Year\"], as_index=False)[\"GDP (Million EUR)\"]\n",
    "       .sum()\n",
    "       .rename(columns={\"GDP (Million EUR)\": \"GDP_USD_MILLION\"})\n",
    ")\n",
    "gdp_annual[\"GDP_USD\"] = gdp_annual[\"GDP_USD_MILLION\"] * 1_000_000 / 3\n",
    "\n",
    "# Trade is in thousand USD -> convert to USD (× 1,000) after annual summation\n",
    "exp_annual = (\n",
    "    us_exp.groupby([\"Country\", \"Year\"], as_index=False)[\"Export - FAS value (USD)\"]\n",
    "          .sum()\n",
    "          .rename(columns={\"Export - FAS value (USD)\": \"Exports_USD_thousand\"})\n",
    ")\n",
    "exp_annual[\"Exports_USD\"] = exp_annual[\"Exports_USD_thousand\"] * 1_000\n",
    "\n",
    "imp_annual = (\n",
    "    us_imp.groupby([\"Country\", \"Year\"], as_index=False)[\"Import - General custom value (USD)\"]\n",
    "          .sum()\n",
    "          .rename(columns={\"Import - General custom value (USD)\": \"Imports_USD_thousand\"})\n",
    ")\n",
    "imp_annual[\"Imports_USD\"] = imp_annual[\"Imports_USD_thousand\"]* 1_000\n",
    "\n",
    "# Merge all\n",
    "open_df = (\n",
    "    gdp_annual.merge(exp_annual[[\"Country\",\"Year\",\"Exports_USD\"]], on=[\"Country\",\"Year\"], how=\"left\")\n",
    "              .merge(imp_annual[[\"Country\",\"Year\",\"Imports_USD\"]], on=[\"Country\",\"Year\"], how=\"left\")\n",
    "              .fillna({\"Exports_USD\": 0.0, \"Imports_USD\": 0.0})\n",
    "              .sort_values([\"Country\",\"Year\"])\n",
    "              .reset_index(drop=True)\n",
    ")\n",
    "\n",
    "# Compute trade openness\n",
    "open_df[\"Trade_Openness_pct_GDP\"] = (\n",
    "    (open_df[\"Exports_USD\"] + open_df[\"Imports_USD\"]) / open_df[\"GDP_USD\"]\n",
    ") * 100\n",
    "\n",
    "# Optional: lag openness for regressions\n",
    "open_df[\"Openness_Lag1\"] = open_df.groupby(\"Country\")[\"Trade_Openness_pct_GDP\"].shift(1)\n",
    "\n",
    "# Save\n",
    "open_df.to_csv(\"aggregate_df/EU_trade_openness_annual.csv\", index=False)\n",
    "\n",
    "# Quick check\n",
    "print(open_df.head(5))"
   ]
  },
  {
   "cell_type": "markdown",
   "id": "f2d9440b",
   "metadata": {},
   "source": [
    "#### **4.5) Global controls df**"
   ]
  },
  {
   "cell_type": "code",
   "execution_count": null,
   "id": "fec1f2ed",
   "metadata": {},
   "outputs": [
    {
     "data": {
      "application/vnd.microsoft.datawrangler.viewer.v0+json": {
       "columns": [
        {
         "name": "index",
         "rawType": "int64",
         "type": "integer"
        },
        {
         "name": "Time",
         "rawType": "object",
         "type": "string"
        },
        {
         "name": "Crude Oil Price (Brent, Europe)",
         "rawType": "float64",
         "type": "float"
        },
        {
         "name": "Nominal Broad USD Index",
         "rawType": "float64",
         "type": "float"
        },
        {
         "name": "CBOE Volatility Index (VIX)",
         "rawType": "float64",
         "type": "float"
        },
        {
         "name": "Market Yield on 10-Year US Trasury Securities",
         "rawType": "float64",
         "type": "float"
        }
       ],
       "ref": "70b3372b-bb61-481e-b6c8-65de58abbf1c",
       "rows": [
        [
         "760",
         "2025-05",
         "64.45",
         "122.6869",
         "20.46227272727273",
         "4.423809523809524"
        ],
        [
         "761",
         "2025-06",
         "71.44",
         "120.9747",
         "18.403333333333336",
         "4.3835"
        ],
        [
         "762",
         "2025-07",
         "71.04",
         "120.5266",
         "16.381304347826084",
         "4.391818181818182"
        ],
        [
         "763",
         "2025-08",
         "67.87",
         "120.9844",
         "15.75",
         "4.2647619047619045"
        ],
        [
         "764",
         "2025-09",
         "67.99",
         "120.4534",
         "15.789090909090909",
         "4.12047619047619"
        ]
       ],
       "shape": {
        "columns": 5,
        "rows": 5
       }
      },
      "text/html": [
       "<div>\n",
       "<style scoped>\n",
       "    .dataframe tbody tr th:only-of-type {\n",
       "        vertical-align: middle;\n",
       "    }\n",
       "\n",
       "    .dataframe tbody tr th {\n",
       "        vertical-align: top;\n",
       "    }\n",
       "\n",
       "    .dataframe thead th {\n",
       "        text-align: right;\n",
       "    }\n",
       "</style>\n",
       "<table border=\"1\" class=\"dataframe\">\n",
       "  <thead>\n",
       "    <tr style=\"text-align: right;\">\n",
       "      <th></th>\n",
       "      <th>Time</th>\n",
       "      <th>Crude Oil Price (Brent, Europe)</th>\n",
       "      <th>Nominal Broad USD Index</th>\n",
       "      <th>CBOE Volatility Index (VIX)</th>\n",
       "      <th>Market Yield on 10-Year US Trasury Securities</th>\n",
       "    </tr>\n",
       "  </thead>\n",
       "  <tbody>\n",
       "    <tr>\n",
       "      <th>760</th>\n",
       "      <td>2025-05</td>\n",
       "      <td>64.45</td>\n",
       "      <td>122.6869</td>\n",
       "      <td>20.462273</td>\n",
       "      <td>4.423810</td>\n",
       "    </tr>\n",
       "    <tr>\n",
       "      <th>761</th>\n",
       "      <td>2025-06</td>\n",
       "      <td>71.44</td>\n",
       "      <td>120.9747</td>\n",
       "      <td>18.403333</td>\n",
       "      <td>4.383500</td>\n",
       "    </tr>\n",
       "    <tr>\n",
       "      <th>762</th>\n",
       "      <td>2025-07</td>\n",
       "      <td>71.04</td>\n",
       "      <td>120.5266</td>\n",
       "      <td>16.381304</td>\n",
       "      <td>4.391818</td>\n",
       "    </tr>\n",
       "    <tr>\n",
       "      <th>763</th>\n",
       "      <td>2025-08</td>\n",
       "      <td>67.87</td>\n",
       "      <td>120.9844</td>\n",
       "      <td>15.750000</td>\n",
       "      <td>4.264762</td>\n",
       "    </tr>\n",
       "    <tr>\n",
       "      <th>764</th>\n",
       "      <td>2025-09</td>\n",
       "      <td>67.99</td>\n",
       "      <td>120.4534</td>\n",
       "      <td>15.789091</td>\n",
       "      <td>4.120476</td>\n",
       "    </tr>\n",
       "  </tbody>\n",
       "</table>\n",
       "</div>"
      ],
      "text/plain": [
       "        Time  Crude Oil Price (Brent, Europe)  Nominal Broad USD Index  \\\n",
       "760  2025-05                            64.45                 122.6869   \n",
       "761  2025-06                            71.44                 120.9747   \n",
       "762  2025-07                            71.04                 120.5266   \n",
       "763  2025-08                            67.87                 120.9844   \n",
       "764  2025-09                            67.99                 120.4534   \n",
       "\n",
       "     CBOE Volatility Index (VIX)  \\\n",
       "760                    20.462273   \n",
       "761                    18.403333   \n",
       "762                    16.381304   \n",
       "763                    15.750000   \n",
       "764                    15.789091   \n",
       "\n",
       "     Market Yield on 10-Year US Trasury Securities  \n",
       "760                                       4.423810  \n",
       "761                                       4.383500  \n",
       "762                                       4.391818  \n",
       "763                                       4.264762  \n",
       "764                                       4.120476  "
      ]
     },
     "execution_count": 184,
     "metadata": {},
     "output_type": "execute_result"
    }
   ],
   "source": [
    "# Aggregate Global Control df\n",
    "# Merging Index: Time\n",
    "# Time frame: 2006/01 - 2025/09\n",
    "# (!!!) To run the model we need no NaN in the df, so we dop them, causing a shrinking of the df time range\n",
    "global_control_df = (oilprice_m_raw.merge(usdi_m_raw, on=\"Time\", how=\"outer\").merge(VIX_m_raw, on=\"Time\", how=\"outer\").merge(ustyield_m_raw, on=\"Time\", how=\"outer\").sort_values(\"Time\").reset_index(drop=True))\n",
    "global_control_df = global_control_df.dropna()\n",
    "\n",
    "# Uploading in aggregate_df\n",
    "global_control_df.to_csv(\"aggregate_df/global_control_df.csv\", index=False)\n",
    "\n",
    "global_control_df.tail()"
   ]
  },
  {
   "cell_type": "markdown",
   "id": "77b7c10b",
   "metadata": {},
   "source": [
    "#### **4.6) Country-specific controls df**"
   ]
  },
  {
   "cell_type": "code",
   "execution_count": null,
   "id": "0b518e56",
   "metadata": {},
   "outputs": [
    {
     "data": {
      "application/vnd.microsoft.datawrangler.viewer.v0+json": {
       "columns": [
        {
         "name": "index",
         "rawType": "int64",
         "type": "integer"
        },
        {
         "name": "Country",
         "rawType": "object",
         "type": "string"
        },
        {
         "name": "Time",
         "rawType": "object",
         "type": "string"
        },
        {
         "name": "GDP (Million USD)",
         "rawType": "float64",
         "type": "float"
        },
        {
         "name": "HICP (%, annual rate of change)",
         "rawType": "float64",
         "type": "float"
        },
        {
         "name": "Unemployment Rate (%pop in LF)",
         "rawType": "float64",
         "type": "float"
        }
       ],
       "ref": "a103a9a0-63cf-41be-bd3d-f0336ab0818a",
       "rows": [
        [
         "7128",
         "HU",
         "2018-07",
         "13342.12632",
         "3.4",
         "3.6"
        ],
        [
         "7129",
         "HU",
         "2018-08",
         "13500.802472727275",
         "3.4",
         "3.5"
        ],
        [
         "7130",
         "HU",
         "2018-09",
         "13473.800457142857",
         "3.7",
         "3.5"
        ],
        [
         "7131",
         "HU",
         "2018-10",
         "14765.424377142856",
         "3.9",
         "3.3"
        ],
        [
         "7132",
         "HU",
         "2018-11",
         "14652.504169411764",
         "3.2",
         "3.3"
        ]
       ],
       "shape": {
        "columns": 5,
        "rows": 5
       }
      },
      "text/html": [
       "<div>\n",
       "<style scoped>\n",
       "    .dataframe tbody tr th:only-of-type {\n",
       "        vertical-align: middle;\n",
       "    }\n",
       "\n",
       "    .dataframe tbody tr th {\n",
       "        vertical-align: top;\n",
       "    }\n",
       "\n",
       "    .dataframe thead th {\n",
       "        text-align: right;\n",
       "    }\n",
       "</style>\n",
       "<table border=\"1\" class=\"dataframe\">\n",
       "  <thead>\n",
       "    <tr style=\"text-align: right;\">\n",
       "      <th></th>\n",
       "      <th>Country</th>\n",
       "      <th>Time</th>\n",
       "      <th>GDP (Million USD)</th>\n",
       "      <th>HICP (%, annual rate of change)</th>\n",
       "      <th>Unemployment Rate (%pop in LF)</th>\n",
       "    </tr>\n",
       "  </thead>\n",
       "  <tbody>\n",
       "    <tr>\n",
       "      <th>7128</th>\n",
       "      <td>HU</td>\n",
       "      <td>2018-07</td>\n",
       "      <td>13342.126320</td>\n",
       "      <td>3.4</td>\n",
       "      <td>3.6</td>\n",
       "    </tr>\n",
       "    <tr>\n",
       "      <th>7129</th>\n",
       "      <td>HU</td>\n",
       "      <td>2018-08</td>\n",
       "      <td>13500.802473</td>\n",
       "      <td>3.4</td>\n",
       "      <td>3.5</td>\n",
       "    </tr>\n",
       "    <tr>\n",
       "      <th>7130</th>\n",
       "      <td>HU</td>\n",
       "      <td>2018-09</td>\n",
       "      <td>13473.800457</td>\n",
       "      <td>3.7</td>\n",
       "      <td>3.5</td>\n",
       "    </tr>\n",
       "    <tr>\n",
       "      <th>7131</th>\n",
       "      <td>HU</td>\n",
       "      <td>2018-10</td>\n",
       "      <td>14765.424377</td>\n",
       "      <td>3.9</td>\n",
       "      <td>3.3</td>\n",
       "    </tr>\n",
       "    <tr>\n",
       "      <th>7132</th>\n",
       "      <td>HU</td>\n",
       "      <td>2018-11</td>\n",
       "      <td>14652.504169</td>\n",
       "      <td>3.2</td>\n",
       "      <td>3.3</td>\n",
       "    </tr>\n",
       "  </tbody>\n",
       "</table>\n",
       "</div>"
      ],
      "text/plain": [
       "     Country     Time  GDP (Million USD)  HICP (%, annual rate of change)  \\\n",
       "7128      HU  2018-07       13342.126320                              3.4   \n",
       "7129      HU  2018-08       13500.802473                              3.4   \n",
       "7130      HU  2018-09       13473.800457                              3.7   \n",
       "7131      HU  2018-10       14765.424377                              3.9   \n",
       "7132      HU  2018-11       14652.504169                              3.2   \n",
       "\n",
       "      Unemployment Rate (%pop in LF)  \n",
       "7128                             3.6  \n",
       "7129                             3.5  \n",
       "7130                             3.5  \n",
       "7131                             3.3  \n",
       "7132                             3.3  "
      ]
     },
     "execution_count": 25,
     "metadata": {},
     "output_type": "execute_result"
    }
   ],
   "source": [
    "# Aggregate Country-Specific Control df\n",
    "# Merging Index: Country, Time\n",
    "# Time frame: 1997/01 - 2025/06\n",
    "# (!!!) To run the model we need no NaN in the df, so we dop them, causing a shrinking of the df time range\n",
    "# (!!!) As GDP data are quarterly, we lose at lot here by dropping NaN even for HICP and Unemployment Rate that were insetad fine\n",
    "# (!!!) Converting GDP in million EUR to million USD\n",
    "EURO_GDPUS_m_raw = EURO_GDP_m_raw.copy()\n",
    "EURO_GDPUS_m_raw[\"GDP (Million USD)\"] = EURO_GDPUS_m_raw[\"GDP (Million EUR)\"] * EXUSEU_m_raw[\"USD-EUR Spot Exchange Rate\"]\n",
    "EURO_GDPUS_m_raw = EURO_GDPUS_m_raw.drop(columns=[\"GDP (Million EUR)\"])\n",
    "country_control_df = (EURO_GDPUS_m_raw.merge(EURO_HICP_m_raw, on=[\"Country\", \"Time\"] , how=\"outer\").merge(EURO_unem_m_raw, on= [\"Country\", \"Time\"], how=\"outer\").sort_values([\"Country\", \"Time\"]).reset_index(drop=True))\n",
    "country_control_df = country_control_df.dropna()\n",
    "\n",
    "# Uploading in aggregate_df\n",
    "country_control_df.to_csv(\"aggregate_df/country_specific_control_df.csv\", index=False)\n",
    "\n",
    "country_control_df.tail()"
   ]
  }
 ],
 "metadata": {
  "kernelspec": {
   "display_name": "base",
   "language": "python",
   "name": "python3"
  },
  "language_info": {
   "codemirror_mode": {
    "name": "ipython",
    "version": 3
   },
   "file_extension": ".py",
   "mimetype": "text/x-python",
   "name": "python",
   "nbconvert_exporter": "python",
   "pygments_lexer": "ipython3",
   "version": "3.12.4"
  }
 },
 "nbformat": 4,
 "nbformat_minor": 5
}
