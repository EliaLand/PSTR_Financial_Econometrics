{
 "cells": [
  {
   "cell_type": "markdown",
   "id": "02b43a95",
   "metadata": {},
   "source": [
    "# **API & WEBHOOK-BASED DATA RETRIEVAL**"
   ]
  },
  {
   "cell_type": "markdown",
   "id": "3c636a87",
   "metadata": {},
   "source": [
    "### **1) REQUIREMENTS SETUP**"
   ]
  },
  {
   "cell_type": "code",
   "execution_count": 11,
   "id": "4ecc6c9a",
   "metadata": {},
   "outputs": [],
   "source": [
    "# !pip install -r requirements.txt"
   ]
  },
  {
   "cell_type": "code",
   "execution_count": 63,
   "id": "7cb394ac",
   "metadata": {},
   "outputs": [],
   "source": [
    "import warnings\n",
    "warnings.filterwarnings(\"ignore\")\n",
    "import pandas as pd\n",
    "import numpy as np"
   ]
  },
  {
   "cell_type": "markdown",
   "id": "c506530d",
   "metadata": {},
   "source": [
    "### **2) MODULES IMPORT**"
   ]
  },
  {
   "cell_type": "code",
   "execution_count": 29,
   "id": "d27670ad",
   "metadata": {},
   "outputs": [],
   "source": [
    "from FRED_module import fetch_FRED\n",
    "from EUROSTAT_module import fetch_EUROSTAT\n",
    "from WB_module import fetch_WB \n",
    "from YFINANCE_module import fetch_YFINANCE\n",
    "from DBNOMICS_module import fetch_DBNOMICS"
   ]
  },
  {
   "cell_type": "markdown",
   "id": "d7d2dd32",
   "metadata": {},
   "source": [
    "### **3) DATA FETCHING**"
   ]
  },
  {
   "cell_type": "markdown",
   "id": "27ef5590",
   "metadata": {},
   "source": [
    "#### **3.1) EUROSTAT-extracted indicators**"
   ]
  },
  {
   "cell_type": "code",
   "execution_count": null,
   "id": "f3d7d3b6",
   "metadata": {},
   "outputs": [],
   "source": [
    "# Export to the US by EU member state (monthly, total, millions of EUR)\n",
    "# EU27 (from 2020) trade by SITC product group (Trade value in million ECU/EURO, Standard International Trade Classification (SITC Rev. 4, 2006): Total - all products)\n",
    "# https://ec.europa.eu/eurostat/databrowser/view/ds-059331/legacyMultiFreq/table?lang=en \n",
    "\n",
    "# EURO_expus_m_raw = "
   ]
  },
  {
   "cell_type": "code",
   "execution_count": null,
   "id": "7513e0c6",
   "metadata": {},
   "outputs": [
    {
     "data": {
      "application/vnd.microsoft.datawrangler.viewer.v0+json": {
       "columns": [
        {
         "name": "index",
         "rawType": "int64",
         "type": "integer"
        },
        {
         "name": "Country",
         "rawType": "object",
         "type": "string"
        },
        {
         "name": "Time",
         "rawType": "object",
         "type": "string"
        },
        {
         "name": "Indprod Index (I21)",
         "rawType": "float64",
         "type": "float"
        }
       ],
       "ref": "78d64227-92d9-4d74-8ca3-fa6acc34892a",
       "rows": [
        [
         "8971",
         "SK",
         "2025-04",
         "102.5"
        ],
        [
         "8972",
         "SK",
         "2025-05",
         "101.8"
        ],
        [
         "8973",
         "SK",
         "2025-06",
         "100.2"
        ],
        [
         "8974",
         "SK",
         "2025-07",
         "87.7"
        ],
        [
         "8975",
         "SK",
         "2025-08",
         "86.4"
        ]
       ],
       "shape": {
        "columns": 3,
        "rows": 5
       }
      },
      "text/html": [
       "<div>\n",
       "<style scoped>\n",
       "    .dataframe tbody tr th:only-of-type {\n",
       "        vertical-align: middle;\n",
       "    }\n",
       "\n",
       "    .dataframe tbody tr th {\n",
       "        vertical-align: top;\n",
       "    }\n",
       "\n",
       "    .dataframe thead th {\n",
       "        text-align: right;\n",
       "    }\n",
       "</style>\n",
       "<table border=\"1\" class=\"dataframe\">\n",
       "  <thead>\n",
       "    <tr style=\"text-align: right;\">\n",
       "      <th></th>\n",
       "      <th>Country</th>\n",
       "      <th>Time</th>\n",
       "      <th>Indprod Index (I21)</th>\n",
       "    </tr>\n",
       "  </thead>\n",
       "  <tbody>\n",
       "    <tr>\n",
       "      <th>8971</th>\n",
       "      <td>SK</td>\n",
       "      <td>2025-04</td>\n",
       "      <td>102.5</td>\n",
       "    </tr>\n",
       "    <tr>\n",
       "      <th>8972</th>\n",
       "      <td>SK</td>\n",
       "      <td>2025-05</td>\n",
       "      <td>101.8</td>\n",
       "    </tr>\n",
       "    <tr>\n",
       "      <th>8973</th>\n",
       "      <td>SK</td>\n",
       "      <td>2025-06</td>\n",
       "      <td>100.2</td>\n",
       "    </tr>\n",
       "    <tr>\n",
       "      <th>8974</th>\n",
       "      <td>SK</td>\n",
       "      <td>2025-07</td>\n",
       "      <td>87.7</td>\n",
       "    </tr>\n",
       "    <tr>\n",
       "      <th>8975</th>\n",
       "      <td>SK</td>\n",
       "      <td>2025-08</td>\n",
       "      <td>86.4</td>\n",
       "    </tr>\n",
       "  </tbody>\n",
       "</table>\n",
       "</div>"
      ],
      "text/plain": [
       "     Country     Time  Indprod Index (I21)\n",
       "8971      SK  2025-04                102.5\n",
       "8972      SK  2025-05                101.8\n",
       "8973      SK  2025-06                100.2\n",
       "8974      SK  2025-07                 87.7\n",
       "8975      SK  2025-08                 86.4"
      ]
     },
     "execution_count": 52,
     "metadata": {},
     "output_type": "execute_result"
    }
   ],
   "source": [
    "# Industrial Production by EU member state (monthly, total manufacturing, Index: 2021=100, non-seasonally adjusted, 1996-01, 2025-08)\n",
    "# https://ec.europa.eu/eurostat/databrowser/view/sts_inpr_m/default/table?lang=en\n",
    "EURO_indprod_m_raw = fetch_EUROSTAT(\n",
    "    \"sts_inpr_m\",\n",
    "    filters = {\n",
    "    \"geo\": [\"EU27_2020\", \"EU28\", \"EA20\", \"EA19\",  \n",
    "    \"BE\", \"BG\", \"CZ\", \"DK\", \"DE\", \"EE\", \"IE\", \"EL\", \"ES\", \"FR\",\n",
    "    \"HR\", \"IT\", \"CY\", \"LV\", \"LT\", \"LU\", \"HU\", \"MT\", \"NL\", \"AT\",\n",
    "    \"PL\", \"PT\", \"RO\", \"SI\", \"SK\", \"FI\", \"SE\"],\n",
    "    \"s_adj\": \"NSA\",\n",
    "    \"unit\": \"I21\",\n",
    "    \"nace_r2\": \"C\"\n",
    "    }\n",
    ")\n",
    "\n",
    "EURO_indprod_m_raw = EURO_indprod_m_raw[[ \"geo\", \"time\", \"value\" ]]\n",
    "EURO_indprod_m_raw = EURO_indprod_m_raw.rename(columns={\n",
    "    \"geo\": \"Country\",\n",
    "    \"time\": \"Time\",\n",
    "    \"value\": \"Indprod Index (I21)\"\n",
    "})\n",
    "\n",
    "EURO_indprod_m_raw.tail()"
   ]
  },
  {
   "cell_type": "code",
   "execution_count": 58,
   "id": "426de587",
   "metadata": {},
   "outputs": [
    {
     "data": {
      "application/vnd.microsoft.datawrangler.viewer.v0+json": {
       "columns": [
        {
         "name": "index",
         "rawType": "int64",
         "type": "integer"
        },
        {
         "name": "Country",
         "rawType": "object",
         "type": "string"
        },
        {
         "name": "Time",
         "rawType": "object",
         "type": "string"
        },
        {
         "name": "Unemployment Rate (%pop in LF)",
         "rawType": "float64",
         "type": "float"
        }
       ],
       "ref": "ba2c4258-cde9-495f-a9db-13a3efe9ada0",
       "rows": [
        [
         "98345",
         "SK",
         "2025-04",
         "13.9"
        ],
        [
         "98346",
         "SK",
         "2025-05",
         "14.3"
        ],
        [
         "98347",
         "SK",
         "2025-06",
         "15.4"
        ],
        [
         "98348",
         "SK",
         "2025-07",
         "15.9"
        ],
        [
         "98349",
         "SK",
         "2025-08",
         "15.8"
        ]
       ],
       "shape": {
        "columns": 3,
        "rows": 5
       }
      },
      "text/html": [
       "<div>\n",
       "<style scoped>\n",
       "    .dataframe tbody tr th:only-of-type {\n",
       "        vertical-align: middle;\n",
       "    }\n",
       "\n",
       "    .dataframe tbody tr th {\n",
       "        vertical-align: top;\n",
       "    }\n",
       "\n",
       "    .dataframe thead th {\n",
       "        text-align: right;\n",
       "    }\n",
       "</style>\n",
       "<table border=\"1\" class=\"dataframe\">\n",
       "  <thead>\n",
       "    <tr style=\"text-align: right;\">\n",
       "      <th></th>\n",
       "      <th>Country</th>\n",
       "      <th>Time</th>\n",
       "      <th>Unemployment Rate (%pop in LF)</th>\n",
       "    </tr>\n",
       "  </thead>\n",
       "  <tbody>\n",
       "    <tr>\n",
       "      <th>98345</th>\n",
       "      <td>SK</td>\n",
       "      <td>2025-04</td>\n",
       "      <td>13.9</td>\n",
       "    </tr>\n",
       "    <tr>\n",
       "      <th>98346</th>\n",
       "      <td>SK</td>\n",
       "      <td>2025-05</td>\n",
       "      <td>14.3</td>\n",
       "    </tr>\n",
       "    <tr>\n",
       "      <th>98347</th>\n",
       "      <td>SK</td>\n",
       "      <td>2025-06</td>\n",
       "      <td>15.4</td>\n",
       "    </tr>\n",
       "    <tr>\n",
       "      <th>98348</th>\n",
       "      <td>SK</td>\n",
       "      <td>2025-07</td>\n",
       "      <td>15.9</td>\n",
       "    </tr>\n",
       "    <tr>\n",
       "      <th>98349</th>\n",
       "      <td>SK</td>\n",
       "      <td>2025-08</td>\n",
       "      <td>15.8</td>\n",
       "    </tr>\n",
       "  </tbody>\n",
       "</table>\n",
       "</div>"
      ],
      "text/plain": [
       "      Country     Time  Unemployment Rate (%pop in LF)\n",
       "98345      SK  2025-04                            13.9\n",
       "98346      SK  2025-05                            14.3\n",
       "98347      SK  2025-06                            15.4\n",
       "98348      SK  2025-07                            15.9\n",
       "98349      SK  2025-08                            15.8"
      ]
     },
     "execution_count": 58,
     "metadata": {},
     "output_type": "execute_result"
    }
   ],
   "source": [
    "# Unemployment rate by EU member state (monthly, Percentage of population in the labour force (age-class = total, sex-class=total), non-seasonally adjusted, 1994-01 (varying), 2025-08)\n",
    "# https://ec.europa.eu/eurostat/databrowser/view/une_rt_m/default/table?lang=en\n",
    "EURO_unem_m_raw = fetch_EUROSTAT(\n",
    "    \"une_rt_m\",\n",
    "    filters = {\n",
    "    \"geo\": [\"EU27_2020\", \"EU28\", \"EA20\", \"EA19\",  \n",
    "    \"BE\", \"BG\", \"CZ\", \"DK\", \"DE\", \"EE\", \"IE\", \"EL\", \"ES\", \"FR\",\n",
    "    \"HR\", \"IT\", \"CY\", \"LV\", \"LT\", \"LU\", \"HU\", \"MT\", \"NL\", \"AT\",\n",
    "    \"PL\", \"PT\", \"RO\", \"SI\", \"SK\", \"FI\", \"SE\"],\n",
    "    \"s_adj\": \"NSA\",\n",
    "    \"unit\": \"PC_ACT\"\n",
    "    }\n",
    ")\n",
    "\n",
    "EURO_unem_m_raw = EURO_unem_m_raw[[ \"geo\", \"time\", \"value\" ]]\n",
    "EURO_unem_m_raw = EURO_unem_m_raw.rename(columns={\n",
    "    \"geo\": \"Country\",\n",
    "    \"time\": \"Time\",\n",
    "    \"value\": \"Unemployment Rate (%pop in LF)\"\n",
    "})\n",
    "\n",
    "EURO_unem_m_raw.tail()"
   ]
  },
  {
   "cell_type": "code",
   "execution_count": null,
   "id": "ce91981b",
   "metadata": {},
   "outputs": [
    {
     "data": {
      "application/vnd.microsoft.datawrangler.viewer.v0+json": {
       "columns": [
        {
         "name": "index",
         "rawType": "int64",
         "type": "integer"
        },
        {
         "name": "Country",
         "rawType": "object",
         "type": "string"
        },
        {
         "name": "Time",
         "rawType": "object",
         "type": "string"
        },
        {
         "name": "Unemployment Rate (%pop in LF)",
         "rawType": "float64",
         "type": "float"
        }
       ],
       "ref": "e0648d27-6f35-43fd-ab03-5bde15476fef",
       "rows": [
        [
         "4603",
         "US",
         "2025-04",
         "8.5"
        ],
        [
         "4604",
         "US",
         "2025-05",
         "9.7"
        ],
        [
         "4605",
         "US",
         "2025-06",
         "11.4"
        ],
        [
         "4606",
         "US",
         "2025-07",
         "10.8"
        ],
        [
         "4607",
         "US",
         "2025-08",
         "10.7"
        ]
       ],
       "shape": {
        "columns": 3,
        "rows": 5
       }
      },
      "text/html": [
       "<div>\n",
       "<style scoped>\n",
       "    .dataframe tbody tr th:only-of-type {\n",
       "        vertical-align: middle;\n",
       "    }\n",
       "\n",
       "    .dataframe tbody tr th {\n",
       "        vertical-align: top;\n",
       "    }\n",
       "\n",
       "    .dataframe thead th {\n",
       "        text-align: right;\n",
       "    }\n",
       "</style>\n",
       "<table border=\"1\" class=\"dataframe\">\n",
       "  <thead>\n",
       "    <tr style=\"text-align: right;\">\n",
       "      <th></th>\n",
       "      <th>Country</th>\n",
       "      <th>Time</th>\n",
       "      <th>Unemployment Rate (%pop in LF)</th>\n",
       "    </tr>\n",
       "  </thead>\n",
       "  <tbody>\n",
       "    <tr>\n",
       "      <th>4603</th>\n",
       "      <td>US</td>\n",
       "      <td>2025-04</td>\n",
       "      <td>8.5</td>\n",
       "    </tr>\n",
       "    <tr>\n",
       "      <th>4604</th>\n",
       "      <td>US</td>\n",
       "      <td>2025-05</td>\n",
       "      <td>9.7</td>\n",
       "    </tr>\n",
       "    <tr>\n",
       "      <th>4605</th>\n",
       "      <td>US</td>\n",
       "      <td>2025-06</td>\n",
       "      <td>11.4</td>\n",
       "    </tr>\n",
       "    <tr>\n",
       "      <th>4606</th>\n",
       "      <td>US</td>\n",
       "      <td>2025-07</td>\n",
       "      <td>10.8</td>\n",
       "    </tr>\n",
       "    <tr>\n",
       "      <th>4607</th>\n",
       "      <td>US</td>\n",
       "      <td>2025-08</td>\n",
       "      <td>10.7</td>\n",
       "    </tr>\n",
       "  </tbody>\n",
       "</table>\n",
       "</div>"
      ],
      "text/plain": [
       "     Country     Time  Unemployment Rate (%pop in LF)\n",
       "4603      US  2025-04                             8.5\n",
       "4604      US  2025-05                             9.7\n",
       "4605      US  2025-06                            11.4\n",
       "4606      US  2025-07                            10.8\n",
       "4607      US  2025-08                            10.7"
      ]
     },
     "execution_count": 56,
     "metadata": {},
     "output_type": "execute_result"
    }
   ],
   "source": [
    "# US Unemployment rate (monthly, Percentage of population in the labour force (age-class = total, sex-class=total), non-seasonally adjusted, 1983-01, 2025-08)\n",
    "# https://ec.europa.eu/eurostat/databrowser/view/une_rt_m/default/table?lang=en\n",
    "US_unem_m_raw = fetch_EUROSTAT(\n",
    "    \"une_rt_m\",\n",
    "    filters = {\n",
    "    \"geo\": \"US\",\n",
    "    \"s_adj\": \"NSA\",\n",
    "    \"unit\": \"PC_ACT\"\n",
    "    }\n",
    ")\n",
    "\n",
    "US_unem_m_raw = US_unem_m_raw[[ \"geo\", \"time\", \"value\" ]]\n",
    "US_unem_m_raw = US_unem_m_raw.rename(columns={\n",
    "    \"geo\": \"Country\",\n",
    "    \"time\": \"Time\",\n",
    "    \"value\": \"Unemployment Rate (%pop in LF)\"\n",
    "})\n",
    "\n",
    "US_unem_m_raw.tail()"
   ]
  },
  {
   "cell_type": "markdown",
   "id": "d0b2bf0f",
   "metadata": {},
   "source": [
    "#### **3.2) FRED-extracted indicators**"
   ]
  },
  {
   "cell_type": "code",
   "execution_count": 71,
   "id": "8484c749",
   "metadata": {},
   "outputs": [
    {
     "data": {
      "application/vnd.microsoft.datawrangler.viewer.v0+json": {
       "columns": [
        {
         "name": "index",
         "rawType": "int64",
         "type": "integer"
        },
        {
         "name": "Time",
         "rawType": "object",
         "type": "string"
        },
        {
         "name": "USD-EUR Spot Exchange Rate",
         "rawType": "float64",
         "type": "float"
        }
       ],
       "ref": "7e5c7082-5ede-4bc9-b168-aa03a33b773f",
       "rows": [
        [
         "317",
         "2025-06",
         "1.153365"
        ],
        [
         "318",
         "2025-07",
         "1.1670818181818183"
        ],
        [
         "319",
         "2025-08",
         "1.1647476190476191"
        ],
        [
         "320",
         "2025-09",
         "1.1738714285714285"
        ],
        [
         "321",
         "2025-10",
         "1.1648941176470589"
        ]
       ],
       "shape": {
        "columns": 2,
        "rows": 5
       }
      },
      "text/html": [
       "<div>\n",
       "<style scoped>\n",
       "    .dataframe tbody tr th:only-of-type {\n",
       "        vertical-align: middle;\n",
       "    }\n",
       "\n",
       "    .dataframe tbody tr th {\n",
       "        vertical-align: top;\n",
       "    }\n",
       "\n",
       "    .dataframe thead th {\n",
       "        text-align: right;\n",
       "    }\n",
       "</style>\n",
       "<table border=\"1\" class=\"dataframe\">\n",
       "  <thead>\n",
       "    <tr style=\"text-align: right;\">\n",
       "      <th></th>\n",
       "      <th>Time</th>\n",
       "      <th>USD-EUR Spot Exchange Rate</th>\n",
       "    </tr>\n",
       "  </thead>\n",
       "  <tbody>\n",
       "    <tr>\n",
       "      <th>317</th>\n",
       "      <td>2025-06</td>\n",
       "      <td>1.153365</td>\n",
       "    </tr>\n",
       "    <tr>\n",
       "      <th>318</th>\n",
       "      <td>2025-07</td>\n",
       "      <td>1.167082</td>\n",
       "    </tr>\n",
       "    <tr>\n",
       "      <th>319</th>\n",
       "      <td>2025-08</td>\n",
       "      <td>1.164748</td>\n",
       "    </tr>\n",
       "    <tr>\n",
       "      <th>320</th>\n",
       "      <td>2025-09</td>\n",
       "      <td>1.173871</td>\n",
       "    </tr>\n",
       "    <tr>\n",
       "      <th>321</th>\n",
       "      <td>2025-10</td>\n",
       "      <td>1.164894</td>\n",
       "    </tr>\n",
       "  </tbody>\n",
       "</table>\n",
       "</div>"
      ],
      "text/plain": [
       "        Time  USD-EUR Spot Exchange Rate\n",
       "317  2025-06                    1.153365\n",
       "318  2025-07                    1.167082\n",
       "319  2025-08                    1.164748\n",
       "320  2025-09                    1.173871\n",
       "321  2025-10                    1.164894"
      ]
     },
     "execution_count": 71,
     "metadata": {},
     "output_type": "execute_result"
    }
   ],
   "source": [
    "# US-EUR exchange rate, U.S. Dollars to One Euro (initially daily, converted to monthly, non-seasonally adjusted, 1999-01, 2025-10)\n",
    "# https://fred.stlouisfed.org/series/DEXUSEU\n",
    "EXUSEU_d_raw = fetch_FRED(\"DEXUSEU\") \n",
    "EXUSEU_d_raw = EXUSEU_d_raw.rename(columns= \n",
    "        {\"date\": \"Time\", \n",
    "         \"DEXUSEU\": \"USD-EUR Spot Exchange Rate\"\n",
    "})\n",
    "\n",
    "# Aggregation (dimension from daily to monthly)\n",
    "EXUSEU_d_raw = EXUSEU_d_raw.set_index(\"Time\")\n",
    "EXUSEU_m_raw = EXUSEU_d_raw.resample(\"M\").mean().reset_index()\n",
    "EXUSEU_m_raw[\"Time\"] = EXUSEU_m_raw[\"Time\"].dt.to_period(\"M\").astype(str)\n",
    "\n",
    "EXUSEU_m_raw.tail()"
   ]
  },
  {
   "cell_type": "code",
   "execution_count": 77,
   "id": "a6c3abe4",
   "metadata": {},
   "outputs": [
    {
     "data": {
      "application/vnd.microsoft.datawrangler.viewer.v0+json": {
       "columns": [
        {
         "name": "index",
         "rawType": "int64",
         "type": "integer"
        },
        {
         "name": "Time",
         "rawType": "object",
         "type": "string"
        },
        {
         "name": "USD-BLEV Spot Exchange Rate",
         "rawType": "float64",
         "type": "float"
        }
       ],
       "ref": "2c573d9d-de33-466d-a09e-6e88b04c55e9",
       "rows": [
        [
         "769",
         "2021-02",
         "1.6167"
        ],
        [
         "770",
         "2021-03",
         "1.6447"
        ],
        [
         "771",
         "2021-04",
         "1.6366"
        ],
        [
         "772",
         "2021-05",
         "1.6084"
        ],
        [
         "773",
         "2021-06",
         "1.6237"
        ]
       ],
       "shape": {
        "columns": 2,
        "rows": 5
       }
      },
      "text/html": [
       "<div>\n",
       "<style scoped>\n",
       "    .dataframe tbody tr th:only-of-type {\n",
       "        vertical-align: middle;\n",
       "    }\n",
       "\n",
       "    .dataframe tbody tr th {\n",
       "        vertical-align: top;\n",
       "    }\n",
       "\n",
       "    .dataframe thead th {\n",
       "        text-align: right;\n",
       "    }\n",
       "</style>\n",
       "<table border=\"1\" class=\"dataframe\">\n",
       "  <thead>\n",
       "    <tr style=\"text-align: right;\">\n",
       "      <th></th>\n",
       "      <th>Time</th>\n",
       "      <th>USD-BLEV Spot Exchange Rate</th>\n",
       "    </tr>\n",
       "  </thead>\n",
       "  <tbody>\n",
       "    <tr>\n",
       "      <th>769</th>\n",
       "      <td>2021-02</td>\n",
       "      <td>1.6167</td>\n",
       "    </tr>\n",
       "    <tr>\n",
       "      <th>770</th>\n",
       "      <td>2021-03</td>\n",
       "      <td>1.6447</td>\n",
       "    </tr>\n",
       "    <tr>\n",
       "      <th>771</th>\n",
       "      <td>2021-04</td>\n",
       "      <td>1.6366</td>\n",
       "    </tr>\n",
       "    <tr>\n",
       "      <th>772</th>\n",
       "      <td>2021-05</td>\n",
       "      <td>1.6084</td>\n",
       "    </tr>\n",
       "    <tr>\n",
       "      <th>773</th>\n",
       "      <td>2021-06</td>\n",
       "      <td>1.6237</td>\n",
       "    </tr>\n",
       "  </tbody>\n",
       "</table>\n",
       "</div>"
      ],
      "text/plain": [
       "        Time  USD-BLEV Spot Exchange Rate\n",
       "769  2021-02                       1.6167\n",
       "770  2021-03                       1.6447\n",
       "771  2021-04                       1.6366\n",
       "772  2021-05                       1.6084\n",
       "773  2021-06                       1.6237"
      ]
     },
     "execution_count": 77,
     "metadata": {},
     "output_type": "execute_result"
    }
   ],
   "source": [
    "# US-BLEV exchange rate, U.S. Dollars to One Bulgarian Lev (monthly, non-seasonally adjusted, 1960-01, 2021-06)\n",
    "# https://fred.stlouisfed.org/series/BGRCCUSMA02STM\n",
    "\n",
    "EXUSBLEV_m_raw = fetch_FRED(\"BGRCCUSMA02STM\") \n",
    "EXUSBLEV_m_raw = EXUSBLEV_m_raw.rename(columns= \n",
    "        {\"date\": \"Time\", \n",
    "         \"BGRCCUSMA02STM\": \"USD-BLEV Spot Exchange Rate\"\n",
    "})\n",
    "\n",
    "EXUSBLEV_m_raw[\"Time\"] = EXUSBLEV_m_raw[\"Time\"].dt.to_period(\"M\").astype(str)\n",
    "\n",
    "EXUSBLEV_m_raw.tail()"
   ]
  },
  {
   "cell_type": "code",
   "execution_count": 85,
   "id": "1f6f01ce",
   "metadata": {},
   "outputs": [
    {
     "data": {
      "application/vnd.microsoft.datawrangler.viewer.v0+json": {
       "columns": [
        {
         "name": "index",
         "rawType": "int64",
         "type": "integer"
        },
        {
         "name": "Time",
         "rawType": "object",
         "type": "string"
        },
        {
         "name": "USD-SD Spot Exchange Rate",
         "rawType": "float64",
         "type": "float"
        }
       ],
       "ref": "bf3150c6-c49b-4827-867b-30b580f9a250",
       "rows": [
        [
         "653",
         "2025-06",
         "0.10473183675029679"
        ],
        [
         "654",
         "2025-07",
         "0.10419384981593209"
        ],
        [
         "655",
         "2025-08",
         "0.10441221145561064"
        ],
        [
         "656",
         "2025-09",
         "0.10669300459694432"
        ],
        [
         "657",
         "2025-10",
         "0.10603600608521925"
        ]
       ],
       "shape": {
        "columns": 2,
        "rows": 5
       }
      },
      "text/html": [
       "<div>\n",
       "<style scoped>\n",
       "    .dataframe tbody tr th:only-of-type {\n",
       "        vertical-align: middle;\n",
       "    }\n",
       "\n",
       "    .dataframe tbody tr th {\n",
       "        vertical-align: top;\n",
       "    }\n",
       "\n",
       "    .dataframe thead th {\n",
       "        text-align: right;\n",
       "    }\n",
       "</style>\n",
       "<table border=\"1\" class=\"dataframe\">\n",
       "  <thead>\n",
       "    <tr style=\"text-align: right;\">\n",
       "      <th></th>\n",
       "      <th>Time</th>\n",
       "      <th>USD-SD Spot Exchange Rate</th>\n",
       "    </tr>\n",
       "  </thead>\n",
       "  <tbody>\n",
       "    <tr>\n",
       "      <th>653</th>\n",
       "      <td>2025-06</td>\n",
       "      <td>0.104732</td>\n",
       "    </tr>\n",
       "    <tr>\n",
       "      <th>654</th>\n",
       "      <td>2025-07</td>\n",
       "      <td>0.104194</td>\n",
       "    </tr>\n",
       "    <tr>\n",
       "      <th>655</th>\n",
       "      <td>2025-08</td>\n",
       "      <td>0.104412</td>\n",
       "    </tr>\n",
       "    <tr>\n",
       "      <th>656</th>\n",
       "      <td>2025-09</td>\n",
       "      <td>0.106693</td>\n",
       "    </tr>\n",
       "    <tr>\n",
       "      <th>657</th>\n",
       "      <td>2025-10</td>\n",
       "      <td>0.106036</td>\n",
       "    </tr>\n",
       "  </tbody>\n",
       "</table>\n",
       "</div>"
      ],
      "text/plain": [
       "        Time  USD-SD Spot Exchange Rate\n",
       "653  2025-06                   0.104732\n",
       "654  2025-07                   0.104194\n",
       "655  2025-08                   0.104412\n",
       "656  2025-09                   0.106693\n",
       "657  2025-10                   0.106036"
      ]
     },
     "execution_count": 85,
     "metadata": {},
     "output_type": "execute_result"
    }
   ],
   "source": [
    "# US-SD exchange rate, U.S. Dollar to One Swedish Kronor (initially SD-US daily, converted to US-SD monthly, non-seasonally adjusted, 1971-01, 2025-10)\n",
    "# https://fred.stlouisfed.org/series/DEXSDUS\n",
    "EXSDUS_d_raw = fetch_FRED(\"DEXSDUS\") \n",
    "EXSDUS_d_raw = EXSDUS_d_raw.rename(columns= \n",
    "        {\"date\": \"Time\", \n",
    "         \"DEXSDUS\": \"SD-USD Spot Exchange Rate\"\n",
    "})\n",
    "\n",
    "# Aggregation (dimension from daily to monthly)\n",
    "EXSDUS_d_raw = EXSDUS_d_raw.set_index(\"Time\")\n",
    "EXSDUS_m_raw = EXSDUS_d_raw.resample(\"M\").mean().reset_index()\n",
    "EXSDUS_m_raw[\"Time\"] = EXSDUS_m_raw[\"Time\"].dt.to_period(\"M\").astype(str)\n",
    "\n",
    "# Conversion to USXS spot exchange rate \n",
    "EXUSSD_m_raw = EXSDUS_m_raw.copy()\n",
    "EXUSSD_m_raw[\"USD-SD Spot Exchange Rate\"] = 1 / EXUSSD_m_raw[\"SD-USD Spot Exchange Rate\"]\n",
    "EXUSSD_m_raw = EXUSSD_m_raw.drop(columns=[\"SD-USD Spot Exchange Rate\"])\n",
    "\n",
    "EXUSSD_m_raw.tail()"
   ]
  },
  {
   "cell_type": "code",
   "execution_count": null,
   "id": "97658bf4",
   "metadata": {},
   "outputs": [
    {
     "data": {
      "application/vnd.microsoft.datawrangler.viewer.v0+json": {
       "columns": [
        {
         "name": "index",
         "rawType": "int64",
         "type": "integer"
        },
        {
         "name": "Time",
         "rawType": "object",
         "type": "string"
        },
        {
         "name": "USD-DN Spot Exchange Rate",
         "rawType": "float64",
         "type": "float"
        }
       ],
       "ref": "6f56c857-d566-4e37-8375-23ac113427b3",
       "rows": [
        [
         "0",
         "1971-01",
         "0.13360767442481897"
        ],
        [
         "1",
         "1971-02",
         "0.13359339514254415"
        ],
        [
         "2",
         "1971-03",
         "0.13367554272270346"
        ],
        [
         "3",
         "1971-04",
         "0.13353452535152965"
        ],
        [
         "4",
         "1971-05",
         "0.13333688898370624"
        ]
       ],
       "shape": {
        "columns": 2,
        "rows": 5
       }
      },
      "text/html": [
       "<div>\n",
       "<style scoped>\n",
       "    .dataframe tbody tr th:only-of-type {\n",
       "        vertical-align: middle;\n",
       "    }\n",
       "\n",
       "    .dataframe tbody tr th {\n",
       "        vertical-align: top;\n",
       "    }\n",
       "\n",
       "    .dataframe thead th {\n",
       "        text-align: right;\n",
       "    }\n",
       "</style>\n",
       "<table border=\"1\" class=\"dataframe\">\n",
       "  <thead>\n",
       "    <tr style=\"text-align: right;\">\n",
       "      <th></th>\n",
       "      <th>Time</th>\n",
       "      <th>USD-DN Spot Exchange Rate</th>\n",
       "    </tr>\n",
       "  </thead>\n",
       "  <tbody>\n",
       "    <tr>\n",
       "      <th>0</th>\n",
       "      <td>1971-01</td>\n",
       "      <td>0.133608</td>\n",
       "    </tr>\n",
       "    <tr>\n",
       "      <th>1</th>\n",
       "      <td>1971-02</td>\n",
       "      <td>0.133593</td>\n",
       "    </tr>\n",
       "    <tr>\n",
       "      <th>2</th>\n",
       "      <td>1971-03</td>\n",
       "      <td>0.133676</td>\n",
       "    </tr>\n",
       "    <tr>\n",
       "      <th>3</th>\n",
       "      <td>1971-04</td>\n",
       "      <td>0.133535</td>\n",
       "    </tr>\n",
       "    <tr>\n",
       "      <th>4</th>\n",
       "      <td>1971-05</td>\n",
       "      <td>0.133337</td>\n",
       "    </tr>\n",
       "  </tbody>\n",
       "</table>\n",
       "</div>"
      ],
      "text/plain": [
       "      Time  USD-DN Spot Exchange Rate\n",
       "0  1971-01                   0.133608\n",
       "1  1971-02                   0.133593\n",
       "2  1971-03                   0.133676\n",
       "3  1971-04                   0.133535\n",
       "4  1971-05                   0.133337"
      ]
     },
     "execution_count": 87,
     "metadata": {},
     "output_type": "execute_result"
    }
   ],
   "source": [
    "# US-DN exchange rate, U.S. Dollar to One Danish Krone (initially DN-US converted to US-DN, monthly non-seasonally adjusted, 1971-01, 2025-09)\n",
    "# https://fred.stlouisfed.org/series/EXDNUS\n",
    "EXDNUS_m_raw = fetch_FRED(\"EXDNUS\") \n",
    "EXDNUS_m_raw = EXDNUS_m_raw.rename(columns= \n",
    "        {\"date\": \"Time\", \n",
    "         \"EXDNUS\": \"DN-USD Spot Exchange Rate\"\n",
    "})\n",
    "\n",
    "EXDNUS_m_raw[\"Time\"] = EXDNUS_m_raw[\"Time\"].dt.to_period(\"M\").astype(str)\n",
    "\n",
    "# Conversion to USDN spot exchange rate \n",
    "EXUSDN_m_raw = EXDNUS_m_raw.copy()\n",
    "EXUSDN_m_raw[\"USD-DN Spot Exchange Rate\"] = 1 / EXUSDN_m_raw[\"DN-USD Spot Exchange Rate\"]\n",
    "EXUSDN_m_raw = EXUSDN_m_raw.drop(columns=[\"DN-USD Spot Exchange Rate\"])\n",
    "\n",
    "EXUSDN_m_raw.head()"
   ]
  },
  {
   "cell_type": "markdown",
   "id": "87024af9",
   "metadata": {},
   "source": [
    "#### **3.5) OTHERS-extracted indicators**"
   ]
  },
  {
   "cell_type": "code",
   "execution_count": null,
   "id": "ac63932e",
   "metadata": {},
   "outputs": [],
   "source": []
  },
  {
   "cell_type": "code",
   "execution_count": null,
   "id": "ce7c9584",
   "metadata": {},
   "outputs": [],
   "source": [
    "# Tariffs ratio"
   ]
  }
 ],
 "metadata": {
  "kernelspec": {
   "display_name": "base",
   "language": "python",
   "name": "python3"
  },
  "language_info": {
   "codemirror_mode": {
    "name": "ipython",
    "version": 3
   },
   "file_extension": ".py",
   "mimetype": "text/x-python",
   "name": "python",
   "nbconvert_exporter": "python",
   "pygments_lexer": "ipython3",
   "version": "3.12.4"
  }
 },
 "nbformat": 4,
 "nbformat_minor": 5
}
