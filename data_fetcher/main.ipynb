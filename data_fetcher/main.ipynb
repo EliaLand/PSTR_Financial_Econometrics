{
 "cells": [
  {
   "cell_type": "markdown",
   "id": "02b43a95",
   "metadata": {},
   "source": [
    "# **API & WEBHOOK-BASED DATA RETRIEVAL**"
   ]
  },
  {
   "cell_type": "markdown",
   "id": "3c636a87",
   "metadata": {},
   "source": [
    "### **1) REQUIREMENTS SETUP**"
   ]
  },
  {
   "cell_type": "code",
   "execution_count": 1,
   "id": "4ecc6c9a",
   "metadata": {},
   "outputs": [],
   "source": [
    "# !pip install -r requirements.txt"
   ]
  },
  {
   "cell_type": "code",
   "execution_count": 50,
   "id": "7cb394ac",
   "metadata": {},
   "outputs": [],
   "source": [
    "import warnings\n",
    "warnings.filterwarnings(\"ignore\")\n",
    "import os\n",
    "import pandas as pd\n",
    "import numpy as np"
   ]
  },
  {
   "cell_type": "markdown",
   "id": "c506530d",
   "metadata": {},
   "source": [
    "### **2) MODULES IMPORT**"
   ]
  },
  {
   "cell_type": "code",
   "execution_count": 3,
   "id": "d27670ad",
   "metadata": {},
   "outputs": [],
   "source": [
    "from FRED_module import fetch_FRED\n",
    "from EUROSTAT_module import fetch_EUROSTAT\n",
    "from WB_module import fetch_WB \n",
    "from YFINANCE_module import fetch_YFINANCE\n",
    "from DBNOMICS_module import fetch_DBNOMICS"
   ]
  },
  {
   "cell_type": "markdown",
   "id": "d7d2dd32",
   "metadata": {},
   "source": [
    "### **3) DATA FETCHING**"
   ]
  },
  {
   "cell_type": "markdown",
   "id": "27ef5590",
   "metadata": {},
   "source": [
    "#### **3.1) EUROSTAT-extracted indicators**"
   ]
  },
  {
   "cell_type": "code",
   "execution_count": 4,
   "id": "f3d7d3b6",
   "metadata": {},
   "outputs": [],
   "source": [
    "# Export to the US by EU member state (monthly, total, millions of EUR)\n",
    "# EU27 (from 2020) trade by SITC product group (Trade value in million ECU/EURO, Standard International Trade Classification (SITC Rev. 4, 2006): Total - all products)\n",
    "# https://ec.europa.eu/eurostat/databrowser/view/ds-059331/legacyMultiFreq/table?lang=en \n",
    "\n",
    "# data before 2025 before tariffs\n",
    "# EURO_expus_m_raw = "
   ]
  },
  {
   "cell_type": "code",
   "execution_count": 5,
   "id": "7513e0c6",
   "metadata": {},
   "outputs": [
    {
     "data": {
      "application/vnd.microsoft.datawrangler.viewer.v0+json": {
       "columns": [
        {
         "name": "index",
         "rawType": "int64",
         "type": "integer"
        },
        {
         "name": "Country",
         "rawType": "object",
         "type": "string"
        },
        {
         "name": "Time",
         "rawType": "object",
         "type": "string"
        },
        {
         "name": "Indprod Index (I21)",
         "rawType": "float64",
         "type": "float"
        }
       ],
       "ref": "79719346-8890-4193-8e5f-579d52ad93b0",
       "rows": [
        [
         "8971",
         "SK",
         "2025-04",
         "102.5"
        ],
        [
         "8972",
         "SK",
         "2025-05",
         "101.8"
        ],
        [
         "8973",
         "SK",
         "2025-06",
         "100.2"
        ],
        [
         "8974",
         "SK",
         "2025-07",
         "87.7"
        ],
        [
         "8975",
         "SK",
         "2025-08",
         "86.4"
        ]
       ],
       "shape": {
        "columns": 3,
        "rows": 5
       }
      },
      "text/html": [
       "<div>\n",
       "<style scoped>\n",
       "    .dataframe tbody tr th:only-of-type {\n",
       "        vertical-align: middle;\n",
       "    }\n",
       "\n",
       "    .dataframe tbody tr th {\n",
       "        vertical-align: top;\n",
       "    }\n",
       "\n",
       "    .dataframe thead th {\n",
       "        text-align: right;\n",
       "    }\n",
       "</style>\n",
       "<table border=\"1\" class=\"dataframe\">\n",
       "  <thead>\n",
       "    <tr style=\"text-align: right;\">\n",
       "      <th></th>\n",
       "      <th>Country</th>\n",
       "      <th>Time</th>\n",
       "      <th>Indprod Index (I21)</th>\n",
       "    </tr>\n",
       "  </thead>\n",
       "  <tbody>\n",
       "    <tr>\n",
       "      <th>8971</th>\n",
       "      <td>SK</td>\n",
       "      <td>2025-04</td>\n",
       "      <td>102.5</td>\n",
       "    </tr>\n",
       "    <tr>\n",
       "      <th>8972</th>\n",
       "      <td>SK</td>\n",
       "      <td>2025-05</td>\n",
       "      <td>101.8</td>\n",
       "    </tr>\n",
       "    <tr>\n",
       "      <th>8973</th>\n",
       "      <td>SK</td>\n",
       "      <td>2025-06</td>\n",
       "      <td>100.2</td>\n",
       "    </tr>\n",
       "    <tr>\n",
       "      <th>8974</th>\n",
       "      <td>SK</td>\n",
       "      <td>2025-07</td>\n",
       "      <td>87.7</td>\n",
       "    </tr>\n",
       "    <tr>\n",
       "      <th>8975</th>\n",
       "      <td>SK</td>\n",
       "      <td>2025-08</td>\n",
       "      <td>86.4</td>\n",
       "    </tr>\n",
       "  </tbody>\n",
       "</table>\n",
       "</div>"
      ],
      "text/plain": [
       "     Country     Time  Indprod Index (I21)\n",
       "8971      SK  2025-04                102.5\n",
       "8972      SK  2025-05                101.8\n",
       "8973      SK  2025-06                100.2\n",
       "8974      SK  2025-07                 87.7\n",
       "8975      SK  2025-08                 86.4"
      ]
     },
     "execution_count": 5,
     "metadata": {},
     "output_type": "execute_result"
    }
   ],
   "source": [
    "# Industrial Production by EU member state (monthly, total manufacturing, Index: 2021=100, non-seasonally adjusted, 1996-01, 2025-08)\n",
    "# https://ec.europa.eu/eurostat/databrowser/view/sts_inpr_m/default/table?lang=en\n",
    "EURO_indprod_m_raw = fetch_EUROSTAT(\n",
    "    \"sts_inpr_m\",\n",
    "    filters = {\n",
    "    \"geo\": [\"EU27_2020\", \"EU28\", \"EA20\", \"EA19\",  \n",
    "    \"BE\", \"BG\", \"CZ\", \"DK\", \"DE\", \"EE\", \"IE\", \"EL\", \"ES\", \"FR\",\n",
    "    \"HR\", \"IT\", \"CY\", \"LV\", \"LT\", \"LU\", \"HU\", \"MT\", \"NL\", \"AT\",\n",
    "    \"PL\", \"PT\", \"RO\", \"SI\", \"SK\", \"FI\", \"SE\"],\n",
    "    \"s_adj\": \"NSA\",\n",
    "    \"unit\": \"I21\",\n",
    "    \"nace_r2\": \"C\"\n",
    "    }\n",
    ")\n",
    "\n",
    "EURO_indprod_m_raw = EURO_indprod_m_raw[[ \"geo\", \"time\", \"value\" ]]\n",
    "EURO_indprod_m_raw = EURO_indprod_m_raw.rename(columns={\n",
    "    \"geo\": \"Country\",\n",
    "    \"time\": \"Time\",\n",
    "    \"value\": \"Indprod Index (I21)\"\n",
    "})\n",
    "\n",
    "EURO_indprod_m_raw.tail()"
   ]
  },
  {
   "cell_type": "code",
   "execution_count": 6,
   "id": "426de587",
   "metadata": {},
   "outputs": [
    {
     "data": {
      "application/vnd.microsoft.datawrangler.viewer.v0+json": {
       "columns": [
        {
         "name": "index",
         "rawType": "int64",
         "type": "integer"
        },
        {
         "name": "Country",
         "rawType": "object",
         "type": "string"
        },
        {
         "name": "Time",
         "rawType": "object",
         "type": "string"
        },
        {
         "name": "Unemployment Rate (%pop in LF)",
         "rawType": "float64",
         "type": "float"
        }
       ],
       "ref": "c1dcd9d6-c17f-4584-8e21-162c8fa756ac",
       "rows": [
        [
         "98345",
         "SK",
         "2025-04",
         "13.9"
        ],
        [
         "98346",
         "SK",
         "2025-05",
         "14.3"
        ],
        [
         "98347",
         "SK",
         "2025-06",
         "15.4"
        ],
        [
         "98348",
         "SK",
         "2025-07",
         "15.9"
        ],
        [
         "98349",
         "SK",
         "2025-08",
         "15.8"
        ]
       ],
       "shape": {
        "columns": 3,
        "rows": 5
       }
      },
      "text/html": [
       "<div>\n",
       "<style scoped>\n",
       "    .dataframe tbody tr th:only-of-type {\n",
       "        vertical-align: middle;\n",
       "    }\n",
       "\n",
       "    .dataframe tbody tr th {\n",
       "        vertical-align: top;\n",
       "    }\n",
       "\n",
       "    .dataframe thead th {\n",
       "        text-align: right;\n",
       "    }\n",
       "</style>\n",
       "<table border=\"1\" class=\"dataframe\">\n",
       "  <thead>\n",
       "    <tr style=\"text-align: right;\">\n",
       "      <th></th>\n",
       "      <th>Country</th>\n",
       "      <th>Time</th>\n",
       "      <th>Unemployment Rate (%pop in LF)</th>\n",
       "    </tr>\n",
       "  </thead>\n",
       "  <tbody>\n",
       "    <tr>\n",
       "      <th>98345</th>\n",
       "      <td>SK</td>\n",
       "      <td>2025-04</td>\n",
       "      <td>13.9</td>\n",
       "    </tr>\n",
       "    <tr>\n",
       "      <th>98346</th>\n",
       "      <td>SK</td>\n",
       "      <td>2025-05</td>\n",
       "      <td>14.3</td>\n",
       "    </tr>\n",
       "    <tr>\n",
       "      <th>98347</th>\n",
       "      <td>SK</td>\n",
       "      <td>2025-06</td>\n",
       "      <td>15.4</td>\n",
       "    </tr>\n",
       "    <tr>\n",
       "      <th>98348</th>\n",
       "      <td>SK</td>\n",
       "      <td>2025-07</td>\n",
       "      <td>15.9</td>\n",
       "    </tr>\n",
       "    <tr>\n",
       "      <th>98349</th>\n",
       "      <td>SK</td>\n",
       "      <td>2025-08</td>\n",
       "      <td>15.8</td>\n",
       "    </tr>\n",
       "  </tbody>\n",
       "</table>\n",
       "</div>"
      ],
      "text/plain": [
       "      Country     Time  Unemployment Rate (%pop in LF)\n",
       "98345      SK  2025-04                            13.9\n",
       "98346      SK  2025-05                            14.3\n",
       "98347      SK  2025-06                            15.4\n",
       "98348      SK  2025-07                            15.9\n",
       "98349      SK  2025-08                            15.8"
      ]
     },
     "execution_count": 6,
     "metadata": {},
     "output_type": "execute_result"
    }
   ],
   "source": [
    "# Unemployment rate by EU member state (monthly, Percentage of population in the labour force (age-class = total, sex-class=total), non-seasonally adjusted, 1994-01 (varying), 2025-08)\n",
    "# https://ec.europa.eu/eurostat/databrowser/view/une_rt_m/default/table?lang=en\n",
    "EURO_unem_m_raw = fetch_EUROSTAT(\n",
    "    \"une_rt_m\",\n",
    "    filters = {\n",
    "    \"geo\": [\"EU27_2020\", \"EU28\", \"EA20\", \"EA19\",  \n",
    "    \"BE\", \"BG\", \"CZ\", \"DK\", \"DE\", \"EE\", \"IE\", \"EL\", \"ES\", \"FR\",\n",
    "    \"HR\", \"IT\", \"CY\", \"LV\", \"LT\", \"LU\", \"HU\", \"MT\", \"NL\", \"AT\",\n",
    "    \"PL\", \"PT\", \"RO\", \"SI\", \"SK\", \"FI\", \"SE\"],\n",
    "    \"s_adj\": \"NSA\",\n",
    "    \"unit\": \"PC_ACT\"\n",
    "    }\n",
    ")\n",
    "\n",
    "EURO_unem_m_raw = EURO_unem_m_raw[[ \"geo\", \"time\", \"value\" ]]\n",
    "EURO_unem_m_raw = EURO_unem_m_raw.rename(columns={\n",
    "    \"geo\": \"Country\",\n",
    "    \"time\": \"Time\",\n",
    "    \"value\": \"Unemployment Rate (%pop in LF)\"\n",
    "})\n",
    "\n",
    "EURO_unem_m_raw.tail()"
   ]
  },
  {
   "cell_type": "code",
   "execution_count": null,
   "id": "80debdbc",
   "metadata": {},
   "outputs": [],
   "source": [
    "# GDP"
   ]
  },
  {
   "cell_type": "code",
   "execution_count": null,
   "id": "33618a0a",
   "metadata": {},
   "outputs": [],
   "source": [
    "# Inflation"
   ]
  },
  {
   "cell_type": "markdown",
   "id": "d0b2bf0f",
   "metadata": {},
   "source": [
    "#### **3.2) FRED-extracted indicators**"
   ]
  },
  {
   "cell_type": "code",
   "execution_count": 8,
   "id": "8484c749",
   "metadata": {},
   "outputs": [
    {
     "data": {
      "application/vnd.microsoft.datawrangler.viewer.v0+json": {
       "columns": [
        {
         "name": "index",
         "rawType": "int64",
         "type": "integer"
        },
        {
         "name": "Time",
         "rawType": "object",
         "type": "string"
        },
        {
         "name": "USD-EUR Spot Exchange Rate",
         "rawType": "float64",
         "type": "float"
        }
       ],
       "ref": "fe934889-b226-4257-9820-745d5796badc",
       "rows": [
        [
         "317",
         "2025-06",
         "1.153365"
        ],
        [
         "318",
         "2025-07",
         "1.1670818181818183"
        ],
        [
         "319",
         "2025-08",
         "1.1647476190476191"
        ],
        [
         "320",
         "2025-09",
         "1.1738714285714285"
        ],
        [
         "321",
         "2025-10",
         "1.1648941176470589"
        ]
       ],
       "shape": {
        "columns": 2,
        "rows": 5
       }
      },
      "text/html": [
       "<div>\n",
       "<style scoped>\n",
       "    .dataframe tbody tr th:only-of-type {\n",
       "        vertical-align: middle;\n",
       "    }\n",
       "\n",
       "    .dataframe tbody tr th {\n",
       "        vertical-align: top;\n",
       "    }\n",
       "\n",
       "    .dataframe thead th {\n",
       "        text-align: right;\n",
       "    }\n",
       "</style>\n",
       "<table border=\"1\" class=\"dataframe\">\n",
       "  <thead>\n",
       "    <tr style=\"text-align: right;\">\n",
       "      <th></th>\n",
       "      <th>Time</th>\n",
       "      <th>USD-EUR Spot Exchange Rate</th>\n",
       "    </tr>\n",
       "  </thead>\n",
       "  <tbody>\n",
       "    <tr>\n",
       "      <th>317</th>\n",
       "      <td>2025-06</td>\n",
       "      <td>1.153365</td>\n",
       "    </tr>\n",
       "    <tr>\n",
       "      <th>318</th>\n",
       "      <td>2025-07</td>\n",
       "      <td>1.167082</td>\n",
       "    </tr>\n",
       "    <tr>\n",
       "      <th>319</th>\n",
       "      <td>2025-08</td>\n",
       "      <td>1.164748</td>\n",
       "    </tr>\n",
       "    <tr>\n",
       "      <th>320</th>\n",
       "      <td>2025-09</td>\n",
       "      <td>1.173871</td>\n",
       "    </tr>\n",
       "    <tr>\n",
       "      <th>321</th>\n",
       "      <td>2025-10</td>\n",
       "      <td>1.164894</td>\n",
       "    </tr>\n",
       "  </tbody>\n",
       "</table>\n",
       "</div>"
      ],
      "text/plain": [
       "        Time  USD-EUR Spot Exchange Rate\n",
       "317  2025-06                    1.153365\n",
       "318  2025-07                    1.167082\n",
       "319  2025-08                    1.164748\n",
       "320  2025-09                    1.173871\n",
       "321  2025-10                    1.164894"
      ]
     },
     "execution_count": 8,
     "metadata": {},
     "output_type": "execute_result"
    }
   ],
   "source": [
    "# US-EUR exchange rate, U.S. Dollars to One Euro (initially daily, converted to monthly, non-seasonally adjusted, 1999-01, 2025-10)\n",
    "# https://fred.stlouisfed.org/series/DEXUSEU\n",
    "EXUSEU_d_raw = fetch_FRED(\"DEXUSEU\") \n",
    "EXUSEU_d_raw = EXUSEU_d_raw.rename(columns= \n",
    "        {\"date\": \"Time\", \n",
    "         \"DEXUSEU\": \"USD-EUR Spot Exchange Rate\"\n",
    "})\n",
    "\n",
    "# Aggregation (dimension from daily to monthly)\n",
    "EXUSEU_d_raw = EXUSEU_d_raw.set_index(\"Time\")\n",
    "EXUSEU_m_raw = EXUSEU_d_raw.resample(\"M\").mean().reset_index()\n",
    "EXUSEU_m_raw[\"Time\"] = EXUSEU_m_raw[\"Time\"].dt.to_period(\"M\").astype(str)\n",
    "\n",
    "EXUSEU_m_raw.tail()"
   ]
  },
  {
   "cell_type": "code",
   "execution_count": 36,
   "id": "a6c3abe4",
   "metadata": {},
   "outputs": [
    {
     "data": {
      "application/vnd.microsoft.datawrangler.viewer.v0+json": {
       "columns": [
        {
         "name": "index",
         "rawType": "int64",
         "type": "integer"
        },
        {
         "name": "Country",
         "rawType": "object",
         "type": "string"
        },
        {
         "name": "Time",
         "rawType": "object",
         "type": "string"
        },
        {
         "name": "USD-BGN Spot Exchange Rate",
         "rawType": "float64",
         "type": "float"
        }
       ],
       "ref": "5a6657d7-4fc9-44ab-95fb-5077d6b6f476",
       "rows": [
        [
         "769",
         "BG",
         "2021-02",
         "1.6167"
        ],
        [
         "770",
         "BG",
         "2021-03",
         "1.6447"
        ],
        [
         "771",
         "BG",
         "2021-04",
         "1.6366"
        ],
        [
         "772",
         "BG",
         "2021-05",
         "1.6084"
        ],
        [
         "773",
         "BG",
         "2021-06",
         "1.6237"
        ]
       ],
       "shape": {
        "columns": 3,
        "rows": 5
       }
      },
      "text/html": [
       "<div>\n",
       "<style scoped>\n",
       "    .dataframe tbody tr th:only-of-type {\n",
       "        vertical-align: middle;\n",
       "    }\n",
       "\n",
       "    .dataframe tbody tr th {\n",
       "        vertical-align: top;\n",
       "    }\n",
       "\n",
       "    .dataframe thead th {\n",
       "        text-align: right;\n",
       "    }\n",
       "</style>\n",
       "<table border=\"1\" class=\"dataframe\">\n",
       "  <thead>\n",
       "    <tr style=\"text-align: right;\">\n",
       "      <th></th>\n",
       "      <th>Country</th>\n",
       "      <th>Time</th>\n",
       "      <th>USD-BGN Spot Exchange Rate</th>\n",
       "    </tr>\n",
       "  </thead>\n",
       "  <tbody>\n",
       "    <tr>\n",
       "      <th>769</th>\n",
       "      <td>BG</td>\n",
       "      <td>2021-02</td>\n",
       "      <td>1.6167</td>\n",
       "    </tr>\n",
       "    <tr>\n",
       "      <th>770</th>\n",
       "      <td>BG</td>\n",
       "      <td>2021-03</td>\n",
       "      <td>1.6447</td>\n",
       "    </tr>\n",
       "    <tr>\n",
       "      <th>771</th>\n",
       "      <td>BG</td>\n",
       "      <td>2021-04</td>\n",
       "      <td>1.6366</td>\n",
       "    </tr>\n",
       "    <tr>\n",
       "      <th>772</th>\n",
       "      <td>BG</td>\n",
       "      <td>2021-05</td>\n",
       "      <td>1.6084</td>\n",
       "    </tr>\n",
       "    <tr>\n",
       "      <th>773</th>\n",
       "      <td>BG</td>\n",
       "      <td>2021-06</td>\n",
       "      <td>1.6237</td>\n",
       "    </tr>\n",
       "  </tbody>\n",
       "</table>\n",
       "</div>"
      ],
      "text/plain": [
       "    Country     Time  USD-BGN Spot Exchange Rate\n",
       "769      BG  2021-02                      1.6167\n",
       "770      BG  2021-03                      1.6447\n",
       "771      BG  2021-04                      1.6366\n",
       "772      BG  2021-05                      1.6084\n",
       "773      BG  2021-06                      1.6237"
      ]
     },
     "execution_count": 36,
     "metadata": {},
     "output_type": "execute_result"
    }
   ],
   "source": [
    "# US-BGN exchange rate, U.S. Dollars to One Bulgarian Lev (monthly, non-seasonally adjusted, 1960-01, 2021-06)\n",
    "# https://fred.stlouisfed.org/series/BGRCCUSMA02STM\n",
    "\n",
    "EXUSBGN_m_raw = fetch_FRED(\"BGRCCUSMA02STM\") \n",
    "EXUSBGN_m_raw = EXUSBGN_m_raw.rename(columns= \n",
    "        {\"date\": \"Time\", \n",
    "         \"BGRCCUSMA02STM\": \"USD-BGN Spot Exchange Rate\"\n",
    "})\n",
    "\n",
    "EXUSBGN_m_raw[\"Time\"] = EXUSBGN_m_raw[\"Time\"].dt.to_period(\"M\").astype(str)\n",
    "\n",
    "EXUSBGN_m_raw[\"Country\"] = \"BG\"\n",
    "EXUSBGN_m_raw = EXUSBGN_m_raw[[\"Country\", \"Time\", \"USD-BGN Spot Exchange Rate\"]]\n",
    "\n",
    "EXUSBGN_m_raw.tail()"
   ]
  },
  {
   "cell_type": "code",
   "execution_count": 35,
   "id": "1f6f01ce",
   "metadata": {},
   "outputs": [
    {
     "data": {
      "application/vnd.microsoft.datawrangler.viewer.v0+json": {
       "columns": [
        {
         "name": "index",
         "rawType": "int64",
         "type": "integer"
        },
        {
         "name": "Country",
         "rawType": "object",
         "type": "string"
        },
        {
         "name": "Time",
         "rawType": "object",
         "type": "string"
        },
        {
         "name": "USD-SKK Spot Exchange Rate",
         "rawType": "float64",
         "type": "float"
        }
       ],
       "ref": "f49656b2-8d2e-4b87-bbb6-a5402f9a108e",
       "rows": [
        [
         "653",
         "SE",
         "2025-06",
         "0.10473183675029679"
        ],
        [
         "654",
         "SE",
         "2025-07",
         "0.10419384981593209"
        ],
        [
         "655",
         "SE",
         "2025-08",
         "0.10441221145561064"
        ],
        [
         "656",
         "SE",
         "2025-09",
         "0.10669300459694432"
        ],
        [
         "657",
         "SE",
         "2025-10",
         "0.10603600608521925"
        ]
       ],
       "shape": {
        "columns": 3,
        "rows": 5
       }
      },
      "text/html": [
       "<div>\n",
       "<style scoped>\n",
       "    .dataframe tbody tr th:only-of-type {\n",
       "        vertical-align: middle;\n",
       "    }\n",
       "\n",
       "    .dataframe tbody tr th {\n",
       "        vertical-align: top;\n",
       "    }\n",
       "\n",
       "    .dataframe thead th {\n",
       "        text-align: right;\n",
       "    }\n",
       "</style>\n",
       "<table border=\"1\" class=\"dataframe\">\n",
       "  <thead>\n",
       "    <tr style=\"text-align: right;\">\n",
       "      <th></th>\n",
       "      <th>Country</th>\n",
       "      <th>Time</th>\n",
       "      <th>USD-SKK Spot Exchange Rate</th>\n",
       "    </tr>\n",
       "  </thead>\n",
       "  <tbody>\n",
       "    <tr>\n",
       "      <th>653</th>\n",
       "      <td>SE</td>\n",
       "      <td>2025-06</td>\n",
       "      <td>0.104732</td>\n",
       "    </tr>\n",
       "    <tr>\n",
       "      <th>654</th>\n",
       "      <td>SE</td>\n",
       "      <td>2025-07</td>\n",
       "      <td>0.104194</td>\n",
       "    </tr>\n",
       "    <tr>\n",
       "      <th>655</th>\n",
       "      <td>SE</td>\n",
       "      <td>2025-08</td>\n",
       "      <td>0.104412</td>\n",
       "    </tr>\n",
       "    <tr>\n",
       "      <th>656</th>\n",
       "      <td>SE</td>\n",
       "      <td>2025-09</td>\n",
       "      <td>0.106693</td>\n",
       "    </tr>\n",
       "    <tr>\n",
       "      <th>657</th>\n",
       "      <td>SE</td>\n",
       "      <td>2025-10</td>\n",
       "      <td>0.106036</td>\n",
       "    </tr>\n",
       "  </tbody>\n",
       "</table>\n",
       "</div>"
      ],
      "text/plain": [
       "    Country     Time  USD-SKK Spot Exchange Rate\n",
       "653      SE  2025-06                    0.104732\n",
       "654      SE  2025-07                    0.104194\n",
       "655      SE  2025-08                    0.104412\n",
       "656      SE  2025-09                    0.106693\n",
       "657      SE  2025-10                    0.106036"
      ]
     },
     "execution_count": 35,
     "metadata": {},
     "output_type": "execute_result"
    }
   ],
   "source": [
    "# US-SKK exchange rate, U.S. Dollar to One Swedish Kronor (initially SKK-US daily, converted to US-SKK monthly, non-seasonally adjusted, 1971-01, 2025-10)\n",
    "# https://fred.stlouisfed.org/series/DEXSDUS\n",
    "EXSKKUS_d_raw = fetch_FRED(\"DEXSDUS\") \n",
    "EXSKKUS_d_raw = EXSKKUS_d_raw.rename(columns= \n",
    "        {\"date\": \"Time\", \n",
    "         \"DEXSDUS\": \"SKK-USD Spot Exchange Rate\"\n",
    "})\n",
    "\n",
    "# Aggregation (dimension from daily to monthly)\n",
    "EXSKKUS_d_raw = EXSKKUS_d_raw.set_index(\"Time\")\n",
    "EXSKKUS_m_raw = EXSKKUS_d_raw.resample(\"M\").mean().reset_index()\n",
    "EXSKKUS_m_raw[\"Time\"] = EXSKKUS_m_raw[\"Time\"].dt.to_period(\"M\").astype(str)\n",
    "\n",
    "# Conversion to USXS spot exchange rate \n",
    "EXUSSKK_m_raw = EXSKKUS_m_raw.copy()\n",
    "EXUSSKK_m_raw[\"USD-SKK Spot Exchange Rate\"] = 1 / EXUSSKK_m_raw[\"SKK-USD Spot Exchange Rate\"]\n",
    "EXUSSKK_m_raw = EXUSSKK_m_raw.drop(columns=[\"SKK-USD Spot Exchange Rate\"])\n",
    "\n",
    "EXUSSKK_m_raw[\"Country\"] = \"SE\"\n",
    "EXUSSKK_m_raw = EXUSSKK_m_raw[[\"Country\", \"Time\", \"USD-SKK Spot Exchange Rate\"]]\n",
    "\n",
    "EXUSSKK_m_raw.tail()"
   ]
  },
  {
   "cell_type": "code",
   "execution_count": 34,
   "id": "97658bf4",
   "metadata": {},
   "outputs": [
    {
     "data": {
      "application/vnd.microsoft.datawrangler.viewer.v0+json": {
       "columns": [
        {
         "name": "index",
         "rawType": "int64",
         "type": "integer"
        },
        {
         "name": "Country",
         "rawType": "object",
         "type": "string"
        },
        {
         "name": "Time",
         "rawType": "object",
         "type": "string"
        },
        {
         "name": "USD-DKK Spot Exchange Rate",
         "rawType": "float64",
         "type": "float"
        }
       ],
       "ref": "b2fcbd3d-6f5d-49a9-84da-e421f16ef27f",
       "rows": [
        [
         "652",
         "DK",
         "2025-05",
         "0.15110990223189324"
        ],
        [
         "653",
         "DK",
         "2025-06",
         "0.15460729746444032"
        ],
        [
         "654",
         "DK",
         "2025-07",
         "0.1563868384836732"
        ],
        [
         "655",
         "DK",
         "2025-08",
         "0.15605736668799453"
        ],
        [
         "656",
         "DK",
         "2025-09",
         "0.15725743041358703"
        ]
       ],
       "shape": {
        "columns": 3,
        "rows": 5
       }
      },
      "text/html": [
       "<div>\n",
       "<style scoped>\n",
       "    .dataframe tbody tr th:only-of-type {\n",
       "        vertical-align: middle;\n",
       "    }\n",
       "\n",
       "    .dataframe tbody tr th {\n",
       "        vertical-align: top;\n",
       "    }\n",
       "\n",
       "    .dataframe thead th {\n",
       "        text-align: right;\n",
       "    }\n",
       "</style>\n",
       "<table border=\"1\" class=\"dataframe\">\n",
       "  <thead>\n",
       "    <tr style=\"text-align: right;\">\n",
       "      <th></th>\n",
       "      <th>Country</th>\n",
       "      <th>Time</th>\n",
       "      <th>USD-DKK Spot Exchange Rate</th>\n",
       "    </tr>\n",
       "  </thead>\n",
       "  <tbody>\n",
       "    <tr>\n",
       "      <th>652</th>\n",
       "      <td>DK</td>\n",
       "      <td>2025-05</td>\n",
       "      <td>0.151110</td>\n",
       "    </tr>\n",
       "    <tr>\n",
       "      <th>653</th>\n",
       "      <td>DK</td>\n",
       "      <td>2025-06</td>\n",
       "      <td>0.154607</td>\n",
       "    </tr>\n",
       "    <tr>\n",
       "      <th>654</th>\n",
       "      <td>DK</td>\n",
       "      <td>2025-07</td>\n",
       "      <td>0.156387</td>\n",
       "    </tr>\n",
       "    <tr>\n",
       "      <th>655</th>\n",
       "      <td>DK</td>\n",
       "      <td>2025-08</td>\n",
       "      <td>0.156057</td>\n",
       "    </tr>\n",
       "    <tr>\n",
       "      <th>656</th>\n",
       "      <td>DK</td>\n",
       "      <td>2025-09</td>\n",
       "      <td>0.157257</td>\n",
       "    </tr>\n",
       "  </tbody>\n",
       "</table>\n",
       "</div>"
      ],
      "text/plain": [
       "    Country     Time  USD-DKK Spot Exchange Rate\n",
       "652      DK  2025-05                    0.151110\n",
       "653      DK  2025-06                    0.154607\n",
       "654      DK  2025-07                    0.156387\n",
       "655      DK  2025-08                    0.156057\n",
       "656      DK  2025-09                    0.157257"
      ]
     },
     "execution_count": 34,
     "metadata": {},
     "output_type": "execute_result"
    }
   ],
   "source": [
    "# US-DKK exchange rate, U.S. Dollar to One Danish Krone (initially DN-US converted to US-DN, monthly non-seasonally adjusted, 1971-01, 2025-09)\n",
    "# https://fred.stlouisfed.org/series/EXDNUS\n",
    "EXDKKUS_m_raw = fetch_FRED(\"EXDNUS\") \n",
    "EXDKKUS_m_raw = EXDKKUS_m_raw.rename(columns= \n",
    "        {\"date\": \"Time\", \n",
    "         \"EXDNUS\": \"DKK-USD Spot Exchange Rate\"\n",
    "})\n",
    "\n",
    "EXDKKUS_m_raw[\"Time\"] = EXDKKUS_m_raw[\"Time\"].dt.to_period(\"M\").astype(str)\n",
    "\n",
    "# Conversion to USDN spot exchange rate \n",
    "EXUSDKK_m_raw = EXDKKUS_m_raw.copy()\n",
    "EXUSDKK_m_raw[\"USD-DKK Spot Exchange Rate\"] = 1 / EXUSDKK_m_raw[\"DKK-USD Spot Exchange Rate\"]\n",
    "EXUSDKK_m_raw = EXUSDKK_m_raw.drop(columns=[\"DKK-USD Spot Exchange Rate\"])\n",
    "\n",
    "EXUSDKK_m_raw[\"Country\"] = \"DK\"\n",
    "EXUSDKK_m_raw = EXUSDKK_m_raw[[\"Country\", \"Time\", \"USD-DKK Spot Exchange Rate\"]]\n",
    "\n",
    "EXUSDKK_m_raw.tail()"
   ]
  },
  {
   "cell_type": "code",
   "execution_count": 33,
   "id": "3ee54eb7",
   "metadata": {},
   "outputs": [
    {
     "data": {
      "application/vnd.microsoft.datawrangler.viewer.v0+json": {
       "columns": [
        {
         "name": "index",
         "rawType": "int64",
         "type": "integer"
        },
        {
         "name": "Country",
         "rawType": "object",
         "type": "string"
        },
        {
         "name": "Time",
         "rawType": "object",
         "type": "string"
        },
        {
         "name": "USD-CZK Spot Exchange Rate",
         "rawType": "float64",
         "type": "float"
        }
       ],
       "ref": "b60ab0c4-417c-46df-91e5-7d5556d6c909",
       "rows": [
        [
         "412",
         "CZ",
         "2025-05",
         "22.0833181818182"
        ],
        [
         "413",
         "CZ",
         "2025-06",
         "21.539476190476197"
        ],
        [
         "414",
         "CZ",
         "2025-07",
         "21.0877391304348"
        ],
        [
         "415",
         "CZ",
         "2025-08",
         "21.0794761904762"
        ],
        [
         "416",
         "CZ",
         "2025-09",
         "20.7528181818182"
        ]
       ],
       "shape": {
        "columns": 3,
        "rows": 5
       }
      },
      "text/html": [
       "<div>\n",
       "<style scoped>\n",
       "    .dataframe tbody tr th:only-of-type {\n",
       "        vertical-align: middle;\n",
       "    }\n",
       "\n",
       "    .dataframe tbody tr th {\n",
       "        vertical-align: top;\n",
       "    }\n",
       "\n",
       "    .dataframe thead th {\n",
       "        text-align: right;\n",
       "    }\n",
       "</style>\n",
       "<table border=\"1\" class=\"dataframe\">\n",
       "  <thead>\n",
       "    <tr style=\"text-align: right;\">\n",
       "      <th></th>\n",
       "      <th>Country</th>\n",
       "      <th>Time</th>\n",
       "      <th>USD-CZK Spot Exchange Rate</th>\n",
       "    </tr>\n",
       "  </thead>\n",
       "  <tbody>\n",
       "    <tr>\n",
       "      <th>412</th>\n",
       "      <td>CZ</td>\n",
       "      <td>2025-05</td>\n",
       "      <td>22.083318</td>\n",
       "    </tr>\n",
       "    <tr>\n",
       "      <th>413</th>\n",
       "      <td>CZ</td>\n",
       "      <td>2025-06</td>\n",
       "      <td>21.539476</td>\n",
       "    </tr>\n",
       "    <tr>\n",
       "      <th>414</th>\n",
       "      <td>CZ</td>\n",
       "      <td>2025-07</td>\n",
       "      <td>21.087739</td>\n",
       "    </tr>\n",
       "    <tr>\n",
       "      <th>415</th>\n",
       "      <td>CZ</td>\n",
       "      <td>2025-08</td>\n",
       "      <td>21.079476</td>\n",
       "    </tr>\n",
       "    <tr>\n",
       "      <th>416</th>\n",
       "      <td>CZ</td>\n",
       "      <td>2025-09</td>\n",
       "      <td>20.752818</td>\n",
       "    </tr>\n",
       "  </tbody>\n",
       "</table>\n",
       "</div>"
      ],
      "text/plain": [
       "    Country     Time  USD-CZK Spot Exchange Rate\n",
       "412      CZ  2025-05                   22.083318\n",
       "413      CZ  2025-06                   21.539476\n",
       "414      CZ  2025-07                   21.087739\n",
       "415      CZ  2025-08                   21.079476\n",
       "416      CZ  2025-09                   20.752818"
      ]
     },
     "execution_count": 33,
     "metadata": {},
     "output_type": "execute_result"
    }
   ],
   "source": [
    "# US-CZK exchange rate, U.S. Dollar to One Czech koruna (monthly non-seasonally adjusted, 1991-01, 2025-09)\n",
    "# https://fred.stlouisfed.org/series/CCUSMA02CZM618N \n",
    "EXUSCZK_m_raw = fetch_FRED(\"CCUSMA02CZM618N\") \n",
    "EXUSCZK_m_raw = EXUSCZK_m_raw.rename(columns= \n",
    "        {\"date\": \"Time\", \n",
    "         \"CCUSMA02CZM618N\": \"USD-CZK Spot Exchange Rate\"\n",
    "})\n",
    "\n",
    "EXUSCZK_m_raw[\"Time\"] = EXUSCZK_m_raw[\"Time\"].dt.to_period(\"M\").astype(str)\n",
    "EXUSCZK_m_raw[\"Country\"] = \"CZ\"\n",
    "EXUSCZK_m_raw = EXUSCZK_m_raw[[\"Country\", \"Time\", \"USD-CZK Spot Exchange Rate\"]]\n",
    "\n",
    "EXUSCZK_m_raw.tail()"
   ]
  },
  {
   "cell_type": "code",
   "execution_count": 32,
   "id": "ff71dd33",
   "metadata": {},
   "outputs": [
    {
     "data": {
      "application/vnd.microsoft.datawrangler.viewer.v0+json": {
       "columns": [
        {
         "name": "index",
         "rawType": "int64",
         "type": "integer"
        },
        {
         "name": "Country",
         "rawType": "object",
         "type": "string"
        },
        {
         "name": "Time",
         "rawType": "object",
         "type": "string"
        },
        {
         "name": "USD-HUF Spot Exchange Rate",
         "rawType": "float64",
         "type": "float"
        }
       ],
       "ref": "35951281-4eed-4e65-8456-5bcdb4a859df",
       "rows": [
        [
         "688",
         "HU",
         "2025-05",
         "357.90590909090895"
        ],
        [
         "689",
         "HU",
         "2025-06",
         "349.176666666667"
        ],
        [
         "690",
         "HU",
         "2025-07",
         "341.577391304348"
        ],
        [
         "691",
         "HU",
         "2025-08",
         "340.91190476190496"
        ],
        [
         "692",
         "HU",
         "2025-09",
         "333.840909090909"
        ]
       ],
       "shape": {
        "columns": 3,
        "rows": 5
       }
      },
      "text/html": [
       "<div>\n",
       "<style scoped>\n",
       "    .dataframe tbody tr th:only-of-type {\n",
       "        vertical-align: middle;\n",
       "    }\n",
       "\n",
       "    .dataframe tbody tr th {\n",
       "        vertical-align: top;\n",
       "    }\n",
       "\n",
       "    .dataframe thead th {\n",
       "        text-align: right;\n",
       "    }\n",
       "</style>\n",
       "<table border=\"1\" class=\"dataframe\">\n",
       "  <thead>\n",
       "    <tr style=\"text-align: right;\">\n",
       "      <th></th>\n",
       "      <th>Country</th>\n",
       "      <th>Time</th>\n",
       "      <th>USD-HUF Spot Exchange Rate</th>\n",
       "    </tr>\n",
       "  </thead>\n",
       "  <tbody>\n",
       "    <tr>\n",
       "      <th>688</th>\n",
       "      <td>HU</td>\n",
       "      <td>2025-05</td>\n",
       "      <td>357.905909</td>\n",
       "    </tr>\n",
       "    <tr>\n",
       "      <th>689</th>\n",
       "      <td>HU</td>\n",
       "      <td>2025-06</td>\n",
       "      <td>349.176667</td>\n",
       "    </tr>\n",
       "    <tr>\n",
       "      <th>690</th>\n",
       "      <td>HU</td>\n",
       "      <td>2025-07</td>\n",
       "      <td>341.577391</td>\n",
       "    </tr>\n",
       "    <tr>\n",
       "      <th>691</th>\n",
       "      <td>HU</td>\n",
       "      <td>2025-08</td>\n",
       "      <td>340.911905</td>\n",
       "    </tr>\n",
       "    <tr>\n",
       "      <th>692</th>\n",
       "      <td>HU</td>\n",
       "      <td>2025-09</td>\n",
       "      <td>333.840909</td>\n",
       "    </tr>\n",
       "  </tbody>\n",
       "</table>\n",
       "</div>"
      ],
      "text/plain": [
       "    Country     Time  USD-HUF Spot Exchange Rate\n",
       "688      HU  2025-05                  357.905909\n",
       "689      HU  2025-06                  349.176667\n",
       "690      HU  2025-07                  341.577391\n",
       "691      HU  2025-08                  340.911905\n",
       "692      HU  2025-09                  333.840909"
      ]
     },
     "execution_count": 32,
     "metadata": {},
     "output_type": "execute_result"
    }
   ],
   "source": [
    "# US-HUF exchange rate, U.S. Dollar to One Hungarian Forint (monthly non-seasonally adjusted, 1968-01, 2025-09)\n",
    "# https://fred.stlouisfed.org/series/CCUSMA02HUM618N\n",
    "EXUSHUF_m_raw = fetch_FRED(\"CCUSMA02HUM618N\") \n",
    "EXUSHUF_m_raw = EXUSHUF_m_raw.rename(columns= \n",
    "        {\"date\": \"Time\", \n",
    "         \"CCUSMA02HUM618N\": \"USD-HUF Spot Exchange Rate\"\n",
    "})\n",
    "\n",
    "EXUSHUF_m_raw[\"Time\"] = EXUSHUF_m_raw[\"Time\"].dt.to_period(\"M\").astype(str)\n",
    "EXUSHUF_m_raw[\"Country\"] = \"HU\"\n",
    "EXUSHUF_m_raw = EXUSHUF_m_raw[[\"Country\", \"Time\", \"USD-HUF Spot Exchange Rate\"]]\n",
    "\n",
    "EXUSHUF_m_raw.tail()"
   ]
  },
  {
   "cell_type": "code",
   "execution_count": 29,
   "id": "c0197d32",
   "metadata": {},
   "outputs": [
    {
     "data": {
      "application/vnd.microsoft.datawrangler.viewer.v0+json": {
       "columns": [
        {
         "name": "index",
         "rawType": "int64",
         "type": "integer"
        },
        {
         "name": "Country",
         "rawType": "object",
         "type": "string"
        },
        {
         "name": "Time",
         "rawType": "object",
         "type": "string"
        },
        {
         "name": "USD-PLN Spot Exchange Rate",
         "rawType": "float64",
         "type": "float"
        }
       ],
       "ref": "52b56a8a-f766-44ab-a171-311d5e244072",
       "rows": [
        [
         "820",
         "PL",
         "2025-05",
         "3.7698863636363598"
        ],
        [
         "821",
         "PL",
         "2025-06",
         "3.70305714285714"
        ],
        [
         "822",
         "PL",
         "2025-07",
         "3.64047826086957"
        ],
        [
         "823",
         "PL",
         "2025-08",
         "3.6665857142857097"
        ],
        [
         "824",
         "PL",
         "2025-09",
         "3.6291954545454503"
        ]
       ],
       "shape": {
        "columns": 3,
        "rows": 5
       }
      },
      "text/html": [
       "<div>\n",
       "<style scoped>\n",
       "    .dataframe tbody tr th:only-of-type {\n",
       "        vertical-align: middle;\n",
       "    }\n",
       "\n",
       "    .dataframe tbody tr th {\n",
       "        vertical-align: top;\n",
       "    }\n",
       "\n",
       "    .dataframe thead th {\n",
       "        text-align: right;\n",
       "    }\n",
       "</style>\n",
       "<table border=\"1\" class=\"dataframe\">\n",
       "  <thead>\n",
       "    <tr style=\"text-align: right;\">\n",
       "      <th></th>\n",
       "      <th>Country</th>\n",
       "      <th>Time</th>\n",
       "      <th>USD-PLN Spot Exchange Rate</th>\n",
       "    </tr>\n",
       "  </thead>\n",
       "  <tbody>\n",
       "    <tr>\n",
       "      <th>820</th>\n",
       "      <td>PL</td>\n",
       "      <td>2025-05</td>\n",
       "      <td>3.769886</td>\n",
       "    </tr>\n",
       "    <tr>\n",
       "      <th>821</th>\n",
       "      <td>PL</td>\n",
       "      <td>2025-06</td>\n",
       "      <td>3.703057</td>\n",
       "    </tr>\n",
       "    <tr>\n",
       "      <th>822</th>\n",
       "      <td>PL</td>\n",
       "      <td>2025-07</td>\n",
       "      <td>3.640478</td>\n",
       "    </tr>\n",
       "    <tr>\n",
       "      <th>823</th>\n",
       "      <td>PL</td>\n",
       "      <td>2025-08</td>\n",
       "      <td>3.666586</td>\n",
       "    </tr>\n",
       "    <tr>\n",
       "      <th>824</th>\n",
       "      <td>PL</td>\n",
       "      <td>2025-09</td>\n",
       "      <td>3.629195</td>\n",
       "    </tr>\n",
       "  </tbody>\n",
       "</table>\n",
       "</div>"
      ],
      "text/plain": [
       "    Country     Time  USD-PLN Spot Exchange Rate\n",
       "820      PL  2025-05                    3.769886\n",
       "821      PL  2025-06                    3.703057\n",
       "822      PL  2025-07                    3.640478\n",
       "823      PL  2025-08                    3.666586\n",
       "824      PL  2025-09                    3.629195"
      ]
     },
     "execution_count": 29,
     "metadata": {},
     "output_type": "execute_result"
    }
   ],
   "source": [
    "# US-PLN exchange rate, U.S. Dollar to One Polish Zloty (monthly non-seasonally adjusted, 1957-01, 2025-09)\n",
    "# https://fred.stlouisfed.org/series/CCUSMA02PLM618N\n",
    "EXUSPLN_m_raw = fetch_FRED(\"CCUSMA02PLM618N\") \n",
    "EXUSPLN_m_raw = EXUSPLN_m_raw.rename(columns= \n",
    "        {\"date\": \"Time\", \n",
    "         \"CCUSMA02PLM618N\": \"USD-PLN Spot Exchange Rate\"\n",
    "})\n",
    "\n",
    "EXUSPLN_m_raw[\"Time\"] = EXUSPLN_m_raw[\"Time\"].dt.to_period(\"M\").astype(str)\n",
    "EXUSPLN_m_raw[\"Country\"] = \"PL\"\n",
    "EXUSPLN_m_raw = EXUSPLN_m_raw[[\"Country\", \"Time\", \"USD-PLN Spot Exchange Rate\"]]\n",
    "\n",
    "EXUSPLN_m_raw.tail()"
   ]
  },
  {
   "cell_type": "code",
   "execution_count": 31,
   "id": "4ad7495a",
   "metadata": {},
   "outputs": [
    {
     "data": {
      "application/vnd.microsoft.datawrangler.viewer.v0+json": {
       "columns": [
        {
         "name": "index",
         "rawType": "int64",
         "type": "integer"
        },
        {
         "name": "Country",
         "rawType": "object",
         "type": "string"
        },
        {
         "name": "Time",
         "rawType": "object",
         "type": "string"
        },
        {
         "name": "USD-RON Spot Exchange Rate",
         "rawType": "float64",
         "type": "float"
        }
       ],
       "ref": "f4bbccf1-ef6c-4b00-8091-cddee190e891",
       "rows": [
        [
         "798",
         "RO",
         "2023-07",
         "4.4689"
        ],
        [
         "799",
         "RO",
         "2023-08",
         "4.5294"
        ],
        [
         "800",
         "RO",
         "2023-09",
         "4.647"
        ],
        [
         "801",
         "RO",
         "2023-10",
         "4.7027"
        ],
        [
         "802",
         "RO",
         "2023-11",
         "4.6035"
        ]
       ],
       "shape": {
        "columns": 3,
        "rows": 5
       }
      },
      "text/html": [
       "<div>\n",
       "<style scoped>\n",
       "    .dataframe tbody tr th:only-of-type {\n",
       "        vertical-align: middle;\n",
       "    }\n",
       "\n",
       "    .dataframe tbody tr th {\n",
       "        vertical-align: top;\n",
       "    }\n",
       "\n",
       "    .dataframe thead th {\n",
       "        text-align: right;\n",
       "    }\n",
       "</style>\n",
       "<table border=\"1\" class=\"dataframe\">\n",
       "  <thead>\n",
       "    <tr style=\"text-align: right;\">\n",
       "      <th></th>\n",
       "      <th>Country</th>\n",
       "      <th>Time</th>\n",
       "      <th>USD-RON Spot Exchange Rate</th>\n",
       "    </tr>\n",
       "  </thead>\n",
       "  <tbody>\n",
       "    <tr>\n",
       "      <th>798</th>\n",
       "      <td>RO</td>\n",
       "      <td>2023-07</td>\n",
       "      <td>4.4689</td>\n",
       "    </tr>\n",
       "    <tr>\n",
       "      <th>799</th>\n",
       "      <td>RO</td>\n",
       "      <td>2023-08</td>\n",
       "      <td>4.5294</td>\n",
       "    </tr>\n",
       "    <tr>\n",
       "      <th>800</th>\n",
       "      <td>RO</td>\n",
       "      <td>2023-09</td>\n",
       "      <td>4.6470</td>\n",
       "    </tr>\n",
       "    <tr>\n",
       "      <th>801</th>\n",
       "      <td>RO</td>\n",
       "      <td>2023-10</td>\n",
       "      <td>4.7027</td>\n",
       "    </tr>\n",
       "    <tr>\n",
       "      <th>802</th>\n",
       "      <td>RO</td>\n",
       "      <td>2023-11</td>\n",
       "      <td>4.6035</td>\n",
       "    </tr>\n",
       "  </tbody>\n",
       "</table>\n",
       "</div>"
      ],
      "text/plain": [
       "    Country     Time  USD-RON Spot Exchange Rate\n",
       "798      RO  2023-07                      4.4689\n",
       "799      RO  2023-08                      4.5294\n",
       "800      RO  2023-09                      4.6470\n",
       "801      RO  2023-10                      4.7027\n",
       "802      RO  2023-11                      4.6035"
      ]
     },
     "execution_count": 31,
     "metadata": {},
     "output_type": "execute_result"
    }
   ],
   "source": [
    "# US-RON exchange rate, U.S. Dollar to One Romanian Leu (monthly non-seasonally adjusted, 1960-01, 2023-11)\n",
    "# https://fred.stlouisfed.org/series/CCUSMA02PLM618N\n",
    "EXUSRON_m_raw = fetch_FRED(\"ROUCCUSMA02STM\") \n",
    "EXUSRON_m_raw = EXUSRON_m_raw.rename(columns= \n",
    "        {\"date\": \"Time\", \n",
    "         \"ROUCCUSMA02STM\": \"USD-RON Spot Exchange Rate\"\n",
    "})\n",
    "\n",
    "EXUSRON_m_raw[\"Time\"] = EXUSRON_m_raw[\"Time\"].dt.to_period(\"M\").astype(str)\n",
    "EXUSRON_m_raw[\"Country\"] = \"RO\"\n",
    "EXUSRON_m_raw = EXUSRON_m_raw[[\"Country\", \"Time\", \"USD-RON Spot Exchange Rate\"]]\n",
    "\n",
    "EXUSRON_m_raw.tail()"
   ]
  },
  {
   "cell_type": "code",
   "execution_count": 38,
   "id": "1f6f2f5f",
   "metadata": {},
   "outputs": [
    {
     "data": {
      "application/vnd.microsoft.datawrangler.viewer.v0+json": {
       "columns": [
        {
         "name": "index",
         "rawType": "int64",
         "type": "integer"
        },
        {
         "name": "Time",
         "rawType": "object",
         "type": "string"
        },
        {
         "name": "Crude Oil Price (Brent, Europe)",
         "rawType": "float64",
         "type": "float"
        }
       ],
       "ref": "c29695ba-eddc-4fd8-84ab-a675e36a89f0",
       "rows": [
        [
         "456",
         "2025-05",
         "64.45"
        ],
        [
         "457",
         "2025-06",
         "71.44"
        ],
        [
         "458",
         "2025-07",
         "71.04"
        ],
        [
         "459",
         "2025-08",
         "67.87"
        ],
        [
         "460",
         "2025-09",
         "67.99"
        ]
       ],
       "shape": {
        "columns": 2,
        "rows": 5
       }
      },
      "text/html": [
       "<div>\n",
       "<style scoped>\n",
       "    .dataframe tbody tr th:only-of-type {\n",
       "        vertical-align: middle;\n",
       "    }\n",
       "\n",
       "    .dataframe tbody tr th {\n",
       "        vertical-align: top;\n",
       "    }\n",
       "\n",
       "    .dataframe thead th {\n",
       "        text-align: right;\n",
       "    }\n",
       "</style>\n",
       "<table border=\"1\" class=\"dataframe\">\n",
       "  <thead>\n",
       "    <tr style=\"text-align: right;\">\n",
       "      <th></th>\n",
       "      <th>Time</th>\n",
       "      <th>Crude Oil Price (Brent, Europe)</th>\n",
       "    </tr>\n",
       "  </thead>\n",
       "  <tbody>\n",
       "    <tr>\n",
       "      <th>456</th>\n",
       "      <td>2025-05</td>\n",
       "      <td>64.45</td>\n",
       "    </tr>\n",
       "    <tr>\n",
       "      <th>457</th>\n",
       "      <td>2025-06</td>\n",
       "      <td>71.44</td>\n",
       "    </tr>\n",
       "    <tr>\n",
       "      <th>458</th>\n",
       "      <td>2025-07</td>\n",
       "      <td>71.04</td>\n",
       "    </tr>\n",
       "    <tr>\n",
       "      <th>459</th>\n",
       "      <td>2025-08</td>\n",
       "      <td>67.87</td>\n",
       "    </tr>\n",
       "    <tr>\n",
       "      <th>460</th>\n",
       "      <td>2025-09</td>\n",
       "      <td>67.99</td>\n",
       "    </tr>\n",
       "  </tbody>\n",
       "</table>\n",
       "</div>"
      ],
      "text/plain": [
       "        Time  Crude Oil Price (Brent, Europe)\n",
       "456  2025-05                            64.45\n",
       "457  2025-06                            71.44\n",
       "458  2025-07                            71.04\n",
       "459  2025-08                            67.87\n",
       "460  2025-09                            67.99"
      ]
     },
     "execution_count": 38,
     "metadata": {},
     "output_type": "execute_result"
    }
   ],
   "source": [
    "# Crude Oil Prices: Brent - Europe (monthly, average price, Dollars per barrel, not seasonally adjusted, 1987-01, 2025-09)\n",
    "# https://fred.stlouisfed.org/series/MCOILBRENTEU\n",
    "\n",
    "oilprice_m_raw = fetch_FRED(\"MCOILBRENTEU\") \n",
    "oilprice_m_raw = oilprice_m_raw.rename(columns= \n",
    "        {\"date\": \"Time\", \n",
    "         \"MCOILBRENTEU\": \"Crude Oil Price (Brent, Europe)\"\n",
    "})\n",
    "\n",
    "oilprice_m_raw[\"Time\"] = oilprice_m_raw[\"Time\"].dt.to_period(\"M\").astype(str)\n",
    "\n",
    "oilprice_m_raw.tail()"
   ]
  },
  {
   "cell_type": "code",
   "execution_count": 39,
   "id": "777576cc",
   "metadata": {},
   "outputs": [
    {
     "data": {
      "application/vnd.microsoft.datawrangler.viewer.v0+json": {
       "columns": [
        {
         "name": "index",
         "rawType": "int64",
         "type": "integer"
        },
        {
         "name": "Time",
         "rawType": "object",
         "type": "string"
        },
        {
         "name": "Nominal Broad USD Index",
         "rawType": "float64",
         "type": "float"
        }
       ],
       "ref": "12abae28-27c2-4a12-b058-42ddc0adf8bd",
       "rows": [
        [
         "626",
         "2025-05",
         "122.6869"
        ],
        [
         "627",
         "2025-06",
         "120.9747"
        ],
        [
         "628",
         "2025-07",
         "120.5266"
        ],
        [
         "629",
         "2025-08",
         "120.9844"
        ],
        [
         "630",
         "2025-09",
         "120.4534"
        ]
       ],
       "shape": {
        "columns": 2,
        "rows": 5
       }
      },
      "text/html": [
       "<div>\n",
       "<style scoped>\n",
       "    .dataframe tbody tr th:only-of-type {\n",
       "        vertical-align: middle;\n",
       "    }\n",
       "\n",
       "    .dataframe tbody tr th {\n",
       "        vertical-align: top;\n",
       "    }\n",
       "\n",
       "    .dataframe thead th {\n",
       "        text-align: right;\n",
       "    }\n",
       "</style>\n",
       "<table border=\"1\" class=\"dataframe\">\n",
       "  <thead>\n",
       "    <tr style=\"text-align: right;\">\n",
       "      <th></th>\n",
       "      <th>Time</th>\n",
       "      <th>Nominal Broad USD Index</th>\n",
       "    </tr>\n",
       "  </thead>\n",
       "  <tbody>\n",
       "    <tr>\n",
       "      <th>626</th>\n",
       "      <td>2025-05</td>\n",
       "      <td>122.6869</td>\n",
       "    </tr>\n",
       "    <tr>\n",
       "      <th>627</th>\n",
       "      <td>2025-06</td>\n",
       "      <td>120.9747</td>\n",
       "    </tr>\n",
       "    <tr>\n",
       "      <th>628</th>\n",
       "      <td>2025-07</td>\n",
       "      <td>120.5266</td>\n",
       "    </tr>\n",
       "    <tr>\n",
       "      <th>629</th>\n",
       "      <td>2025-08</td>\n",
       "      <td>120.9844</td>\n",
       "    </tr>\n",
       "    <tr>\n",
       "      <th>630</th>\n",
       "      <td>2025-09</td>\n",
       "      <td>120.4534</td>\n",
       "    </tr>\n",
       "  </tbody>\n",
       "</table>\n",
       "</div>"
      ],
      "text/plain": [
       "        Time  Nominal Broad USD Index\n",
       "626  2025-05                 122.6869\n",
       "627  2025-06                 120.9747\n",
       "628  2025-07                 120.5266\n",
       "629  2025-08                 120.9844\n",
       "630  2025-09                 120.4534"
      ]
     },
     "execution_count": 39,
     "metadata": {},
     "output_type": "execute_result"
    }
   ],
   "source": [
    "# Nominal Broad U.S. Dollar Index (monthly, index Jan 2006=100, not seasonally adjusted, 2006-01, 2025-09)\n",
    "# https://fred.stlouisfed.org/series/TWEXBGSMTH\n",
    "\n",
    "usdi_m_raw = fetch_FRED(\"TWEXBGSMTH\") \n",
    "usdi_m_raw = usdi_m_raw.rename(columns= \n",
    "        {\"date\": \"Time\", \n",
    "         \"TWEXBGSMTH\": \"Nominal Broad USD Index\"\n",
    "})\n",
    "\n",
    "usdi_m_raw[\"Time\"] = usdi_m_raw[\"Time\"].dt.to_period(\"M\").astype(str)\n",
    "\n",
    "usdi_m_raw.tail()"
   ]
  },
  {
   "cell_type": "code",
   "execution_count": 42,
   "id": "f2ee5b30",
   "metadata": {},
   "outputs": [
    {
     "data": {
      "application/vnd.microsoft.datawrangler.viewer.v0+json": {
       "columns": [
        {
         "name": "index",
         "rawType": "int64",
         "type": "integer"
        },
        {
         "name": "Time",
         "rawType": "object",
         "type": "string"
        },
        {
         "name": "Market Yield on 10-Year US Trasury Securities",
         "rawType": "float64",
         "type": "float"
        }
       ],
       "ref": "8ec7f670-d403-445c-88d0-39ac1ff87116",
       "rows": [
        [
         "761",
         "2025-06",
         "4.3835"
        ],
        [
         "762",
         "2025-07",
         "4.391818181818182"
        ],
        [
         "763",
         "2025-08",
         "4.2647619047619045"
        ],
        [
         "764",
         "2025-09",
         "4.12047619047619"
        ],
        [
         "765",
         "2025-10",
         "4.062352941176471"
        ]
       ],
       "shape": {
        "columns": 2,
        "rows": 5
       }
      },
      "text/html": [
       "<div>\n",
       "<style scoped>\n",
       "    .dataframe tbody tr th:only-of-type {\n",
       "        vertical-align: middle;\n",
       "    }\n",
       "\n",
       "    .dataframe tbody tr th {\n",
       "        vertical-align: top;\n",
       "    }\n",
       "\n",
       "    .dataframe thead th {\n",
       "        text-align: right;\n",
       "    }\n",
       "</style>\n",
       "<table border=\"1\" class=\"dataframe\">\n",
       "  <thead>\n",
       "    <tr style=\"text-align: right;\">\n",
       "      <th></th>\n",
       "      <th>Time</th>\n",
       "      <th>Market Yield on 10-Year US Trasury Securities</th>\n",
       "    </tr>\n",
       "  </thead>\n",
       "  <tbody>\n",
       "    <tr>\n",
       "      <th>761</th>\n",
       "      <td>2025-06</td>\n",
       "      <td>4.383500</td>\n",
       "    </tr>\n",
       "    <tr>\n",
       "      <th>762</th>\n",
       "      <td>2025-07</td>\n",
       "      <td>4.391818</td>\n",
       "    </tr>\n",
       "    <tr>\n",
       "      <th>763</th>\n",
       "      <td>2025-08</td>\n",
       "      <td>4.264762</td>\n",
       "    </tr>\n",
       "    <tr>\n",
       "      <th>764</th>\n",
       "      <td>2025-09</td>\n",
       "      <td>4.120476</td>\n",
       "    </tr>\n",
       "    <tr>\n",
       "      <th>765</th>\n",
       "      <td>2025-10</td>\n",
       "      <td>4.062353</td>\n",
       "    </tr>\n",
       "  </tbody>\n",
       "</table>\n",
       "</div>"
      ],
      "text/plain": [
       "        Time  Market Yield on 10-Year US Trasury Securities\n",
       "761  2025-06                                       4.383500\n",
       "762  2025-07                                       4.391818\n",
       "763  2025-08                                       4.264762\n",
       "764  2025-09                                       4.120476\n",
       "765  2025-10                                       4.062353"
      ]
     },
     "execution_count": 42,
     "metadata": {},
     "output_type": "execute_result"
    }
   ],
   "source": [
    "# Market Yield on U.S. Treasury Securities at 10-Year Constant Maturity, Quoted on an Investment Basis  (from daily to monthly, percent, not seasonally adjusted, 1962-01, 2025-10)\n",
    "# https://fred.stlouisfed.org/series/DGS10\n",
    "\n",
    "ustyield_d_raw = fetch_FRED(\"DGS10\") \n",
    "ustyield_d_raw = ustyield_d_raw.rename(columns= \n",
    "        {\"date\": \"Time\", \n",
    "         \"DGS10\": \"Market Yield on 10-Year US Trasury Securities\"\n",
    "})\n",
    "\n",
    "# Aggregation (dimension from daily to monthly)\n",
    "ustyield_d_raw = ustyield_d_raw.set_index(\"Time\")\n",
    "ustyield_m_raw = ustyield_d_raw.resample(\"M\").mean().reset_index()\n",
    "ustyield_m_raw[\"Time\"] = ustyield_m_raw[\"Time\"].dt.to_period(\"M\").astype(str)\n",
    "\n",
    "ustyield_m_raw.tail()"
   ]
  },
  {
   "cell_type": "markdown",
   "id": "87024af9",
   "metadata": {},
   "source": [
    "#### **3.5) OTHERS-extracted indicators**"
   ]
  },
  {
   "cell_type": "code",
   "execution_count": 13,
   "id": "ce7c9584",
   "metadata": {},
   "outputs": [],
   "source": [
    "# Tariffs ratio"
   ]
  },
  {
   "cell_type": "markdown",
   "id": "28da95a3",
   "metadata": {},
   "source": [
    "### **4) DATA ASSEMBLING**"
   ]
  },
  {
   "cell_type": "code",
   "execution_count": null,
   "id": "aecbfa93",
   "metadata": {},
   "outputs": [],
   "source": []
  },
  {
   "cell_type": "markdown",
   "id": "f2d9440b",
   "metadata": {},
   "source": [
    "#### **4.3) GLOBAL CONTROLS DF**"
   ]
  },
  {
   "cell_type": "code",
   "execution_count": 53,
   "id": "fec1f2ed",
   "metadata": {},
   "outputs": [
    {
     "data": {
      "application/vnd.microsoft.datawrangler.viewer.v0+json": {
       "columns": [
        {
         "name": "index",
         "rawType": "int64",
         "type": "integer"
        },
        {
         "name": "Time",
         "rawType": "object",
         "type": "string"
        },
        {
         "name": "Crude Oil Price (Brent, Europe)",
         "rawType": "float64",
         "type": "float"
        },
        {
         "name": "Nominal Broad USD Index",
         "rawType": "float64",
         "type": "float"
        },
        {
         "name": "Market Yield on 10-Year US Trasury Securities",
         "rawType": "float64",
         "type": "float"
        }
       ],
       "ref": "2b5efeba-71e6-437d-9170-1f26c4478545",
       "rows": [
        [
         "760",
         "2025-05",
         "64.45",
         "122.6869",
         "4.423809523809524"
        ],
        [
         "761",
         "2025-06",
         "71.44",
         "120.9747",
         "4.3835"
        ],
        [
         "762",
         "2025-07",
         "71.04",
         "120.5266",
         "4.391818181818182"
        ],
        [
         "763",
         "2025-08",
         "67.87",
         "120.9844",
         "4.2647619047619045"
        ],
        [
         "764",
         "2025-09",
         "67.99",
         "120.4534",
         "4.12047619047619"
        ]
       ],
       "shape": {
        "columns": 4,
        "rows": 5
       }
      },
      "text/html": [
       "<div>\n",
       "<style scoped>\n",
       "    .dataframe tbody tr th:only-of-type {\n",
       "        vertical-align: middle;\n",
       "    }\n",
       "\n",
       "    .dataframe tbody tr th {\n",
       "        vertical-align: top;\n",
       "    }\n",
       "\n",
       "    .dataframe thead th {\n",
       "        text-align: right;\n",
       "    }\n",
       "</style>\n",
       "<table border=\"1\" class=\"dataframe\">\n",
       "  <thead>\n",
       "    <tr style=\"text-align: right;\">\n",
       "      <th></th>\n",
       "      <th>Time</th>\n",
       "      <th>Crude Oil Price (Brent, Europe)</th>\n",
       "      <th>Nominal Broad USD Index</th>\n",
       "      <th>Market Yield on 10-Year US Trasury Securities</th>\n",
       "    </tr>\n",
       "  </thead>\n",
       "  <tbody>\n",
       "    <tr>\n",
       "      <th>760</th>\n",
       "      <td>2025-05</td>\n",
       "      <td>64.45</td>\n",
       "      <td>122.6869</td>\n",
       "      <td>4.423810</td>\n",
       "    </tr>\n",
       "    <tr>\n",
       "      <th>761</th>\n",
       "      <td>2025-06</td>\n",
       "      <td>71.44</td>\n",
       "      <td>120.9747</td>\n",
       "      <td>4.383500</td>\n",
       "    </tr>\n",
       "    <tr>\n",
       "      <th>762</th>\n",
       "      <td>2025-07</td>\n",
       "      <td>71.04</td>\n",
       "      <td>120.5266</td>\n",
       "      <td>4.391818</td>\n",
       "    </tr>\n",
       "    <tr>\n",
       "      <th>763</th>\n",
       "      <td>2025-08</td>\n",
       "      <td>67.87</td>\n",
       "      <td>120.9844</td>\n",
       "      <td>4.264762</td>\n",
       "    </tr>\n",
       "    <tr>\n",
       "      <th>764</th>\n",
       "      <td>2025-09</td>\n",
       "      <td>67.99</td>\n",
       "      <td>120.4534</td>\n",
       "      <td>4.120476</td>\n",
       "    </tr>\n",
       "  </tbody>\n",
       "</table>\n",
       "</div>"
      ],
      "text/plain": [
       "        Time  Crude Oil Price (Brent, Europe)  Nominal Broad USD Index  \\\n",
       "760  2025-05                            64.45                 122.6869   \n",
       "761  2025-06                            71.44                 120.9747   \n",
       "762  2025-07                            71.04                 120.5266   \n",
       "763  2025-08                            67.87                 120.9844   \n",
       "764  2025-09                            67.99                 120.4534   \n",
       "\n",
       "     Market Yield on 10-Year US Trasury Securities  \n",
       "760                                       4.423810  \n",
       "761                                       4.383500  \n",
       "762                                       4.391818  \n",
       "763                                       4.264762  \n",
       "764                                       4.120476  "
      ]
     },
     "execution_count": 53,
     "metadata": {},
     "output_type": "execute_result"
    }
   ],
   "source": [
    "# Aggregate Global Control df\n",
    "# Merging Index: Time\n",
    "# Time frame: 2006/01 - 2025/09\n",
    "# (!!!) To run the model we need no NaN in the df, so we dop them, causing a shrinking of the df time range\n",
    "global_control_df = (oilprice_m_raw.merge(usdi_m_raw, on=\"Time\", how=\"outer\").merge(ustyield_m_raw, on=\"Time\", how=\"outer\").sort_values(\"Time\").reset_index(drop=True))\n",
    "global_control_df = global_control_df.dropna()\n",
    "\n",
    "# Uploading in aggregate_df\n",
    "global_control_df.to_csv(\"aggregate_df/global_control_df.csv\", index=False)\n",
    "\n",
    "global_control_df.tail()"
   ]
  },
  {
   "cell_type": "markdown",
   "id": "77b7c10b",
   "metadata": {},
   "source": [
    "#### **4.4) COUNTRY-SPECIFIC CONTROLS DF**"
   ]
  },
  {
   "cell_type": "code",
   "execution_count": 52,
   "id": "0b518e56",
   "metadata": {},
   "outputs": [
    {
     "data": {
      "application/vnd.microsoft.datawrangler.viewer.v0+json": {
       "columns": [
        {
         "name": "index",
         "rawType": "int64",
         "type": "integer"
        },
        {
         "name": "Time",
         "rawType": "object",
         "type": "string"
        },
        {
         "name": "Crude Oil Price (Brent, Europe)",
         "rawType": "float64",
         "type": "float"
        },
        {
         "name": "Nominal Broad USD Index",
         "rawType": "float64",
         "type": "float"
        },
        {
         "name": "Market Yield on 10-Year US Trasury Securities",
         "rawType": "float64",
         "type": "float"
        }
       ],
       "ref": "41cc165d-a341-4e5d-bd1f-892acabe21a2",
       "rows": [
        [
         "760",
         "2025-05",
         "64.45",
         "122.6869",
         "4.423809523809524"
        ],
        [
         "761",
         "2025-06",
         "71.44",
         "120.9747",
         "4.3835"
        ],
        [
         "762",
         "2025-07",
         "71.04",
         "120.5266",
         "4.391818181818182"
        ],
        [
         "763",
         "2025-08",
         "67.87",
         "120.9844",
         "4.2647619047619045"
        ],
        [
         "764",
         "2025-09",
         "67.99",
         "120.4534",
         "4.12047619047619"
        ]
       ],
       "shape": {
        "columns": 4,
        "rows": 5
       }
      },
      "text/html": [
       "<div>\n",
       "<style scoped>\n",
       "    .dataframe tbody tr th:only-of-type {\n",
       "        vertical-align: middle;\n",
       "    }\n",
       "\n",
       "    .dataframe tbody tr th {\n",
       "        vertical-align: top;\n",
       "    }\n",
       "\n",
       "    .dataframe thead th {\n",
       "        text-align: right;\n",
       "    }\n",
       "</style>\n",
       "<table border=\"1\" class=\"dataframe\">\n",
       "  <thead>\n",
       "    <tr style=\"text-align: right;\">\n",
       "      <th></th>\n",
       "      <th>Time</th>\n",
       "      <th>Crude Oil Price (Brent, Europe)</th>\n",
       "      <th>Nominal Broad USD Index</th>\n",
       "      <th>Market Yield on 10-Year US Trasury Securities</th>\n",
       "    </tr>\n",
       "  </thead>\n",
       "  <tbody>\n",
       "    <tr>\n",
       "      <th>760</th>\n",
       "      <td>2025-05</td>\n",
       "      <td>64.45</td>\n",
       "      <td>122.6869</td>\n",
       "      <td>4.423810</td>\n",
       "    </tr>\n",
       "    <tr>\n",
       "      <th>761</th>\n",
       "      <td>2025-06</td>\n",
       "      <td>71.44</td>\n",
       "      <td>120.9747</td>\n",
       "      <td>4.383500</td>\n",
       "    </tr>\n",
       "    <tr>\n",
       "      <th>762</th>\n",
       "      <td>2025-07</td>\n",
       "      <td>71.04</td>\n",
       "      <td>120.5266</td>\n",
       "      <td>4.391818</td>\n",
       "    </tr>\n",
       "    <tr>\n",
       "      <th>763</th>\n",
       "      <td>2025-08</td>\n",
       "      <td>67.87</td>\n",
       "      <td>120.9844</td>\n",
       "      <td>4.264762</td>\n",
       "    </tr>\n",
       "    <tr>\n",
       "      <th>764</th>\n",
       "      <td>2025-09</td>\n",
       "      <td>67.99</td>\n",
       "      <td>120.4534</td>\n",
       "      <td>4.120476</td>\n",
       "    </tr>\n",
       "  </tbody>\n",
       "</table>\n",
       "</div>"
      ],
      "text/plain": [
       "        Time  Crude Oil Price (Brent, Europe)  Nominal Broad USD Index  \\\n",
       "760  2025-05                            64.45                 122.6869   \n",
       "761  2025-06                            71.44                 120.9747   \n",
       "762  2025-07                            71.04                 120.5266   \n",
       "763  2025-08                            67.87                 120.9844   \n",
       "764  2025-09                            67.99                 120.4534   \n",
       "\n",
       "     Market Yield on 10-Year US Trasury Securities  \n",
       "760                                       4.423810  \n",
       "761                                       4.383500  \n",
       "762                                       4.391818  \n",
       "763                                       4.264762  \n",
       "764                                       4.120476  "
      ]
     },
     "execution_count": 52,
     "metadata": {},
     "output_type": "execute_result"
    }
   ],
   "source": [
    "# Aggregate Country-Specific Control df\n",
    "# Merging Index: Time, Country\n",
    "# Time frame: \n",
    "# (!!!) To run the model we need no NaN in the df, so we dop them, causing a shrinking of the df time range\n",
    "country_control_df = (oilprice_m_raw.merge(usdi_m_raw, on=\"Time\", how=\"outer\").merge(ustyield_m_raw, on=\"Time\", how=\"outer\").sort_values(\"Time\").reset_index(drop=True))\n",
    "country_control_df = country_control_df.dropna()\n",
    "\n",
    "# Uploading in aggregate_df\n",
    "country_control_df.to_csv(\"aggregate_df/country_control_df.csv\", index=False)\n",
    "\n",
    "country_control_df.tail()"
   ]
  }
 ],
 "metadata": {
  "kernelspec": {
   "display_name": "base",
   "language": "python",
   "name": "python3"
  },
  "language_info": {
   "codemirror_mode": {
    "name": "ipython",
    "version": 3
   },
   "file_extension": ".py",
   "mimetype": "text/x-python",
   "name": "python",
   "nbconvert_exporter": "python",
   "pygments_lexer": "ipython3",
   "version": "3.12.4"
  }
 },
 "nbformat": 4,
 "nbformat_minor": 5
}
