{
 "cells": [
  {
   "cell_type": "markdown",
   "id": "02b43a95",
   "metadata": {},
   "source": [
    "# **API & WEBHOOK-BASED DATA RETRIEVAL**"
   ]
  },
  {
   "cell_type": "markdown",
   "id": "3c636a87",
   "metadata": {},
   "source": [
    "### **1) REQUIREMENTS SETUP**"
   ]
  },
  {
   "cell_type": "code",
   "execution_count": 11,
   "id": "4ecc6c9a",
   "metadata": {},
   "outputs": [],
   "source": [
    "# !pip install -r requirements.txt"
   ]
  },
  {
   "cell_type": "code",
   "execution_count": 12,
   "id": "7cb394ac",
   "metadata": {},
   "outputs": [],
   "source": [
    "import pandas as pd\n",
    "import numpy as np"
   ]
  },
  {
   "cell_type": "markdown",
   "id": "c506530d",
   "metadata": {},
   "source": [
    "### **2) MODULES IMPORT**"
   ]
  },
  {
   "cell_type": "code",
   "execution_count": 29,
   "id": "d27670ad",
   "metadata": {},
   "outputs": [],
   "source": [
    "from FRED_module import fetch_FRED\n",
    "from EUROSTAT_module import fetch_EUROSTAT\n",
    "from WB_module import fetch_WB \n",
    "from YFINANCE_module import fetch_YFINANCE\n",
    "from DBNOMICS_module import fetch_DBNOMICS"
   ]
  },
  {
   "cell_type": "markdown",
   "id": "d7d2dd32",
   "metadata": {},
   "source": [
    "### **3) DATA FETCHING**"
   ]
  },
  {
   "cell_type": "markdown",
   "id": "27ef5590",
   "metadata": {},
   "source": [
    "#### **3.1) EUROSTAT-extracted indicators**"
   ]
  },
  {
   "cell_type": "code",
   "execution_count": null,
   "id": "f3d7d3b6",
   "metadata": {},
   "outputs": [],
   "source": [
    "# Export to the US by EU member state (monthly, total, millions of EUR)\n",
    "# EU27 (from 2020) trade by SITC product group (Trade value in million ECU/EURO, Standard International Trade Classification (SITC Rev. 4, 2006): Total - all products)\n",
    "# https://ec.europa.eu/eurostat/databrowser/view/ds-059331/legacyMultiFreq/table?lang=en \n",
    "\n",
    "# EURO_expus_m_raw = "
   ]
  },
  {
   "cell_type": "code",
   "execution_count": null,
   "id": "7513e0c6",
   "metadata": {},
   "outputs": [
    {
     "data": {
      "application/vnd.microsoft.datawrangler.viewer.v0+json": {
       "columns": [
        {
         "name": "index",
         "rawType": "int64",
         "type": "integer"
        },
        {
         "name": "Country",
         "rawType": "object",
         "type": "string"
        },
        {
         "name": "Time",
         "rawType": "object",
         "type": "string"
        },
        {
         "name": "Indprod Index (I21)",
         "rawType": "float64",
         "type": "float"
        }
       ],
       "ref": "78d64227-92d9-4d74-8ca3-fa6acc34892a",
       "rows": [
        [
         "8971",
         "SK",
         "2025-04",
         "102.5"
        ],
        [
         "8972",
         "SK",
         "2025-05",
         "101.8"
        ],
        [
         "8973",
         "SK",
         "2025-06",
         "100.2"
        ],
        [
         "8974",
         "SK",
         "2025-07",
         "87.7"
        ],
        [
         "8975",
         "SK",
         "2025-08",
         "86.4"
        ]
       ],
       "shape": {
        "columns": 3,
        "rows": 5
       }
      },
      "text/html": [
       "<div>\n",
       "<style scoped>\n",
       "    .dataframe tbody tr th:only-of-type {\n",
       "        vertical-align: middle;\n",
       "    }\n",
       "\n",
       "    .dataframe tbody tr th {\n",
       "        vertical-align: top;\n",
       "    }\n",
       "\n",
       "    .dataframe thead th {\n",
       "        text-align: right;\n",
       "    }\n",
       "</style>\n",
       "<table border=\"1\" class=\"dataframe\">\n",
       "  <thead>\n",
       "    <tr style=\"text-align: right;\">\n",
       "      <th></th>\n",
       "      <th>Country</th>\n",
       "      <th>Time</th>\n",
       "      <th>Indprod Index (I21)</th>\n",
       "    </tr>\n",
       "  </thead>\n",
       "  <tbody>\n",
       "    <tr>\n",
       "      <th>8971</th>\n",
       "      <td>SK</td>\n",
       "      <td>2025-04</td>\n",
       "      <td>102.5</td>\n",
       "    </tr>\n",
       "    <tr>\n",
       "      <th>8972</th>\n",
       "      <td>SK</td>\n",
       "      <td>2025-05</td>\n",
       "      <td>101.8</td>\n",
       "    </tr>\n",
       "    <tr>\n",
       "      <th>8973</th>\n",
       "      <td>SK</td>\n",
       "      <td>2025-06</td>\n",
       "      <td>100.2</td>\n",
       "    </tr>\n",
       "    <tr>\n",
       "      <th>8974</th>\n",
       "      <td>SK</td>\n",
       "      <td>2025-07</td>\n",
       "      <td>87.7</td>\n",
       "    </tr>\n",
       "    <tr>\n",
       "      <th>8975</th>\n",
       "      <td>SK</td>\n",
       "      <td>2025-08</td>\n",
       "      <td>86.4</td>\n",
       "    </tr>\n",
       "  </tbody>\n",
       "</table>\n",
       "</div>"
      ],
      "text/plain": [
       "     Country     Time  Indprod Index (I21)\n",
       "8971      SK  2025-04                102.5\n",
       "8972      SK  2025-05                101.8\n",
       "8973      SK  2025-06                100.2\n",
       "8974      SK  2025-07                 87.7\n",
       "8975      SK  2025-08                 86.4"
      ]
     },
     "execution_count": 52,
     "metadata": {},
     "output_type": "execute_result"
    }
   ],
   "source": [
    "# Industrial Production by EU member state (monthly, total manufacturing, Index: 2021=100, non-seasonally adjusted, 1996-01, 2025-08)\n",
    "# https://ec.europa.eu/eurostat/databrowser/view/sts_inpr_m/default/table?lang=en\n",
    "EURO_indprod_m_raw = fetch_EUROSTAT(\n",
    "    \"sts_inpr_m\",\n",
    "    filters = {\n",
    "    \"geo\": [\"EU27_2020\", \"EU28\", \"EA20\", \"EA19\",  \n",
    "    \"BE\", \"BG\", \"CZ\", \"DK\", \"DE\", \"EE\", \"IE\", \"EL\", \"ES\", \"FR\",\n",
    "    \"HR\", \"IT\", \"CY\", \"LV\", \"LT\", \"LU\", \"HU\", \"MT\", \"NL\", \"AT\",\n",
    "    \"PL\", \"PT\", \"RO\", \"SI\", \"SK\", \"FI\", \"SE\"],\n",
    "    \"s_adj\": \"NSA\",\n",
    "    \"unit\": \"I21\",\n",
    "    \"nace_r2\": \"C\"\n",
    "    }\n",
    ")\n",
    "\n",
    "EURO_indprod_m_raw = EURO_indprod_m_raw[[ \"geo\", \"time\", \"value\" ]]\n",
    "EURO_indprod_m_raw = EURO_indprod_m_raw.rename(columns={\n",
    "    \"geo\": \"Country\",\n",
    "    \"time\": \"Time\",\n",
    "    \"value\": \"Indprod Index (I21)\"\n",
    "})\n",
    "\n",
    "EURO_indprod_m_raw.tail()"
   ]
  },
  {
   "cell_type": "code",
   "execution_count": 58,
   "id": "426de587",
   "metadata": {},
   "outputs": [
    {
     "data": {
      "application/vnd.microsoft.datawrangler.viewer.v0+json": {
       "columns": [
        {
         "name": "index",
         "rawType": "int64",
         "type": "integer"
        },
        {
         "name": "Country",
         "rawType": "object",
         "type": "string"
        },
        {
         "name": "Time",
         "rawType": "object",
         "type": "string"
        },
        {
         "name": "Unemployment Rate (%pop in LF)",
         "rawType": "float64",
         "type": "float"
        }
       ],
       "ref": "ba2c4258-cde9-495f-a9db-13a3efe9ada0",
       "rows": [
        [
         "98345",
         "SK",
         "2025-04",
         "13.9"
        ],
        [
         "98346",
         "SK",
         "2025-05",
         "14.3"
        ],
        [
         "98347",
         "SK",
         "2025-06",
         "15.4"
        ],
        [
         "98348",
         "SK",
         "2025-07",
         "15.9"
        ],
        [
         "98349",
         "SK",
         "2025-08",
         "15.8"
        ]
       ],
       "shape": {
        "columns": 3,
        "rows": 5
       }
      },
      "text/html": [
       "<div>\n",
       "<style scoped>\n",
       "    .dataframe tbody tr th:only-of-type {\n",
       "        vertical-align: middle;\n",
       "    }\n",
       "\n",
       "    .dataframe tbody tr th {\n",
       "        vertical-align: top;\n",
       "    }\n",
       "\n",
       "    .dataframe thead th {\n",
       "        text-align: right;\n",
       "    }\n",
       "</style>\n",
       "<table border=\"1\" class=\"dataframe\">\n",
       "  <thead>\n",
       "    <tr style=\"text-align: right;\">\n",
       "      <th></th>\n",
       "      <th>Country</th>\n",
       "      <th>Time</th>\n",
       "      <th>Unemployment Rate (%pop in LF)</th>\n",
       "    </tr>\n",
       "  </thead>\n",
       "  <tbody>\n",
       "    <tr>\n",
       "      <th>98345</th>\n",
       "      <td>SK</td>\n",
       "      <td>2025-04</td>\n",
       "      <td>13.9</td>\n",
       "    </tr>\n",
       "    <tr>\n",
       "      <th>98346</th>\n",
       "      <td>SK</td>\n",
       "      <td>2025-05</td>\n",
       "      <td>14.3</td>\n",
       "    </tr>\n",
       "    <tr>\n",
       "      <th>98347</th>\n",
       "      <td>SK</td>\n",
       "      <td>2025-06</td>\n",
       "      <td>15.4</td>\n",
       "    </tr>\n",
       "    <tr>\n",
       "      <th>98348</th>\n",
       "      <td>SK</td>\n",
       "      <td>2025-07</td>\n",
       "      <td>15.9</td>\n",
       "    </tr>\n",
       "    <tr>\n",
       "      <th>98349</th>\n",
       "      <td>SK</td>\n",
       "      <td>2025-08</td>\n",
       "      <td>15.8</td>\n",
       "    </tr>\n",
       "  </tbody>\n",
       "</table>\n",
       "</div>"
      ],
      "text/plain": [
       "      Country     Time  Unemployment Rate (%pop in LF)\n",
       "98345      SK  2025-04                            13.9\n",
       "98346      SK  2025-05                            14.3\n",
       "98347      SK  2025-06                            15.4\n",
       "98348      SK  2025-07                            15.9\n",
       "98349      SK  2025-08                            15.8"
      ]
     },
     "execution_count": 58,
     "metadata": {},
     "output_type": "execute_result"
    }
   ],
   "source": [
    "# Unemployment rate by EU member state (monthly, Percentage of population in the labour force (age-class = total, sex-class=total), non-seasonally adjusted, 1994-01 (varying), 2025-08)\n",
    "# https://ec.europa.eu/eurostat/databrowser/view/une_rt_m/default/table?lang=en\n",
    "EURO_unem_m_raw = fetch_EUROSTAT(\n",
    "    \"une_rt_m\",\n",
    "    filters = {\n",
    "    \"geo\": [\"EU27_2020\", \"EU28\", \"EA20\", \"EA19\",  \n",
    "    \"BE\", \"BG\", \"CZ\", \"DK\", \"DE\", \"EE\", \"IE\", \"EL\", \"ES\", \"FR\",\n",
    "    \"HR\", \"IT\", \"CY\", \"LV\", \"LT\", \"LU\", \"HU\", \"MT\", \"NL\", \"AT\",\n",
    "    \"PL\", \"PT\", \"RO\", \"SI\", \"SK\", \"FI\", \"SE\"],\n",
    "    \"s_adj\": \"NSA\",\n",
    "    \"unit\": \"PC_ACT\"\n",
    "    }\n",
    ")\n",
    "\n",
    "EURO_unem_m_raw = EURO_unem_m_raw[[ \"geo\", \"time\", \"value\" ]]\n",
    "EURO_unem_m_raw = EURO_unem_m_raw.rename(columns={\n",
    "    \"geo\": \"Country\",\n",
    "    \"time\": \"Time\",\n",
    "    \"value\": \"Unemployment Rate (%pop in LF)\"\n",
    "})\n",
    "\n",
    "EURO_unem_m_raw.tail()"
   ]
  },
  {
   "cell_type": "code",
   "execution_count": 56,
   "id": "ce91981b",
   "metadata": {},
   "outputs": [
    {
     "data": {
      "application/vnd.microsoft.datawrangler.viewer.v0+json": {
       "columns": [
        {
         "name": "index",
         "rawType": "int64",
         "type": "integer"
        },
        {
         "name": "Country",
         "rawType": "object",
         "type": "string"
        },
        {
         "name": "Time",
         "rawType": "object",
         "type": "string"
        },
        {
         "name": "Unemployment Rate (%pop in LF)",
         "rawType": "float64",
         "type": "float"
        }
       ],
       "ref": "e0648d27-6f35-43fd-ab03-5bde15476fef",
       "rows": [
        [
         "4603",
         "US",
         "2025-04",
         "8.5"
        ],
        [
         "4604",
         "US",
         "2025-05",
         "9.7"
        ],
        [
         "4605",
         "US",
         "2025-06",
         "11.4"
        ],
        [
         "4606",
         "US",
         "2025-07",
         "10.8"
        ],
        [
         "4607",
         "US",
         "2025-08",
         "10.7"
        ]
       ],
       "shape": {
        "columns": 3,
        "rows": 5
       }
      },
      "text/html": [
       "<div>\n",
       "<style scoped>\n",
       "    .dataframe tbody tr th:only-of-type {\n",
       "        vertical-align: middle;\n",
       "    }\n",
       "\n",
       "    .dataframe tbody tr th {\n",
       "        vertical-align: top;\n",
       "    }\n",
       "\n",
       "    .dataframe thead th {\n",
       "        text-align: right;\n",
       "    }\n",
       "</style>\n",
       "<table border=\"1\" class=\"dataframe\">\n",
       "  <thead>\n",
       "    <tr style=\"text-align: right;\">\n",
       "      <th></th>\n",
       "      <th>Country</th>\n",
       "      <th>Time</th>\n",
       "      <th>Unemployment Rate (%pop in LF)</th>\n",
       "    </tr>\n",
       "  </thead>\n",
       "  <tbody>\n",
       "    <tr>\n",
       "      <th>4603</th>\n",
       "      <td>US</td>\n",
       "      <td>2025-04</td>\n",
       "      <td>8.5</td>\n",
       "    </tr>\n",
       "    <tr>\n",
       "      <th>4604</th>\n",
       "      <td>US</td>\n",
       "      <td>2025-05</td>\n",
       "      <td>9.7</td>\n",
       "    </tr>\n",
       "    <tr>\n",
       "      <th>4605</th>\n",
       "      <td>US</td>\n",
       "      <td>2025-06</td>\n",
       "      <td>11.4</td>\n",
       "    </tr>\n",
       "    <tr>\n",
       "      <th>4606</th>\n",
       "      <td>US</td>\n",
       "      <td>2025-07</td>\n",
       "      <td>10.8</td>\n",
       "    </tr>\n",
       "    <tr>\n",
       "      <th>4607</th>\n",
       "      <td>US</td>\n",
       "      <td>2025-08</td>\n",
       "      <td>10.7</td>\n",
       "    </tr>\n",
       "  </tbody>\n",
       "</table>\n",
       "</div>"
      ],
      "text/plain": [
       "     Country     Time  Unemployment Rate (%pop in LF)\n",
       "4603      US  2025-04                             8.5\n",
       "4604      US  2025-05                             9.7\n",
       "4605      US  2025-06                            11.4\n",
       "4606      US  2025-07                            10.8\n",
       "4607      US  2025-08                            10.7"
      ]
     },
     "execution_count": 56,
     "metadata": {},
     "output_type": "execute_result"
    }
   ],
   "source": [
    "# US Unemployment rate (monthly, Percentage of population in the labour force (age-class = total, sex-class=total), non-seasonally adjusted, 1983-01, 2025-08)\n",
    "# https://ec.europa.eu/eurostat/databrowser/view/une_rt_m/default/table?lang=en\n",
    "US_unem_m_raw = fetch_EUROSTAT(\n",
    "    \"une_rt_m\",\n",
    "    filters = {\n",
    "    \"geo\": \"US\",\n",
    "    \"s_adj\": \"NSA\",\n",
    "    \"unit\": \"PC_ACT\"\n",
    "    }\n",
    ")\n",
    "\n",
    "US_unem_m_raw = US_unem_m_raw[[ \"geo\", \"time\", \"value\" ]]\n",
    "US_unem_m_raw = US_unem_m_raw.rename(columns={\n",
    "    \"geo\": \"Country\",\n",
    "    \"time\": \"Time\",\n",
    "    \"value\": \"Unemployment Rate (%pop in LF)\"\n",
    "})\n",
    "\n",
    "US_unem_m_raw.tail()"
   ]
  },
  {
   "cell_type": "markdown",
   "id": "87024af9",
   "metadata": {},
   "source": [
    "#### **3.5) OTHERS-extracted indicators**"
   ]
  },
  {
   "cell_type": "code",
   "execution_count": null,
   "id": "ac63932e",
   "metadata": {},
   "outputs": [],
   "source": []
  },
  {
   "cell_type": "code",
   "execution_count": null,
   "id": "ce7c9584",
   "metadata": {},
   "outputs": [],
   "source": [
    "# Tariffs ratio"
   ]
  }
 ],
 "metadata": {
  "kernelspec": {
   "display_name": "base",
   "language": "python",
   "name": "python3"
  },
  "language_info": {
   "codemirror_mode": {
    "name": "ipython",
    "version": 3
   },
   "file_extension": ".py",
   "mimetype": "text/x-python",
   "name": "python",
   "nbconvert_exporter": "python",
   "pygments_lexer": "ipython3",
   "version": "3.12.4"
  }
 },
 "nbformat": 4,
 "nbformat_minor": 5
}
