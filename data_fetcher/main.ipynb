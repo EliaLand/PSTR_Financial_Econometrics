{
 "cells": [
  {
   "cell_type": "markdown",
   "id": "02b43a95",
   "metadata": {},
   "source": [
    "# **API & WEBHOOK-BASED DATA RETRIEVAL**"
   ]
  },
  {
   "cell_type": "markdown",
   "id": "3c636a87",
   "metadata": {},
   "source": [
    "### **1) REQUIREMENTS SETUP**"
   ]
  },
  {
   "cell_type": "code",
   "execution_count": 136,
   "id": "4ecc6c9a",
   "metadata": {
    "ExecuteTime": {
     "end_time": "2025-10-30T23:00:32.680584Z",
     "start_time": "2025-10-30T23:00:32.669619Z"
    }
   },
   "outputs": [],
   "source": [
    "# !pip install -r requirements.txt"
   ]
  },
  {
   "cell_type": "code",
   "execution_count": 137,
   "id": "7cb394ac",
   "metadata": {
    "ExecuteTime": {
     "end_time": "2025-10-31T13:38:05.849052Z",
     "start_time": "2025-10-31T13:37:59.096165Z"
    }
   },
   "outputs": [],
   "source": [
    "import warnings\n",
    "warnings.filterwarnings(\"ignore\")\n",
    "import os\n",
    "import pandas as pd\n",
    "import numpy as np"
   ]
  },
  {
   "cell_type": "markdown",
   "id": "c506530d",
   "metadata": {},
   "source": [
    "### **2) MODULES IMPORT**"
   ]
  },
  {
   "cell_type": "code",
   "execution_count": 138,
   "id": "d27670ad",
   "metadata": {
    "ExecuteTime": {
     "end_time": "2025-10-30T23:02:30.046048Z",
     "start_time": "2025-10-30T23:02:29.949375Z"
    }
   },
   "outputs": [],
   "source": [
    "from FRED_module import fetch_FRED\n",
    "from EUROSTAT_module import fetch_EUROSTAT\n",
    "from WB_module import fetch_WB \n",
    "from YFINANCE_module import fetch_YFINANCE\n",
    "from DBNOMICS_module import fetch_DBNOMICS"
   ]
  },
  {
   "cell_type": "markdown",
   "id": "d7d2dd32",
   "metadata": {},
   "source": [
    "### **3) DATA FETCHING**"
   ]
  },
  {
   "cell_type": "markdown",
   "id": "27ef5590",
   "metadata": {},
   "source": [
    "#### **3.1) EUROSTAT-extracted indicators**"
   ]
  },
  {
   "cell_type": "code",
   "execution_count": 139,
   "id": "7513e0c6",
   "metadata": {},
   "outputs": [
    {
     "data": {
      "application/vnd.microsoft.datawrangler.viewer.v0+json": {
       "columns": [
        {
         "name": "index",
         "rawType": "int64",
         "type": "integer"
        },
        {
         "name": "Country",
         "rawType": "object",
         "type": "string"
        },
        {
         "name": "Level 1 Index",
         "rawType": "object",
         "type": "string"
        },
        {
         "name": "Time",
         "rawType": "object",
         "type": "string"
        },
        {
         "name": "Indprod Index Value (I21)",
         "rawType": "float64",
         "type": "float"
        }
       ],
       "ref": "b2bdd74d-bd1a-48e5-98e1-f0970b6e255b",
       "rows": [
        [
         "26768",
         "SK",
         "D",
         "2025-04",
         "82.8"
        ],
        [
         "26769",
         "SK",
         "D",
         "2025-05",
         "81.0"
        ],
        [
         "26770",
         "SK",
         "D",
         "2025-06",
         "79.1"
        ],
        [
         "26771",
         "SK",
         "D",
         "2025-07",
         "76.9"
        ],
        [
         "26772",
         "SK",
         "D",
         "2025-08",
         "75.1"
        ]
       ],
       "shape": {
        "columns": 4,
        "rows": 5
       }
      },
      "text/html": [
       "<div>\n",
       "<style scoped>\n",
       "    .dataframe tbody tr th:only-of-type {\n",
       "        vertical-align: middle;\n",
       "    }\n",
       "\n",
       "    .dataframe tbody tr th {\n",
       "        vertical-align: top;\n",
       "    }\n",
       "\n",
       "    .dataframe thead th {\n",
       "        text-align: right;\n",
       "    }\n",
       "</style>\n",
       "<table border=\"1\" class=\"dataframe\">\n",
       "  <thead>\n",
       "    <tr style=\"text-align: right;\">\n",
       "      <th></th>\n",
       "      <th>Country</th>\n",
       "      <th>Level 1 Index</th>\n",
       "      <th>Time</th>\n",
       "      <th>Indprod Index Value (I21)</th>\n",
       "    </tr>\n",
       "  </thead>\n",
       "  <tbody>\n",
       "    <tr>\n",
       "      <th>26768</th>\n",
       "      <td>SK</td>\n",
       "      <td>D</td>\n",
       "      <td>2025-04</td>\n",
       "      <td>82.8</td>\n",
       "    </tr>\n",
       "    <tr>\n",
       "      <th>26769</th>\n",
       "      <td>SK</td>\n",
       "      <td>D</td>\n",
       "      <td>2025-05</td>\n",
       "      <td>81.0</td>\n",
       "    </tr>\n",
       "    <tr>\n",
       "      <th>26770</th>\n",
       "      <td>SK</td>\n",
       "      <td>D</td>\n",
       "      <td>2025-06</td>\n",
       "      <td>79.1</td>\n",
       "    </tr>\n",
       "    <tr>\n",
       "      <th>26771</th>\n",
       "      <td>SK</td>\n",
       "      <td>D</td>\n",
       "      <td>2025-07</td>\n",
       "      <td>76.9</td>\n",
       "    </tr>\n",
       "    <tr>\n",
       "      <th>26772</th>\n",
       "      <td>SK</td>\n",
       "      <td>D</td>\n",
       "      <td>2025-08</td>\n",
       "      <td>75.1</td>\n",
       "    </tr>\n",
       "  </tbody>\n",
       "</table>\n",
       "</div>"
      ],
      "text/plain": [
       "      Country Level 1 Index     Time  Indprod Index Value (I21)\n",
       "26768      SK             D  2025-04                       82.8\n",
       "26769      SK             D  2025-05                       81.0\n",
       "26770      SK             D  2025-06                       79.1\n",
       "26771      SK             D  2025-07                       76.9\n",
       "26772      SK             D  2025-08                       75.1"
      ]
     },
     "execution_count": 139,
     "metadata": {},
     "output_type": "execute_result"
    }
   ],
   "source": [
    "# Industrial Production Indicators by EU member state (monthly, level 1 indicators, Index: 2021=100, non-seasonally adjusted, 1996-01, 2025-08)\n",
    "# https://ec.europa.eu/eurostat/databrowser/view/sts_inpr_m/default/table?lang=en\n",
    "# Level 1 Indicators: Mining and Quarrying (B), Manufacturing (C), Electricity, gas, steam and air conditioning supply (D)\n",
    "EURO_indprod_m_raw = fetch_EUROSTAT(\n",
    "    \"sts_inpr_m\",\n",
    "    filters = {\n",
    "    \"geo\": [\"EU27_2020\", \"EU28\", \"EA20\", \"EA19\",  \n",
    "    \"BE\", \"BG\", \"CZ\", \"DK\", \"DE\", \"EE\", \"IE\", \"EL\", \"ES\", \"FR\",\n",
    "    \"HR\", \"IT\", \"CY\", \"LV\", \"LT\", \"LU\", \"HU\", \"MT\", \"NL\", \"AT\",\n",
    "    \"PL\", \"PT\", \"RO\", \"SI\", \"SK\", \"FI\", \"SE\"],\n",
    "    \"s_adj\": \"NSA\",\n",
    "    \"unit\": \"I21\",\n",
    "    \"nace_r2\": [\"B\", \"C\", \"D\"]\n",
    "    }\n",
    ")\n",
    "\n",
    "EURO_indprod_m_raw = EURO_indprod_m_raw[[\"geo\", \"nace_r2\", \"time\", \"value\"]]\n",
    "EURO_indprod_m_raw = EURO_indprod_m_raw.rename(columns={\n",
    "    \"geo\": \"Country\",\n",
    "    \"time\": \"Time\",\n",
    "    \"nace_r2\": \"Level 1 Index\", \n",
    "    \"value\": \"Indprod Index Value (I21)\"\n",
    "})\n",
    "EURO_indprod_m_raw = EURO_indprod_m_raw.sort_values([\"Country\", \"Level 1 Index\", \"Time\"])\n",
    "\n",
    "EURO_indprod_m_raw.tail()"
   ]
  },
  {
   "cell_type": "code",
   "execution_count": 140,
   "id": "426de587",
   "metadata": {},
   "outputs": [
    {
     "data": {
      "application/vnd.microsoft.datawrangler.viewer.v0+json": {
       "columns": [
        {
         "name": "index",
         "rawType": "int64",
         "type": "integer"
        },
        {
         "name": "Country",
         "rawType": "object",
         "type": "string"
        },
        {
         "name": "Time",
         "rawType": "object",
         "type": "string"
        },
        {
         "name": "Unemployment Rate (%pop in LF)",
         "rawType": "float64",
         "type": "float"
        }
       ],
       "ref": "b64de4e4-d376-4172-a667-ef0c3ce150a4",
       "rows": [
        [
         "10970",
         "SK",
         "2025-05",
         "5.2"
        ],
        [
         "10971",
         "SK",
         "2025-06",
         "5.3"
        ],
        [
         "10972",
         "SK",
         "2025-07",
         "5.4"
        ],
        [
         "10973",
         "SK",
         "2025-08",
         "5.5"
        ],
        [
         "10974",
         "SK",
         "2025-09",
         "5.6"
        ]
       ],
       "shape": {
        "columns": 3,
        "rows": 5
       }
      },
      "text/html": [
       "<div>\n",
       "<style scoped>\n",
       "    .dataframe tbody tr th:only-of-type {\n",
       "        vertical-align: middle;\n",
       "    }\n",
       "\n",
       "    .dataframe tbody tr th {\n",
       "        vertical-align: top;\n",
       "    }\n",
       "\n",
       "    .dataframe thead th {\n",
       "        text-align: right;\n",
       "    }\n",
       "</style>\n",
       "<table border=\"1\" class=\"dataframe\">\n",
       "  <thead>\n",
       "    <tr style=\"text-align: right;\">\n",
       "      <th></th>\n",
       "      <th>Country</th>\n",
       "      <th>Time</th>\n",
       "      <th>Unemployment Rate (%pop in LF)</th>\n",
       "    </tr>\n",
       "  </thead>\n",
       "  <tbody>\n",
       "    <tr>\n",
       "      <th>10970</th>\n",
       "      <td>SK</td>\n",
       "      <td>2025-05</td>\n",
       "      <td>5.2</td>\n",
       "    </tr>\n",
       "    <tr>\n",
       "      <th>10971</th>\n",
       "      <td>SK</td>\n",
       "      <td>2025-06</td>\n",
       "      <td>5.3</td>\n",
       "    </tr>\n",
       "    <tr>\n",
       "      <th>10972</th>\n",
       "      <td>SK</td>\n",
       "      <td>2025-07</td>\n",
       "      <td>5.4</td>\n",
       "    </tr>\n",
       "    <tr>\n",
       "      <th>10973</th>\n",
       "      <td>SK</td>\n",
       "      <td>2025-08</td>\n",
       "      <td>5.5</td>\n",
       "    </tr>\n",
       "    <tr>\n",
       "      <th>10974</th>\n",
       "      <td>SK</td>\n",
       "      <td>2025-09</td>\n",
       "      <td>5.6</td>\n",
       "    </tr>\n",
       "  </tbody>\n",
       "</table>\n",
       "</div>"
      ],
      "text/plain": [
       "      Country     Time  Unemployment Rate (%pop in LF)\n",
       "10970      SK  2025-05                             5.2\n",
       "10971      SK  2025-06                             5.3\n",
       "10972      SK  2025-07                             5.4\n",
       "10973      SK  2025-08                             5.5\n",
       "10974      SK  2025-09                             5.6"
      ]
     },
     "execution_count": 140,
     "metadata": {},
     "output_type": "execute_result"
    }
   ],
   "source": [
    "# Unemployment rate by EU member state (initially quarterly transformed by duplication to monthly, Percentage of population in the labour force (age-class = total, sex-class=total), non-seasonally adjusted, 1994-01 (varying), 2025-08)\n",
    "# https://ec.europa.eu/eurostat/databrowser/view/une_rt_m/default/table?lang=en\n",
    "EURO_unem_m_raw = fetch_EUROSTAT(\n",
    "    \"une_rt_m\",\n",
    "    filters = {\n",
    "    \"geo\": [\"EU27_2020\", \"EU28\", \"EA20\", \"EA19\",  \n",
    "    \"BE\", \"BG\", \"CZ\", \"DK\", \"DE\", \"EE\", \"IE\", \"EL\", \"ES\", \"FR\",\n",
    "    \"HR\", \"IT\", \"CY\", \"LV\", \"LT\", \"LU\", \"HU\", \"MT\", \"NL\", \"AT\",\n",
    "    \"PL\", \"PT\", \"RO\", \"SI\", \"SK\", \"FI\", \"SE\"],\n",
    "    \"s_adj\": \"NSA\",\n",
    "    \"unit\": \"PC_ACT\",\n",
    "    \"freq\": \"M\",\n",
    "    \"age\": \"TOTAL\",\n",
    "    \"sex\": \"T\"\n",
    "    }\n",
    ")\n",
    "\n",
    "EURO_unem_m_raw = EURO_unem_m_raw[[\"geo\", \"time\", \"value\"]]\n",
    "EURO_unem_m_raw = EURO_unem_m_raw.rename(columns={\n",
    "    \"geo\": \"Country\",\n",
    "    \"time\": \"Time\",\n",
    "    \"value\": \"Unemployment Rate (%pop in LF)\"\n",
    "})\n",
    "\n",
    "EURO_unem_m_raw.tail()"
   ]
  },
  {
   "cell_type": "code",
   "execution_count": 141,
   "id": "80debdbc",
   "metadata": {
    "ExecuteTime": {
     "end_time": "2025-10-30T23:02:45.918961Z",
     "start_time": "2025-10-30T23:02:42.279133Z"
    }
   },
   "outputs": [
    {
     "data": {
      "application/vnd.microsoft.datawrangler.viewer.v0+json": {
       "columns": [
        {
         "name": "index",
         "rawType": "int64",
         "type": "integer"
        },
        {
         "name": "Country",
         "rawType": "object",
         "type": "string"
        },
        {
         "name": "Time",
         "rawType": "object",
         "type": "string"
        },
        {
         "name": "GDP (Million EUR)",
         "rawType": "float64",
         "type": "float"
        }
       ],
       "ref": "e375cc49-e073-4509-94fb-818edd6f8279",
       "rows": [
        [
         "0",
         "AT",
         "1995-01",
         "14395.533333333333"
        ],
        [
         "1",
         "AT",
         "1995-02",
         "14395.533333333333"
        ],
        [
         "2",
         "AT",
         "1995-03",
         "14395.533333333333"
        ],
        [
         "3",
         "AT",
         "1995-04",
         "15595.6"
        ],
        [
         "4",
         "AT",
         "1995-05",
         "15595.6"
        ]
       ],
       "shape": {
        "columns": 3,
        "rows": 5
       }
      },
      "text/html": [
       "<div>\n",
       "<style scoped>\n",
       "    .dataframe tbody tr th:only-of-type {\n",
       "        vertical-align: middle;\n",
       "    }\n",
       "\n",
       "    .dataframe tbody tr th {\n",
       "        vertical-align: top;\n",
       "    }\n",
       "\n",
       "    .dataframe thead th {\n",
       "        text-align: right;\n",
       "    }\n",
       "</style>\n",
       "<table border=\"1\" class=\"dataframe\">\n",
       "  <thead>\n",
       "    <tr style=\"text-align: right;\">\n",
       "      <th></th>\n",
       "      <th>Country</th>\n",
       "      <th>Time</th>\n",
       "      <th>GDP (Million EUR)</th>\n",
       "    </tr>\n",
       "  </thead>\n",
       "  <tbody>\n",
       "    <tr>\n",
       "      <th>0</th>\n",
       "      <td>AT</td>\n",
       "      <td>1995-01</td>\n",
       "      <td>14395.533333</td>\n",
       "    </tr>\n",
       "    <tr>\n",
       "      <th>1</th>\n",
       "      <td>AT</td>\n",
       "      <td>1995-02</td>\n",
       "      <td>14395.533333</td>\n",
       "    </tr>\n",
       "    <tr>\n",
       "      <th>2</th>\n",
       "      <td>AT</td>\n",
       "      <td>1995-03</td>\n",
       "      <td>14395.533333</td>\n",
       "    </tr>\n",
       "    <tr>\n",
       "      <th>3</th>\n",
       "      <td>AT</td>\n",
       "      <td>1995-04</td>\n",
       "      <td>15595.600000</td>\n",
       "    </tr>\n",
       "    <tr>\n",
       "      <th>4</th>\n",
       "      <td>AT</td>\n",
       "      <td>1995-05</td>\n",
       "      <td>15595.600000</td>\n",
       "    </tr>\n",
       "  </tbody>\n",
       "</table>\n",
       "</div>"
      ],
      "text/plain": [
       "  Country     Time  GDP (Million EUR)\n",
       "0      AT  1995-01       14395.533333\n",
       "1      AT  1995-02       14395.533333\n",
       "2      AT  1995-03       14395.533333\n",
       "3      AT  1995-04       15595.600000\n",
       "4      AT  1995-05       15595.600000"
      ]
     },
     "execution_count": 141,
     "metadata": {},
     "output_type": "execute_result"
    }
   ],
   "source": [
    "# UPDATE IN USD\n",
    "\n",
    "# Gross domestic product at market prices by EU member state (initially quarterly transformed by duplication to monthly, current prices in million euro, non-seasonally adjusted, 1995-Q1 (varying), 2025-Q2)\n",
    "# https://ec.europa.eu/eurostat/databrowser/view/namq_10_gdp/default/table?lang=en\n",
    "EURO_GDP_q_raw = fetch_EUROSTAT(\n",
    "    \"namq_10_gdp\",\n",
    "    filters = {\n",
    "    \"geo\": [\"EU27_2020\", \"EU28\", \"EA20\", \"EA19\",  \n",
    "    \"BE\", \"BG\", \"CZ\", \"DK\", \"DE\", \"EE\", \"IE\", \"EL\", \"ES\", \"FR\",\n",
    "    \"HR\", \"IT\", \"CY\", \"LV\", \"LT\", \"LU\", \"HU\", \"MT\", \"NL\", \"AT\",\n",
    "    \"PL\", \"PT\", \"RO\", \"SI\", \"SK\", \"FI\", \"SE\"],\n",
    "    \"na_item\": \"B1GQ\",\n",
    "    \"s_adj\": \"NSA\",\n",
    "    \"unit\": \"CP_MEUR\"\n",
    "    }\n",
    ")\n",
    "\n",
    "EURO_GDP_q_raw = EURO_GDP_q_raw[[\"geo\", \"time\", \"value\"]]\n",
    "EURO_GDP_q_raw = EURO_GDP_q_raw.rename(columns={\n",
    "    \"geo\": \"Country\",\n",
    "    \"time\": \"Time\",\n",
    "    \"value\": \"GDP (Million EUR)\"\n",
    "})\n",
    "\n",
    "# Increasing data granularity from quarterly to monthly data by extending the quarter value to single months \n",
    "EURO_GDP_q_raw[\"Time\"] = pd.PeriodIndex(EURO_GDP_q_raw[\"Time\"], freq=\"Q\").to_timestamp()\n",
    "expanded_rows = []\n",
    "\n",
    "for _, row in EURO_GDP_q_raw.iterrows():\n",
    "    quarter_end = row[\"Time\"]\n",
    "    start_month = quarter_end - pd.offsets.QuarterEnd(startingMonth=3) + pd.DateOffset(days=1)\n",
    "    for i in range(3):\n",
    "        month = (start_month + pd.DateOffset(months=i)).strftime(\"%Y-%m\")\n",
    "        expanded_rows.append({\n",
    "            \"Country\": row[\"Country\"],\n",
    "            \"Time\": month,\n",
    "            \"GDP (Million EUR)\": row[\"GDP (Million EUR)\"] / 3\n",
    "        })\n",
    "\n",
    "EURO_GDP_m_raw = pd.DataFrame(expanded_rows)\n",
    "EURO_GDP_m_raw = EURO_GDP_m_raw.sort_values(by=[\"Country\", \"Time\"]).reset_index(drop=True)\n",
    "\n",
    "EURO_GDP_m_raw.head()"
   ]
  },
  {
   "cell_type": "code",
   "execution_count": 142,
   "id": "33618a0a",
   "metadata": {},
   "outputs": [
    {
     "data": {
      "application/vnd.microsoft.datawrangler.viewer.v0+json": {
       "columns": [
        {
         "name": "index",
         "rawType": "int64",
         "type": "integer"
        },
        {
         "name": "Country",
         "rawType": "object",
         "type": "string"
        },
        {
         "name": "Time",
         "rawType": "object",
         "type": "string"
        },
        {
         "name": "HICP (%, annual rate of change)",
         "rawType": "float64",
         "type": "float"
        }
       ],
       "ref": "18e86a3f-4efc-40f8-8c33-4ae8d87e88ca",
       "rows": [
        [
         "10466",
         "SK",
         "2025-06",
         "4.6"
        ],
        [
         "10467",
         "SK",
         "2025-07",
         "4.6"
        ],
        [
         "10468",
         "SK",
         "2025-08",
         "4.4"
        ],
        [
         "10469",
         "SK",
         "2025-09",
         "4.6"
        ],
        [
         "10470",
         "SK",
         "2025-10",
         "3.8"
        ]
       ],
       "shape": {
        "columns": 3,
        "rows": 5
       }
      },
      "text/html": [
       "<div>\n",
       "<style scoped>\n",
       "    .dataframe tbody tr th:only-of-type {\n",
       "        vertical-align: middle;\n",
       "    }\n",
       "\n",
       "    .dataframe tbody tr th {\n",
       "        vertical-align: top;\n",
       "    }\n",
       "\n",
       "    .dataframe thead th {\n",
       "        text-align: right;\n",
       "    }\n",
       "</style>\n",
       "<table border=\"1\" class=\"dataframe\">\n",
       "  <thead>\n",
       "    <tr style=\"text-align: right;\">\n",
       "      <th></th>\n",
       "      <th>Country</th>\n",
       "      <th>Time</th>\n",
       "      <th>HICP (%, annual rate of change)</th>\n",
       "    </tr>\n",
       "  </thead>\n",
       "  <tbody>\n",
       "    <tr>\n",
       "      <th>10466</th>\n",
       "      <td>SK</td>\n",
       "      <td>2025-06</td>\n",
       "      <td>4.6</td>\n",
       "    </tr>\n",
       "    <tr>\n",
       "      <th>10467</th>\n",
       "      <td>SK</td>\n",
       "      <td>2025-07</td>\n",
       "      <td>4.6</td>\n",
       "    </tr>\n",
       "    <tr>\n",
       "      <th>10468</th>\n",
       "      <td>SK</td>\n",
       "      <td>2025-08</td>\n",
       "      <td>4.4</td>\n",
       "    </tr>\n",
       "    <tr>\n",
       "      <th>10469</th>\n",
       "      <td>SK</td>\n",
       "      <td>2025-09</td>\n",
       "      <td>4.6</td>\n",
       "    </tr>\n",
       "    <tr>\n",
       "      <th>10470</th>\n",
       "      <td>SK</td>\n",
       "      <td>2025-10</td>\n",
       "      <td>3.8</td>\n",
       "    </tr>\n",
       "  </tbody>\n",
       "</table>\n",
       "</div>"
      ],
      "text/plain": [
       "      Country     Time  HICP (%, annual rate of change)\n",
       "10466      SK  2025-06                              4.6\n",
       "10467      SK  2025-07                              4.6\n",
       "10468      SK  2025-08                              4.4\n",
       "10469      SK  2025-09                              4.6\n",
       "10470      SK  2025-10                              3.8"
      ]
     },
     "execution_count": 142,
     "metadata": {},
     "output_type": "execute_result"
    }
   ],
   "source": [
    "# HICP by EU member state (monthly, annual rate of change, 1997-01 (varying), 2025-09)\n",
    "# https://ec.europa.eu/eurostat/databrowser/view/PRC_HICP_MANR__custom_3807536/bookmark/table?lang=en&bookmarkId=cd099aa2-8977-42d5-b5d8-bc5edd3a94df&c=1668007557361 \n",
    "EURO_HICP_m_raw = fetch_EUROSTAT(\n",
    "    \"prc_hicp_manr\",\n",
    "    filters={\n",
    "    \"geo\": [\n",
    "    \"EU27_2020\", \"EU28\", \"EA20\", \"EA19\", \n",
    "    \"BE\", \"BG\", \"CZ\", \"DK\", \"DE\", \"EE\", \"IE\", \"EL\", \"ES\", \"FR\",\n",
    "    \"HR\", \"IT\", \"CY\", \"LV\", \"LT\", \"LU\", \"HU\", \"MT\", \"NL\", \"AT\",\n",
    "    \"PL\", \"PT\", \"RO\", \"SI\", \"SK\", \"FI\", \"SE\"\n",
    "    ],\n",
    "    \"coicop\": \"CP00\", \n",
    "    \"unit\": \"RCH_A\"\n",
    "    }\n",
    ")\n",
    "\n",
    "EURO_HICP_m_raw = EURO_HICP_m_raw[[\"geo\", \"time\", \"value\"]]\n",
    "EURO_HICP_m_raw = EURO_HICP_m_raw.rename(columns={\n",
    "    \"geo\": \"Country\",\n",
    "    \"time\": \"Time\",\n",
    "    \"value\": \"HICP (%, annual rate of change)\"\n",
    "})\n",
    "\n",
    "EURO_HICP_m_raw.tail()"
   ]
  },
  {
   "cell_type": "markdown",
   "id": "d0b2bf0f",
   "metadata": {},
   "source": [
    "#### **3.2) FRED-extracted indicators**"
   ]
  },
  {
   "cell_type": "code",
   "execution_count": 143,
   "id": "d937246d",
   "metadata": {},
   "outputs": [
    {
     "data": {
      "application/vnd.microsoft.datawrangler.viewer.v0+json": {
       "columns": [
        {
         "name": "index",
         "rawType": "int64",
         "type": "integer"
        },
        {
         "name": "Country",
         "rawType": "object",
         "type": "string"
        },
        {
         "name": "Time",
         "rawType": "object",
         "type": "string"
        },
        {
         "name": "USD-EUR Spot Exchange Rate",
         "rawType": "float64",
         "type": "float"
        }
       ],
       "ref": "a06b53ab-c60d-4973-bc9e-ca63ef4f9a3c",
       "rows": [
        [
         "6435",
         "SK",
         "2025-06",
         "1.153365"
        ],
        [
         "6436",
         "SK",
         "2025-07",
         "1.1670818181818183"
        ],
        [
         "6437",
         "SK",
         "2025-08",
         "1.1647476190476191"
        ],
        [
         "6438",
         "SK",
         "2025-09",
         "1.1738714285714285"
        ],
        [
         "6439",
         "SK",
         "2025-10",
         "1.1648941176470589"
        ]
       ],
       "shape": {
        "columns": 3,
        "rows": 5
       }
      },
      "text/html": [
       "<div>\n",
       "<style scoped>\n",
       "    .dataframe tbody tr th:only-of-type {\n",
       "        vertical-align: middle;\n",
       "    }\n",
       "\n",
       "    .dataframe tbody tr th {\n",
       "        vertical-align: top;\n",
       "    }\n",
       "\n",
       "    .dataframe thead th {\n",
       "        text-align: right;\n",
       "    }\n",
       "</style>\n",
       "<table border=\"1\" class=\"dataframe\">\n",
       "  <thead>\n",
       "    <tr style=\"text-align: right;\">\n",
       "      <th></th>\n",
       "      <th>Country</th>\n",
       "      <th>Time</th>\n",
       "      <th>USD-EUR Spot Exchange Rate</th>\n",
       "    </tr>\n",
       "  </thead>\n",
       "  <tbody>\n",
       "    <tr>\n",
       "      <th>6435</th>\n",
       "      <td>SK</td>\n",
       "      <td>2025-06</td>\n",
       "      <td>1.153365</td>\n",
       "    </tr>\n",
       "    <tr>\n",
       "      <th>6436</th>\n",
       "      <td>SK</td>\n",
       "      <td>2025-07</td>\n",
       "      <td>1.167082</td>\n",
       "    </tr>\n",
       "    <tr>\n",
       "      <th>6437</th>\n",
       "      <td>SK</td>\n",
       "      <td>2025-08</td>\n",
       "      <td>1.164748</td>\n",
       "    </tr>\n",
       "    <tr>\n",
       "      <th>6438</th>\n",
       "      <td>SK</td>\n",
       "      <td>2025-09</td>\n",
       "      <td>1.173871</td>\n",
       "    </tr>\n",
       "    <tr>\n",
       "      <th>6439</th>\n",
       "      <td>SK</td>\n",
       "      <td>2025-10</td>\n",
       "      <td>1.164894</td>\n",
       "    </tr>\n",
       "  </tbody>\n",
       "</table>\n",
       "</div>"
      ],
      "text/plain": [
       "     Country     Time  USD-EUR Spot Exchange Rate\n",
       "6435      SK  2025-06                    1.153365\n",
       "6436      SK  2025-07                    1.167082\n",
       "6437      SK  2025-08                    1.164748\n",
       "6438      SK  2025-09                    1.173871\n",
       "6439      SK  2025-10                    1.164894"
      ]
     },
     "execution_count": 143,
     "metadata": {},
     "output_type": "execute_result"
    }
   ],
   "source": [
    "# US-EUR exchange rate, U.S. Dollars to One Euro (initially daily, converted to monthly, non-seasonally adjusted, 1999-01, 2025-10)\n",
    "# https://fred.stlouisfed.org/series/DEXUSEU\n",
    "EXUSEU_d_raw = fetch_FRED(\"DEXUSEU\") \n",
    "EXUSEU_d_raw = EXUSEU_d_raw.rename(columns= \n",
    "        {\"date\": \"Time\", \n",
    "         \"DEXUSEU\": \"USD-EUR Spot Exchange Rate\"\n",
    "})\n",
    "\n",
    "# Aggregation (dimension from daily to monthly)\n",
    "EXUSEU_d_raw = EXUSEU_d_raw.set_index(\"Time\")\n",
    "EXUSEU_m_raw = EXUSEU_d_raw.resample(\"M\").mean().reset_index()\n",
    "EXUSEU_m_raw[\"Time\"] = EXUSEU_m_raw[\"Time\"].dt.to_period(\"M\").astype(str)\n",
    "\n",
    "# Extension to every Euro-adopting country\n",
    "euro_countries = [\n",
    "    \"BE\", \"DE\", \"EE\", \"IE\", \"EL\", \"ES\", \"FR\",\n",
    "    \"HR\", \"IT\", \"CY\", \"LV\", \"LT\", \"LU\", \"MT\",\n",
    "    \"NL\", \"AT\", \"PT\", \"SI\", \"SK\", \"FI\"\n",
    "]\n",
    "EXUSEU_m_raw = (EXUSEU_m_raw.assign(key=1).merge(pd.DataFrame({\"Country\": euro_countries, \"key\": 1}), on=\"key\").drop(\"key\", axis=1)).sort_values([\"Country\", \"Time\"]).reset_index(drop=True)\n",
    "EXUSEU_m_raw = EXUSEU_m_raw[[\"Country\", \"Time\", \"USD-EUR Spot Exchange Rate\"]]\n",
    "\n",
    "EXUSEU_m_raw.tail()"
   ]
  },
  {
   "cell_type": "code",
   "execution_count": 144,
   "id": "a6c3abe4",
   "metadata": {},
   "outputs": [
    {
     "data": {
      "application/vnd.microsoft.datawrangler.viewer.v0+json": {
       "columns": [
        {
         "name": "index",
         "rawType": "int64",
         "type": "integer"
        },
        {
         "name": "Country",
         "rawType": "object",
         "type": "string"
        },
        {
         "name": "Time",
         "rawType": "object",
         "type": "string"
        },
        {
         "name": "USD-BGN Spot Exchange Rate",
         "rawType": "float64",
         "type": "float"
        }
       ],
       "ref": "b3aa44ce-b8e2-46cf-93b8-35b96ccb5e55",
       "rows": [
        [
         "769",
         "BG",
         "2021-02",
         "1.6167"
        ],
        [
         "770",
         "BG",
         "2021-03",
         "1.6447"
        ],
        [
         "771",
         "BG",
         "2021-04",
         "1.6366"
        ],
        [
         "772",
         "BG",
         "2021-05",
         "1.6084"
        ],
        [
         "773",
         "BG",
         "2021-06",
         "1.6237"
        ]
       ],
       "shape": {
        "columns": 3,
        "rows": 5
       }
      },
      "text/html": [
       "<div>\n",
       "<style scoped>\n",
       "    .dataframe tbody tr th:only-of-type {\n",
       "        vertical-align: middle;\n",
       "    }\n",
       "\n",
       "    .dataframe tbody tr th {\n",
       "        vertical-align: top;\n",
       "    }\n",
       "\n",
       "    .dataframe thead th {\n",
       "        text-align: right;\n",
       "    }\n",
       "</style>\n",
       "<table border=\"1\" class=\"dataframe\">\n",
       "  <thead>\n",
       "    <tr style=\"text-align: right;\">\n",
       "      <th></th>\n",
       "      <th>Country</th>\n",
       "      <th>Time</th>\n",
       "      <th>USD-BGN Spot Exchange Rate</th>\n",
       "    </tr>\n",
       "  </thead>\n",
       "  <tbody>\n",
       "    <tr>\n",
       "      <th>769</th>\n",
       "      <td>BG</td>\n",
       "      <td>2021-02</td>\n",
       "      <td>1.6167</td>\n",
       "    </tr>\n",
       "    <tr>\n",
       "      <th>770</th>\n",
       "      <td>BG</td>\n",
       "      <td>2021-03</td>\n",
       "      <td>1.6447</td>\n",
       "    </tr>\n",
       "    <tr>\n",
       "      <th>771</th>\n",
       "      <td>BG</td>\n",
       "      <td>2021-04</td>\n",
       "      <td>1.6366</td>\n",
       "    </tr>\n",
       "    <tr>\n",
       "      <th>772</th>\n",
       "      <td>BG</td>\n",
       "      <td>2021-05</td>\n",
       "      <td>1.6084</td>\n",
       "    </tr>\n",
       "    <tr>\n",
       "      <th>773</th>\n",
       "      <td>BG</td>\n",
       "      <td>2021-06</td>\n",
       "      <td>1.6237</td>\n",
       "    </tr>\n",
       "  </tbody>\n",
       "</table>\n",
       "</div>"
      ],
      "text/plain": [
       "    Country     Time  USD-BGN Spot Exchange Rate\n",
       "769      BG  2021-02                      1.6167\n",
       "770      BG  2021-03                      1.6447\n",
       "771      BG  2021-04                      1.6366\n",
       "772      BG  2021-05                      1.6084\n",
       "773      BG  2021-06                      1.6237"
      ]
     },
     "execution_count": 144,
     "metadata": {},
     "output_type": "execute_result"
    }
   ],
   "source": [
    "# US-BGN exchange rate, U.S. Dollars to One Bulgarian Lev (monthly, non-seasonally adjusted, 1960-01, 2021-06)\n",
    "# https://fred.stlouisfed.org/series/BGRCCUSMA02STM\n",
    "\n",
    "EXUSBGN_m_raw = fetch_FRED(\"BGRCCUSMA02STM\") \n",
    "EXUSBGN_m_raw = EXUSBGN_m_raw.rename(columns= \n",
    "        {\"date\": \"Time\", \n",
    "         \"BGRCCUSMA02STM\": \"USD-BGN Spot Exchange Rate\"\n",
    "})\n",
    "\n",
    "EXUSBGN_m_raw[\"Time\"] = EXUSBGN_m_raw[\"Time\"].dt.to_period(\"M\").astype(str)\n",
    "\n",
    "EXUSBGN_m_raw[\"Country\"] = \"BG\"\n",
    "EXUSBGN_m_raw = EXUSBGN_m_raw[[\"Country\", \"Time\", \"USD-BGN Spot Exchange Rate\"]]\n",
    "\n",
    "EXUSBGN_m_raw.tail()"
   ]
  },
  {
   "cell_type": "code",
   "execution_count": 145,
   "id": "1f6f01ce",
   "metadata": {},
   "outputs": [
    {
     "data": {
      "application/vnd.microsoft.datawrangler.viewer.v0+json": {
       "columns": [
        {
         "name": "index",
         "rawType": "int64",
         "type": "integer"
        },
        {
         "name": "Country",
         "rawType": "object",
         "type": "string"
        },
        {
         "name": "Time",
         "rawType": "object",
         "type": "string"
        },
        {
         "name": "USD-SKK Spot Exchange Rate",
         "rawType": "float64",
         "type": "float"
        }
       ],
       "ref": "625a0718-da6e-46ac-a0a5-ab8002940373",
       "rows": [
        [
         "653",
         "SE",
         "2025-06",
         "0.10473183675029679"
        ],
        [
         "654",
         "SE",
         "2025-07",
         "0.10419384981593209"
        ],
        [
         "655",
         "SE",
         "2025-08",
         "0.10441221145561064"
        ],
        [
         "656",
         "SE",
         "2025-09",
         "0.10669300459694432"
        ],
        [
         "657",
         "SE",
         "2025-10",
         "0.10603600608521925"
        ]
       ],
       "shape": {
        "columns": 3,
        "rows": 5
       }
      },
      "text/html": [
       "<div>\n",
       "<style scoped>\n",
       "    .dataframe tbody tr th:only-of-type {\n",
       "        vertical-align: middle;\n",
       "    }\n",
       "\n",
       "    .dataframe tbody tr th {\n",
       "        vertical-align: top;\n",
       "    }\n",
       "\n",
       "    .dataframe thead th {\n",
       "        text-align: right;\n",
       "    }\n",
       "</style>\n",
       "<table border=\"1\" class=\"dataframe\">\n",
       "  <thead>\n",
       "    <tr style=\"text-align: right;\">\n",
       "      <th></th>\n",
       "      <th>Country</th>\n",
       "      <th>Time</th>\n",
       "      <th>USD-SKK Spot Exchange Rate</th>\n",
       "    </tr>\n",
       "  </thead>\n",
       "  <tbody>\n",
       "    <tr>\n",
       "      <th>653</th>\n",
       "      <td>SE</td>\n",
       "      <td>2025-06</td>\n",
       "      <td>0.104732</td>\n",
       "    </tr>\n",
       "    <tr>\n",
       "      <th>654</th>\n",
       "      <td>SE</td>\n",
       "      <td>2025-07</td>\n",
       "      <td>0.104194</td>\n",
       "    </tr>\n",
       "    <tr>\n",
       "      <th>655</th>\n",
       "      <td>SE</td>\n",
       "      <td>2025-08</td>\n",
       "      <td>0.104412</td>\n",
       "    </tr>\n",
       "    <tr>\n",
       "      <th>656</th>\n",
       "      <td>SE</td>\n",
       "      <td>2025-09</td>\n",
       "      <td>0.106693</td>\n",
       "    </tr>\n",
       "    <tr>\n",
       "      <th>657</th>\n",
       "      <td>SE</td>\n",
       "      <td>2025-10</td>\n",
       "      <td>0.106036</td>\n",
       "    </tr>\n",
       "  </tbody>\n",
       "</table>\n",
       "</div>"
      ],
      "text/plain": [
       "    Country     Time  USD-SKK Spot Exchange Rate\n",
       "653      SE  2025-06                    0.104732\n",
       "654      SE  2025-07                    0.104194\n",
       "655      SE  2025-08                    0.104412\n",
       "656      SE  2025-09                    0.106693\n",
       "657      SE  2025-10                    0.106036"
      ]
     },
     "execution_count": 145,
     "metadata": {},
     "output_type": "execute_result"
    }
   ],
   "source": [
    "# US-SKK exchange rate, U.S. Dollar to One Swedish Kronor (initially SKK-US daily, converted to US-SKK monthly, non-seasonally adjusted, 1971-01, 2025-10)\n",
    "# https://fred.stlouisfed.org/series/DEXSDUS\n",
    "EXSKKUS_d_raw = fetch_FRED(\"DEXSDUS\") \n",
    "EXSKKUS_d_raw = EXSKKUS_d_raw.rename(columns= \n",
    "        {\"date\": \"Time\", \n",
    "         \"DEXSDUS\": \"SKK-USD Spot Exchange Rate\"\n",
    "})\n",
    "\n",
    "# Aggregation (dimension from daily to monthly)\n",
    "EXSKKUS_d_raw = EXSKKUS_d_raw.set_index(\"Time\")\n",
    "EXSKKUS_m_raw = EXSKKUS_d_raw.resample(\"M\").mean().reset_index()\n",
    "EXSKKUS_m_raw[\"Time\"] = EXSKKUS_m_raw[\"Time\"].dt.to_period(\"M\").astype(str)\n",
    "\n",
    "# Conversion to USXS spot exchange rate \n",
    "EXUSSKK_m_raw = EXSKKUS_m_raw.copy()\n",
    "EXUSSKK_m_raw[\"USD-SKK Spot Exchange Rate\"] = 1 / EXUSSKK_m_raw[\"SKK-USD Spot Exchange Rate\"]\n",
    "EXUSSKK_m_raw = EXUSSKK_m_raw.drop(columns=[\"SKK-USD Spot Exchange Rate\"])\n",
    "\n",
    "EXUSSKK_m_raw[\"Country\"] = \"SE\"\n",
    "EXUSSKK_m_raw = EXUSSKK_m_raw[[\"Country\", \"Time\", \"USD-SKK Spot Exchange Rate\"]]\n",
    "\n",
    "EXUSSKK_m_raw.tail()"
   ]
  },
  {
   "cell_type": "code",
   "execution_count": 146,
   "id": "97658bf4",
   "metadata": {},
   "outputs": [
    {
     "data": {
      "application/vnd.microsoft.datawrangler.viewer.v0+json": {
       "columns": [
        {
         "name": "index",
         "rawType": "int64",
         "type": "integer"
        },
        {
         "name": "Country",
         "rawType": "object",
         "type": "string"
        },
        {
         "name": "Time",
         "rawType": "object",
         "type": "string"
        },
        {
         "name": "USD-DKK Spot Exchange Rate",
         "rawType": "float64",
         "type": "float"
        }
       ],
       "ref": "ed3b73e9-dcf2-45c0-8e8f-df0358a4d8c0",
       "rows": [
        [
         "652",
         "DK",
         "2025-05",
         "0.15110990223189324"
        ],
        [
         "653",
         "DK",
         "2025-06",
         "0.15460729746444032"
        ],
        [
         "654",
         "DK",
         "2025-07",
         "0.1563868384836732"
        ],
        [
         "655",
         "DK",
         "2025-08",
         "0.15605736668799453"
        ],
        [
         "656",
         "DK",
         "2025-09",
         "0.15725743041358703"
        ]
       ],
       "shape": {
        "columns": 3,
        "rows": 5
       }
      },
      "text/html": [
       "<div>\n",
       "<style scoped>\n",
       "    .dataframe tbody tr th:only-of-type {\n",
       "        vertical-align: middle;\n",
       "    }\n",
       "\n",
       "    .dataframe tbody tr th {\n",
       "        vertical-align: top;\n",
       "    }\n",
       "\n",
       "    .dataframe thead th {\n",
       "        text-align: right;\n",
       "    }\n",
       "</style>\n",
       "<table border=\"1\" class=\"dataframe\">\n",
       "  <thead>\n",
       "    <tr style=\"text-align: right;\">\n",
       "      <th></th>\n",
       "      <th>Country</th>\n",
       "      <th>Time</th>\n",
       "      <th>USD-DKK Spot Exchange Rate</th>\n",
       "    </tr>\n",
       "  </thead>\n",
       "  <tbody>\n",
       "    <tr>\n",
       "      <th>652</th>\n",
       "      <td>DK</td>\n",
       "      <td>2025-05</td>\n",
       "      <td>0.151110</td>\n",
       "    </tr>\n",
       "    <tr>\n",
       "      <th>653</th>\n",
       "      <td>DK</td>\n",
       "      <td>2025-06</td>\n",
       "      <td>0.154607</td>\n",
       "    </tr>\n",
       "    <tr>\n",
       "      <th>654</th>\n",
       "      <td>DK</td>\n",
       "      <td>2025-07</td>\n",
       "      <td>0.156387</td>\n",
       "    </tr>\n",
       "    <tr>\n",
       "      <th>655</th>\n",
       "      <td>DK</td>\n",
       "      <td>2025-08</td>\n",
       "      <td>0.156057</td>\n",
       "    </tr>\n",
       "    <tr>\n",
       "      <th>656</th>\n",
       "      <td>DK</td>\n",
       "      <td>2025-09</td>\n",
       "      <td>0.157257</td>\n",
       "    </tr>\n",
       "  </tbody>\n",
       "</table>\n",
       "</div>"
      ],
      "text/plain": [
       "    Country     Time  USD-DKK Spot Exchange Rate\n",
       "652      DK  2025-05                    0.151110\n",
       "653      DK  2025-06                    0.154607\n",
       "654      DK  2025-07                    0.156387\n",
       "655      DK  2025-08                    0.156057\n",
       "656      DK  2025-09                    0.157257"
      ]
     },
     "execution_count": 146,
     "metadata": {},
     "output_type": "execute_result"
    }
   ],
   "source": [
    "# US-DKK exchange rate, U.S. Dollar to One Danish Krone (initially DN-US converted to US-DN, monthly non-seasonally adjusted, 1971-01, 2025-09)\n",
    "# https://fred.stlouisfed.org/series/EXDNUS\n",
    "EXDKKUS_m_raw = fetch_FRED(\"EXDNUS\") \n",
    "EXDKKUS_m_raw = EXDKKUS_m_raw.rename(columns= \n",
    "        {\"date\": \"Time\", \n",
    "         \"EXDNUS\": \"DKK-USD Spot Exchange Rate\"\n",
    "})\n",
    "\n",
    "EXDKKUS_m_raw[\"Time\"] = EXDKKUS_m_raw[\"Time\"].dt.to_period(\"M\").astype(str)\n",
    "\n",
    "# Conversion to USDN spot exchange rate \n",
    "EXUSDKK_m_raw = EXDKKUS_m_raw.copy()\n",
    "EXUSDKK_m_raw[\"USD-DKK Spot Exchange Rate\"] = 1 / EXUSDKK_m_raw[\"DKK-USD Spot Exchange Rate\"]\n",
    "EXUSDKK_m_raw = EXUSDKK_m_raw.drop(columns=[\"DKK-USD Spot Exchange Rate\"])\n",
    "\n",
    "EXUSDKK_m_raw[\"Country\"] = \"DK\"\n",
    "EXUSDKK_m_raw = EXUSDKK_m_raw[[\"Country\", \"Time\", \"USD-DKK Spot Exchange Rate\"]]\n",
    "\n",
    "EXUSDKK_m_raw.tail()"
   ]
  },
  {
   "cell_type": "code",
   "execution_count": 147,
   "id": "3ee54eb7",
   "metadata": {},
   "outputs": [
    {
     "data": {
      "application/vnd.microsoft.datawrangler.viewer.v0+json": {
       "columns": [
        {
         "name": "index",
         "rawType": "int64",
         "type": "integer"
        },
        {
         "name": "Country",
         "rawType": "object",
         "type": "string"
        },
        {
         "name": "Time",
         "rawType": "object",
         "type": "string"
        },
        {
         "name": "USD-CZK Spot Exchange Rate",
         "rawType": "float64",
         "type": "float"
        }
       ],
       "ref": "14314051-6552-4778-892d-b3853d5c0a28",
       "rows": [
        [
         "412",
         "CZ",
         "2025-05",
         "22.0833181818182"
        ],
        [
         "413",
         "CZ",
         "2025-06",
         "21.539476190476197"
        ],
        [
         "414",
         "CZ",
         "2025-07",
         "21.0877391304348"
        ],
        [
         "415",
         "CZ",
         "2025-08",
         "21.0794761904762"
        ],
        [
         "416",
         "CZ",
         "2025-09",
         "20.7528181818182"
        ]
       ],
       "shape": {
        "columns": 3,
        "rows": 5
       }
      },
      "text/html": [
       "<div>\n",
       "<style scoped>\n",
       "    .dataframe tbody tr th:only-of-type {\n",
       "        vertical-align: middle;\n",
       "    }\n",
       "\n",
       "    .dataframe tbody tr th {\n",
       "        vertical-align: top;\n",
       "    }\n",
       "\n",
       "    .dataframe thead th {\n",
       "        text-align: right;\n",
       "    }\n",
       "</style>\n",
       "<table border=\"1\" class=\"dataframe\">\n",
       "  <thead>\n",
       "    <tr style=\"text-align: right;\">\n",
       "      <th></th>\n",
       "      <th>Country</th>\n",
       "      <th>Time</th>\n",
       "      <th>USD-CZK Spot Exchange Rate</th>\n",
       "    </tr>\n",
       "  </thead>\n",
       "  <tbody>\n",
       "    <tr>\n",
       "      <th>412</th>\n",
       "      <td>CZ</td>\n",
       "      <td>2025-05</td>\n",
       "      <td>22.083318</td>\n",
       "    </tr>\n",
       "    <tr>\n",
       "      <th>413</th>\n",
       "      <td>CZ</td>\n",
       "      <td>2025-06</td>\n",
       "      <td>21.539476</td>\n",
       "    </tr>\n",
       "    <tr>\n",
       "      <th>414</th>\n",
       "      <td>CZ</td>\n",
       "      <td>2025-07</td>\n",
       "      <td>21.087739</td>\n",
       "    </tr>\n",
       "    <tr>\n",
       "      <th>415</th>\n",
       "      <td>CZ</td>\n",
       "      <td>2025-08</td>\n",
       "      <td>21.079476</td>\n",
       "    </tr>\n",
       "    <tr>\n",
       "      <th>416</th>\n",
       "      <td>CZ</td>\n",
       "      <td>2025-09</td>\n",
       "      <td>20.752818</td>\n",
       "    </tr>\n",
       "  </tbody>\n",
       "</table>\n",
       "</div>"
      ],
      "text/plain": [
       "    Country     Time  USD-CZK Spot Exchange Rate\n",
       "412      CZ  2025-05                   22.083318\n",
       "413      CZ  2025-06                   21.539476\n",
       "414      CZ  2025-07                   21.087739\n",
       "415      CZ  2025-08                   21.079476\n",
       "416      CZ  2025-09                   20.752818"
      ]
     },
     "execution_count": 147,
     "metadata": {},
     "output_type": "execute_result"
    }
   ],
   "source": [
    "# US-CZK exchange rate, U.S. Dollar to One Czech koruna (monthly non-seasonally adjusted, 1991-01, 2025-09)\n",
    "# https://fred.stlouisfed.org/series/CCUSMA02CZM618N \n",
    "EXUSCZK_m_raw = fetch_FRED(\"CCUSMA02CZM618N\") \n",
    "EXUSCZK_m_raw = EXUSCZK_m_raw.rename(columns= \n",
    "        {\"date\": \"Time\", \n",
    "         \"CCUSMA02CZM618N\": \"USD-CZK Spot Exchange Rate\"\n",
    "})\n",
    "\n",
    "EXUSCZK_m_raw[\"Time\"] = EXUSCZK_m_raw[\"Time\"].dt.to_period(\"M\").astype(str)\n",
    "EXUSCZK_m_raw[\"Country\"] = \"CZ\"\n",
    "EXUSCZK_m_raw = EXUSCZK_m_raw[[\"Country\", \"Time\", \"USD-CZK Spot Exchange Rate\"]]\n",
    "\n",
    "EXUSCZK_m_raw.tail()"
   ]
  },
  {
   "cell_type": "code",
   "execution_count": 148,
   "id": "ff71dd33",
   "metadata": {},
   "outputs": [
    {
     "data": {
      "application/vnd.microsoft.datawrangler.viewer.v0+json": {
       "columns": [
        {
         "name": "index",
         "rawType": "int64",
         "type": "integer"
        },
        {
         "name": "Country",
         "rawType": "object",
         "type": "string"
        },
        {
         "name": "Time",
         "rawType": "object",
         "type": "string"
        },
        {
         "name": "USD-HUF Spot Exchange Rate",
         "rawType": "float64",
         "type": "float"
        }
       ],
       "ref": "dfff50a6-486c-4cbe-b114-433399294c1f",
       "rows": [
        [
         "688",
         "HU",
         "2025-05",
         "357.90590909090895"
        ],
        [
         "689",
         "HU",
         "2025-06",
         "349.176666666667"
        ],
        [
         "690",
         "HU",
         "2025-07",
         "341.577391304348"
        ],
        [
         "691",
         "HU",
         "2025-08",
         "340.91190476190496"
        ],
        [
         "692",
         "HU",
         "2025-09",
         "333.840909090909"
        ]
       ],
       "shape": {
        "columns": 3,
        "rows": 5
       }
      },
      "text/html": [
       "<div>\n",
       "<style scoped>\n",
       "    .dataframe tbody tr th:only-of-type {\n",
       "        vertical-align: middle;\n",
       "    }\n",
       "\n",
       "    .dataframe tbody tr th {\n",
       "        vertical-align: top;\n",
       "    }\n",
       "\n",
       "    .dataframe thead th {\n",
       "        text-align: right;\n",
       "    }\n",
       "</style>\n",
       "<table border=\"1\" class=\"dataframe\">\n",
       "  <thead>\n",
       "    <tr style=\"text-align: right;\">\n",
       "      <th></th>\n",
       "      <th>Country</th>\n",
       "      <th>Time</th>\n",
       "      <th>USD-HUF Spot Exchange Rate</th>\n",
       "    </tr>\n",
       "  </thead>\n",
       "  <tbody>\n",
       "    <tr>\n",
       "      <th>688</th>\n",
       "      <td>HU</td>\n",
       "      <td>2025-05</td>\n",
       "      <td>357.905909</td>\n",
       "    </tr>\n",
       "    <tr>\n",
       "      <th>689</th>\n",
       "      <td>HU</td>\n",
       "      <td>2025-06</td>\n",
       "      <td>349.176667</td>\n",
       "    </tr>\n",
       "    <tr>\n",
       "      <th>690</th>\n",
       "      <td>HU</td>\n",
       "      <td>2025-07</td>\n",
       "      <td>341.577391</td>\n",
       "    </tr>\n",
       "    <tr>\n",
       "      <th>691</th>\n",
       "      <td>HU</td>\n",
       "      <td>2025-08</td>\n",
       "      <td>340.911905</td>\n",
       "    </tr>\n",
       "    <tr>\n",
       "      <th>692</th>\n",
       "      <td>HU</td>\n",
       "      <td>2025-09</td>\n",
       "      <td>333.840909</td>\n",
       "    </tr>\n",
       "  </tbody>\n",
       "</table>\n",
       "</div>"
      ],
      "text/plain": [
       "    Country     Time  USD-HUF Spot Exchange Rate\n",
       "688      HU  2025-05                  357.905909\n",
       "689      HU  2025-06                  349.176667\n",
       "690      HU  2025-07                  341.577391\n",
       "691      HU  2025-08                  340.911905\n",
       "692      HU  2025-09                  333.840909"
      ]
     },
     "execution_count": 148,
     "metadata": {},
     "output_type": "execute_result"
    }
   ],
   "source": [
    "# US-HUF exchange rate, U.S. Dollar to One Hungarian Forint (monthly non-seasonally adjusted, 1968-01, 2025-09)\n",
    "# https://fred.stlouisfed.org/series/CCUSMA02HUM618N\n",
    "EXUSHUF_m_raw = fetch_FRED(\"CCUSMA02HUM618N\") \n",
    "EXUSHUF_m_raw = EXUSHUF_m_raw.rename(columns= \n",
    "        {\"date\": \"Time\", \n",
    "         \"CCUSMA02HUM618N\": \"USD-HUF Spot Exchange Rate\"\n",
    "})\n",
    "\n",
    "EXUSHUF_m_raw[\"Time\"] = EXUSHUF_m_raw[\"Time\"].dt.to_period(\"M\").astype(str)\n",
    "EXUSHUF_m_raw[\"Country\"] = \"HU\"\n",
    "EXUSHUF_m_raw = EXUSHUF_m_raw[[\"Country\", \"Time\", \"USD-HUF Spot Exchange Rate\"]]\n",
    "\n",
    "EXUSHUF_m_raw.tail()"
   ]
  },
  {
   "cell_type": "code",
   "execution_count": 149,
   "id": "c0197d32",
   "metadata": {},
   "outputs": [
    {
     "data": {
      "application/vnd.microsoft.datawrangler.viewer.v0+json": {
       "columns": [
        {
         "name": "index",
         "rawType": "int64",
         "type": "integer"
        },
        {
         "name": "Country",
         "rawType": "object",
         "type": "string"
        },
        {
         "name": "Time",
         "rawType": "object",
         "type": "string"
        },
        {
         "name": "USD-PLN Spot Exchange Rate",
         "rawType": "float64",
         "type": "float"
        }
       ],
       "ref": "07c607be-5466-4f1d-bb0d-6134e426e639",
       "rows": [
        [
         "820",
         "PL",
         "2025-05",
         "3.7698863636363598"
        ],
        [
         "821",
         "PL",
         "2025-06",
         "3.70305714285714"
        ],
        [
         "822",
         "PL",
         "2025-07",
         "3.64047826086957"
        ],
        [
         "823",
         "PL",
         "2025-08",
         "3.6665857142857097"
        ],
        [
         "824",
         "PL",
         "2025-09",
         "3.6291954545454503"
        ]
       ],
       "shape": {
        "columns": 3,
        "rows": 5
       }
      },
      "text/html": [
       "<div>\n",
       "<style scoped>\n",
       "    .dataframe tbody tr th:only-of-type {\n",
       "        vertical-align: middle;\n",
       "    }\n",
       "\n",
       "    .dataframe tbody tr th {\n",
       "        vertical-align: top;\n",
       "    }\n",
       "\n",
       "    .dataframe thead th {\n",
       "        text-align: right;\n",
       "    }\n",
       "</style>\n",
       "<table border=\"1\" class=\"dataframe\">\n",
       "  <thead>\n",
       "    <tr style=\"text-align: right;\">\n",
       "      <th></th>\n",
       "      <th>Country</th>\n",
       "      <th>Time</th>\n",
       "      <th>USD-PLN Spot Exchange Rate</th>\n",
       "    </tr>\n",
       "  </thead>\n",
       "  <tbody>\n",
       "    <tr>\n",
       "      <th>820</th>\n",
       "      <td>PL</td>\n",
       "      <td>2025-05</td>\n",
       "      <td>3.769886</td>\n",
       "    </tr>\n",
       "    <tr>\n",
       "      <th>821</th>\n",
       "      <td>PL</td>\n",
       "      <td>2025-06</td>\n",
       "      <td>3.703057</td>\n",
       "    </tr>\n",
       "    <tr>\n",
       "      <th>822</th>\n",
       "      <td>PL</td>\n",
       "      <td>2025-07</td>\n",
       "      <td>3.640478</td>\n",
       "    </tr>\n",
       "    <tr>\n",
       "      <th>823</th>\n",
       "      <td>PL</td>\n",
       "      <td>2025-08</td>\n",
       "      <td>3.666586</td>\n",
       "    </tr>\n",
       "    <tr>\n",
       "      <th>824</th>\n",
       "      <td>PL</td>\n",
       "      <td>2025-09</td>\n",
       "      <td>3.629195</td>\n",
       "    </tr>\n",
       "  </tbody>\n",
       "</table>\n",
       "</div>"
      ],
      "text/plain": [
       "    Country     Time  USD-PLN Spot Exchange Rate\n",
       "820      PL  2025-05                    3.769886\n",
       "821      PL  2025-06                    3.703057\n",
       "822      PL  2025-07                    3.640478\n",
       "823      PL  2025-08                    3.666586\n",
       "824      PL  2025-09                    3.629195"
      ]
     },
     "execution_count": 149,
     "metadata": {},
     "output_type": "execute_result"
    }
   ],
   "source": [
    "# US-PLN exchange rate, U.S. Dollar to One Polish Zloty (monthly non-seasonally adjusted, 1957-01, 2025-09)\n",
    "# https://fred.stlouisfed.org/series/CCUSMA02PLM618N\n",
    "EXUSPLN_m_raw = fetch_FRED(\"CCUSMA02PLM618N\") \n",
    "EXUSPLN_m_raw = EXUSPLN_m_raw.rename(columns= \n",
    "        {\"date\": \"Time\", \n",
    "         \"CCUSMA02PLM618N\": \"USD-PLN Spot Exchange Rate\"\n",
    "})\n",
    "\n",
    "EXUSPLN_m_raw[\"Time\"] = EXUSPLN_m_raw[\"Time\"].dt.to_period(\"M\").astype(str)\n",
    "EXUSPLN_m_raw[\"Country\"] = \"PL\"\n",
    "EXUSPLN_m_raw = EXUSPLN_m_raw[[\"Country\", \"Time\", \"USD-PLN Spot Exchange Rate\"]]\n",
    "\n",
    "EXUSPLN_m_raw.tail()"
   ]
  },
  {
   "cell_type": "code",
   "execution_count": 150,
   "id": "4ad7495a",
   "metadata": {},
   "outputs": [
    {
     "data": {
      "application/vnd.microsoft.datawrangler.viewer.v0+json": {
       "columns": [
        {
         "name": "index",
         "rawType": "int64",
         "type": "integer"
        },
        {
         "name": "Country",
         "rawType": "object",
         "type": "string"
        },
        {
         "name": "Time",
         "rawType": "object",
         "type": "string"
        },
        {
         "name": "USD-RON Spot Exchange Rate",
         "rawType": "float64",
         "type": "float"
        }
       ],
       "ref": "f739e2db-b55c-4da3-a236-f3722fc5fc9b",
       "rows": [
        [
         "798",
         "RO",
         "2023-07",
         "4.4689"
        ],
        [
         "799",
         "RO",
         "2023-08",
         "4.5294"
        ],
        [
         "800",
         "RO",
         "2023-09",
         "4.647"
        ],
        [
         "801",
         "RO",
         "2023-10",
         "4.7027"
        ],
        [
         "802",
         "RO",
         "2023-11",
         "4.6035"
        ]
       ],
       "shape": {
        "columns": 3,
        "rows": 5
       }
      },
      "text/html": [
       "<div>\n",
       "<style scoped>\n",
       "    .dataframe tbody tr th:only-of-type {\n",
       "        vertical-align: middle;\n",
       "    }\n",
       "\n",
       "    .dataframe tbody tr th {\n",
       "        vertical-align: top;\n",
       "    }\n",
       "\n",
       "    .dataframe thead th {\n",
       "        text-align: right;\n",
       "    }\n",
       "</style>\n",
       "<table border=\"1\" class=\"dataframe\">\n",
       "  <thead>\n",
       "    <tr style=\"text-align: right;\">\n",
       "      <th></th>\n",
       "      <th>Country</th>\n",
       "      <th>Time</th>\n",
       "      <th>USD-RON Spot Exchange Rate</th>\n",
       "    </tr>\n",
       "  </thead>\n",
       "  <tbody>\n",
       "    <tr>\n",
       "      <th>798</th>\n",
       "      <td>RO</td>\n",
       "      <td>2023-07</td>\n",
       "      <td>4.4689</td>\n",
       "    </tr>\n",
       "    <tr>\n",
       "      <th>799</th>\n",
       "      <td>RO</td>\n",
       "      <td>2023-08</td>\n",
       "      <td>4.5294</td>\n",
       "    </tr>\n",
       "    <tr>\n",
       "      <th>800</th>\n",
       "      <td>RO</td>\n",
       "      <td>2023-09</td>\n",
       "      <td>4.6470</td>\n",
       "    </tr>\n",
       "    <tr>\n",
       "      <th>801</th>\n",
       "      <td>RO</td>\n",
       "      <td>2023-10</td>\n",
       "      <td>4.7027</td>\n",
       "    </tr>\n",
       "    <tr>\n",
       "      <th>802</th>\n",
       "      <td>RO</td>\n",
       "      <td>2023-11</td>\n",
       "      <td>4.6035</td>\n",
       "    </tr>\n",
       "  </tbody>\n",
       "</table>\n",
       "</div>"
      ],
      "text/plain": [
       "    Country     Time  USD-RON Spot Exchange Rate\n",
       "798      RO  2023-07                      4.4689\n",
       "799      RO  2023-08                      4.5294\n",
       "800      RO  2023-09                      4.6470\n",
       "801      RO  2023-10                      4.7027\n",
       "802      RO  2023-11                      4.6035"
      ]
     },
     "execution_count": 150,
     "metadata": {},
     "output_type": "execute_result"
    }
   ],
   "source": [
    "# US-RON exchange rate, U.S. Dollar to One Romanian Leu (monthly non-seasonally adjusted, 1960-01, 2023-11)\n",
    "# https://fred.stlouisfed.org/series/CCUSMA02PLM618N\n",
    "EXUSRON_m_raw = fetch_FRED(\"ROUCCUSMA02STM\") \n",
    "EXUSRON_m_raw = EXUSRON_m_raw.rename(columns= \n",
    "        {\"date\": \"Time\", \n",
    "         \"ROUCCUSMA02STM\": \"USD-RON Spot Exchange Rate\"\n",
    "})\n",
    "\n",
    "EXUSRON_m_raw[\"Time\"] = EXUSRON_m_raw[\"Time\"].dt.to_period(\"M\").astype(str)\n",
    "EXUSRON_m_raw[\"Country\"] = \"RO\"\n",
    "EXUSRON_m_raw = EXUSRON_m_raw[[\"Country\", \"Time\", \"USD-RON Spot Exchange Rate\"]]\n",
    "\n",
    "EXUSRON_m_raw.tail()"
   ]
  },
  {
   "cell_type": "code",
   "execution_count": 151,
   "id": "1f6f2f5f",
   "metadata": {},
   "outputs": [
    {
     "data": {
      "application/vnd.microsoft.datawrangler.viewer.v0+json": {
       "columns": [
        {
         "name": "index",
         "rawType": "int64",
         "type": "integer"
        },
        {
         "name": "Time",
         "rawType": "object",
         "type": "string"
        },
        {
         "name": "Crude Oil Price (Brent, Europe)",
         "rawType": "float64",
         "type": "float"
        }
       ],
       "ref": "c1b78918-063a-466c-89cc-ea974439efd6",
       "rows": [
        [
         "456",
         "2025-05",
         "64.45"
        ],
        [
         "457",
         "2025-06",
         "71.44"
        ],
        [
         "458",
         "2025-07",
         "71.04"
        ],
        [
         "459",
         "2025-08",
         "67.87"
        ],
        [
         "460",
         "2025-09",
         "67.99"
        ]
       ],
       "shape": {
        "columns": 2,
        "rows": 5
       }
      },
      "text/html": [
       "<div>\n",
       "<style scoped>\n",
       "    .dataframe tbody tr th:only-of-type {\n",
       "        vertical-align: middle;\n",
       "    }\n",
       "\n",
       "    .dataframe tbody tr th {\n",
       "        vertical-align: top;\n",
       "    }\n",
       "\n",
       "    .dataframe thead th {\n",
       "        text-align: right;\n",
       "    }\n",
       "</style>\n",
       "<table border=\"1\" class=\"dataframe\">\n",
       "  <thead>\n",
       "    <tr style=\"text-align: right;\">\n",
       "      <th></th>\n",
       "      <th>Time</th>\n",
       "      <th>Crude Oil Price (Brent, Europe)</th>\n",
       "    </tr>\n",
       "  </thead>\n",
       "  <tbody>\n",
       "    <tr>\n",
       "      <th>456</th>\n",
       "      <td>2025-05</td>\n",
       "      <td>64.45</td>\n",
       "    </tr>\n",
       "    <tr>\n",
       "      <th>457</th>\n",
       "      <td>2025-06</td>\n",
       "      <td>71.44</td>\n",
       "    </tr>\n",
       "    <tr>\n",
       "      <th>458</th>\n",
       "      <td>2025-07</td>\n",
       "      <td>71.04</td>\n",
       "    </tr>\n",
       "    <tr>\n",
       "      <th>459</th>\n",
       "      <td>2025-08</td>\n",
       "      <td>67.87</td>\n",
       "    </tr>\n",
       "    <tr>\n",
       "      <th>460</th>\n",
       "      <td>2025-09</td>\n",
       "      <td>67.99</td>\n",
       "    </tr>\n",
       "  </tbody>\n",
       "</table>\n",
       "</div>"
      ],
      "text/plain": [
       "        Time  Crude Oil Price (Brent, Europe)\n",
       "456  2025-05                            64.45\n",
       "457  2025-06                            71.44\n",
       "458  2025-07                            71.04\n",
       "459  2025-08                            67.87\n",
       "460  2025-09                            67.99"
      ]
     },
     "execution_count": 151,
     "metadata": {},
     "output_type": "execute_result"
    }
   ],
   "source": [
    "# Crude Oil Prices: Brent - Europe (monthly, average price, Dollars per barrel, not seasonally adjusted, 1987-01, 2025-09)\n",
    "# https://fred.stlouisfed.org/series/MCOILBRENTEU\n",
    "\n",
    "oilprice_m_raw = fetch_FRED(\"MCOILBRENTEU\") \n",
    "oilprice_m_raw = oilprice_m_raw.rename(columns= \n",
    "        {\"date\": \"Time\", \n",
    "         \"MCOILBRENTEU\": \"Crude Oil Price (Brent, Europe)\"\n",
    "})\n",
    "\n",
    "oilprice_m_raw[\"Time\"] = oilprice_m_raw[\"Time\"].dt.to_period(\"M\").astype(str)\n",
    "\n",
    "oilprice_m_raw.tail()"
   ]
  },
  {
   "cell_type": "code",
   "execution_count": 152,
   "id": "777576cc",
   "metadata": {},
   "outputs": [
    {
     "data": {
      "application/vnd.microsoft.datawrangler.viewer.v0+json": {
       "columns": [
        {
         "name": "index",
         "rawType": "int64",
         "type": "integer"
        },
        {
         "name": "Time",
         "rawType": "object",
         "type": "string"
        },
        {
         "name": "Nominal Broad USD Index",
         "rawType": "float64",
         "type": "float"
        }
       ],
       "ref": "14f0c6eb-5e85-4ba0-9fe0-6efcf56990df",
       "rows": [
        [
         "626",
         "2025-05",
         "122.6869"
        ],
        [
         "627",
         "2025-06",
         "120.9747"
        ],
        [
         "628",
         "2025-07",
         "120.5266"
        ],
        [
         "629",
         "2025-08",
         "120.9844"
        ],
        [
         "630",
         "2025-09",
         "120.4534"
        ]
       ],
       "shape": {
        "columns": 2,
        "rows": 5
       }
      },
      "text/html": [
       "<div>\n",
       "<style scoped>\n",
       "    .dataframe tbody tr th:only-of-type {\n",
       "        vertical-align: middle;\n",
       "    }\n",
       "\n",
       "    .dataframe tbody tr th {\n",
       "        vertical-align: top;\n",
       "    }\n",
       "\n",
       "    .dataframe thead th {\n",
       "        text-align: right;\n",
       "    }\n",
       "</style>\n",
       "<table border=\"1\" class=\"dataframe\">\n",
       "  <thead>\n",
       "    <tr style=\"text-align: right;\">\n",
       "      <th></th>\n",
       "      <th>Time</th>\n",
       "      <th>Nominal Broad USD Index</th>\n",
       "    </tr>\n",
       "  </thead>\n",
       "  <tbody>\n",
       "    <tr>\n",
       "      <th>626</th>\n",
       "      <td>2025-05</td>\n",
       "      <td>122.6869</td>\n",
       "    </tr>\n",
       "    <tr>\n",
       "      <th>627</th>\n",
       "      <td>2025-06</td>\n",
       "      <td>120.9747</td>\n",
       "    </tr>\n",
       "    <tr>\n",
       "      <th>628</th>\n",
       "      <td>2025-07</td>\n",
       "      <td>120.5266</td>\n",
       "    </tr>\n",
       "    <tr>\n",
       "      <th>629</th>\n",
       "      <td>2025-08</td>\n",
       "      <td>120.9844</td>\n",
       "    </tr>\n",
       "    <tr>\n",
       "      <th>630</th>\n",
       "      <td>2025-09</td>\n",
       "      <td>120.4534</td>\n",
       "    </tr>\n",
       "  </tbody>\n",
       "</table>\n",
       "</div>"
      ],
      "text/plain": [
       "        Time  Nominal Broad USD Index\n",
       "626  2025-05                 122.6869\n",
       "627  2025-06                 120.9747\n",
       "628  2025-07                 120.5266\n",
       "629  2025-08                 120.9844\n",
       "630  2025-09                 120.4534"
      ]
     },
     "execution_count": 152,
     "metadata": {},
     "output_type": "execute_result"
    }
   ],
   "source": [
    "# Nominal Broad U.S. Dollar Index (monthly, index Jan 2006=100, not seasonally adjusted, 2006-01, 2025-09)\n",
    "# https://fred.stlouisfed.org/series/TWEXBGSMTH\n",
    "\n",
    "usdi_m_raw = fetch_FRED(\"TWEXBGSMTH\") \n",
    "usdi_m_raw = usdi_m_raw.rename(columns= \n",
    "        {\"date\": \"Time\", \n",
    "         \"TWEXBGSMTH\": \"Nominal Broad USD Index\"\n",
    "})\n",
    "\n",
    "usdi_m_raw[\"Time\"] = usdi_m_raw[\"Time\"].dt.to_period(\"M\").astype(str)\n",
    "\n",
    "usdi_m_raw.tail()"
   ]
  },
  {
   "cell_type": "code",
   "execution_count": 153,
   "id": "f2ee5b30",
   "metadata": {},
   "outputs": [
    {
     "data": {
      "application/vnd.microsoft.datawrangler.viewer.v0+json": {
       "columns": [
        {
         "name": "index",
         "rawType": "int64",
         "type": "integer"
        },
        {
         "name": "Time",
         "rawType": "object",
         "type": "string"
        },
        {
         "name": "Market Yield on 10-Year US Trasury Securities",
         "rawType": "float64",
         "type": "float"
        }
       ],
       "ref": "214d2750-799b-451b-a846-addc30fe68cb",
       "rows": [
        [
         "761",
         "2025-06",
         "4.3835"
        ],
        [
         "762",
         "2025-07",
         "4.391818181818182"
        ],
        [
         "763",
         "2025-08",
         "4.2647619047619045"
        ],
        [
         "764",
         "2025-09",
         "4.12047619047619"
        ],
        [
         "765",
         "2025-10",
         "4.059523809523809"
        ]
       ],
       "shape": {
        "columns": 2,
        "rows": 5
       }
      },
      "text/html": [
       "<div>\n",
       "<style scoped>\n",
       "    .dataframe tbody tr th:only-of-type {\n",
       "        vertical-align: middle;\n",
       "    }\n",
       "\n",
       "    .dataframe tbody tr th {\n",
       "        vertical-align: top;\n",
       "    }\n",
       "\n",
       "    .dataframe thead th {\n",
       "        text-align: right;\n",
       "    }\n",
       "</style>\n",
       "<table border=\"1\" class=\"dataframe\">\n",
       "  <thead>\n",
       "    <tr style=\"text-align: right;\">\n",
       "      <th></th>\n",
       "      <th>Time</th>\n",
       "      <th>Market Yield on 10-Year US Trasury Securities</th>\n",
       "    </tr>\n",
       "  </thead>\n",
       "  <tbody>\n",
       "    <tr>\n",
       "      <th>761</th>\n",
       "      <td>2025-06</td>\n",
       "      <td>4.383500</td>\n",
       "    </tr>\n",
       "    <tr>\n",
       "      <th>762</th>\n",
       "      <td>2025-07</td>\n",
       "      <td>4.391818</td>\n",
       "    </tr>\n",
       "    <tr>\n",
       "      <th>763</th>\n",
       "      <td>2025-08</td>\n",
       "      <td>4.264762</td>\n",
       "    </tr>\n",
       "    <tr>\n",
       "      <th>764</th>\n",
       "      <td>2025-09</td>\n",
       "      <td>4.120476</td>\n",
       "    </tr>\n",
       "    <tr>\n",
       "      <th>765</th>\n",
       "      <td>2025-10</td>\n",
       "      <td>4.059524</td>\n",
       "    </tr>\n",
       "  </tbody>\n",
       "</table>\n",
       "</div>"
      ],
      "text/plain": [
       "        Time  Market Yield on 10-Year US Trasury Securities\n",
       "761  2025-06                                       4.383500\n",
       "762  2025-07                                       4.391818\n",
       "763  2025-08                                       4.264762\n",
       "764  2025-09                                       4.120476\n",
       "765  2025-10                                       4.059524"
      ]
     },
     "execution_count": 153,
     "metadata": {},
     "output_type": "execute_result"
    }
   ],
   "source": [
    "# Market Yield on U.S. Treasury Securities at 10-Year Constant Maturity, Quoted on an Investment Basis (from daily to monthly, percent, not seasonally adjusted, 1962-01, 2025-10)\n",
    "# https://fred.stlouisfed.org/series/DGS10\n",
    "\n",
    "ustyield_d_raw = fetch_FRED(\"DGS10\") \n",
    "ustyield_d_raw = ustyield_d_raw.rename(columns= \n",
    "        {\"date\": \"Time\", \n",
    "         \"DGS10\": \"Market Yield on 10-Year US Trasury Securities\"\n",
    "})\n",
    "\n",
    "# Aggregation (dimension from daily to monthly)\n",
    "ustyield_d_raw = ustyield_d_raw.set_index(\"Time\")\n",
    "ustyield_m_raw = ustyield_d_raw.resample(\"M\").mean().reset_index()\n",
    "ustyield_m_raw[\"Time\"] = ustyield_m_raw[\"Time\"].dt.to_period(\"M\").astype(str)\n",
    "\n",
    "ustyield_m_raw.tail()"
   ]
  },
  {
   "cell_type": "code",
   "execution_count": 154,
   "id": "15b745d7",
   "metadata": {},
   "outputs": [
    {
     "data": {
      "application/vnd.microsoft.datawrangler.viewer.v0+json": {
       "columns": [
        {
         "name": "index",
         "rawType": "int64",
         "type": "integer"
        },
        {
         "name": "Time",
         "rawType": "object",
         "type": "string"
        },
        {
         "name": "CBOE Volatility Index (VIX)",
         "rawType": "float64",
         "type": "float"
        }
       ],
       "ref": "63d6c170-e08d-4390-9e9a-3f250073b683",
       "rows": [
        [
         "425",
         "2025-06",
         "18.403333333333336"
        ],
        [
         "426",
         "2025-07",
         "16.381304347826084"
        ],
        [
         "427",
         "2025-08",
         "15.75"
        ],
        [
         "428",
         "2025-09",
         "15.789090909090909"
        ],
        [
         "429",
         "2025-10",
         "18.115909090909092"
        ]
       ],
       "shape": {
        "columns": 2,
        "rows": 5
       }
      },
      "text/html": [
       "<div>\n",
       "<style scoped>\n",
       "    .dataframe tbody tr th:only-of-type {\n",
       "        vertical-align: middle;\n",
       "    }\n",
       "\n",
       "    .dataframe tbody tr th {\n",
       "        vertical-align: top;\n",
       "    }\n",
       "\n",
       "    .dataframe thead th {\n",
       "        text-align: right;\n",
       "    }\n",
       "</style>\n",
       "<table border=\"1\" class=\"dataframe\">\n",
       "  <thead>\n",
       "    <tr style=\"text-align: right;\">\n",
       "      <th></th>\n",
       "      <th>Time</th>\n",
       "      <th>CBOE Volatility Index (VIX)</th>\n",
       "    </tr>\n",
       "  </thead>\n",
       "  <tbody>\n",
       "    <tr>\n",
       "      <th>425</th>\n",
       "      <td>2025-06</td>\n",
       "      <td>18.403333</td>\n",
       "    </tr>\n",
       "    <tr>\n",
       "      <th>426</th>\n",
       "      <td>2025-07</td>\n",
       "      <td>16.381304</td>\n",
       "    </tr>\n",
       "    <tr>\n",
       "      <th>427</th>\n",
       "      <td>2025-08</td>\n",
       "      <td>15.750000</td>\n",
       "    </tr>\n",
       "    <tr>\n",
       "      <th>428</th>\n",
       "      <td>2025-09</td>\n",
       "      <td>15.789091</td>\n",
       "    </tr>\n",
       "    <tr>\n",
       "      <th>429</th>\n",
       "      <td>2025-10</td>\n",
       "      <td>18.115909</td>\n",
       "    </tr>\n",
       "  </tbody>\n",
       "</table>\n",
       "</div>"
      ],
      "text/plain": [
       "        Time  CBOE Volatility Index (VIX)\n",
       "425  2025-06                    18.403333\n",
       "426  2025-07                    16.381304\n",
       "427  2025-08                    15.750000\n",
       "428  2025-09                    15.789091\n",
       "429  2025-10                    18.115909"
      ]
     },
     "execution_count": 154,
     "metadata": {},
     "output_type": "execute_result"
    }
   ],
   "source": [
    "# CBOE Volatility Index VIX (from daily to monthly, index, not seasonally adjusted, 1990-01, 2025-10)\n",
    "# https://fred.stlouisfed.org/series/VIXCLS\n",
    "\n",
    "VIX_d_raw = fetch_FRED(\"VIXCLS\") \n",
    "VIX_d_raw = VIX_d_raw.rename(columns= \n",
    "        {\"date\": \"Time\", \n",
    "         \"VIXCLS\": \"CBOE Volatility Index (VIX)\"\n",
    "})\n",
    "\n",
    "# Aggregation (dimension from daily to monthly)\n",
    "VIX_d_raw = VIX_d_raw.set_index(\"Time\")\n",
    "VIX_m_raw = VIX_d_raw.resample(\"M\").mean().reset_index()\n",
    "VIX_m_raw[\"Time\"] = VIX_m_raw[\"Time\"].dt.to_period(\"M\").astype(str)\n",
    "\n",
    "VIX_m_raw.tail()"
   ]
  },
  {
   "cell_type": "markdown",
   "id": "9b3565d3",
   "metadata": {},
   "source": [
    "#### **3.3) YAHOO!FINANCE-extracted indicators**"
   ]
  },
  {
   "cell_type": "code",
   "execution_count": 155,
   "id": "bbb6639f",
   "metadata": {},
   "outputs": [
    {
     "data": {
      "application/vnd.microsoft.datawrangler.viewer.v0+json": {
       "columns": [
        {
         "name": "index",
         "rawType": "int64",
         "type": "integer"
        },
        {
         "name": "Country",
         "rawType": "object",
         "type": "string"
        },
        {
         "name": "Stock Index",
         "rawType": "object",
         "type": "string"
        },
        {
         "name": "Time",
         "rawType": "period[M]",
         "type": "unknown"
        },
        {
         "name": "Log Monthly Return",
         "rawType": "float64",
         "type": "float"
        },
        {
         "name": "Volume",
         "rawType": "int64",
         "type": "integer"
        }
       ],
       "ref": "33f223d5-f807-47fc-9b6c-d20e4ea58ba6",
       "rows": [
        [
         "1354",
         "ES",
         "^IBEX",
         "2025-06",
         "-0.011391484169015297",
         "2351850100"
        ],
        [
         "1355",
         "ES",
         "^IBEX",
         "2025-07",
         "0.028541232876628107",
         "2531475800"
        ],
        [
         "1356",
         "ES",
         "^IBEX",
         "2025-08",
         "0.03674115106275988",
         "1894189600"
        ],
        [
         "1357",
         "ES",
         "^IBEX",
         "2025-09",
         "0.035464815963681846",
         "2168514900"
        ],
        [
         "1358",
         "ES",
         "^IBEX",
         "2025-10",
         "0.035398306416771295",
         "2351784400"
        ]
       ],
       "shape": {
        "columns": 5,
        "rows": 5
       }
      },
      "text/html": [
       "<div>\n",
       "<style scoped>\n",
       "    .dataframe tbody tr th:only-of-type {\n",
       "        vertical-align: middle;\n",
       "    }\n",
       "\n",
       "    .dataframe tbody tr th {\n",
       "        vertical-align: top;\n",
       "    }\n",
       "\n",
       "    .dataframe thead th {\n",
       "        text-align: right;\n",
       "    }\n",
       "</style>\n",
       "<table border=\"1\" class=\"dataframe\">\n",
       "  <thead>\n",
       "    <tr style=\"text-align: right;\">\n",
       "      <th></th>\n",
       "      <th>Country</th>\n",
       "      <th>Stock Index</th>\n",
       "      <th>Time</th>\n",
       "      <th>Log Monthly Return</th>\n",
       "      <th>Volume</th>\n",
       "    </tr>\n",
       "  </thead>\n",
       "  <tbody>\n",
       "    <tr>\n",
       "      <th>1354</th>\n",
       "      <td>ES</td>\n",
       "      <td>^IBEX</td>\n",
       "      <td>2025-06</td>\n",
       "      <td>-0.011391</td>\n",
       "      <td>2351850100</td>\n",
       "    </tr>\n",
       "    <tr>\n",
       "      <th>1355</th>\n",
       "      <td>ES</td>\n",
       "      <td>^IBEX</td>\n",
       "      <td>2025-07</td>\n",
       "      <td>0.028541</td>\n",
       "      <td>2531475800</td>\n",
       "    </tr>\n",
       "    <tr>\n",
       "      <th>1356</th>\n",
       "      <td>ES</td>\n",
       "      <td>^IBEX</td>\n",
       "      <td>2025-08</td>\n",
       "      <td>0.036741</td>\n",
       "      <td>1894189600</td>\n",
       "    </tr>\n",
       "    <tr>\n",
       "      <th>1357</th>\n",
       "      <td>ES</td>\n",
       "      <td>^IBEX</td>\n",
       "      <td>2025-09</td>\n",
       "      <td>0.035465</td>\n",
       "      <td>2168514900</td>\n",
       "    </tr>\n",
       "    <tr>\n",
       "      <th>1358</th>\n",
       "      <td>ES</td>\n",
       "      <td>^IBEX</td>\n",
       "      <td>2025-10</td>\n",
       "      <td>0.035398</td>\n",
       "      <td>2351784400</td>\n",
       "    </tr>\n",
       "  </tbody>\n",
       "</table>\n",
       "</div>"
      ],
      "text/plain": [
       "     Country Stock Index     Time  Log Monthly Return      Volume\n",
       "1354      ES       ^IBEX  2025-06           -0.011391  2351850100\n",
       "1355      ES       ^IBEX  2025-07            0.028541  2531475800\n",
       "1356      ES       ^IBEX  2025-08            0.036741  1894189600\n",
       "1357      ES       ^IBEX  2025-09            0.035465  2168514900\n",
       "1358      ES       ^IBEX  2025-10            0.035398  2351784400"
      ]
     },
     "execution_count": 155,
     "metadata": {},
     "output_type": "execute_result"
    }
   ],
   "source": [
    "# Monthly price and volume of EU country’s stock index (monthly, price (USD), number of securities traded, 2015-01, 2025-10)\n",
    "# (!!!) Not available on YFinance for Bulgaria, Croatia, Cyprus, Estonia, Greece, Hungary, Latvia, Lithuania, Luxembourg, Malta, Poland, Romania, Slovakia, Slovenia, Portugal and Sweden\n",
    "# (!!!) Volume column is dangerous, a lot of 0 values, depending on country, it must be carefully handled \n",
    "\n",
    "eu_stock_indices_tickers = {\n",
    "    \"AT\": \"^ATX\",\n",
    "    \"BE\": \"^BFX\",\n",
    "    \"CZ\": \"^PX\",\n",
    "    \"DK\": \"^OMXC25\",\n",
    "    \"FI\": \"^OMXH25\",\n",
    "    \"FR\": \"^FCHI\",\n",
    "    \"DE\": \"^GDAXI\",\n",
    "    \"IE\": \"^ISEQ\",\n",
    "    \"IT\": \"FTSEMIB.MI\",\n",
    "    \"NL\": \"^AEX\",\n",
    "    \"ES\": \"^IBEX\"\n",
    "}\n",
    "\n",
    "start = \"2015-01-01\"\n",
    "end = \"2025-10-25\"\n",
    "\n",
    "list_single_country_dfs = []\n",
    "\n",
    "# We iterate over each country and respective stock index\n",
    "# We aggregate data through concatenation based on y axis\n",
    "for country, ticker in eu_stock_indices_tickers.items():\n",
    "    df = fetch_YFINANCE(ticker, start, end)\n",
    "\n",
    "# MultiIndex columns\n",
    "    if isinstance(df.columns, pd.MultiIndex):\n",
    "        df.columns = [col[0] for col in df.columns]\n",
    "    df = df.rename(columns={\n",
    "        \"Close\": \"Closing Price (USD)\",\n",
    "        \"YearMonth\": \"Time\"\n",
    "    })\n",
    "    df[\"Log Monthly Return\"] = np.log(df[\"Closing Price (USD)\"] / df[\"Closing Price (USD)\"].shift(1))\n",
    "    df[\"Country\"] = country\n",
    "    df[\"Stock Index\"] = ticker\n",
    "\n",
    "    df = df[[\"Country\", \"Stock Index\", \"Time\", \"Log Monthly Return\", \"Volume\"]]\n",
    "\n",
    "    list_single_country_dfs.append(df)\n",
    "\n",
    "EURO_stock_m_raw = pd.concat(list_single_country_dfs, ignore_index=True)\n",
    "\n",
    "EURO_stock_m_raw.tail()"
   ]
  },
  {
   "cell_type": "markdown",
   "id": "87024af9",
   "metadata": {},
   "source": [
    "#### **3.4) OTHERS-extracted indicators**"
   ]
  },
  {
   "cell_type": "code",
   "execution_count": 156,
   "id": "05840745",
   "metadata": {},
   "outputs": [
    {
     "data": {
      "application/vnd.microsoft.datawrangler.viewer.v0+json": {
       "columns": [
        {
         "name": "index",
         "rawType": "int64",
         "type": "integer"
        },
        {
         "name": "Country",
         "rawType": "object",
         "type": "string"
        },
        {
         "name": "HTS Code",
         "rawType": "object",
         "type": "string"
        },
        {
         "name": "HTS Description",
         "rawType": "object",
         "type": "string"
        },
        {
         "name": "Time",
         "rawType": "object",
         "type": "string"
        },
        {
         "name": "Import - General Custom Value (USD)",
         "rawType": "float64",
         "type": "float"
        }
       ],
       "ref": "d81cb2b7-836e-4a3e-b72f-330adf5ff90e",
       "rows": [
        [
         "1845793",
         "SK",
         "999995",
         "ESTIMATED IMPORTS OF LOW VALUED TRANSACTIONS",
         "2025-01",
         "4265.792"
        ],
        [
         "1845794",
         "SK",
         "999995",
         "ESTIMATED IMPORTS OF LOW VALUED TRANSACTIONS",
         "2025-02",
         "4688.588"
        ],
        [
         "1845795",
         "SK",
         "999995",
         "ESTIMATED IMPORTS OF LOW VALUED TRANSACTIONS",
         "2025-03",
         "4767.003"
        ],
        [
         "1845796",
         "SK",
         "999995",
         "ESTIMATED IMPORTS OF LOW VALUED TRANSACTIONS",
         "2025-04",
         "5663.573"
        ],
        [
         "1845797",
         "SK",
         "999995",
         "ESTIMATED IMPORTS OF LOW VALUED TRANSACTIONS",
         "2025-05",
         "5317.76"
        ]
       ],
       "shape": {
        "columns": 5,
        "rows": 5
       }
      },
      "text/html": [
       "<div>\n",
       "<style scoped>\n",
       "    .dataframe tbody tr th:only-of-type {\n",
       "        vertical-align: middle;\n",
       "    }\n",
       "\n",
       "    .dataframe tbody tr th {\n",
       "        vertical-align: top;\n",
       "    }\n",
       "\n",
       "    .dataframe thead th {\n",
       "        text-align: right;\n",
       "    }\n",
       "</style>\n",
       "<table border=\"1\" class=\"dataframe\">\n",
       "  <thead>\n",
       "    <tr style=\"text-align: right;\">\n",
       "      <th></th>\n",
       "      <th>Country</th>\n",
       "      <th>HTS Code</th>\n",
       "      <th>HTS Description</th>\n",
       "      <th>Time</th>\n",
       "      <th>Import - General Custom Value (USD)</th>\n",
       "    </tr>\n",
       "  </thead>\n",
       "  <tbody>\n",
       "    <tr>\n",
       "      <th>1845793</th>\n",
       "      <td>SK</td>\n",
       "      <td>999995</td>\n",
       "      <td>ESTIMATED IMPORTS OF LOW VALUED TRANSACTIONS</td>\n",
       "      <td>2025-01</td>\n",
       "      <td>4265.792</td>\n",
       "    </tr>\n",
       "    <tr>\n",
       "      <th>1845794</th>\n",
       "      <td>SK</td>\n",
       "      <td>999995</td>\n",
       "      <td>ESTIMATED IMPORTS OF LOW VALUED TRANSACTIONS</td>\n",
       "      <td>2025-02</td>\n",
       "      <td>4688.588</td>\n",
       "    </tr>\n",
       "    <tr>\n",
       "      <th>1845795</th>\n",
       "      <td>SK</td>\n",
       "      <td>999995</td>\n",
       "      <td>ESTIMATED IMPORTS OF LOW VALUED TRANSACTIONS</td>\n",
       "      <td>2025-03</td>\n",
       "      <td>4767.003</td>\n",
       "    </tr>\n",
       "    <tr>\n",
       "      <th>1845796</th>\n",
       "      <td>SK</td>\n",
       "      <td>999995</td>\n",
       "      <td>ESTIMATED IMPORTS OF LOW VALUED TRANSACTIONS</td>\n",
       "      <td>2025-04</td>\n",
       "      <td>5663.573</td>\n",
       "    </tr>\n",
       "    <tr>\n",
       "      <th>1845797</th>\n",
       "      <td>SK</td>\n",
       "      <td>999995</td>\n",
       "      <td>ESTIMATED IMPORTS OF LOW VALUED TRANSACTIONS</td>\n",
       "      <td>2025-05</td>\n",
       "      <td>5317.760</td>\n",
       "    </tr>\n",
       "  </tbody>\n",
       "</table>\n",
       "</div>"
      ],
      "text/plain": [
       "        Country HTS Code                               HTS Description  \\\n",
       "1845793      SK   999995  ESTIMATED IMPORTS OF LOW VALUED TRANSACTIONS   \n",
       "1845794      SK   999995  ESTIMATED IMPORTS OF LOW VALUED TRANSACTIONS   \n",
       "1845795      SK   999995  ESTIMATED IMPORTS OF LOW VALUED TRANSACTIONS   \n",
       "1845796      SK   999995  ESTIMATED IMPORTS OF LOW VALUED TRANSACTIONS   \n",
       "1845797      SK   999995  ESTIMATED IMPORTS OF LOW VALUED TRANSACTIONS   \n",
       "\n",
       "            Time  Import - General Custom Value (USD)  \n",
       "1845793  2025-01                             4265.792  \n",
       "1845794  2025-02                             4688.588  \n",
       "1845795  2025-03                             4767.003  \n",
       "1845796  2025-04                             5663.573  \n",
       "1845797  2025-05                             5317.760  "
      ]
     },
     "execution_count": 156,
     "metadata": {},
     "output_type": "execute_result"
    }
   ],
   "source": [
    "# Monthly US import by EU member state per HTS code-identified products (monthly, bilateral flows, general custom value in USD, not seasonally adjusted, 2020/01, 2025/06)\n",
    "# (!!!) Harmonized EU country names to ISO-2\n",
    "# (!!!) Already ziped df in the USITC_aggregated_US_import_module.py\n",
    "\n",
    "# Target EU member countries acronyms dictionary (ISO-2 codes)\n",
    "eu_country_map = {\n",
    "    \"Austria\": \"AT\",\n",
    "    \"Belgium\": \"BE\",\n",
    "    \"Bulgaria\": \"BG\",\n",
    "    \"Croatia\": \"HR\",\n",
    "    \"Cyprus\": \"CY\",\n",
    "    \"Czechia (Czech Republic)\": \"CZ\",\n",
    "    \"Czechia\": \"CZ\",\n",
    "    \"Denmark\": \"DK\",\n",
    "    \"Estonia\": \"EE\",\n",
    "    \"Finland\": \"FI\",\n",
    "    \"France\": \"FR\",\n",
    "    \"Germany\": \"DE\",\n",
    "    \"Greece\": \"GR\",\n",
    "    \"Hungary\": \"HU\",\n",
    "    \"Ireland\": \"IE\",\n",
    "    \"Italy\": \"IT\",\n",
    "    \"Latvia\": \"LV\",\n",
    "    \"Lithuania\": \"LT\",\n",
    "    \"Luxembourg\": \"LU\",\n",
    "    \"Malta\": \"MT\",\n",
    "    \"Netherlands\": \"NL\",\n",
    "    \"Poland\": \"PL\",\n",
    "    \"Portugal\": \"PT\",\n",
    "    \"Romania\": \"RO\",\n",
    "    \"Slovakia\": \"SK\",\n",
    "    \"Slovenia\": \"SI\",\n",
    "    \"Spain\": \"ES\",\n",
    "    \"Sweden\": \"SE\"\n",
    "}\n",
    "\n",
    "# Importing aggregated file of US imports (US_import_USITC_raw.csv)\n",
    "# (!!!) Remember to specify the unzipping method (gzip)\n",
    "US_import_raw = pd.read_csv(\"data_fetcher/raw_df/US_import_USITC_raw.csv\", sep=\",\", decimal=\".\", low_memory=False, compression=\"gzip\")\n",
    "\n",
    "# Data manual retructuring\n",
    "# Country renaiming via ISO-2 code\n",
    "US_import_raw.columns = US_import_raw.columns.str.strip()\n",
    "US_import_raw[\"Country\"] = US_import_raw[\"Country\"].map(eu_country_map)\n",
    "# Datetime format\n",
    "US_import_raw[\"Year\"] = US_import_raw[\"Year\"].astype(int)\n",
    "US_import_raw[\"Month\"] = US_import_raw[\"Month\"].astype(int)\n",
    "US_import_raw[\"Time\"] = (\n",
    "    US_import_raw[\"Year\"].astype(str) + \"-\" + US_import_raw[\"Month\"].astype(str).str.zfill(2)\n",
    ")\n",
    "# Raw coulumns renaiming\n",
    "US_import_raw = US_import_raw.rename(columns={\n",
    "    \"HTS Number\": \"HTS Code\",\n",
    "    \"Description\": \"HTS Description\",\n",
    "    \"General Customs Value\": \"Import - General Custom Value (USD)\"\n",
    "})\n",
    "# Avoid HTS codes rounding\n",
    "# (!!!) Since HTS codes are float values this may cause unwanted float-roundings of values. To avoid this, we transform them in strings\n",
    "US_import_raw[\"HTS Code\"] = (\n",
    "    pd.to_numeric(US_import_raw[\"HTS Code\"], errors=\"coerce\")\n",
    "    .astype(\"Int64\")\n",
    "    .astype(str)\n",
    ")\n",
    "# Normalization of comma and space\n",
    "# (!!!) Simon: Don't bother the rest I just had issue with the format of the df\n",
    "val = \"Import - General Custom Value (USD)\"\n",
    "US_import_raw[val] = (\n",
    "    US_import_raw[val]\n",
    "    .astype(str)\n",
    "    .str.replace(\"\\u202f\", \"\", regex=False)\n",
    "    .str.replace(\"\\xa0\",  \"\", regex=False)\n",
    "    .str.strip()\n",
    ")\n",
    "\n",
    "# Converting Import column to numeric and drop NaN\n",
    "# (!!!) Normally it should be already in numeric format\n",
    "US_import_raw[val] = pd.to_numeric(US_import_raw[val], errors=\"coerce\")\n",
    "US_import_raw = US_import_raw[US_import_raw[val].notna()].copy()\n",
    "\n",
    "# Sorting by Country, HTS Code and Time\n",
    "US_import_raw = (\n",
    "    US_import_raw\n",
    "    .sort_values([\"Country\", \"HTS Code\", \"Time\"])\n",
    "    .reset_index(drop=True)\n",
    ")\n",
    "\n",
    "US_import_raw = US_import_raw[[\"Country\", \"HTS Code\", \"HTS Description\", \"Time\", \"Import - General Custom Value (USD)\"]]\n",
    "US_import_raw.tail()"
   ]
  },
  {
   "cell_type": "code",
   "execution_count": 157,
   "id": "e487bc7389b393e6",
   "metadata": {
    "ExecuteTime": {
     "end_time": "2025-10-30T22:51:03.951985Z",
     "start_time": "2025-10-30T22:45:55.390029Z"
    }
   },
   "outputs": [
    {
     "data": {
      "application/vnd.microsoft.datawrangler.viewer.v0+json": {
       "columns": [
        {
         "name": "index",
         "rawType": "int64",
         "type": "integer"
        },
        {
         "name": "Country",
         "rawType": "object",
         "type": "string"
        },
        {
         "name": "HTS Code",
         "rawType": "object",
         "type": "string"
        },
        {
         "name": "HTS Description",
         "rawType": "object",
         "type": "string"
        },
        {
         "name": "Time",
         "rawType": "object",
         "type": "string"
        },
        {
         "name": "Export - FAS value (USD)",
         "rawType": "float64",
         "type": "float"
        }
       ],
       "ref": "4cea023b-814c-48bc-8abb-a36a391d59bc",
       "rows": [
        [
         "69967",
         "SK",
         "97",
         "WORKS OF ART, COLLECTORS' PIECES AND ANTIQUES",
         "2024-10",
         "17.47"
        ],
        [
         "69968",
         "SK",
         "97",
         "WORKS OF ART, COLLECTORS' PIECES AND ANTIQUES",
         "2024-12",
         "2.76"
        ],
        [
         "69969",
         "SK",
         "97",
         "WORKS OF ART, COLLECTORS' PIECES AND ANTIQUES",
         "2025-01",
         "322.58"
        ],
        [
         "69970",
         "SK",
         "97",
         "WORKS OF ART, COLLECTORS' PIECES AND ANTIQUES",
         "2025-02",
         "9.22"
        ],
        [
         "69971",
         "SK",
         "97",
         "WORKS OF ART, COLLECTORS' PIECES AND ANTIQUES",
         "2025-05",
         "3.4"
        ]
       ],
       "shape": {
        "columns": 5,
        "rows": 5
       }
      },
      "text/html": [
       "<div>\n",
       "<style scoped>\n",
       "    .dataframe tbody tr th:only-of-type {\n",
       "        vertical-align: middle;\n",
       "    }\n",
       "\n",
       "    .dataframe tbody tr th {\n",
       "        vertical-align: top;\n",
       "    }\n",
       "\n",
       "    .dataframe thead th {\n",
       "        text-align: right;\n",
       "    }\n",
       "</style>\n",
       "<table border=\"1\" class=\"dataframe\">\n",
       "  <thead>\n",
       "    <tr style=\"text-align: right;\">\n",
       "      <th></th>\n",
       "      <th>Country</th>\n",
       "      <th>HTS Code</th>\n",
       "      <th>HTS Description</th>\n",
       "      <th>Time</th>\n",
       "      <th>Export - FAS value (USD)</th>\n",
       "    </tr>\n",
       "  </thead>\n",
       "  <tbody>\n",
       "    <tr>\n",
       "      <th>69967</th>\n",
       "      <td>SK</td>\n",
       "      <td>97</td>\n",
       "      <td>WORKS OF ART, COLLECTORS' PIECES AND ANTIQUES</td>\n",
       "      <td>2024-10</td>\n",
       "      <td>17.47</td>\n",
       "    </tr>\n",
       "    <tr>\n",
       "      <th>69968</th>\n",
       "      <td>SK</td>\n",
       "      <td>97</td>\n",
       "      <td>WORKS OF ART, COLLECTORS' PIECES AND ANTIQUES</td>\n",
       "      <td>2024-12</td>\n",
       "      <td>2.76</td>\n",
       "    </tr>\n",
       "    <tr>\n",
       "      <th>69969</th>\n",
       "      <td>SK</td>\n",
       "      <td>97</td>\n",
       "      <td>WORKS OF ART, COLLECTORS' PIECES AND ANTIQUES</td>\n",
       "      <td>2025-01</td>\n",
       "      <td>322.58</td>\n",
       "    </tr>\n",
       "    <tr>\n",
       "      <th>69970</th>\n",
       "      <td>SK</td>\n",
       "      <td>97</td>\n",
       "      <td>WORKS OF ART, COLLECTORS' PIECES AND ANTIQUES</td>\n",
       "      <td>2025-02</td>\n",
       "      <td>9.22</td>\n",
       "    </tr>\n",
       "    <tr>\n",
       "      <th>69971</th>\n",
       "      <td>SK</td>\n",
       "      <td>97</td>\n",
       "      <td>WORKS OF ART, COLLECTORS' PIECES AND ANTIQUES</td>\n",
       "      <td>2025-05</td>\n",
       "      <td>3.40</td>\n",
       "    </tr>\n",
       "  </tbody>\n",
       "</table>\n",
       "</div>"
      ],
      "text/plain": [
       "      Country HTS Code                                HTS Description  \\\n",
       "69967      SK       97  WORKS OF ART, COLLECTORS' PIECES AND ANTIQUES   \n",
       "69968      SK       97  WORKS OF ART, COLLECTORS' PIECES AND ANTIQUES   \n",
       "69969      SK       97  WORKS OF ART, COLLECTORS' PIECES AND ANTIQUES   \n",
       "69970      SK       97  WORKS OF ART, COLLECTORS' PIECES AND ANTIQUES   \n",
       "69971      SK       97  WORKS OF ART, COLLECTORS' PIECES AND ANTIQUES   \n",
       "\n",
       "          Time  Export - FAS value (USD)  \n",
       "69967  2024-10                     17.47  \n",
       "69968  2024-12                      2.76  \n",
       "69969  2025-01                    322.58  \n",
       "69970  2025-02                      9.22  \n",
       "69971  2025-05                      3.40  "
      ]
     },
     "execution_count": 157,
     "metadata": {},
     "output_type": "execute_result"
    }
   ],
   "source": [
    "# Monthly US export to EU member state per HTS code-identified products (monthly, bilateral flows, FAS value in USD, not seasonally adjusted, 2020/01, 2025/06)\n",
    "\n",
    "# ZIP_______________________________________________________________________________________________________________________________\n",
    "# import pandas as pd\n",
    "# US_export_USITC_raw = pd.read_csv(\"data_fetcher/raw_df/US_export_USITC_raw.csv\", sep=\";\", decimal=\",\")\n",
    "# US_export_USITC_raw.to_csv(\"data_fetcher/raw_df/US_export_USITC_raw.csv\", index=False, sep=\",\", decimal=\".\", compression=\"gzip\")\n",
    "# __________________________________________________________________________________________________________________________________\n",
    "\n",
    "# Importing aggregated file of US imports (US_export_USITC_raw.csv)\n",
    "# (!!!) Remember to specify the unzipping method (gzip)\n",
    "US_export_raw = pd.read_csv(\"data_fetcher/raw_df/US_export_USITC_raw.csv\", sep=\",\", decimal=\".\", low_memory=False, compression=\"gzip\")\n",
    "\n",
    "# Data manual retructuring\n",
    "# Country renaiming via ISO-2 code\n",
    "US_export_raw.columns = US_export_raw.columns.str.strip()\n",
    "US_export_raw = US_export_raw[US_export_raw[\"Country\"].isin(eu_country_map.keys())].copy()\n",
    "US_export_raw[\"Country\"] = US_export_raw[\"Country\"].map(eu_country_map)\n",
    "# Datetime format\n",
    "US_export_raw[\"Year\"] = US_export_raw[\"Year\"].astype(int)\n",
    "US_export_raw[\"Month\"] = US_export_raw[\"Month\"].astype(int)\n",
    "US_export_raw[\"Time\"] = (\n",
    "    US_export_raw[\"Year\"].astype(str) + \"-\" + US_export_raw[\"Month\"].astype(str).str.zfill(2)\n",
    ")\n",
    "# Raw coulumns renaiming\n",
    "US_export_raw = US_export_raw.rename(columns={\n",
    "    \"HTS Number\": \"HTS Code\",\n",
    "    \"Description\": \"HTS Description\",\n",
    "    \"FAS Value\": \"Export - FAS value (USD)\"\n",
    "})\n",
    "\n",
    "# Avoid HTS codes rounding\n",
    "# (!!!) Since HTS codes are float values this may cause unwanted float-roundings of values. To avoid this, we transform them in strings\n",
    "# Normalization of comma and space\n",
    "US_export_raw[\"HTS Code\"] = (\n",
    "    pd.to_numeric(US_export_raw[\"HTS Code\"], errors=\"coerce\")\n",
    "    .astype(\"Int64\")\n",
    "    .astype(str)\n",
    ")\n",
    "US_export_raw[\"Export - FAS value (USD)\"] = (\n",
    "    US_export_raw[\"Export - FAS value (USD)\"]\n",
    "    .astype(str)\n",
    "    .str.replace(\"\\u202f\", \"\", regex=False)\n",
    "    .str.replace(\"\\xa0\",  \"\", regex=False)\n",
    "    .str.strip()\n",
    "    .str.replace(\".\", \"\", regex=False)\n",
    "    .str.replace(\",\", \".\", regex=False)\n",
    ")\n",
    "US_export_raw[\"Export - FAS value (USD)\"] = pd.to_numeric(\n",
    "    US_export_raw[\"Export - FAS value (USD)\"],\n",
    "    errors=\"coerce\"\n",
    ")\n",
    "\n",
    "# Converting Export column to numeric and drop NaN\n",
    "# (!!!) Normally it should be already in numeric format\n",
    "US_export_raw = US_export_raw[US_export_raw[\"Export - FAS value (USD)\"].notna()].copy()\n",
    "US_export_raw = (US_export_raw.sort_values([\"Country\", \"HTS Code\", \"Time\"]).reset_index(drop=True))\n",
    "\n",
    "US_export_raw = US_export_raw[[\"Country\", \"HTS Code\", \"HTS Description\", \"Time\", \"Export - FAS value (USD)\"]]\n",
    "US_export_raw.tail()"
   ]
  },
  {
   "cell_type": "code",
   "execution_count": 158,
   "id": "ce7c9584",
   "metadata": {},
   "outputs": [],
   "source": [
    "# US tariffs ratio on EU-derived imports\n",
    "# https://policy.trade.ec.europa.eu/news/joint-statement-united-states-european-union-framework-agreement-reciprocal-fair-and-balanced-trade-2025-08-21_en\n",
    "# https://www.whitehouse.gov/fact-sheets/2025/07/fact-sheet-the-united-states-and-european-union-reach-massive-trade-deal/\n",
    "# https://www.whitehouse.gov/presidential-actions/2025/09/modifying-the-scope-of-reciprocal-tariffs-and-establishing-procedures-for-implementing-trade-and-security-agreements/"
   ]
  },
  {
   "cell_type": "markdown",
   "id": "28da95a3",
   "metadata": {},
   "source": [
    "### **4) DATA ASSEMBLING**"
   ]
  },
  {
   "cell_type": "markdown",
   "id": "ca2c7214",
   "metadata": {},
   "source": [
    "#### **4.1) Dependent df**"
   ]
  },
  {
   "cell_type": "code",
   "execution_count": 159,
   "id": "11532fe2",
   "metadata": {},
   "outputs": [],
   "source": [
    "# Aggregate FX market df\n",
    "# No merging, but concatenation\n",
    "# Time frame: 1957/01 (varying) - 2025/10 (varying)\n",
    "# (!!!) We cannot merge them, neither concatenate them as they have no common ground (neither country of exchnage rate)\n",
    "\n",
    "# Uploading as single dependent_df\n",
    "EXUSEU_m_raw.to_csv(\"data_fetcher/aggregate_df/EXUSEU_dependent_df.csv\", index=False)\n",
    "EXUSBGN_m_raw.to_csv(\"data_fetcher/aggregate_df/EXUSBGN_dependent_df.csv\", index=False)\n",
    "EXUSSKK_m_raw.to_csv(\"data_fetcher/aggregate_df/EXUSSKK_dependent_df.csv\", index=False)\n",
    "EXUSDKK_m_raw.to_csv(\"data_fetcher/aggregate_df/EXUSDKK_dependent_df.csv\", index=False)\n",
    "EXUSCZK_m_raw.to_csv(\"data_fetcher/aggregate_df/EXUSCZK_dependent_df.csv\", index=False)\n",
    "EXUSHUF_m_raw.to_csv(\"data_fetcher/aggregate_df/EXUSHUF_dependent_df.csv\", index=False)\n",
    "EXUSPLN_m_raw.to_csv(\"data_fetcher/aggregate_df/EXUSPLN_dependent_df.csv\", index=False)\n",
    "EXUSRON_m_raw.to_csv(\"data_fetcher/aggregate_df/EXUSRON_dependent_df.csv\", index=False)"
   ]
  },
  {
   "cell_type": "code",
   "execution_count": 160,
   "id": "3d563194",
   "metadata": {},
   "outputs": [],
   "source": [
    "# Aggregate Stock Index df\n",
    "# No merging, no concat, already cleaned \n",
    "# Time frame: 2015/01 - 2025/10 (but it can be extended)\n",
    "# (!!!) Not available on YFinance for Bulgaria, Croatia, Cyprus, Estonia, Greece, Hungary, Latvia, Lithuania, Luxembourg, Malta, Poland, Romania, Slovakia, Slovenia, Portugal and Sweden\n",
    "# (!!!) Volume column is dangerous, a lot of 0 values, depending on country, it must be carefully handled \n",
    "\n",
    "# Uploading in aggregate_df\n",
    "EURO_stock_m_raw.to_csv(\"data_fetcher/aggregate_df/EURO_stock_dependent_df.csv\", index=False)"
   ]
  },
  {
   "cell_type": "code",
   "execution_count": 161,
   "id": "1dacf7aa",
   "metadata": {},
   "outputs": [],
   "source": [
    "# Aggregate Industrial Production Indexes df\n",
    "# No merging, no concat, already cleaned \n",
    "# Time frame: 1996/01 - 2025/08 (but it can be extended)\n",
    "# (!!!) Level 1 Indicators: Mining and Quarrying (B), Manufacturing (C), Electricity, gas, steam and air conditioning supply (D)\n",
    "\n",
    "# Uploading in aggregate_df\n",
    "EURO_indprod_m_raw.to_csv(\"data_fetcher/aggregate_df/EURO_indprod_dependent_df.csv\", index=False)"
   ]
  },
  {
   "cell_type": "markdown",
   "id": "0ca0c4a5",
   "metadata": {},
   "source": [
    "#### **4.2) Global controls df**"
   ]
  },
  {
   "cell_type": "code",
   "execution_count": 162,
   "id": "b9315e67",
   "metadata": {},
   "outputs": [
    {
     "data": {
      "application/vnd.microsoft.datawrangler.viewer.v0+json": {
       "columns": [
        {
         "name": "index",
         "rawType": "int64",
         "type": "integer"
        },
        {
         "name": "Time",
         "rawType": "object",
         "type": "string"
        },
        {
         "name": "Crude Oil Price (Brent, Europe)",
         "rawType": "float64",
         "type": "float"
        },
        {
         "name": "Nominal Broad USD Index",
         "rawType": "float64",
         "type": "float"
        },
        {
         "name": "CBOE Volatility Index (VIX)",
         "rawType": "float64",
         "type": "float"
        },
        {
         "name": "Market Yield on 10-Year US Trasury Securities",
         "rawType": "float64",
         "type": "float"
        }
       ],
       "ref": "f4507d7c-7d1f-4818-83cb-b16f6330e95d",
       "rows": [
        [
         "760",
         "2025-05",
         "64.45",
         "122.6869",
         "20.46227272727273",
         "4.423809523809524"
        ],
        [
         "761",
         "2025-06",
         "71.44",
         "120.9747",
         "18.403333333333336",
         "4.3835"
        ],
        [
         "762",
         "2025-07",
         "71.04",
         "120.5266",
         "16.381304347826084",
         "4.391818181818182"
        ],
        [
         "763",
         "2025-08",
         "67.87",
         "120.9844",
         "15.75",
         "4.2647619047619045"
        ],
        [
         "764",
         "2025-09",
         "67.99",
         "120.4534",
         "15.789090909090909",
         "4.12047619047619"
        ]
       ],
       "shape": {
        "columns": 5,
        "rows": 5
       }
      },
      "text/html": [
       "<div>\n",
       "<style scoped>\n",
       "    .dataframe tbody tr th:only-of-type {\n",
       "        vertical-align: middle;\n",
       "    }\n",
       "\n",
       "    .dataframe tbody tr th {\n",
       "        vertical-align: top;\n",
       "    }\n",
       "\n",
       "    .dataframe thead th {\n",
       "        text-align: right;\n",
       "    }\n",
       "</style>\n",
       "<table border=\"1\" class=\"dataframe\">\n",
       "  <thead>\n",
       "    <tr style=\"text-align: right;\">\n",
       "      <th></th>\n",
       "      <th>Time</th>\n",
       "      <th>Crude Oil Price (Brent, Europe)</th>\n",
       "      <th>Nominal Broad USD Index</th>\n",
       "      <th>CBOE Volatility Index (VIX)</th>\n",
       "      <th>Market Yield on 10-Year US Trasury Securities</th>\n",
       "    </tr>\n",
       "  </thead>\n",
       "  <tbody>\n",
       "    <tr>\n",
       "      <th>760</th>\n",
       "      <td>2025-05</td>\n",
       "      <td>64.45</td>\n",
       "      <td>122.6869</td>\n",
       "      <td>20.462273</td>\n",
       "      <td>4.423810</td>\n",
       "    </tr>\n",
       "    <tr>\n",
       "      <th>761</th>\n",
       "      <td>2025-06</td>\n",
       "      <td>71.44</td>\n",
       "      <td>120.9747</td>\n",
       "      <td>18.403333</td>\n",
       "      <td>4.383500</td>\n",
       "    </tr>\n",
       "    <tr>\n",
       "      <th>762</th>\n",
       "      <td>2025-07</td>\n",
       "      <td>71.04</td>\n",
       "      <td>120.5266</td>\n",
       "      <td>16.381304</td>\n",
       "      <td>4.391818</td>\n",
       "    </tr>\n",
       "    <tr>\n",
       "      <th>763</th>\n",
       "      <td>2025-08</td>\n",
       "      <td>67.87</td>\n",
       "      <td>120.9844</td>\n",
       "      <td>15.750000</td>\n",
       "      <td>4.264762</td>\n",
       "    </tr>\n",
       "    <tr>\n",
       "      <th>764</th>\n",
       "      <td>2025-09</td>\n",
       "      <td>67.99</td>\n",
       "      <td>120.4534</td>\n",
       "      <td>15.789091</td>\n",
       "      <td>4.120476</td>\n",
       "    </tr>\n",
       "  </tbody>\n",
       "</table>\n",
       "</div>"
      ],
      "text/plain": [
       "        Time  Crude Oil Price (Brent, Europe)  Nominal Broad USD Index  \\\n",
       "760  2025-05                            64.45                 122.6869   \n",
       "761  2025-06                            71.44                 120.9747   \n",
       "762  2025-07                            71.04                 120.5266   \n",
       "763  2025-08                            67.87                 120.9844   \n",
       "764  2025-09                            67.99                 120.4534   \n",
       "\n",
       "     CBOE Volatility Index (VIX)  \\\n",
       "760                    20.462273   \n",
       "761                    18.403333   \n",
       "762                    16.381304   \n",
       "763                    15.750000   \n",
       "764                    15.789091   \n",
       "\n",
       "     Market Yield on 10-Year US Trasury Securities  \n",
       "760                                       4.423810  \n",
       "761                                       4.383500  \n",
       "762                                       4.391818  \n",
       "763                                       4.264762  \n",
       "764                                       4.120476  "
      ]
     },
     "execution_count": 162,
     "metadata": {},
     "output_type": "execute_result"
    }
   ],
   "source": [
    "# Aggregate Global Control df\n",
    "# Merging Index: Time\n",
    "# Time frame: 2006/01 - 2025/09\n",
    "# (!!!) To run the model we need no NaN in the df, so we dop them, causing a shrinking of the df time range\n",
    "global_control_df = (oilprice_m_raw.merge(usdi_m_raw, on=\"Time\", how=\"outer\").merge(VIX_m_raw, on=\"Time\", how=\"outer\").merge(ustyield_m_raw, on=\"Time\", how=\"outer\").sort_values(\"Time\").reset_index(drop=True))\n",
    "global_control_df = global_control_df.dropna()\n",
    "\n",
    "# Uploading in aggregate_df\n",
    "global_control_df.to_csv(\"data_fetcher/aggregate_df/global_control_df.csv\", index=False)\n",
    "\n",
    "global_control_df.tail()"
   ]
  },
  {
   "cell_type": "markdown",
   "id": "9d4826c1",
   "metadata": {},
   "source": [
    "#### **4.3) Country-specific test variables df**"
   ]
  },
  {
   "cell_type": "code",
   "execution_count": 163,
   "id": "848b26ff",
   "metadata": {},
   "outputs": [
    {
     "data": {
      "application/vnd.microsoft.datawrangler.viewer.v0+json": {
       "columns": [
        {
         "name": "index",
         "rawType": "int64",
         "type": "integer"
        },
        {
         "name": "Country",
         "rawType": "object",
         "type": "string"
        },
        {
         "name": "Time",
         "rawType": "object",
         "type": "string"
        },
        {
         "name": "GDP (Million USD)",
         "rawType": "float64",
         "type": "float"
        },
        {
         "name": "HICP (%, annual rate of change)",
         "rawType": "float64",
         "type": "float"
        },
        {
         "name": "Unemployment Rate (%pop in LF)",
         "rawType": "float64",
         "type": "float"
        }
       ],
       "ref": "ac728efe-1eb5-4536-a522-085a10085cc6",
       "rows": [
        [
         "12737",
         "SK",
         "2025-06",
         null,
         "4.6",
         "5.3"
        ],
        [
         "12738",
         "SK",
         "2025-07",
         null,
         "4.6",
         "5.4"
        ],
        [
         "12739",
         "SK",
         "2025-08",
         null,
         "4.4",
         "5.5"
        ],
        [
         "12740",
         "SK",
         "2025-09",
         null,
         "4.6",
         "5.6"
        ],
        [
         "12741",
         "SK",
         "2025-10",
         null,
         "3.8",
         null
        ]
       ],
       "shape": {
        "columns": 5,
        "rows": 5
       }
      },
      "text/html": [
       "<div>\n",
       "<style scoped>\n",
       "    .dataframe tbody tr th:only-of-type {\n",
       "        vertical-align: middle;\n",
       "    }\n",
       "\n",
       "    .dataframe tbody tr th {\n",
       "        vertical-align: top;\n",
       "    }\n",
       "\n",
       "    .dataframe thead th {\n",
       "        text-align: right;\n",
       "    }\n",
       "</style>\n",
       "<table border=\"1\" class=\"dataframe\">\n",
       "  <thead>\n",
       "    <tr style=\"text-align: right;\">\n",
       "      <th></th>\n",
       "      <th>Country</th>\n",
       "      <th>Time</th>\n",
       "      <th>GDP (Million USD)</th>\n",
       "      <th>HICP (%, annual rate of change)</th>\n",
       "      <th>Unemployment Rate (%pop in LF)</th>\n",
       "    </tr>\n",
       "  </thead>\n",
       "  <tbody>\n",
       "    <tr>\n",
       "      <th>12737</th>\n",
       "      <td>SK</td>\n",
       "      <td>2025-06</td>\n",
       "      <td>NaN</td>\n",
       "      <td>4.6</td>\n",
       "      <td>5.3</td>\n",
       "    </tr>\n",
       "    <tr>\n",
       "      <th>12738</th>\n",
       "      <td>SK</td>\n",
       "      <td>2025-07</td>\n",
       "      <td>NaN</td>\n",
       "      <td>4.6</td>\n",
       "      <td>5.4</td>\n",
       "    </tr>\n",
       "    <tr>\n",
       "      <th>12739</th>\n",
       "      <td>SK</td>\n",
       "      <td>2025-08</td>\n",
       "      <td>NaN</td>\n",
       "      <td>4.4</td>\n",
       "      <td>5.5</td>\n",
       "    </tr>\n",
       "    <tr>\n",
       "      <th>12740</th>\n",
       "      <td>SK</td>\n",
       "      <td>2025-09</td>\n",
       "      <td>NaN</td>\n",
       "      <td>4.6</td>\n",
       "      <td>5.6</td>\n",
       "    </tr>\n",
       "    <tr>\n",
       "      <th>12741</th>\n",
       "      <td>SK</td>\n",
       "      <td>2025-10</td>\n",
       "      <td>NaN</td>\n",
       "      <td>3.8</td>\n",
       "      <td>NaN</td>\n",
       "    </tr>\n",
       "  </tbody>\n",
       "</table>\n",
       "</div>"
      ],
      "text/plain": [
       "      Country     Time  GDP (Million USD)  HICP (%, annual rate of change)  \\\n",
       "12737      SK  2025-06                NaN                              4.6   \n",
       "12738      SK  2025-07                NaN                              4.6   \n",
       "12739      SK  2025-08                NaN                              4.4   \n",
       "12740      SK  2025-09                NaN                              4.6   \n",
       "12741      SK  2025-10                NaN                              3.8   \n",
       "\n",
       "       Unemployment Rate (%pop in LF)  \n",
       "12737                             5.3  \n",
       "12738                             5.4  \n",
       "12739                             5.5  \n",
       "12740                             5.6  \n",
       "12741                             NaN  "
      ]
     },
     "execution_count": 163,
     "metadata": {},
     "output_type": "execute_result"
    }
   ],
   "source": [
    "# Aggregate Country-Specific Control df\n",
    "# Merging Index: Country, Time\n",
    "# Time frame: 1997/01 - 2025/06\n",
    "# (!!!) To run the model we need no NaN in the df, so we dop them, causing a shrinking of the df time range\n",
    "# (!!!) As GDP data are quarterly, we lose at lot here by dropping NaN even for HICP and Unemployment Rate that were insetad fine\n",
    "# (!!!) Converting GDP in million EUR to million USD\n",
    "# (!!!) Do not drop NaN\n",
    "EURO_GDPUS_m_raw = EURO_GDP_m_raw.copy()\n",
    "EURO_GDPUS_m_raw[\"GDP (Million USD)\"] = EURO_GDPUS_m_raw[\"GDP (Million EUR)\"] * EXUSEU_m_raw[\"USD-EUR Spot Exchange Rate\"]\n",
    "EURO_GDPUS_m_raw = EURO_GDPUS_m_raw.drop(columns=[\"GDP (Million EUR)\"])\n",
    "country_control_df = (EURO_GDPUS_m_raw.merge(EURO_HICP_m_raw, on=[\"Country\", \"Time\"] , how=\"outer\").merge(EURO_unem_m_raw, on= [\"Country\", \"Time\"], how=\"outer\").sort_values([\"Country\", \"Time\"]).reset_index(drop=True))\n",
    "\n",
    "# Uploading in aggregate_df\n",
    "country_control_df.to_csv(\"data_fetcher/aggregate_df/country_specific_test_df.csv\", index=False)\n",
    "\n",
    "country_control_df.tail()"
   ]
  },
  {
   "cell_type": "markdown",
   "id": "6ce960f4",
   "metadata": {},
   "source": [
    "#### **4.4) Regime shift transition variable - Trade Openess**"
   ]
  },
  {
   "cell_type": "code",
   "execution_count": 164,
   "id": "619c58ac",
   "metadata": {},
   "outputs": [
    {
     "data": {
      "application/vnd.microsoft.datawrangler.viewer.v0+json": {
       "columns": [
        {
         "name": "index",
         "rawType": "int64",
         "type": "integer"
        },
        {
         "name": "Country",
         "rawType": "object",
         "type": "string"
        },
        {
         "name": "Year",
         "rawType": "int32",
         "type": "integer"
        },
        {
         "name": "GDP (Million USD)",
         "rawType": "float64",
         "type": "float"
        },
        {
         "name": "GDP_USD",
         "rawType": "float64",
         "type": "float"
        },
        {
         "name": "Exports_USD",
         "rawType": "float64",
         "type": "float"
        },
        {
         "name": "Imports_USD",
         "rawType": "float64",
         "type": "float"
        },
        {
         "name": "Trade_Openness_pct_GDP",
         "rawType": "float64",
         "type": "float"
        },
        {
         "name": "Openness_Lag1",
         "rawType": "float64",
         "type": "float"
        }
       ],
       "ref": "9526620b-2f22-4860-8cf9-42c2700f4855",
       "rows": [
        [
         "176",
         "SK",
         "2021",
         "0.0",
         "0.0",
         "38299460.0",
         "4878253161.0",
         "inf",
         "inf"
        ],
        [
         "177",
         "SK",
         "2022",
         "0.0",
         "0.0",
         "60670299.99999999",
         "6561242085.0",
         "inf",
         "inf"
        ],
        [
         "178",
         "SK",
         "2023",
         "0.0",
         "0.0",
         "50978710.0",
         "8327932459.0",
         "inf",
         "inf"
        ],
        [
         "179",
         "SK",
         "2024",
         "0.0",
         "0.0",
         "46167370.0",
         "8181376310.0",
         "inf",
         "inf"
        ],
        [
         "180",
         "SK",
         "2025",
         "0.0",
         "0.0",
         "19237890.0",
         "3038355281.0",
         "inf",
         "inf"
        ]
       ],
       "shape": {
        "columns": 8,
        "rows": 5
       }
      },
      "text/html": [
       "<div>\n",
       "<style scoped>\n",
       "    .dataframe tbody tr th:only-of-type {\n",
       "        vertical-align: middle;\n",
       "    }\n",
       "\n",
       "    .dataframe tbody tr th {\n",
       "        vertical-align: top;\n",
       "    }\n",
       "\n",
       "    .dataframe thead th {\n",
       "        text-align: right;\n",
       "    }\n",
       "</style>\n",
       "<table border=\"1\" class=\"dataframe\">\n",
       "  <thead>\n",
       "    <tr style=\"text-align: right;\">\n",
       "      <th></th>\n",
       "      <th>Country</th>\n",
       "      <th>Year</th>\n",
       "      <th>GDP (Million USD)</th>\n",
       "      <th>GDP_USD</th>\n",
       "      <th>Exports_USD</th>\n",
       "      <th>Imports_USD</th>\n",
       "      <th>Trade_Openness_pct_GDP</th>\n",
       "      <th>Openness_Lag1</th>\n",
       "    </tr>\n",
       "  </thead>\n",
       "  <tbody>\n",
       "    <tr>\n",
       "      <th>176</th>\n",
       "      <td>SK</td>\n",
       "      <td>2021</td>\n",
       "      <td>0.0</td>\n",
       "      <td>0.0</td>\n",
       "      <td>38299460.0</td>\n",
       "      <td>4.878253e+09</td>\n",
       "      <td>inf</td>\n",
       "      <td>inf</td>\n",
       "    </tr>\n",
       "    <tr>\n",
       "      <th>177</th>\n",
       "      <td>SK</td>\n",
       "      <td>2022</td>\n",
       "      <td>0.0</td>\n",
       "      <td>0.0</td>\n",
       "      <td>60670300.0</td>\n",
       "      <td>6.561242e+09</td>\n",
       "      <td>inf</td>\n",
       "      <td>inf</td>\n",
       "    </tr>\n",
       "    <tr>\n",
       "      <th>178</th>\n",
       "      <td>SK</td>\n",
       "      <td>2023</td>\n",
       "      <td>0.0</td>\n",
       "      <td>0.0</td>\n",
       "      <td>50978710.0</td>\n",
       "      <td>8.327932e+09</td>\n",
       "      <td>inf</td>\n",
       "      <td>inf</td>\n",
       "    </tr>\n",
       "    <tr>\n",
       "      <th>179</th>\n",
       "      <td>SK</td>\n",
       "      <td>2024</td>\n",
       "      <td>0.0</td>\n",
       "      <td>0.0</td>\n",
       "      <td>46167370.0</td>\n",
       "      <td>8.181376e+09</td>\n",
       "      <td>inf</td>\n",
       "      <td>inf</td>\n",
       "    </tr>\n",
       "    <tr>\n",
       "      <th>180</th>\n",
       "      <td>SK</td>\n",
       "      <td>2025</td>\n",
       "      <td>0.0</td>\n",
       "      <td>0.0</td>\n",
       "      <td>19237890.0</td>\n",
       "      <td>3.038355e+09</td>\n",
       "      <td>inf</td>\n",
       "      <td>inf</td>\n",
       "    </tr>\n",
       "  </tbody>\n",
       "</table>\n",
       "</div>"
      ],
      "text/plain": [
       "    Country  Year  GDP (Million USD)  GDP_USD  Exports_USD   Imports_USD  \\\n",
       "176      SK  2021                0.0      0.0   38299460.0  4.878253e+09   \n",
       "177      SK  2022                0.0      0.0   60670300.0  6.561242e+09   \n",
       "178      SK  2023                0.0      0.0   50978710.0  8.327932e+09   \n",
       "179      SK  2024                0.0      0.0   46167370.0  8.181376e+09   \n",
       "180      SK  2025                0.0      0.0   19237890.0  3.038355e+09   \n",
       "\n",
       "     Trade_Openness_pct_GDP  Openness_Lag1  \n",
       "176                     inf            inf  \n",
       "177                     inf            inf  \n",
       "178                     inf            inf  \n",
       "179                     inf            inf  \n",
       "180                     inf            inf  "
      ]
     },
     "execution_count": 164,
     "metadata": {},
     "output_type": "execute_result"
    }
   ],
   "source": [
    "# Country-specific and monthly-computed trade openess (monthly, 2020-2025)\n",
    "# Data import (!!!) specify compression\n",
    "# (!!!) To be changed to monthly\n",
    "gdp = pd.read_csv(\"data_fetcher/aggregate_df/country_specific_test_df.csv\")         \n",
    "us_exp = US_export_raw.copy()             \n",
    "us_imp = US_import_raw.copy()               \n",
    "\n",
    "# Per each variable we keep only the time frame 2020–2025\n",
    "gdp[\"Time\"]   = pd.to_datetime(gdp[\"Time\"])\n",
    "us_exp[\"Time\"] = pd.to_datetime(us_exp[\"Time\"])\n",
    "us_imp[\"Time\"] = pd.to_datetime(us_imp[\"Time\"])\n",
    "gdp[\"Year\"]   = gdp[\"Time\"].dt.year\n",
    "us_exp[\"Year\"] = us_exp[\"Time\"].dt.year\n",
    "us_imp[\"Year\"] = us_imp[\"Time\"].dt.year\n",
    "gdp     = gdp[gdp[\"Year\"].between(2020, 2025)]\n",
    "us_exp  = us_exp[us_exp[\"Year\"].between(2020, 2025)]\n",
    "us_imp  = us_imp[us_imp[\"Year\"].between(2020, 2025)]\n",
    "\n",
    "# Aggregate to annual totals\n",
    "# (!!!) GDP already converted in million USD\n",
    "gdp_annual = (\n",
    "    gdp.groupby([\"Country\", \"Year\"], as_index=False)[\"GDP (Million USD)\"]\n",
    "       .sum()\n",
    ")\n",
    "\n",
    "# EU-member GDP\n",
    "gdp_annual[\"GDP_USD\"] = gdp_annual[\"GDP (Million USD)\"] * 1_000_000 / 3\n",
    "\n",
    "# US Export\n",
    "# Trade is in thousand USD -> convert to USD (× 1,000) after annual summation\n",
    "exp_annual = (\n",
    "    us_exp.groupby([\"Country\", \"Year\"], as_index=False)[\"Export - FAS value (USD)\"]\n",
    "          .sum()\n",
    "          .rename(columns={\"Export - FAS value (USD)\": \"Exports_USD_thousand\"})\n",
    ")\n",
    "exp_annual[\"Exports_USD\"] = exp_annual[\"Exports_USD_thousand\"] * 1_000\n",
    "\n",
    "# US Import\n",
    "imp_annual = (\n",
    "    us_imp.groupby([\"Country\", \"Year\"], as_index=False)[\"Import - General Custom Value (USD)\"]\n",
    "          .sum()\n",
    "          .rename(columns={\"Import - General Custom Value (USD)\": \"Imports_USD_thousand\"})\n",
    ")\n",
    "imp_annual[\"Imports_USD\"] = imp_annual[\"Imports_USD_thousand\"]* 1_000\n",
    "\n",
    "# Merging all\n",
    "open_df = (\n",
    "    gdp_annual.merge(exp_annual[[\"Country\",\"Year\",\"Exports_USD\"]], on=[\"Country\",\"Year\"], how=\"left\")\n",
    "              .merge(imp_annual[[\"Country\",\"Year\",\"Imports_USD\"]], on=[\"Country\",\"Year\"], how=\"left\")\n",
    "              .fillna({\"Exports_USD\": 0.0, \"Imports_USD\": 0.0})\n",
    "              .sort_values([\"Country\",\"Year\"])\n",
    "              .reset_index(drop=True)\n",
    ")\n",
    "\n",
    "# Trade OpenesscComputation\n",
    "open_df[\"Trade_Openness_pct_GDP\"] = (\n",
    "    (open_df[\"Exports_USD\"] + open_df[\"Imports_USD\"]) / open_df[\"GDP_USD\"]\n",
    ") * 100\n",
    "\n",
    "# Lag openness for regressions\n",
    "open_df[\"Openness_Lag1\"] = open_df.groupby(\"Country\")[\"Trade_Openness_pct_GDP\"].shift(1)\n",
    "\n",
    "open_df.to_csv(\"data_fetcher/aggregate_df/trade_openness_annual_regime_df.csv\", index=False)\n",
    "open_df.tail()"
   ]
  },
  {
   "cell_type": "markdown",
   "id": "82431c59",
   "metadata": {},
   "source": [
    "#### **4.5) Explanatory variable - Exposure**"
   ]
  },
  {
   "cell_type": "code",
   "execution_count": 165,
   "id": "52f9ae22",
   "metadata": {
    "ExecuteTime": {
     "end_time": "2025-10-31T14:20:20.916294Z",
     "start_time": "2025-10-31T14:20:17.581403Z"
    }
   },
   "outputs": [
    {
     "data": {
      "application/vnd.microsoft.datawrangler.viewer.v0+json": {
       "columns": [
        {
         "name": "index",
         "rawType": "int64",
         "type": "integer"
        },
        {
         "name": "Country",
         "rawType": "object",
         "type": "string"
        },
        {
         "name": "HTS Code",
         "rawType": "object",
         "type": "string"
        },
        {
         "name": "Truncated Mean - EU Export-to-US (2022_2024, thousand USD)",
         "rawType": "float64",
         "type": "float"
        },
        {
         "name": "Export_Share",
         "rawType": "float64",
         "type": "float"
        }
       ],
       "ref": "2a83c3f5-c57f-4987-8421-3f2be1ed0fcd",
       "rows": [
        [
         "61817",
         "SK",
         "980200",
         "15.0",
         "2.1981018215135426e-05"
        ],
        [
         "61818",
         "SK",
         "981000",
         "42.64633333333333",
         "6.24939886539158e-05"
        ],
        [
         "61819",
         "SK",
         "981200",
         "2.37",
         "3.4730008779913976e-06"
        ],
        [
         "61820",
         "SK",
         "981700",
         "55.17016666666667",
         "8.084642922880382e-05"
        ],
        [
         "61821",
         "SK",
         "999995",
         "4725.587466666667",
         "0.006924881612134379"
        ]
       ],
       "shape": {
        "columns": 4,
        "rows": 5
       }
      },
      "text/html": [
       "<div>\n",
       "<style scoped>\n",
       "    .dataframe tbody tr th:only-of-type {\n",
       "        vertical-align: middle;\n",
       "    }\n",
       "\n",
       "    .dataframe tbody tr th {\n",
       "        vertical-align: top;\n",
       "    }\n",
       "\n",
       "    .dataframe thead th {\n",
       "        text-align: right;\n",
       "    }\n",
       "</style>\n",
       "<table border=\"1\" class=\"dataframe\">\n",
       "  <thead>\n",
       "    <tr style=\"text-align: right;\">\n",
       "      <th></th>\n",
       "      <th>Country</th>\n",
       "      <th>HTS Code</th>\n",
       "      <th>Truncated Mean - EU Export-to-US (2022_2024, thousand USD)</th>\n",
       "      <th>Export_Share</th>\n",
       "    </tr>\n",
       "  </thead>\n",
       "  <tbody>\n",
       "    <tr>\n",
       "      <th>61817</th>\n",
       "      <td>SK</td>\n",
       "      <td>980200</td>\n",
       "      <td>15.000000</td>\n",
       "      <td>0.000022</td>\n",
       "    </tr>\n",
       "    <tr>\n",
       "      <th>61818</th>\n",
       "      <td>SK</td>\n",
       "      <td>981000</td>\n",
       "      <td>42.646333</td>\n",
       "      <td>0.000062</td>\n",
       "    </tr>\n",
       "    <tr>\n",
       "      <th>61819</th>\n",
       "      <td>SK</td>\n",
       "      <td>981200</td>\n",
       "      <td>2.370000</td>\n",
       "      <td>0.000003</td>\n",
       "    </tr>\n",
       "    <tr>\n",
       "      <th>61820</th>\n",
       "      <td>SK</td>\n",
       "      <td>981700</td>\n",
       "      <td>55.170167</td>\n",
       "      <td>0.000081</td>\n",
       "    </tr>\n",
       "    <tr>\n",
       "      <th>61821</th>\n",
       "      <td>SK</td>\n",
       "      <td>999995</td>\n",
       "      <td>4725.587467</td>\n",
       "      <td>0.006925</td>\n",
       "    </tr>\n",
       "  </tbody>\n",
       "</table>\n",
       "</div>"
      ],
      "text/plain": [
       "      Country HTS Code  \\\n",
       "61817      SK   980200   \n",
       "61818      SK   981000   \n",
       "61819      SK   981200   \n",
       "61820      SK   981700   \n",
       "61821      SK   999995   \n",
       "\n",
       "       Truncated Mean - EU Export-to-US (2022_2024, thousand USD)  \\\n",
       "61817                                          15.000000            \n",
       "61818                                          42.646333            \n",
       "61819                                           2.370000            \n",
       "61820                                          55.170167            \n",
       "61821                                        4725.587467            \n",
       "\n",
       "       Export_Share  \n",
       "61817      0.000022  \n",
       "61818      0.000062  \n",
       "61819      0.000003  \n",
       "61820      0.000081  \n",
       "61821      0.006925  "
      ]
     },
     "execution_count": 165,
     "metadata": {},
     "output_type": "execute_result"
    }
   ],
   "source": [
    "# Country product-specific exposure weight (monthly, truncated mean, 2022/01, 2024/06)\n",
    "# Weight Exposure Computation\n",
    "df = US_import_raw.copy()\n",
    "\n",
    "# Data parsing\n",
    "df[\"Time\"] = pd.to_datetime(df[\"Time\"])\n",
    "df[\"Year\"] = df[\"Time\"].dt.year\n",
    "df[\"Month\"] = df[\"Time\"].dt.month\n",
    "\n",
    "# Keeping only the period pre-shock\n",
    "df_trunc = df[\n",
    "    ((df[\"Year\"] == 2022) | (df[\"Year\"] == 2023)) |\n",
    "    ((df[\"Year\"] == 2024) & (df[\"Month\"] <= 6))\n",
    "].copy()\n",
    "\n",
    "# Mean import value per EU country–HTS pair\n",
    "import_trunc_mean = (\n",
    "    df_trunc.groupby([\"Country\", \"HTS Code\"], as_index=False)\n",
    "    [\"Import - General Custom Value (USD)\"]\n",
    "    .mean()\n",
    "    .rename(columns={\"Import - General Custom Value (USD)\": \"Truncated Mean - EU Export-to-US (2022_2024, thousand USD)\"})\n",
    ")\n",
    "import_trunc_mean = import_trunc_mean.sort_values([\"Country\", \"HTS Code\"]).reset_index(drop=True)\n",
    "\n",
    "# Normalizing within each country\n",
    "import_trunc_mean[\"Export_Share\"] = import_trunc_mean.groupby(\"Country\")[\"Truncated Mean - EU Export-to-US (2022_2024, thousand USD)\"].transform(\n",
    "    lambda x: x / x.sum()\n",
    ")\n",
    "\n",
    "# Saving and zipping \n",
    "# (!!!) Not time dependent (we took the mean)\n",
    "# (!!!) Dependends only from country and product\n",
    "import_trunc_mean.tail()"
   ]
  },
  {
   "cell_type": "code",
   "execution_count": 166,
   "id": "3a96b8aaa71c1d67",
   "metadata": {},
   "outputs": [],
   "source": [
    "# Country-product specific tariff changes\n",
    "# (!!!) Do not save import_trunc_mean as a csv file, just recall it from previous cell\n",
    "# (!!!) Only final dfs in aggregate_df\n",
    "# WIP"
   ]
  }
 ],
 "metadata": {
  "kernelspec": {
   "display_name": "base",
   "language": "python",
   "name": "python3"
  },
  "language_info": {
   "codemirror_mode": {
    "name": "ipython",
    "version": 3
   },
   "file_extension": ".py",
   "mimetype": "text/x-python",
   "name": "python",
   "nbconvert_exporter": "python",
   "pygments_lexer": "ipython3",
   "version": "3.12.4"
  }
 },
 "nbformat": 4,
 "nbformat_minor": 5
}
