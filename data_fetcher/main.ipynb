{
 "cells": [
  {
   "cell_type": "markdown",
   "id": "02b43a95",
   "metadata": {},
   "source": [
    "# **API & WEBHOOK-BASED DATA RETRIEVAL**"
   ]
  },
  {
   "cell_type": "markdown",
   "id": "3c636a87",
   "metadata": {},
   "source": [
    "### **1) REQUIREMENTS SETUP**"
   ]
  },
  {
   "cell_type": "code",
   "execution_count": 114,
   "id": "4ecc6c9a",
   "metadata": {},
   "outputs": [],
   "source": [
    "# !pip install -r requirements.txt"
   ]
  },
  {
   "cell_type": "code",
   "execution_count": 115,
   "id": "7cb394ac",
   "metadata": {},
   "outputs": [],
   "source": [
    "import warnings\n",
    "warnings.filterwarnings(\"ignore\")\n",
    "import os\n",
    "import pandas as pd\n",
    "import numpy as np"
   ]
  },
  {
   "cell_type": "markdown",
   "id": "c506530d",
   "metadata": {},
   "source": [
    "### **2) MODULES IMPORT**"
   ]
  },
  {
   "cell_type": "code",
   "execution_count": 116,
   "id": "d27670ad",
   "metadata": {},
   "outputs": [],
   "source": [
    "from FRED_module import fetch_FRED\n",
    "from EUROSTAT_module import fetch_EUROSTAT\n",
    "from WB_module import fetch_WB \n",
    "from YFINANCE_module import fetch_YFINANCE\n",
    "from DBNOMICS_module import fetch_DBNOMICS"
   ]
  },
  {
   "cell_type": "markdown",
   "id": "d7d2dd32",
   "metadata": {},
   "source": [
    "### **3) DATA FETCHING**"
   ]
  },
  {
   "cell_type": "markdown",
   "id": "27ef5590",
   "metadata": {},
   "source": [
    "#### **3.1) EUROSTAT-extracted indicators**"
   ]
  },
  {
   "cell_type": "code",
   "execution_count": 180,
   "id": "7513e0c6",
   "metadata": {},
   "outputs": [
    {
     "data": {
      "application/vnd.microsoft.datawrangler.viewer.v0+json": {
       "columns": [
        {
         "name": "index",
         "rawType": "int64",
         "type": "integer"
        },
        {
         "name": "Country",
         "rawType": "object",
         "type": "string"
        },
        {
         "name": "Level 1 Index",
         "rawType": "object",
         "type": "string"
        },
        {
         "name": "Time",
         "rawType": "object",
         "type": "string"
        },
        {
         "name": "Indprod Index Value (I21)",
         "rawType": "float64",
         "type": "float"
        }
       ],
       "ref": "8d68007a-5798-49da-9259-b2c84c4046d0",
       "rows": [
        [
         "26759",
         "SK",
         "D",
         "2025-04",
         "82.8"
        ],
        [
         "26760",
         "SK",
         "D",
         "2025-05",
         "81.0"
        ],
        [
         "26761",
         "SK",
         "D",
         "2025-06",
         "79.1"
        ],
        [
         "26762",
         "SK",
         "D",
         "2025-07",
         "76.9"
        ],
        [
         "26763",
         "SK",
         "D",
         "2025-08",
         "75.1"
        ]
       ],
       "shape": {
        "columns": 4,
        "rows": 5
       }
      },
      "text/html": [
       "<div>\n",
       "<style scoped>\n",
       "    .dataframe tbody tr th:only-of-type {\n",
       "        vertical-align: middle;\n",
       "    }\n",
       "\n",
       "    .dataframe tbody tr th {\n",
       "        vertical-align: top;\n",
       "    }\n",
       "\n",
       "    .dataframe thead th {\n",
       "        text-align: right;\n",
       "    }\n",
       "</style>\n",
       "<table border=\"1\" class=\"dataframe\">\n",
       "  <thead>\n",
       "    <tr style=\"text-align: right;\">\n",
       "      <th></th>\n",
       "      <th>Country</th>\n",
       "      <th>Level 1 Index</th>\n",
       "      <th>Time</th>\n",
       "      <th>Indprod Index Value (I21)</th>\n",
       "    </tr>\n",
       "  </thead>\n",
       "  <tbody>\n",
       "    <tr>\n",
       "      <th>26759</th>\n",
       "      <td>SK</td>\n",
       "      <td>D</td>\n",
       "      <td>2025-04</td>\n",
       "      <td>82.8</td>\n",
       "    </tr>\n",
       "    <tr>\n",
       "      <th>26760</th>\n",
       "      <td>SK</td>\n",
       "      <td>D</td>\n",
       "      <td>2025-05</td>\n",
       "      <td>81.0</td>\n",
       "    </tr>\n",
       "    <tr>\n",
       "      <th>26761</th>\n",
       "      <td>SK</td>\n",
       "      <td>D</td>\n",
       "      <td>2025-06</td>\n",
       "      <td>79.1</td>\n",
       "    </tr>\n",
       "    <tr>\n",
       "      <th>26762</th>\n",
       "      <td>SK</td>\n",
       "      <td>D</td>\n",
       "      <td>2025-07</td>\n",
       "      <td>76.9</td>\n",
       "    </tr>\n",
       "    <tr>\n",
       "      <th>26763</th>\n",
       "      <td>SK</td>\n",
       "      <td>D</td>\n",
       "      <td>2025-08</td>\n",
       "      <td>75.1</td>\n",
       "    </tr>\n",
       "  </tbody>\n",
       "</table>\n",
       "</div>"
      ],
      "text/plain": [
       "      Country Level 1 Index     Time  Indprod Index Value (I21)\n",
       "26759      SK             D  2025-04                       82.8\n",
       "26760      SK             D  2025-05                       81.0\n",
       "26761      SK             D  2025-06                       79.1\n",
       "26762      SK             D  2025-07                       76.9\n",
       "26763      SK             D  2025-08                       75.1"
      ]
     },
     "execution_count": 180,
     "metadata": {},
     "output_type": "execute_result"
    }
   ],
   "source": [
    "# Industrial Production Indicators by EU member state (monthly, level 1 indicators, Index: 2021=100, non-seasonally adjusted, 1996-01, 2025-08)\n",
    "# https://ec.europa.eu/eurostat/databrowser/view/sts_inpr_m/default/table?lang=en\n",
    "# Level 1 Indicators: Mining and Quarrying (B), Manufacturing (C), Electricity, gas, steam and air conditioning supply (D)\n",
    "EURO_indprod_m_raw = fetch_EUROSTAT(\n",
    "    \"sts_inpr_m\",\n",
    "    filters = {\n",
    "    \"geo\": [\"EU27_2020\", \"EU28\", \"EA20\", \"EA19\",  \n",
    "    \"BE\", \"BG\", \"CZ\", \"DK\", \"DE\", \"EE\", \"IE\", \"EL\", \"ES\", \"FR\",\n",
    "    \"HR\", \"IT\", \"CY\", \"LV\", \"LT\", \"LU\", \"HU\", \"MT\", \"NL\", \"AT\",\n",
    "    \"PL\", \"PT\", \"RO\", \"SI\", \"SK\", \"FI\", \"SE\"],\n",
    "    \"s_adj\": \"NSA\",\n",
    "    \"unit\": \"I21\",\n",
    "    \"nace_r2\": [\"B\", \"C\", \"D\"]\n",
    "    }\n",
    ")\n",
    "\n",
    "EURO_indprod_m_raw = EURO_indprod_m_raw[[\"geo\", \"nace_r2\", \"time\", \"value\"]]\n",
    "EURO_indprod_m_raw = EURO_indprod_m_raw.rename(columns={\n",
    "    \"geo\": \"Country\",\n",
    "    \"time\": \"Time\",\n",
    "    \"nace_r2\": \"Level 1 Index\", \n",
    "    \"value\": \"Indprod Index Value (I21)\"\n",
    "})\n",
    "EURO_indprod_m_raw = EURO_indprod_m_raw.sort_values([\"Country\", \"Level 1 Index\", \"Time\"])\n",
    "\n",
    "EURO_indprod_m_raw.tail()"
   ]
  },
  {
   "cell_type": "code",
   "execution_count": 119,
   "id": "426de587",
   "metadata": {},
   "outputs": [
    {
     "data": {
      "application/vnd.microsoft.datawrangler.viewer.v0+json": {
       "columns": [
        {
         "name": "index",
         "rawType": "int64",
         "type": "integer"
        },
        {
         "name": "Country",
         "rawType": "object",
         "type": "string"
        },
        {
         "name": "Time",
         "rawType": "object",
         "type": "string"
        },
        {
         "name": "Unemployment Rate (%pop in LF)",
         "rawType": "float64",
         "type": "float"
        }
       ],
       "ref": "13e0fc59-557e-4824-9f8e-62f234fd1d93",
       "rows": [
        [
         "10945",
         "SK",
         "2025-04",
         "5.2"
        ],
        [
         "10946",
         "SK",
         "2025-05",
         "5.2"
        ],
        [
         "10947",
         "SK",
         "2025-06",
         "5.3"
        ],
        [
         "10948",
         "SK",
         "2025-07",
         "5.5"
        ],
        [
         "10949",
         "SK",
         "2025-08",
         "5.5"
        ]
       ],
       "shape": {
        "columns": 3,
        "rows": 5
       }
      },
      "text/html": [
       "<div>\n",
       "<style scoped>\n",
       "    .dataframe tbody tr th:only-of-type {\n",
       "        vertical-align: middle;\n",
       "    }\n",
       "\n",
       "    .dataframe tbody tr th {\n",
       "        vertical-align: top;\n",
       "    }\n",
       "\n",
       "    .dataframe thead th {\n",
       "        text-align: right;\n",
       "    }\n",
       "</style>\n",
       "<table border=\"1\" class=\"dataframe\">\n",
       "  <thead>\n",
       "    <tr style=\"text-align: right;\">\n",
       "      <th></th>\n",
       "      <th>Country</th>\n",
       "      <th>Time</th>\n",
       "      <th>Unemployment Rate (%pop in LF)</th>\n",
       "    </tr>\n",
       "  </thead>\n",
       "  <tbody>\n",
       "    <tr>\n",
       "      <th>10945</th>\n",
       "      <td>SK</td>\n",
       "      <td>2025-04</td>\n",
       "      <td>5.2</td>\n",
       "    </tr>\n",
       "    <tr>\n",
       "      <th>10946</th>\n",
       "      <td>SK</td>\n",
       "      <td>2025-05</td>\n",
       "      <td>5.2</td>\n",
       "    </tr>\n",
       "    <tr>\n",
       "      <th>10947</th>\n",
       "      <td>SK</td>\n",
       "      <td>2025-06</td>\n",
       "      <td>5.3</td>\n",
       "    </tr>\n",
       "    <tr>\n",
       "      <th>10948</th>\n",
       "      <td>SK</td>\n",
       "      <td>2025-07</td>\n",
       "      <td>5.5</td>\n",
       "    </tr>\n",
       "    <tr>\n",
       "      <th>10949</th>\n",
       "      <td>SK</td>\n",
       "      <td>2025-08</td>\n",
       "      <td>5.5</td>\n",
       "    </tr>\n",
       "  </tbody>\n",
       "</table>\n",
       "</div>"
      ],
      "text/plain": [
       "      Country     Time  Unemployment Rate (%pop in LF)\n",
       "10945      SK  2025-04                             5.2\n",
       "10946      SK  2025-05                             5.2\n",
       "10947      SK  2025-06                             5.3\n",
       "10948      SK  2025-07                             5.5\n",
       "10949      SK  2025-08                             5.5"
      ]
     },
     "execution_count": 119,
     "metadata": {},
     "output_type": "execute_result"
    }
   ],
   "source": [
    "# Unemployment rate by EU member state (initially quarterly transformed by duplication to monthly, Percentage of population in the labour force (age-class = total, sex-class=total), non-seasonally adjusted, 1994-01 (varying), 2025-08)\n",
    "# https://ec.europa.eu/eurostat/databrowser/view/une_rt_m/default/table?lang=en\n",
    "EURO_unem_m_raw = fetch_EUROSTAT(\n",
    "    \"une_rt_m\",\n",
    "    filters = {\n",
    "    \"geo\": [\"EU27_2020\", \"EU28\", \"EA20\", \"EA19\",  \n",
    "    \"BE\", \"BG\", \"CZ\", \"DK\", \"DE\", \"EE\", \"IE\", \"EL\", \"ES\", \"FR\",\n",
    "    \"HR\", \"IT\", \"CY\", \"LV\", \"LT\", \"LU\", \"HU\", \"MT\", \"NL\", \"AT\",\n",
    "    \"PL\", \"PT\", \"RO\", \"SI\", \"SK\", \"FI\", \"SE\"],\n",
    "    \"s_adj\": \"NSA\",\n",
    "    \"unit\": \"PC_ACT\",\n",
    "    \"freq\": \"M\",\n",
    "    \"age\": \"TOTAL\",\n",
    "    \"sex\": \"T\"\n",
    "    }\n",
    ")\n",
    "\n",
    "EURO_unem_m_raw = EURO_unem_m_raw[[\"geo\", \"time\", \"value\"]]\n",
    "EURO_unem_m_raw = EURO_unem_m_raw.rename(columns={\n",
    "    \"geo\": \"Country\",\n",
    "    \"time\": \"Time\",\n",
    "    \"value\": \"Unemployment Rate (%pop in LF)\"\n",
    "})\n",
    "\n",
    "EURO_unem_m_raw.tail()"
   ]
  },
  {
   "cell_type": "code",
   "execution_count": 120,
   "id": "80debdbc",
   "metadata": {},
   "outputs": [
    {
     "data": {
      "application/vnd.microsoft.datawrangler.viewer.v0+json": {
       "columns": [
        {
         "name": "index",
         "rawType": "int64",
         "type": "integer"
        },
        {
         "name": "Country",
         "rawType": "object",
         "type": "string"
        },
        {
         "name": "Time",
         "rawType": "object",
         "type": "string"
        },
        {
         "name": "GDP (Million EUR)",
         "rawType": "float64",
         "type": "float"
        }
       ],
       "ref": "03823a69-747b-4fa4-8c9c-cbf445a6058c",
       "rows": [
        [
         "0",
         "AT",
         "1995-01",
         "43186.6"
        ],
        [
         "1",
         "AT",
         "1995-02",
         "43186.6"
        ],
        [
         "2",
         "AT",
         "1995-03",
         "43186.6"
        ],
        [
         "3",
         "AT",
         "1995-04",
         "46786.8"
        ],
        [
         "4",
         "AT",
         "1995-05",
         "46786.8"
        ]
       ],
       "shape": {
        "columns": 3,
        "rows": 5
       }
      },
      "text/html": [
       "<div>\n",
       "<style scoped>\n",
       "    .dataframe tbody tr th:only-of-type {\n",
       "        vertical-align: middle;\n",
       "    }\n",
       "\n",
       "    .dataframe tbody tr th {\n",
       "        vertical-align: top;\n",
       "    }\n",
       "\n",
       "    .dataframe thead th {\n",
       "        text-align: right;\n",
       "    }\n",
       "</style>\n",
       "<table border=\"1\" class=\"dataframe\">\n",
       "  <thead>\n",
       "    <tr style=\"text-align: right;\">\n",
       "      <th></th>\n",
       "      <th>Country</th>\n",
       "      <th>Time</th>\n",
       "      <th>GDP (Million EUR)</th>\n",
       "    </tr>\n",
       "  </thead>\n",
       "  <tbody>\n",
       "    <tr>\n",
       "      <th>0</th>\n",
       "      <td>AT</td>\n",
       "      <td>1995-01</td>\n",
       "      <td>43186.6</td>\n",
       "    </tr>\n",
       "    <tr>\n",
       "      <th>1</th>\n",
       "      <td>AT</td>\n",
       "      <td>1995-02</td>\n",
       "      <td>43186.6</td>\n",
       "    </tr>\n",
       "    <tr>\n",
       "      <th>2</th>\n",
       "      <td>AT</td>\n",
       "      <td>1995-03</td>\n",
       "      <td>43186.6</td>\n",
       "    </tr>\n",
       "    <tr>\n",
       "      <th>3</th>\n",
       "      <td>AT</td>\n",
       "      <td>1995-04</td>\n",
       "      <td>46786.8</td>\n",
       "    </tr>\n",
       "    <tr>\n",
       "      <th>4</th>\n",
       "      <td>AT</td>\n",
       "      <td>1995-05</td>\n",
       "      <td>46786.8</td>\n",
       "    </tr>\n",
       "  </tbody>\n",
       "</table>\n",
       "</div>"
      ],
      "text/plain": [
       "  Country     Time  GDP (Million EUR)\n",
       "0      AT  1995-01            43186.6\n",
       "1      AT  1995-02            43186.6\n",
       "2      AT  1995-03            43186.6\n",
       "3      AT  1995-04            46786.8\n",
       "4      AT  1995-05            46786.8"
      ]
     },
     "execution_count": 120,
     "metadata": {},
     "output_type": "execute_result"
    }
   ],
   "source": [
    "# Gross domestic product at market prices by EU member state (initially quarterly transformed by duplication to monthly, current prices in million euro, non-seasonally adjusted, 1995-Q1 (varying), 2025-Q2)\n",
    "# https://ec.europa.eu/eurostat/databrowser/view/namq_10_gdp/default/table?lang=en\n",
    "EURO_GDP_q_raw = fetch_EUROSTAT(\n",
    "    \"namq_10_gdp\",\n",
    "    filters = {\n",
    "    \"geo\": [\"EU27_2020\", \"EU28\", \"EA20\", \"EA19\",  \n",
    "    \"BE\", \"BG\", \"CZ\", \"DK\", \"DE\", \"EE\", \"IE\", \"EL\", \"ES\", \"FR\",\n",
    "    \"HR\", \"IT\", \"CY\", \"LV\", \"LT\", \"LU\", \"HU\", \"MT\", \"NL\", \"AT\",\n",
    "    \"PL\", \"PT\", \"RO\", \"SI\", \"SK\", \"FI\", \"SE\"],\n",
    "    \"na_item\": \"B1GQ\",\n",
    "    \"s_adj\": \"NSA\",\n",
    "    \"unit\": \"CP_MEUR\"\n",
    "    }\n",
    ")\n",
    "\n",
    "EURO_GDP_q_raw = EURO_GDP_q_raw[[\"geo\", \"time\", \"value\"]]\n",
    "EURO_GDP_q_raw = EURO_GDP_q_raw.rename(columns={\n",
    "    \"geo\": \"Country\",\n",
    "    \"time\": \"Time\",\n",
    "    \"value\": \"GDP (Million EUR)\"\n",
    "})\n",
    "\n",
    "# Increasing data granularity from quarterly to monthly data by extending the quarter value to single months \n",
    "EURO_GDP_q_raw[\"Time\"] = pd.PeriodIndex(EURO_GDP_q_raw[\"Time\"], freq=\"Q\").to_timestamp()\n",
    "expanded_rows = []\n",
    "\n",
    "for _, row in EURO_GDP_q_raw.iterrows():\n",
    "    quarter_end = row[\"Time\"]\n",
    "    start_month = quarter_end - pd.offsets.QuarterEnd(startingMonth=3) + pd.DateOffset(days=1)\n",
    "    for i in range(3):\n",
    "        month = (start_month + pd.DateOffset(months=i)).strftime(\"%Y-%m\")\n",
    "        expanded_rows.append({\n",
    "            \"Country\": row[\"Country\"],\n",
    "            \"Time\": month,\n",
    "            \"GDP (Million EUR)\": row[\"GDP (Million EUR)\"]\n",
    "        })\n",
    "\n",
    "EURO_GDP_m_raw = pd.DataFrame(expanded_rows)\n",
    "EURO_GDP_m_raw = EURO_GDP_m_raw.sort_values(by=[\"Country\", \"Time\"]).reset_index(drop=True)\n",
    "\n",
    "EURO_GDP_m_raw.head()"
   ]
  },
  {
   "cell_type": "code",
   "execution_count": 121,
   "id": "33618a0a",
   "metadata": {},
   "outputs": [
    {
     "data": {
      "application/vnd.microsoft.datawrangler.viewer.v0+json": {
       "columns": [
        {
         "name": "index",
         "rawType": "int64",
         "type": "integer"
        },
        {
         "name": "Country",
         "rawType": "object",
         "type": "string"
        },
        {
         "name": "Time",
         "rawType": "object",
         "type": "string"
        },
        {
         "name": "HICP (%, annual rate of change)",
         "rawType": "float64",
         "type": "float"
        }
       ],
       "ref": "0b576a87-285e-4615-b8e4-958e6e34ed25",
       "rows": [
        [
         "10446",
         "SK",
         "2025-05",
         "4.3"
        ],
        [
         "10447",
         "SK",
         "2025-06",
         "4.6"
        ],
        [
         "10448",
         "SK",
         "2025-07",
         "4.6"
        ],
        [
         "10449",
         "SK",
         "2025-08",
         "4.4"
        ],
        [
         "10450",
         "SK",
         "2025-09",
         "4.6"
        ]
       ],
       "shape": {
        "columns": 3,
        "rows": 5
       }
      },
      "text/html": [
       "<div>\n",
       "<style scoped>\n",
       "    .dataframe tbody tr th:only-of-type {\n",
       "        vertical-align: middle;\n",
       "    }\n",
       "\n",
       "    .dataframe tbody tr th {\n",
       "        vertical-align: top;\n",
       "    }\n",
       "\n",
       "    .dataframe thead th {\n",
       "        text-align: right;\n",
       "    }\n",
       "</style>\n",
       "<table border=\"1\" class=\"dataframe\">\n",
       "  <thead>\n",
       "    <tr style=\"text-align: right;\">\n",
       "      <th></th>\n",
       "      <th>Country</th>\n",
       "      <th>Time</th>\n",
       "      <th>HICP (%, annual rate of change)</th>\n",
       "    </tr>\n",
       "  </thead>\n",
       "  <tbody>\n",
       "    <tr>\n",
       "      <th>10446</th>\n",
       "      <td>SK</td>\n",
       "      <td>2025-05</td>\n",
       "      <td>4.3</td>\n",
       "    </tr>\n",
       "    <tr>\n",
       "      <th>10447</th>\n",
       "      <td>SK</td>\n",
       "      <td>2025-06</td>\n",
       "      <td>4.6</td>\n",
       "    </tr>\n",
       "    <tr>\n",
       "      <th>10448</th>\n",
       "      <td>SK</td>\n",
       "      <td>2025-07</td>\n",
       "      <td>4.6</td>\n",
       "    </tr>\n",
       "    <tr>\n",
       "      <th>10449</th>\n",
       "      <td>SK</td>\n",
       "      <td>2025-08</td>\n",
       "      <td>4.4</td>\n",
       "    </tr>\n",
       "    <tr>\n",
       "      <th>10450</th>\n",
       "      <td>SK</td>\n",
       "      <td>2025-09</td>\n",
       "      <td>4.6</td>\n",
       "    </tr>\n",
       "  </tbody>\n",
       "</table>\n",
       "</div>"
      ],
      "text/plain": [
       "      Country     Time  HICP (%, annual rate of change)\n",
       "10446      SK  2025-05                              4.3\n",
       "10447      SK  2025-06                              4.6\n",
       "10448      SK  2025-07                              4.6\n",
       "10449      SK  2025-08                              4.4\n",
       "10450      SK  2025-09                              4.6"
      ]
     },
     "execution_count": 121,
     "metadata": {},
     "output_type": "execute_result"
    }
   ],
   "source": [
    "# HICP by EU member state (monthly, annual rate of change, 1997-01 (varying), 2025-09)\n",
    "# https://ec.europa.eu/eurostat/databrowser/view/PRC_HICP_MANR__custom_3807536/bookmark/table?lang=en&bookmarkId=cd099aa2-8977-42d5-b5d8-bc5edd3a94df&c=1668007557361 \n",
    "EURO_HICP_m_raw = fetch_EUROSTAT(\n",
    "    \"prc_hicp_manr\",\n",
    "    filters={\n",
    "    \"geo\": [\n",
    "    \"EU27_2020\", \"EU28\", \"EA20\", \"EA19\", \n",
    "    \"BE\", \"BG\", \"CZ\", \"DK\", \"DE\", \"EE\", \"IE\", \"EL\", \"ES\", \"FR\",\n",
    "    \"HR\", \"IT\", \"CY\", \"LV\", \"LT\", \"LU\", \"HU\", \"MT\", \"NL\", \"AT\",\n",
    "    \"PL\", \"PT\", \"RO\", \"SI\", \"SK\", \"FI\", \"SE\"\n",
    "    ],\n",
    "    \"coicop\": \"CP00\", \n",
    "    \"unit\": \"RCH_A\"\n",
    "    }\n",
    ")\n",
    "\n",
    "EURO_HICP_m_raw = EURO_HICP_m_raw[[\"geo\", \"time\", \"value\"]]\n",
    "EURO_HICP_m_raw = EURO_HICP_m_raw.rename(columns={\n",
    "    \"geo\": \"Country\",\n",
    "    \"time\": \"Time\",\n",
    "    \"value\": \"HICP (%, annual rate of change)\"\n",
    "})\n",
    "\n",
    "EURO_HICP_m_raw.tail()"
   ]
  },
  {
   "cell_type": "markdown",
   "id": "d0b2bf0f",
   "metadata": {},
   "source": [
    "#### **3.2) FRED-extracted indicators**"
   ]
  },
  {
   "cell_type": "code",
   "execution_count": 140,
   "id": "8484c749",
   "metadata": {},
   "outputs": [
    {
     "data": {
      "application/vnd.microsoft.datawrangler.viewer.v0+json": {
       "columns": [
        {
         "name": "index",
         "rawType": "int64",
         "type": "integer"
        },
        {
         "name": "Country",
         "rawType": "object",
         "type": "string"
        },
        {
         "name": "Time",
         "rawType": "object",
         "type": "string"
        },
        {
         "name": "USD-EUR Spot Exchange Rate",
         "rawType": "float64",
         "type": "float"
        }
       ],
       "ref": "ed467e6e-534c-4ffd-a87b-c1a6bec73835",
       "rows": [
        [
         "6435",
         "SK",
         "2025-06",
         "1.153365"
        ],
        [
         "6436",
         "SK",
         "2025-07",
         "1.1670818181818183"
        ],
        [
         "6437",
         "SK",
         "2025-08",
         "1.1647476190476191"
        ],
        [
         "6438",
         "SK",
         "2025-09",
         "1.1738714285714285"
        ],
        [
         "6439",
         "SK",
         "2025-10",
         "1.1648941176470589"
        ]
       ],
       "shape": {
        "columns": 3,
        "rows": 5
       }
      },
      "text/html": [
       "<div>\n",
       "<style scoped>\n",
       "    .dataframe tbody tr th:only-of-type {\n",
       "        vertical-align: middle;\n",
       "    }\n",
       "\n",
       "    .dataframe tbody tr th {\n",
       "        vertical-align: top;\n",
       "    }\n",
       "\n",
       "    .dataframe thead th {\n",
       "        text-align: right;\n",
       "    }\n",
       "</style>\n",
       "<table border=\"1\" class=\"dataframe\">\n",
       "  <thead>\n",
       "    <tr style=\"text-align: right;\">\n",
       "      <th></th>\n",
       "      <th>Country</th>\n",
       "      <th>Time</th>\n",
       "      <th>USD-EUR Spot Exchange Rate</th>\n",
       "    </tr>\n",
       "  </thead>\n",
       "  <tbody>\n",
       "    <tr>\n",
       "      <th>6435</th>\n",
       "      <td>SK</td>\n",
       "      <td>2025-06</td>\n",
       "      <td>1.153365</td>\n",
       "    </tr>\n",
       "    <tr>\n",
       "      <th>6436</th>\n",
       "      <td>SK</td>\n",
       "      <td>2025-07</td>\n",
       "      <td>1.167082</td>\n",
       "    </tr>\n",
       "    <tr>\n",
       "      <th>6437</th>\n",
       "      <td>SK</td>\n",
       "      <td>2025-08</td>\n",
       "      <td>1.164748</td>\n",
       "    </tr>\n",
       "    <tr>\n",
       "      <th>6438</th>\n",
       "      <td>SK</td>\n",
       "      <td>2025-09</td>\n",
       "      <td>1.173871</td>\n",
       "    </tr>\n",
       "    <tr>\n",
       "      <th>6439</th>\n",
       "      <td>SK</td>\n",
       "      <td>2025-10</td>\n",
       "      <td>1.164894</td>\n",
       "    </tr>\n",
       "  </tbody>\n",
       "</table>\n",
       "</div>"
      ],
      "text/plain": [
       "     Country     Time  USD-EUR Spot Exchange Rate\n",
       "6435      SK  2025-06                    1.153365\n",
       "6436      SK  2025-07                    1.167082\n",
       "6437      SK  2025-08                    1.164748\n",
       "6438      SK  2025-09                    1.173871\n",
       "6439      SK  2025-10                    1.164894"
      ]
     },
     "execution_count": 140,
     "metadata": {},
     "output_type": "execute_result"
    }
   ],
   "source": [
    "# US-EUR exchange rate, U.S. Dollars to One Euro (initially daily, converted to monthly, non-seasonally adjusted, 1999-01, 2025-10)\n",
    "# https://fred.stlouisfed.org/series/DEXUSEU\n",
    "EXUSEU_d_raw = fetch_FRED(\"DEXUSEU\") \n",
    "EXUSEU_d_raw = EXUSEU_d_raw.rename(columns= \n",
    "        {\"date\": \"Time\", \n",
    "         \"DEXUSEU\": \"USD-EUR Spot Exchange Rate\"\n",
    "})\n",
    "\n",
    "# Aggregation (dimension from daily to monthly)\n",
    "EXUSEU_d_raw = EXUSEU_d_raw.set_index(\"Time\")\n",
    "EXUSEU_m_raw = EXUSEU_d_raw.resample(\"M\").mean().reset_index()\n",
    "EXUSEU_m_raw[\"Time\"] = EXUSEU_m_raw[\"Time\"].dt.to_period(\"M\").astype(str)\n",
    "\n",
    "# Extension to every Euro-adopting country\n",
    "euro_countries = [\n",
    "    \"BE\", \"DE\", \"EE\", \"IE\", \"EL\", \"ES\", \"FR\",\n",
    "    \"HR\", \"IT\", \"CY\", \"LV\", \"LT\", \"LU\", \"MT\",\n",
    "    \"NL\", \"AT\", \"PT\", \"SI\", \"SK\", \"FI\"\n",
    "]\n",
    "EXUSEU_m_raw = (EXUSEU_m_raw.assign(key=1).merge(pd.DataFrame({\"Country\": euro_countries, \"key\": 1}), on=\"key\").drop(\"key\", axis=1)).sort_values([\"Country\", \"Time\"]).reset_index(drop=True)\n",
    "EXUSEU_m_raw = EXUSEU_m_raw[[\"Country\", \"Time\", \"USD-EUR Spot Exchange Rate\"]]\n",
    "\n",
    "EXUSEU_m_raw.tail()"
   ]
  },
  {
   "cell_type": "code",
   "execution_count": 123,
   "id": "a6c3abe4",
   "metadata": {},
   "outputs": [
    {
     "data": {
      "application/vnd.microsoft.datawrangler.viewer.v0+json": {
       "columns": [
        {
         "name": "index",
         "rawType": "int64",
         "type": "integer"
        },
        {
         "name": "Country",
         "rawType": "object",
         "type": "string"
        },
        {
         "name": "Time",
         "rawType": "object",
         "type": "string"
        },
        {
         "name": "USD-BGN Spot Exchange Rate",
         "rawType": "float64",
         "type": "float"
        }
       ],
       "ref": "48353b68-ee67-44c5-bf55-f8db829ed90d",
       "rows": [
        [
         "769",
         "BG",
         "2021-02",
         "1.6167"
        ],
        [
         "770",
         "BG",
         "2021-03",
         "1.6447"
        ],
        [
         "771",
         "BG",
         "2021-04",
         "1.6366"
        ],
        [
         "772",
         "BG",
         "2021-05",
         "1.6084"
        ],
        [
         "773",
         "BG",
         "2021-06",
         "1.6237"
        ]
       ],
       "shape": {
        "columns": 3,
        "rows": 5
       }
      },
      "text/html": [
       "<div>\n",
       "<style scoped>\n",
       "    .dataframe tbody tr th:only-of-type {\n",
       "        vertical-align: middle;\n",
       "    }\n",
       "\n",
       "    .dataframe tbody tr th {\n",
       "        vertical-align: top;\n",
       "    }\n",
       "\n",
       "    .dataframe thead th {\n",
       "        text-align: right;\n",
       "    }\n",
       "</style>\n",
       "<table border=\"1\" class=\"dataframe\">\n",
       "  <thead>\n",
       "    <tr style=\"text-align: right;\">\n",
       "      <th></th>\n",
       "      <th>Country</th>\n",
       "      <th>Time</th>\n",
       "      <th>USD-BGN Spot Exchange Rate</th>\n",
       "    </tr>\n",
       "  </thead>\n",
       "  <tbody>\n",
       "    <tr>\n",
       "      <th>769</th>\n",
       "      <td>BG</td>\n",
       "      <td>2021-02</td>\n",
       "      <td>1.6167</td>\n",
       "    </tr>\n",
       "    <tr>\n",
       "      <th>770</th>\n",
       "      <td>BG</td>\n",
       "      <td>2021-03</td>\n",
       "      <td>1.6447</td>\n",
       "    </tr>\n",
       "    <tr>\n",
       "      <th>771</th>\n",
       "      <td>BG</td>\n",
       "      <td>2021-04</td>\n",
       "      <td>1.6366</td>\n",
       "    </tr>\n",
       "    <tr>\n",
       "      <th>772</th>\n",
       "      <td>BG</td>\n",
       "      <td>2021-05</td>\n",
       "      <td>1.6084</td>\n",
       "    </tr>\n",
       "    <tr>\n",
       "      <th>773</th>\n",
       "      <td>BG</td>\n",
       "      <td>2021-06</td>\n",
       "      <td>1.6237</td>\n",
       "    </tr>\n",
       "  </tbody>\n",
       "</table>\n",
       "</div>"
      ],
      "text/plain": [
       "    Country     Time  USD-BGN Spot Exchange Rate\n",
       "769      BG  2021-02                      1.6167\n",
       "770      BG  2021-03                      1.6447\n",
       "771      BG  2021-04                      1.6366\n",
       "772      BG  2021-05                      1.6084\n",
       "773      BG  2021-06                      1.6237"
      ]
     },
     "execution_count": 123,
     "metadata": {},
     "output_type": "execute_result"
    }
   ],
   "source": [
    "# US-BGN exchange rate, U.S. Dollars to One Bulgarian Lev (monthly, non-seasonally adjusted, 1960-01, 2021-06)\n",
    "# https://fred.stlouisfed.org/series/BGRCCUSMA02STM\n",
    "\n",
    "EXUSBGN_m_raw = fetch_FRED(\"BGRCCUSMA02STM\") \n",
    "EXUSBGN_m_raw = EXUSBGN_m_raw.rename(columns= \n",
    "        {\"date\": \"Time\", \n",
    "         \"BGRCCUSMA02STM\": \"USD-BGN Spot Exchange Rate\"\n",
    "})\n",
    "\n",
    "EXUSBGN_m_raw[\"Time\"] = EXUSBGN_m_raw[\"Time\"].dt.to_period(\"M\").astype(str)\n",
    "\n",
    "EXUSBGN_m_raw[\"Country\"] = \"BG\"\n",
    "EXUSBGN_m_raw = EXUSBGN_m_raw[[\"Country\", \"Time\", \"USD-BGN Spot Exchange Rate\"]]\n",
    "\n",
    "EXUSBGN_m_raw.tail()"
   ]
  },
  {
   "cell_type": "code",
   "execution_count": 124,
   "id": "1f6f01ce",
   "metadata": {},
   "outputs": [
    {
     "data": {
      "application/vnd.microsoft.datawrangler.viewer.v0+json": {
       "columns": [
        {
         "name": "index",
         "rawType": "int64",
         "type": "integer"
        },
        {
         "name": "Country",
         "rawType": "object",
         "type": "string"
        },
        {
         "name": "Time",
         "rawType": "object",
         "type": "string"
        },
        {
         "name": "USD-SKK Spot Exchange Rate",
         "rawType": "float64",
         "type": "float"
        }
       ],
       "ref": "8e9b4250-c623-43aa-98c1-39691e8edabe",
       "rows": [
        [
         "653",
         "SE",
         "2025-06",
         "0.10473183675029679"
        ],
        [
         "654",
         "SE",
         "2025-07",
         "0.10419384981593209"
        ],
        [
         "655",
         "SE",
         "2025-08",
         "0.10441221145561064"
        ],
        [
         "656",
         "SE",
         "2025-09",
         "0.10669300459694432"
        ],
        [
         "657",
         "SE",
         "2025-10",
         "0.10603600608521925"
        ]
       ],
       "shape": {
        "columns": 3,
        "rows": 5
       }
      },
      "text/html": [
       "<div>\n",
       "<style scoped>\n",
       "    .dataframe tbody tr th:only-of-type {\n",
       "        vertical-align: middle;\n",
       "    }\n",
       "\n",
       "    .dataframe tbody tr th {\n",
       "        vertical-align: top;\n",
       "    }\n",
       "\n",
       "    .dataframe thead th {\n",
       "        text-align: right;\n",
       "    }\n",
       "</style>\n",
       "<table border=\"1\" class=\"dataframe\">\n",
       "  <thead>\n",
       "    <tr style=\"text-align: right;\">\n",
       "      <th></th>\n",
       "      <th>Country</th>\n",
       "      <th>Time</th>\n",
       "      <th>USD-SKK Spot Exchange Rate</th>\n",
       "    </tr>\n",
       "  </thead>\n",
       "  <tbody>\n",
       "    <tr>\n",
       "      <th>653</th>\n",
       "      <td>SE</td>\n",
       "      <td>2025-06</td>\n",
       "      <td>0.104732</td>\n",
       "    </tr>\n",
       "    <tr>\n",
       "      <th>654</th>\n",
       "      <td>SE</td>\n",
       "      <td>2025-07</td>\n",
       "      <td>0.104194</td>\n",
       "    </tr>\n",
       "    <tr>\n",
       "      <th>655</th>\n",
       "      <td>SE</td>\n",
       "      <td>2025-08</td>\n",
       "      <td>0.104412</td>\n",
       "    </tr>\n",
       "    <tr>\n",
       "      <th>656</th>\n",
       "      <td>SE</td>\n",
       "      <td>2025-09</td>\n",
       "      <td>0.106693</td>\n",
       "    </tr>\n",
       "    <tr>\n",
       "      <th>657</th>\n",
       "      <td>SE</td>\n",
       "      <td>2025-10</td>\n",
       "      <td>0.106036</td>\n",
       "    </tr>\n",
       "  </tbody>\n",
       "</table>\n",
       "</div>"
      ],
      "text/plain": [
       "    Country     Time  USD-SKK Spot Exchange Rate\n",
       "653      SE  2025-06                    0.104732\n",
       "654      SE  2025-07                    0.104194\n",
       "655      SE  2025-08                    0.104412\n",
       "656      SE  2025-09                    0.106693\n",
       "657      SE  2025-10                    0.106036"
      ]
     },
     "execution_count": 124,
     "metadata": {},
     "output_type": "execute_result"
    }
   ],
   "source": [
    "# US-SKK exchange rate, U.S. Dollar to One Swedish Kronor (initially SKK-US daily, converted to US-SKK monthly, non-seasonally adjusted, 1971-01, 2025-10)\n",
    "# https://fred.stlouisfed.org/series/DEXSDUS\n",
    "EXSKKUS_d_raw = fetch_FRED(\"DEXSDUS\") \n",
    "EXSKKUS_d_raw = EXSKKUS_d_raw.rename(columns= \n",
    "        {\"date\": \"Time\", \n",
    "         \"DEXSDUS\": \"SKK-USD Spot Exchange Rate\"\n",
    "})\n",
    "\n",
    "# Aggregation (dimension from daily to monthly)\n",
    "EXSKKUS_d_raw = EXSKKUS_d_raw.set_index(\"Time\")\n",
    "EXSKKUS_m_raw = EXSKKUS_d_raw.resample(\"M\").mean().reset_index()\n",
    "EXSKKUS_m_raw[\"Time\"] = EXSKKUS_m_raw[\"Time\"].dt.to_period(\"M\").astype(str)\n",
    "\n",
    "# Conversion to USXS spot exchange rate \n",
    "EXUSSKK_m_raw = EXSKKUS_m_raw.copy()\n",
    "EXUSSKK_m_raw[\"USD-SKK Spot Exchange Rate\"] = 1 / EXUSSKK_m_raw[\"SKK-USD Spot Exchange Rate\"]\n",
    "EXUSSKK_m_raw = EXUSSKK_m_raw.drop(columns=[\"SKK-USD Spot Exchange Rate\"])\n",
    "\n",
    "EXUSSKK_m_raw[\"Country\"] = \"SE\"\n",
    "EXUSSKK_m_raw = EXUSSKK_m_raw[[\"Country\", \"Time\", \"USD-SKK Spot Exchange Rate\"]]\n",
    "\n",
    "EXUSSKK_m_raw.tail()"
   ]
  },
  {
   "cell_type": "code",
   "execution_count": 125,
   "id": "97658bf4",
   "metadata": {},
   "outputs": [
    {
     "data": {
      "application/vnd.microsoft.datawrangler.viewer.v0+json": {
       "columns": [
        {
         "name": "index",
         "rawType": "int64",
         "type": "integer"
        },
        {
         "name": "Country",
         "rawType": "object",
         "type": "string"
        },
        {
         "name": "Time",
         "rawType": "object",
         "type": "string"
        },
        {
         "name": "USD-DKK Spot Exchange Rate",
         "rawType": "float64",
         "type": "float"
        }
       ],
       "ref": "5c98a8db-0764-4a9a-b5ab-c1316bd1d155",
       "rows": [
        [
         "652",
         "DK",
         "2025-05",
         "0.15110990223189324"
        ],
        [
         "653",
         "DK",
         "2025-06",
         "0.15460729746444032"
        ],
        [
         "654",
         "DK",
         "2025-07",
         "0.1563868384836732"
        ],
        [
         "655",
         "DK",
         "2025-08",
         "0.15605736668799453"
        ],
        [
         "656",
         "DK",
         "2025-09",
         "0.15725743041358703"
        ]
       ],
       "shape": {
        "columns": 3,
        "rows": 5
       }
      },
      "text/html": [
       "<div>\n",
       "<style scoped>\n",
       "    .dataframe tbody tr th:only-of-type {\n",
       "        vertical-align: middle;\n",
       "    }\n",
       "\n",
       "    .dataframe tbody tr th {\n",
       "        vertical-align: top;\n",
       "    }\n",
       "\n",
       "    .dataframe thead th {\n",
       "        text-align: right;\n",
       "    }\n",
       "</style>\n",
       "<table border=\"1\" class=\"dataframe\">\n",
       "  <thead>\n",
       "    <tr style=\"text-align: right;\">\n",
       "      <th></th>\n",
       "      <th>Country</th>\n",
       "      <th>Time</th>\n",
       "      <th>USD-DKK Spot Exchange Rate</th>\n",
       "    </tr>\n",
       "  </thead>\n",
       "  <tbody>\n",
       "    <tr>\n",
       "      <th>652</th>\n",
       "      <td>DK</td>\n",
       "      <td>2025-05</td>\n",
       "      <td>0.151110</td>\n",
       "    </tr>\n",
       "    <tr>\n",
       "      <th>653</th>\n",
       "      <td>DK</td>\n",
       "      <td>2025-06</td>\n",
       "      <td>0.154607</td>\n",
       "    </tr>\n",
       "    <tr>\n",
       "      <th>654</th>\n",
       "      <td>DK</td>\n",
       "      <td>2025-07</td>\n",
       "      <td>0.156387</td>\n",
       "    </tr>\n",
       "    <tr>\n",
       "      <th>655</th>\n",
       "      <td>DK</td>\n",
       "      <td>2025-08</td>\n",
       "      <td>0.156057</td>\n",
       "    </tr>\n",
       "    <tr>\n",
       "      <th>656</th>\n",
       "      <td>DK</td>\n",
       "      <td>2025-09</td>\n",
       "      <td>0.157257</td>\n",
       "    </tr>\n",
       "  </tbody>\n",
       "</table>\n",
       "</div>"
      ],
      "text/plain": [
       "    Country     Time  USD-DKK Spot Exchange Rate\n",
       "652      DK  2025-05                    0.151110\n",
       "653      DK  2025-06                    0.154607\n",
       "654      DK  2025-07                    0.156387\n",
       "655      DK  2025-08                    0.156057\n",
       "656      DK  2025-09                    0.157257"
      ]
     },
     "execution_count": 125,
     "metadata": {},
     "output_type": "execute_result"
    }
   ],
   "source": [
    "# US-DKK exchange rate, U.S. Dollar to One Danish Krone (initially DN-US converted to US-DN, monthly non-seasonally adjusted, 1971-01, 2025-09)\n",
    "# https://fred.stlouisfed.org/series/EXDNUS\n",
    "EXDKKUS_m_raw = fetch_FRED(\"EXDNUS\") \n",
    "EXDKKUS_m_raw = EXDKKUS_m_raw.rename(columns= \n",
    "        {\"date\": \"Time\", \n",
    "         \"EXDNUS\": \"DKK-USD Spot Exchange Rate\"\n",
    "})\n",
    "\n",
    "EXDKKUS_m_raw[\"Time\"] = EXDKKUS_m_raw[\"Time\"].dt.to_period(\"M\").astype(str)\n",
    "\n",
    "# Conversion to USDN spot exchange rate \n",
    "EXUSDKK_m_raw = EXDKKUS_m_raw.copy()\n",
    "EXUSDKK_m_raw[\"USD-DKK Spot Exchange Rate\"] = 1 / EXUSDKK_m_raw[\"DKK-USD Spot Exchange Rate\"]\n",
    "EXUSDKK_m_raw = EXUSDKK_m_raw.drop(columns=[\"DKK-USD Spot Exchange Rate\"])\n",
    "\n",
    "EXUSDKK_m_raw[\"Country\"] = \"DK\"\n",
    "EXUSDKK_m_raw = EXUSDKK_m_raw[[\"Country\", \"Time\", \"USD-DKK Spot Exchange Rate\"]]\n",
    "\n",
    "EXUSDKK_m_raw.tail()"
   ]
  },
  {
   "cell_type": "code",
   "execution_count": 126,
   "id": "3ee54eb7",
   "metadata": {},
   "outputs": [
    {
     "data": {
      "application/vnd.microsoft.datawrangler.viewer.v0+json": {
       "columns": [
        {
         "name": "index",
         "rawType": "int64",
         "type": "integer"
        },
        {
         "name": "Country",
         "rawType": "object",
         "type": "string"
        },
        {
         "name": "Time",
         "rawType": "object",
         "type": "string"
        },
        {
         "name": "USD-CZK Spot Exchange Rate",
         "rawType": "float64",
         "type": "float"
        }
       ],
       "ref": "182f1725-f4d8-4eca-b744-b222ad19e165",
       "rows": [
        [
         "412",
         "CZ",
         "2025-05",
         "22.0833181818182"
        ],
        [
         "413",
         "CZ",
         "2025-06",
         "21.539476190476197"
        ],
        [
         "414",
         "CZ",
         "2025-07",
         "21.0877391304348"
        ],
        [
         "415",
         "CZ",
         "2025-08",
         "21.0794761904762"
        ],
        [
         "416",
         "CZ",
         "2025-09",
         "20.7528181818182"
        ]
       ],
       "shape": {
        "columns": 3,
        "rows": 5
       }
      },
      "text/html": [
       "<div>\n",
       "<style scoped>\n",
       "    .dataframe tbody tr th:only-of-type {\n",
       "        vertical-align: middle;\n",
       "    }\n",
       "\n",
       "    .dataframe tbody tr th {\n",
       "        vertical-align: top;\n",
       "    }\n",
       "\n",
       "    .dataframe thead th {\n",
       "        text-align: right;\n",
       "    }\n",
       "</style>\n",
       "<table border=\"1\" class=\"dataframe\">\n",
       "  <thead>\n",
       "    <tr style=\"text-align: right;\">\n",
       "      <th></th>\n",
       "      <th>Country</th>\n",
       "      <th>Time</th>\n",
       "      <th>USD-CZK Spot Exchange Rate</th>\n",
       "    </tr>\n",
       "  </thead>\n",
       "  <tbody>\n",
       "    <tr>\n",
       "      <th>412</th>\n",
       "      <td>CZ</td>\n",
       "      <td>2025-05</td>\n",
       "      <td>22.083318</td>\n",
       "    </tr>\n",
       "    <tr>\n",
       "      <th>413</th>\n",
       "      <td>CZ</td>\n",
       "      <td>2025-06</td>\n",
       "      <td>21.539476</td>\n",
       "    </tr>\n",
       "    <tr>\n",
       "      <th>414</th>\n",
       "      <td>CZ</td>\n",
       "      <td>2025-07</td>\n",
       "      <td>21.087739</td>\n",
       "    </tr>\n",
       "    <tr>\n",
       "      <th>415</th>\n",
       "      <td>CZ</td>\n",
       "      <td>2025-08</td>\n",
       "      <td>21.079476</td>\n",
       "    </tr>\n",
       "    <tr>\n",
       "      <th>416</th>\n",
       "      <td>CZ</td>\n",
       "      <td>2025-09</td>\n",
       "      <td>20.752818</td>\n",
       "    </tr>\n",
       "  </tbody>\n",
       "</table>\n",
       "</div>"
      ],
      "text/plain": [
       "    Country     Time  USD-CZK Spot Exchange Rate\n",
       "412      CZ  2025-05                   22.083318\n",
       "413      CZ  2025-06                   21.539476\n",
       "414      CZ  2025-07                   21.087739\n",
       "415      CZ  2025-08                   21.079476\n",
       "416      CZ  2025-09                   20.752818"
      ]
     },
     "execution_count": 126,
     "metadata": {},
     "output_type": "execute_result"
    }
   ],
   "source": [
    "# US-CZK exchange rate, U.S. Dollar to One Czech koruna (monthly non-seasonally adjusted, 1991-01, 2025-09)\n",
    "# https://fred.stlouisfed.org/series/CCUSMA02CZM618N \n",
    "EXUSCZK_m_raw = fetch_FRED(\"CCUSMA02CZM618N\") \n",
    "EXUSCZK_m_raw = EXUSCZK_m_raw.rename(columns= \n",
    "        {\"date\": \"Time\", \n",
    "         \"CCUSMA02CZM618N\": \"USD-CZK Spot Exchange Rate\"\n",
    "})\n",
    "\n",
    "EXUSCZK_m_raw[\"Time\"] = EXUSCZK_m_raw[\"Time\"].dt.to_period(\"M\").astype(str)\n",
    "EXUSCZK_m_raw[\"Country\"] = \"CZ\"\n",
    "EXUSCZK_m_raw = EXUSCZK_m_raw[[\"Country\", \"Time\", \"USD-CZK Spot Exchange Rate\"]]\n",
    "\n",
    "EXUSCZK_m_raw.tail()"
   ]
  },
  {
   "cell_type": "code",
   "execution_count": 127,
   "id": "ff71dd33",
   "metadata": {},
   "outputs": [
    {
     "data": {
      "application/vnd.microsoft.datawrangler.viewer.v0+json": {
       "columns": [
        {
         "name": "index",
         "rawType": "int64",
         "type": "integer"
        },
        {
         "name": "Country",
         "rawType": "object",
         "type": "string"
        },
        {
         "name": "Time",
         "rawType": "object",
         "type": "string"
        },
        {
         "name": "USD-HUF Spot Exchange Rate",
         "rawType": "float64",
         "type": "float"
        }
       ],
       "ref": "09db15fc-37bb-461f-b71d-4c99e4abb306",
       "rows": [
        [
         "688",
         "HU",
         "2025-05",
         "357.90590909090895"
        ],
        [
         "689",
         "HU",
         "2025-06",
         "349.176666666667"
        ],
        [
         "690",
         "HU",
         "2025-07",
         "341.577391304348"
        ],
        [
         "691",
         "HU",
         "2025-08",
         "340.91190476190496"
        ],
        [
         "692",
         "HU",
         "2025-09",
         "333.840909090909"
        ]
       ],
       "shape": {
        "columns": 3,
        "rows": 5
       }
      },
      "text/html": [
       "<div>\n",
       "<style scoped>\n",
       "    .dataframe tbody tr th:only-of-type {\n",
       "        vertical-align: middle;\n",
       "    }\n",
       "\n",
       "    .dataframe tbody tr th {\n",
       "        vertical-align: top;\n",
       "    }\n",
       "\n",
       "    .dataframe thead th {\n",
       "        text-align: right;\n",
       "    }\n",
       "</style>\n",
       "<table border=\"1\" class=\"dataframe\">\n",
       "  <thead>\n",
       "    <tr style=\"text-align: right;\">\n",
       "      <th></th>\n",
       "      <th>Country</th>\n",
       "      <th>Time</th>\n",
       "      <th>USD-HUF Spot Exchange Rate</th>\n",
       "    </tr>\n",
       "  </thead>\n",
       "  <tbody>\n",
       "    <tr>\n",
       "      <th>688</th>\n",
       "      <td>HU</td>\n",
       "      <td>2025-05</td>\n",
       "      <td>357.905909</td>\n",
       "    </tr>\n",
       "    <tr>\n",
       "      <th>689</th>\n",
       "      <td>HU</td>\n",
       "      <td>2025-06</td>\n",
       "      <td>349.176667</td>\n",
       "    </tr>\n",
       "    <tr>\n",
       "      <th>690</th>\n",
       "      <td>HU</td>\n",
       "      <td>2025-07</td>\n",
       "      <td>341.577391</td>\n",
       "    </tr>\n",
       "    <tr>\n",
       "      <th>691</th>\n",
       "      <td>HU</td>\n",
       "      <td>2025-08</td>\n",
       "      <td>340.911905</td>\n",
       "    </tr>\n",
       "    <tr>\n",
       "      <th>692</th>\n",
       "      <td>HU</td>\n",
       "      <td>2025-09</td>\n",
       "      <td>333.840909</td>\n",
       "    </tr>\n",
       "  </tbody>\n",
       "</table>\n",
       "</div>"
      ],
      "text/plain": [
       "    Country     Time  USD-HUF Spot Exchange Rate\n",
       "688      HU  2025-05                  357.905909\n",
       "689      HU  2025-06                  349.176667\n",
       "690      HU  2025-07                  341.577391\n",
       "691      HU  2025-08                  340.911905\n",
       "692      HU  2025-09                  333.840909"
      ]
     },
     "execution_count": 127,
     "metadata": {},
     "output_type": "execute_result"
    }
   ],
   "source": [
    "# US-HUF exchange rate, U.S. Dollar to One Hungarian Forint (monthly non-seasonally adjusted, 1968-01, 2025-09)\n",
    "# https://fred.stlouisfed.org/series/CCUSMA02HUM618N\n",
    "EXUSHUF_m_raw = fetch_FRED(\"CCUSMA02HUM618N\") \n",
    "EXUSHUF_m_raw = EXUSHUF_m_raw.rename(columns= \n",
    "        {\"date\": \"Time\", \n",
    "         \"CCUSMA02HUM618N\": \"USD-HUF Spot Exchange Rate\"\n",
    "})\n",
    "\n",
    "EXUSHUF_m_raw[\"Time\"] = EXUSHUF_m_raw[\"Time\"].dt.to_period(\"M\").astype(str)\n",
    "EXUSHUF_m_raw[\"Country\"] = \"HU\"\n",
    "EXUSHUF_m_raw = EXUSHUF_m_raw[[\"Country\", \"Time\", \"USD-HUF Spot Exchange Rate\"]]\n",
    "\n",
    "EXUSHUF_m_raw.tail()"
   ]
  },
  {
   "cell_type": "code",
   "execution_count": 128,
   "id": "c0197d32",
   "metadata": {},
   "outputs": [
    {
     "data": {
      "application/vnd.microsoft.datawrangler.viewer.v0+json": {
       "columns": [
        {
         "name": "index",
         "rawType": "int64",
         "type": "integer"
        },
        {
         "name": "Country",
         "rawType": "object",
         "type": "string"
        },
        {
         "name": "Time",
         "rawType": "object",
         "type": "string"
        },
        {
         "name": "USD-PLN Spot Exchange Rate",
         "rawType": "float64",
         "type": "float"
        }
       ],
       "ref": "826714db-0232-4648-b1be-f5f9f9875cd5",
       "rows": [
        [
         "820",
         "PL",
         "2025-05",
         "3.7698863636363598"
        ],
        [
         "821",
         "PL",
         "2025-06",
         "3.70305714285714"
        ],
        [
         "822",
         "PL",
         "2025-07",
         "3.64047826086957"
        ],
        [
         "823",
         "PL",
         "2025-08",
         "3.6665857142857097"
        ],
        [
         "824",
         "PL",
         "2025-09",
         "3.6291954545454503"
        ]
       ],
       "shape": {
        "columns": 3,
        "rows": 5
       }
      },
      "text/html": [
       "<div>\n",
       "<style scoped>\n",
       "    .dataframe tbody tr th:only-of-type {\n",
       "        vertical-align: middle;\n",
       "    }\n",
       "\n",
       "    .dataframe tbody tr th {\n",
       "        vertical-align: top;\n",
       "    }\n",
       "\n",
       "    .dataframe thead th {\n",
       "        text-align: right;\n",
       "    }\n",
       "</style>\n",
       "<table border=\"1\" class=\"dataframe\">\n",
       "  <thead>\n",
       "    <tr style=\"text-align: right;\">\n",
       "      <th></th>\n",
       "      <th>Country</th>\n",
       "      <th>Time</th>\n",
       "      <th>USD-PLN Spot Exchange Rate</th>\n",
       "    </tr>\n",
       "  </thead>\n",
       "  <tbody>\n",
       "    <tr>\n",
       "      <th>820</th>\n",
       "      <td>PL</td>\n",
       "      <td>2025-05</td>\n",
       "      <td>3.769886</td>\n",
       "    </tr>\n",
       "    <tr>\n",
       "      <th>821</th>\n",
       "      <td>PL</td>\n",
       "      <td>2025-06</td>\n",
       "      <td>3.703057</td>\n",
       "    </tr>\n",
       "    <tr>\n",
       "      <th>822</th>\n",
       "      <td>PL</td>\n",
       "      <td>2025-07</td>\n",
       "      <td>3.640478</td>\n",
       "    </tr>\n",
       "    <tr>\n",
       "      <th>823</th>\n",
       "      <td>PL</td>\n",
       "      <td>2025-08</td>\n",
       "      <td>3.666586</td>\n",
       "    </tr>\n",
       "    <tr>\n",
       "      <th>824</th>\n",
       "      <td>PL</td>\n",
       "      <td>2025-09</td>\n",
       "      <td>3.629195</td>\n",
       "    </tr>\n",
       "  </tbody>\n",
       "</table>\n",
       "</div>"
      ],
      "text/plain": [
       "    Country     Time  USD-PLN Spot Exchange Rate\n",
       "820      PL  2025-05                    3.769886\n",
       "821      PL  2025-06                    3.703057\n",
       "822      PL  2025-07                    3.640478\n",
       "823      PL  2025-08                    3.666586\n",
       "824      PL  2025-09                    3.629195"
      ]
     },
     "execution_count": 128,
     "metadata": {},
     "output_type": "execute_result"
    }
   ],
   "source": [
    "# US-PLN exchange rate, U.S. Dollar to One Polish Zloty (monthly non-seasonally adjusted, 1957-01, 2025-09)\n",
    "# https://fred.stlouisfed.org/series/CCUSMA02PLM618N\n",
    "EXUSPLN_m_raw = fetch_FRED(\"CCUSMA02PLM618N\") \n",
    "EXUSPLN_m_raw = EXUSPLN_m_raw.rename(columns= \n",
    "        {\"date\": \"Time\", \n",
    "         \"CCUSMA02PLM618N\": \"USD-PLN Spot Exchange Rate\"\n",
    "})\n",
    "\n",
    "EXUSPLN_m_raw[\"Time\"] = EXUSPLN_m_raw[\"Time\"].dt.to_period(\"M\").astype(str)\n",
    "EXUSPLN_m_raw[\"Country\"] = \"PL\"\n",
    "EXUSPLN_m_raw = EXUSPLN_m_raw[[\"Country\", \"Time\", \"USD-PLN Spot Exchange Rate\"]]\n",
    "\n",
    "EXUSPLN_m_raw.tail()"
   ]
  },
  {
   "cell_type": "code",
   "execution_count": 129,
   "id": "4ad7495a",
   "metadata": {},
   "outputs": [
    {
     "data": {
      "application/vnd.microsoft.datawrangler.viewer.v0+json": {
       "columns": [
        {
         "name": "index",
         "rawType": "int64",
         "type": "integer"
        },
        {
         "name": "Country",
         "rawType": "object",
         "type": "string"
        },
        {
         "name": "Time",
         "rawType": "object",
         "type": "string"
        },
        {
         "name": "USD-RON Spot Exchange Rate",
         "rawType": "float64",
         "type": "float"
        }
       ],
       "ref": "cee910cb-3d37-4988-97f9-c1e68e3dcacc",
       "rows": [
        [
         "798",
         "RO",
         "2023-07",
         "4.4689"
        ],
        [
         "799",
         "RO",
         "2023-08",
         "4.5294"
        ],
        [
         "800",
         "RO",
         "2023-09",
         "4.647"
        ],
        [
         "801",
         "RO",
         "2023-10",
         "4.7027"
        ],
        [
         "802",
         "RO",
         "2023-11",
         "4.6035"
        ]
       ],
       "shape": {
        "columns": 3,
        "rows": 5
       }
      },
      "text/html": [
       "<div>\n",
       "<style scoped>\n",
       "    .dataframe tbody tr th:only-of-type {\n",
       "        vertical-align: middle;\n",
       "    }\n",
       "\n",
       "    .dataframe tbody tr th {\n",
       "        vertical-align: top;\n",
       "    }\n",
       "\n",
       "    .dataframe thead th {\n",
       "        text-align: right;\n",
       "    }\n",
       "</style>\n",
       "<table border=\"1\" class=\"dataframe\">\n",
       "  <thead>\n",
       "    <tr style=\"text-align: right;\">\n",
       "      <th></th>\n",
       "      <th>Country</th>\n",
       "      <th>Time</th>\n",
       "      <th>USD-RON Spot Exchange Rate</th>\n",
       "    </tr>\n",
       "  </thead>\n",
       "  <tbody>\n",
       "    <tr>\n",
       "      <th>798</th>\n",
       "      <td>RO</td>\n",
       "      <td>2023-07</td>\n",
       "      <td>4.4689</td>\n",
       "    </tr>\n",
       "    <tr>\n",
       "      <th>799</th>\n",
       "      <td>RO</td>\n",
       "      <td>2023-08</td>\n",
       "      <td>4.5294</td>\n",
       "    </tr>\n",
       "    <tr>\n",
       "      <th>800</th>\n",
       "      <td>RO</td>\n",
       "      <td>2023-09</td>\n",
       "      <td>4.6470</td>\n",
       "    </tr>\n",
       "    <tr>\n",
       "      <th>801</th>\n",
       "      <td>RO</td>\n",
       "      <td>2023-10</td>\n",
       "      <td>4.7027</td>\n",
       "    </tr>\n",
       "    <tr>\n",
       "      <th>802</th>\n",
       "      <td>RO</td>\n",
       "      <td>2023-11</td>\n",
       "      <td>4.6035</td>\n",
       "    </tr>\n",
       "  </tbody>\n",
       "</table>\n",
       "</div>"
      ],
      "text/plain": [
       "    Country     Time  USD-RON Spot Exchange Rate\n",
       "798      RO  2023-07                      4.4689\n",
       "799      RO  2023-08                      4.5294\n",
       "800      RO  2023-09                      4.6470\n",
       "801      RO  2023-10                      4.7027\n",
       "802      RO  2023-11                      4.6035"
      ]
     },
     "execution_count": 129,
     "metadata": {},
     "output_type": "execute_result"
    }
   ],
   "source": [
    "# US-RON exchange rate, U.S. Dollar to One Romanian Leu (monthly non-seasonally adjusted, 1960-01, 2023-11)\n",
    "# https://fred.stlouisfed.org/series/CCUSMA02PLM618N\n",
    "EXUSRON_m_raw = fetch_FRED(\"ROUCCUSMA02STM\") \n",
    "EXUSRON_m_raw = EXUSRON_m_raw.rename(columns= \n",
    "        {\"date\": \"Time\", \n",
    "         \"ROUCCUSMA02STM\": \"USD-RON Spot Exchange Rate\"\n",
    "})\n",
    "\n",
    "EXUSRON_m_raw[\"Time\"] = EXUSRON_m_raw[\"Time\"].dt.to_period(\"M\").astype(str)\n",
    "EXUSRON_m_raw[\"Country\"] = \"RO\"\n",
    "EXUSRON_m_raw = EXUSRON_m_raw[[\"Country\", \"Time\", \"USD-RON Spot Exchange Rate\"]]\n",
    "\n",
    "EXUSRON_m_raw.tail()"
   ]
  },
  {
   "cell_type": "code",
   "execution_count": 130,
   "id": "1f6f2f5f",
   "metadata": {},
   "outputs": [
    {
     "data": {
      "application/vnd.microsoft.datawrangler.viewer.v0+json": {
       "columns": [
        {
         "name": "index",
         "rawType": "int64",
         "type": "integer"
        },
        {
         "name": "Time",
         "rawType": "object",
         "type": "string"
        },
        {
         "name": "Crude Oil Price (Brent, Europe)",
         "rawType": "float64",
         "type": "float"
        }
       ],
       "ref": "58415ff5-eef8-4444-a44e-eb4d5e13c0bf",
       "rows": [
        [
         "456",
         "2025-05",
         "64.45"
        ],
        [
         "457",
         "2025-06",
         "71.44"
        ],
        [
         "458",
         "2025-07",
         "71.04"
        ],
        [
         "459",
         "2025-08",
         "67.87"
        ],
        [
         "460",
         "2025-09",
         "67.99"
        ]
       ],
       "shape": {
        "columns": 2,
        "rows": 5
       }
      },
      "text/html": [
       "<div>\n",
       "<style scoped>\n",
       "    .dataframe tbody tr th:only-of-type {\n",
       "        vertical-align: middle;\n",
       "    }\n",
       "\n",
       "    .dataframe tbody tr th {\n",
       "        vertical-align: top;\n",
       "    }\n",
       "\n",
       "    .dataframe thead th {\n",
       "        text-align: right;\n",
       "    }\n",
       "</style>\n",
       "<table border=\"1\" class=\"dataframe\">\n",
       "  <thead>\n",
       "    <tr style=\"text-align: right;\">\n",
       "      <th></th>\n",
       "      <th>Time</th>\n",
       "      <th>Crude Oil Price (Brent, Europe)</th>\n",
       "    </tr>\n",
       "  </thead>\n",
       "  <tbody>\n",
       "    <tr>\n",
       "      <th>456</th>\n",
       "      <td>2025-05</td>\n",
       "      <td>64.45</td>\n",
       "    </tr>\n",
       "    <tr>\n",
       "      <th>457</th>\n",
       "      <td>2025-06</td>\n",
       "      <td>71.44</td>\n",
       "    </tr>\n",
       "    <tr>\n",
       "      <th>458</th>\n",
       "      <td>2025-07</td>\n",
       "      <td>71.04</td>\n",
       "    </tr>\n",
       "    <tr>\n",
       "      <th>459</th>\n",
       "      <td>2025-08</td>\n",
       "      <td>67.87</td>\n",
       "    </tr>\n",
       "    <tr>\n",
       "      <th>460</th>\n",
       "      <td>2025-09</td>\n",
       "      <td>67.99</td>\n",
       "    </tr>\n",
       "  </tbody>\n",
       "</table>\n",
       "</div>"
      ],
      "text/plain": [
       "        Time  Crude Oil Price (Brent, Europe)\n",
       "456  2025-05                            64.45\n",
       "457  2025-06                            71.44\n",
       "458  2025-07                            71.04\n",
       "459  2025-08                            67.87\n",
       "460  2025-09                            67.99"
      ]
     },
     "execution_count": 130,
     "metadata": {},
     "output_type": "execute_result"
    }
   ],
   "source": [
    "# Crude Oil Prices: Brent - Europe (monthly, average price, Dollars per barrel, not seasonally adjusted, 1987-01, 2025-09)\n",
    "# https://fred.stlouisfed.org/series/MCOILBRENTEU\n",
    "\n",
    "oilprice_m_raw = fetch_FRED(\"MCOILBRENTEU\") \n",
    "oilprice_m_raw = oilprice_m_raw.rename(columns= \n",
    "        {\"date\": \"Time\", \n",
    "         \"MCOILBRENTEU\": \"Crude Oil Price (Brent, Europe)\"\n",
    "})\n",
    "\n",
    "oilprice_m_raw[\"Time\"] = oilprice_m_raw[\"Time\"].dt.to_period(\"M\").astype(str)\n",
    "\n",
    "oilprice_m_raw.tail()"
   ]
  },
  {
   "cell_type": "code",
   "execution_count": 131,
   "id": "777576cc",
   "metadata": {},
   "outputs": [
    {
     "data": {
      "application/vnd.microsoft.datawrangler.viewer.v0+json": {
       "columns": [
        {
         "name": "index",
         "rawType": "int64",
         "type": "integer"
        },
        {
         "name": "Time",
         "rawType": "object",
         "type": "string"
        },
        {
         "name": "Nominal Broad USD Index",
         "rawType": "float64",
         "type": "float"
        }
       ],
       "ref": "22692c89-81a0-4768-8299-d060c691c809",
       "rows": [
        [
         "626",
         "2025-05",
         "122.6869"
        ],
        [
         "627",
         "2025-06",
         "120.9747"
        ],
        [
         "628",
         "2025-07",
         "120.5266"
        ],
        [
         "629",
         "2025-08",
         "120.9844"
        ],
        [
         "630",
         "2025-09",
         "120.4534"
        ]
       ],
       "shape": {
        "columns": 2,
        "rows": 5
       }
      },
      "text/html": [
       "<div>\n",
       "<style scoped>\n",
       "    .dataframe tbody tr th:only-of-type {\n",
       "        vertical-align: middle;\n",
       "    }\n",
       "\n",
       "    .dataframe tbody tr th {\n",
       "        vertical-align: top;\n",
       "    }\n",
       "\n",
       "    .dataframe thead th {\n",
       "        text-align: right;\n",
       "    }\n",
       "</style>\n",
       "<table border=\"1\" class=\"dataframe\">\n",
       "  <thead>\n",
       "    <tr style=\"text-align: right;\">\n",
       "      <th></th>\n",
       "      <th>Time</th>\n",
       "      <th>Nominal Broad USD Index</th>\n",
       "    </tr>\n",
       "  </thead>\n",
       "  <tbody>\n",
       "    <tr>\n",
       "      <th>626</th>\n",
       "      <td>2025-05</td>\n",
       "      <td>122.6869</td>\n",
       "    </tr>\n",
       "    <tr>\n",
       "      <th>627</th>\n",
       "      <td>2025-06</td>\n",
       "      <td>120.9747</td>\n",
       "    </tr>\n",
       "    <tr>\n",
       "      <th>628</th>\n",
       "      <td>2025-07</td>\n",
       "      <td>120.5266</td>\n",
       "    </tr>\n",
       "    <tr>\n",
       "      <th>629</th>\n",
       "      <td>2025-08</td>\n",
       "      <td>120.9844</td>\n",
       "    </tr>\n",
       "    <tr>\n",
       "      <th>630</th>\n",
       "      <td>2025-09</td>\n",
       "      <td>120.4534</td>\n",
       "    </tr>\n",
       "  </tbody>\n",
       "</table>\n",
       "</div>"
      ],
      "text/plain": [
       "        Time  Nominal Broad USD Index\n",
       "626  2025-05                 122.6869\n",
       "627  2025-06                 120.9747\n",
       "628  2025-07                 120.5266\n",
       "629  2025-08                 120.9844\n",
       "630  2025-09                 120.4534"
      ]
     },
     "execution_count": 131,
     "metadata": {},
     "output_type": "execute_result"
    }
   ],
   "source": [
    "# Nominal Broad U.S. Dollar Index (monthly, index Jan 2006=100, not seasonally adjusted, 2006-01, 2025-09)\n",
    "# https://fred.stlouisfed.org/series/TWEXBGSMTH\n",
    "\n",
    "usdi_m_raw = fetch_FRED(\"TWEXBGSMTH\") \n",
    "usdi_m_raw = usdi_m_raw.rename(columns= \n",
    "        {\"date\": \"Time\", \n",
    "         \"TWEXBGSMTH\": \"Nominal Broad USD Index\"\n",
    "})\n",
    "\n",
    "usdi_m_raw[\"Time\"] = usdi_m_raw[\"Time\"].dt.to_period(\"M\").astype(str)\n",
    "\n",
    "usdi_m_raw.tail()"
   ]
  },
  {
   "cell_type": "code",
   "execution_count": null,
   "id": "f2ee5b30",
   "metadata": {},
   "outputs": [
    {
     "data": {
      "application/vnd.microsoft.datawrangler.viewer.v0+json": {
       "columns": [
        {
         "name": "index",
         "rawType": "int64",
         "type": "integer"
        },
        {
         "name": "Time",
         "rawType": "object",
         "type": "string"
        },
        {
         "name": "Market Yield on 10-Year US Trasury Securities",
         "rawType": "float64",
         "type": "float"
        }
       ],
       "ref": "f6ca5574-ee5a-4d49-b5eb-89175007a57f",
       "rows": [
        [
         "761",
         "2025-06",
         "4.3835"
        ],
        [
         "762",
         "2025-07",
         "4.391818181818182"
        ],
        [
         "763",
         "2025-08",
         "4.2647619047619045"
        ],
        [
         "764",
         "2025-09",
         "4.12047619047619"
        ],
        [
         "765",
         "2025-10",
         "4.062352941176471"
        ]
       ],
       "shape": {
        "columns": 2,
        "rows": 5
       }
      },
      "text/html": [
       "<div>\n",
       "<style scoped>\n",
       "    .dataframe tbody tr th:only-of-type {\n",
       "        vertical-align: middle;\n",
       "    }\n",
       "\n",
       "    .dataframe tbody tr th {\n",
       "        vertical-align: top;\n",
       "    }\n",
       "\n",
       "    .dataframe thead th {\n",
       "        text-align: right;\n",
       "    }\n",
       "</style>\n",
       "<table border=\"1\" class=\"dataframe\">\n",
       "  <thead>\n",
       "    <tr style=\"text-align: right;\">\n",
       "      <th></th>\n",
       "      <th>Time</th>\n",
       "      <th>Market Yield on 10-Year US Trasury Securities</th>\n",
       "    </tr>\n",
       "  </thead>\n",
       "  <tbody>\n",
       "    <tr>\n",
       "      <th>761</th>\n",
       "      <td>2025-06</td>\n",
       "      <td>4.383500</td>\n",
       "    </tr>\n",
       "    <tr>\n",
       "      <th>762</th>\n",
       "      <td>2025-07</td>\n",
       "      <td>4.391818</td>\n",
       "    </tr>\n",
       "    <tr>\n",
       "      <th>763</th>\n",
       "      <td>2025-08</td>\n",
       "      <td>4.264762</td>\n",
       "    </tr>\n",
       "    <tr>\n",
       "      <th>764</th>\n",
       "      <td>2025-09</td>\n",
       "      <td>4.120476</td>\n",
       "    </tr>\n",
       "    <tr>\n",
       "      <th>765</th>\n",
       "      <td>2025-10</td>\n",
       "      <td>4.062353</td>\n",
       "    </tr>\n",
       "  </tbody>\n",
       "</table>\n",
       "</div>"
      ],
      "text/plain": [
       "        Time  Market Yield on 10-Year US Trasury Securities\n",
       "761  2025-06                                       4.383500\n",
       "762  2025-07                                       4.391818\n",
       "763  2025-08                                       4.264762\n",
       "764  2025-09                                       4.120476\n",
       "765  2025-10                                       4.062353"
      ]
     },
     "execution_count": 132,
     "metadata": {},
     "output_type": "execute_result"
    }
   ],
   "source": [
    "# Market Yield on U.S. Treasury Securities at 10-Year Constant Maturity, Quoted on an Investment Basis (from daily to monthly, percent, not seasonally adjusted, 1962-01, 2025-10)\n",
    "# https://fred.stlouisfed.org/series/DGS10\n",
    "\n",
    "ustyield_d_raw = fetch_FRED(\"DGS10\") \n",
    "ustyield_d_raw = ustyield_d_raw.rename(columns= \n",
    "        {\"date\": \"Time\", \n",
    "         \"DGS10\": \"Market Yield on 10-Year US Trasury Securities\"\n",
    "})\n",
    "\n",
    "# Aggregation (dimension from daily to monthly)\n",
    "ustyield_d_raw = ustyield_d_raw.set_index(\"Time\")\n",
    "ustyield_m_raw = ustyield_d_raw.resample(\"M\").mean().reset_index()\n",
    "ustyield_m_raw[\"Time\"] = ustyield_m_raw[\"Time\"].dt.to_period(\"M\").astype(str)\n",
    "\n",
    "ustyield_m_raw.tail()"
   ]
  },
  {
   "cell_type": "code",
   "execution_count": 183,
   "id": "15b745d7",
   "metadata": {},
   "outputs": [
    {
     "data": {
      "application/vnd.microsoft.datawrangler.viewer.v0+json": {
       "columns": [
        {
         "name": "index",
         "rawType": "int64",
         "type": "integer"
        },
        {
         "name": "Time",
         "rawType": "object",
         "type": "string"
        },
        {
         "name": "CBOE Volatility Index (VIX)",
         "rawType": "float64",
         "type": "float"
        }
       ],
       "ref": "7f4dfea5-a19a-4d2e-8298-30b4a8994022",
       "rows": [
        [
         "425",
         "2025-06",
         "18.403333333333336"
        ],
        [
         "426",
         "2025-07",
         "16.381304347826084"
        ],
        [
         "427",
         "2025-08",
         "15.75"
        ],
        [
         "428",
         "2025-09",
         "15.789090909090909"
        ],
        [
         "429",
         "2025-10",
         "18.33157894736842"
        ]
       ],
       "shape": {
        "columns": 2,
        "rows": 5
       }
      },
      "text/html": [
       "<div>\n",
       "<style scoped>\n",
       "    .dataframe tbody tr th:only-of-type {\n",
       "        vertical-align: middle;\n",
       "    }\n",
       "\n",
       "    .dataframe tbody tr th {\n",
       "        vertical-align: top;\n",
       "    }\n",
       "\n",
       "    .dataframe thead th {\n",
       "        text-align: right;\n",
       "    }\n",
       "</style>\n",
       "<table border=\"1\" class=\"dataframe\">\n",
       "  <thead>\n",
       "    <tr style=\"text-align: right;\">\n",
       "      <th></th>\n",
       "      <th>Time</th>\n",
       "      <th>CBOE Volatility Index (VIX)</th>\n",
       "    </tr>\n",
       "  </thead>\n",
       "  <tbody>\n",
       "    <tr>\n",
       "      <th>425</th>\n",
       "      <td>2025-06</td>\n",
       "      <td>18.403333</td>\n",
       "    </tr>\n",
       "    <tr>\n",
       "      <th>426</th>\n",
       "      <td>2025-07</td>\n",
       "      <td>16.381304</td>\n",
       "    </tr>\n",
       "    <tr>\n",
       "      <th>427</th>\n",
       "      <td>2025-08</td>\n",
       "      <td>15.750000</td>\n",
       "    </tr>\n",
       "    <tr>\n",
       "      <th>428</th>\n",
       "      <td>2025-09</td>\n",
       "      <td>15.789091</td>\n",
       "    </tr>\n",
       "    <tr>\n",
       "      <th>429</th>\n",
       "      <td>2025-10</td>\n",
       "      <td>18.331579</td>\n",
       "    </tr>\n",
       "  </tbody>\n",
       "</table>\n",
       "</div>"
      ],
      "text/plain": [
       "        Time  CBOE Volatility Index (VIX)\n",
       "425  2025-06                    18.403333\n",
       "426  2025-07                    16.381304\n",
       "427  2025-08                    15.750000\n",
       "428  2025-09                    15.789091\n",
       "429  2025-10                    18.331579"
      ]
     },
     "execution_count": 183,
     "metadata": {},
     "output_type": "execute_result"
    }
   ],
   "source": [
    "# CBOE Volatility Index VIX (from daily to monthly, index, not seasonally adjusted, 1990-01, 2025-10)\n",
    "# https://fred.stlouisfed.org/series/VIXCLS\n",
    "\n",
    "VIX_d_raw = fetch_FRED(\"VIXCLS\") \n",
    "VIX_d_raw = VIX_d_raw.rename(columns= \n",
    "        {\"date\": \"Time\", \n",
    "         \"VIXCLS\": \"CBOE Volatility Index (VIX)\"\n",
    "})\n",
    "\n",
    "# Aggregation (dimension from daily to monthly)\n",
    "VIX_d_raw = VIX_d_raw.set_index(\"Time\")\n",
    "VIX_m_raw = VIX_d_raw.resample(\"M\").mean().reset_index()\n",
    "VIX_m_raw[\"Time\"] = VIX_m_raw[\"Time\"].dt.to_period(\"M\").astype(str)\n",
    "\n",
    "VIX_m_raw.tail()"
   ]
  },
  {
   "cell_type": "markdown",
   "id": "9b3565d3",
   "metadata": {},
   "source": [
    "#### **3.3) YAHOO!FINANCE-extracted indicators**"
   ]
  },
  {
   "cell_type": "code",
   "execution_count": 173,
   "id": "bbb6639f",
   "metadata": {},
   "outputs": [
    {
     "data": {
      "application/vnd.microsoft.datawrangler.viewer.v0+json": {
       "columns": [
        {
         "name": "index",
         "rawType": "int64",
         "type": "integer"
        },
        {
         "name": "Country",
         "rawType": "object",
         "type": "string"
        },
        {
         "name": "Stock Index",
         "rawType": "object",
         "type": "string"
        },
        {
         "name": "Time",
         "rawType": "period[M]",
         "type": "unknown"
        },
        {
         "name": "Closing Price (USD)",
         "rawType": "float64",
         "type": "float"
        },
        {
         "name": "Volume",
         "rawType": "int64",
         "type": "integer"
        }
       ],
       "ref": "31d8a9bc-bc69-435a-896c-6cb4cff2497c",
       "rows": [
        [
         "1354",
         "ES",
         "^IBEX",
         "2025-06",
         "13991.900390625",
         "2351850100"
        ],
        [
         "1355",
         "ES",
         "^IBEX",
         "2025-07",
         "14397.0",
         "2531475800"
        ],
        [
         "1356",
         "ES",
         "^IBEX",
         "2025-08",
         "14935.7998046875",
         "1894189600"
        ],
        [
         "1357",
         "ES",
         "^IBEX",
         "2025-09",
         "15475.0",
         "2168514900"
        ],
        [
         "1358",
         "ES",
         "^IBEX",
         "2025-10",
         "16000.2001953125",
         "1904922800"
        ]
       ],
       "shape": {
        "columns": 5,
        "rows": 5
       }
      },
      "text/html": [
       "<div>\n",
       "<style scoped>\n",
       "    .dataframe tbody tr th:only-of-type {\n",
       "        vertical-align: middle;\n",
       "    }\n",
       "\n",
       "    .dataframe tbody tr th {\n",
       "        vertical-align: top;\n",
       "    }\n",
       "\n",
       "    .dataframe thead th {\n",
       "        text-align: right;\n",
       "    }\n",
       "</style>\n",
       "<table border=\"1\" class=\"dataframe\">\n",
       "  <thead>\n",
       "    <tr style=\"text-align: right;\">\n",
       "      <th></th>\n",
       "      <th>Country</th>\n",
       "      <th>Stock Index</th>\n",
       "      <th>Time</th>\n",
       "      <th>Closing Price (USD)</th>\n",
       "      <th>Volume</th>\n",
       "    </tr>\n",
       "  </thead>\n",
       "  <tbody>\n",
       "    <tr>\n",
       "      <th>1354</th>\n",
       "      <td>ES</td>\n",
       "      <td>^IBEX</td>\n",
       "      <td>2025-06</td>\n",
       "      <td>13991.900391</td>\n",
       "      <td>2351850100</td>\n",
       "    </tr>\n",
       "    <tr>\n",
       "      <th>1355</th>\n",
       "      <td>ES</td>\n",
       "      <td>^IBEX</td>\n",
       "      <td>2025-07</td>\n",
       "      <td>14397.000000</td>\n",
       "      <td>2531475800</td>\n",
       "    </tr>\n",
       "    <tr>\n",
       "      <th>1356</th>\n",
       "      <td>ES</td>\n",
       "      <td>^IBEX</td>\n",
       "      <td>2025-08</td>\n",
       "      <td>14935.799805</td>\n",
       "      <td>1894189600</td>\n",
       "    </tr>\n",
       "    <tr>\n",
       "      <th>1357</th>\n",
       "      <td>ES</td>\n",
       "      <td>^IBEX</td>\n",
       "      <td>2025-09</td>\n",
       "      <td>15475.000000</td>\n",
       "      <td>2168514900</td>\n",
       "    </tr>\n",
       "    <tr>\n",
       "      <th>1358</th>\n",
       "      <td>ES</td>\n",
       "      <td>^IBEX</td>\n",
       "      <td>2025-10</td>\n",
       "      <td>16000.200195</td>\n",
       "      <td>1904922800</td>\n",
       "    </tr>\n",
       "  </tbody>\n",
       "</table>\n",
       "</div>"
      ],
      "text/plain": [
       "     Country Stock Index     Time  Closing Price (USD)      Volume\n",
       "1354      ES       ^IBEX  2025-06         13991.900391  2351850100\n",
       "1355      ES       ^IBEX  2025-07         14397.000000  2531475800\n",
       "1356      ES       ^IBEX  2025-08         14935.799805  1894189600\n",
       "1357      ES       ^IBEX  2025-09         15475.000000  2168514900\n",
       "1358      ES       ^IBEX  2025-10         16000.200195  1904922800"
      ]
     },
     "execution_count": 173,
     "metadata": {},
     "output_type": "execute_result"
    }
   ],
   "source": [
    "# Monthly price and volume of EU country’s stock index (monthly, price (USD), number of securities traded, 2015-01, 2025-10)\n",
    "# (!!!) Not available on YFinance for Bulgaria, Croatia, Cyprus, Estonia, Greece, Hungary, Latvia, Lithuania, Luxembourg, Malta, Poland, Romania, Slovakia, Slovenia, Portugal and Sweden\n",
    "# (!!!) Volume column is dangerous, a lot of 0 values, depending on country, it must be carefully handled \n",
    "\n",
    "eu_stock_indices_tickers = {\n",
    "    \"AT\": \"^ATX\",\n",
    "    \"BE\": \"^BFX\",\n",
    "    \"CZ\": \"^PX\",\n",
    "    \"DK\": \"^OMXC25\",\n",
    "    \"FI\": \"^OMXH25\",\n",
    "    \"FR\": \"^FCHI\",\n",
    "    \"DE\": \"^GDAXI\",\n",
    "    \"IE\": \"^ISEQ\",\n",
    "    \"IT\": \"FTSEMIB.MI\",\n",
    "    \"NL\": \"^AEX\",\n",
    "    \"ES\": \"^IBEX\"\n",
    "}\n",
    "\n",
    "start = \"2015-01-01\"\n",
    "end = \"2025-10-25\"\n",
    "\n",
    "list_single_country_dfs = []\n",
    "\n",
    "# We iterate over each country and respective stock index\n",
    "# We aggregate data through concatenation based on y axis\n",
    "for country, ticker in eu_stock_indices_tickers.items():\n",
    "    df = fetch_YFINANCE(ticker, start, end)\n",
    "\n",
    "# MultiIndex columns\n",
    "    if isinstance(df.columns, pd.MultiIndex):\n",
    "        df.columns = [col[0] for col in df.columns]\n",
    "    df = df.rename(columns={\n",
    "        \"Close\": \"Closing Price (USD)\",\n",
    "        \"YearMonth\": \"Time\"\n",
    "    })\n",
    "    df[\"Country\"] = country\n",
    "    df[\"Stock Index\"] = ticker\n",
    "\n",
    "    df = df[[\"Country\", \"Stock Index\", \"Time\", \"Closing Price (USD)\", \"Volume\"]]\n",
    "\n",
    "    list_single_country_dfs.append(df)\n",
    "\n",
    "EURO_stock_m_raw = pd.concat(list_single_country_dfs, ignore_index=True)\n",
    "\n",
    "EURO_stock_m_raw.tail()"
   ]
  },
  {
   "cell_type": "markdown",
   "id": "87024af9",
   "metadata": {},
   "source": [
    "#### **3.5) OTHERS-extracted indicators**"
   ]
  },
  {
   "cell_type": "code",
   "execution_count": 194,
   "id": "dac4f8ba",
   "metadata": {},
   "outputs": [
    {
     "data": {
      "application/vnd.microsoft.datawrangler.viewer.v0+json": {
       "columns": [
        {
         "name": "index",
         "rawType": "int64",
         "type": "integer"
        },
        {
         "name": "Country",
         "rawType": "object",
         "type": "string"
        },
        {
         "name": "NAIC Code",
         "rawType": "int64",
         "type": "integer"
        },
        {
         "name": "Description",
         "rawType": "object",
         "type": "string"
        },
        {
         "name": "Time",
         "rawType": "object",
         "type": "string"
        },
        {
         "name": "Import - General custom value (USD)",
         "rawType": "int64",
         "type": "integer"
        }
       ],
       "ref": "13d34d60-c595-402a-add7-65aa572448b1",
       "rows": [
        [
         "14719",
         "SK",
         "3399",
         "MISCELLANEOUS MANUFACTURED COMMODITIES",
         "2025-08",
         "0"
        ],
        [
         "14720",
         "SK",
         "3399",
         "MISCELLANEOUS MANUFACTURED COMMODITIES",
         "2025-09",
         "0"
        ],
        [
         "14721",
         "SK",
         "3399",
         "MISCELLANEOUS MANUFACTURED COMMODITIES",
         "2025-10",
         "0"
        ],
        [
         "14722",
         "SK",
         "3399",
         "MISCELLANEOUS MANUFACTURED COMMODITIES",
         "2025-11",
         "0"
        ],
        [
         "14723",
         "SK",
         "3399",
         "MISCELLANEOUS MANUFACTURED COMMODITIES",
         "2025-12",
         "0"
        ]
       ],
       "shape": {
        "columns": 5,
        "rows": 5
       }
      },
      "text/html": [
       "<div>\n",
       "<style scoped>\n",
       "    .dataframe tbody tr th:only-of-type {\n",
       "        vertical-align: middle;\n",
       "    }\n",
       "\n",
       "    .dataframe tbody tr th {\n",
       "        vertical-align: top;\n",
       "    }\n",
       "\n",
       "    .dataframe thead th {\n",
       "        text-align: right;\n",
       "    }\n",
       "</style>\n",
       "<table border=\"1\" class=\"dataframe\">\n",
       "  <thead>\n",
       "    <tr style=\"text-align: right;\">\n",
       "      <th></th>\n",
       "      <th>Country</th>\n",
       "      <th>NAIC Code</th>\n",
       "      <th>Description</th>\n",
       "      <th>Time</th>\n",
       "      <th>Import - General custom value (USD)</th>\n",
       "    </tr>\n",
       "  </thead>\n",
       "  <tbody>\n",
       "    <tr>\n",
       "      <th>14719</th>\n",
       "      <td>SK</td>\n",
       "      <td>3399</td>\n",
       "      <td>MISCELLANEOUS MANUFACTURED COMMODITIES</td>\n",
       "      <td>2025-08</td>\n",
       "      <td>0</td>\n",
       "    </tr>\n",
       "    <tr>\n",
       "      <th>14720</th>\n",
       "      <td>SK</td>\n",
       "      <td>3399</td>\n",
       "      <td>MISCELLANEOUS MANUFACTURED COMMODITIES</td>\n",
       "      <td>2025-09</td>\n",
       "      <td>0</td>\n",
       "    </tr>\n",
       "    <tr>\n",
       "      <th>14721</th>\n",
       "      <td>SK</td>\n",
       "      <td>3399</td>\n",
       "      <td>MISCELLANEOUS MANUFACTURED COMMODITIES</td>\n",
       "      <td>2025-10</td>\n",
       "      <td>0</td>\n",
       "    </tr>\n",
       "    <tr>\n",
       "      <th>14722</th>\n",
       "      <td>SK</td>\n",
       "      <td>3399</td>\n",
       "      <td>MISCELLANEOUS MANUFACTURED COMMODITIES</td>\n",
       "      <td>2025-11</td>\n",
       "      <td>0</td>\n",
       "    </tr>\n",
       "    <tr>\n",
       "      <th>14723</th>\n",
       "      <td>SK</td>\n",
       "      <td>3399</td>\n",
       "      <td>MISCELLANEOUS MANUFACTURED COMMODITIES</td>\n",
       "      <td>2025-12</td>\n",
       "      <td>0</td>\n",
       "    </tr>\n",
       "  </tbody>\n",
       "</table>\n",
       "</div>"
      ],
      "text/plain": [
       "      Country  NAIC Code                             Description     Time  \\\n",
       "14719      SK       3399  MISCELLANEOUS MANUFACTURED COMMODITIES  2025-08   \n",
       "14720      SK       3399  MISCELLANEOUS MANUFACTURED COMMODITIES  2025-09   \n",
       "14721      SK       3399  MISCELLANEOUS MANUFACTURED COMMODITIES  2025-10   \n",
       "14722      SK       3399  MISCELLANEOUS MANUFACTURED COMMODITIES  2025-11   \n",
       "14723      SK       3399  MISCELLANEOUS MANUFACTURED COMMODITIES  2025-12   \n",
       "\n",
       "       Import - General custom value (USD)  \n",
       "14719                                    0  \n",
       "14720                                    0  \n",
       "14721                                    0  \n",
       "14722                                    0  \n",
       "14723                                    0  "
      ]
     },
     "execution_count": 194,
     "metadata": {},
     "output_type": "execute_result"
    }
   ],
   "source": [
    "# US Import General by NAICS Codes and EU member country (monthly, general custom value in USD, not seasonally adjusted, 2020-01, 2025-12)\n",
    "# Manually extracted from the USITC DataWeb (U.S. Department of Commerce): https://dataweb.usitc.gov/trade/search/GenImp/NAIC \n",
    "# (!!!) We take the general custom value as the tariffs applies on the overall value, regardless of the quantity traded\n",
    "# (!!!) NAIC codes: 3334, 3353, 3399, 3312, 3331, 3339, 3351, 3357, 3363, 3398\n",
    "\n",
    "US_import_raw = pd.read_csv(\"US_import_USITC_raw.csv\")\n",
    "US_import_raw = US_import_raw.rename(columns={\n",
    "    \"SIC_Code\" : \"NAIC Code\",\n",
    "    \"Desciption\": \"NAIC Code Description\", \n",
    "    \"YearMonth\" : \"Time\",\n",
    "    \"Value\": \"Import - General custom value (USD)\"\n",
    "})\n",
    "US_import_raw[\"Country\"] = US_import_raw[\"Country\"].replace(\n",
    "    {\"Czechia (Czech Republic)\": \"CZ\"}\n",
    ")\n",
    "US_import_raw = US_import_raw.sort_values([\"Country\", \"NAIC Code\", \"Time\"]).reset_index(drop=True)\n",
    "\n",
    "US_import_raw.tail()"
   ]
  },
  {
   "cell_type": "code",
   "execution_count": null,
   "id": "ce7c9584",
   "metadata": {},
   "outputs": [],
   "source": [
    "# US tariffs ratio on EU-derived imports\n",
    "# https://policy.trade.ec.europa.eu/news/joint-statement-united-states-european-union-framework-agreement-reciprocal-fair-and-balanced-trade-2025-08-21_en\n",
    "# https://www.whitehouse.gov/fact-sheets/2025/07/fact-sheet-the-united-states-and-european-union-reach-massive-trade-deal/\n",
    "# https://www.whitehouse.gov/presidential-actions/2025/09/modifying-the-scope-of-reciprocal-tariffs-and-establishing-procedures-for-implementing-trade-and-security-agreements/"
   ]
  },
  {
   "cell_type": "markdown",
   "id": "28da95a3",
   "metadata": {},
   "source": [
    "### **4) DATA ASSEMBLING**"
   ]
  },
  {
   "cell_type": "markdown",
   "id": "ca2c7214",
   "metadata": {},
   "source": [
    "#### **4.1) Dependent df**"
   ]
  },
  {
   "cell_type": "code",
   "execution_count": 148,
   "id": "11532fe2",
   "metadata": {},
   "outputs": [],
   "source": [
    "# Aggregate FX market df\n",
    "# No merging, but concatenation\n",
    "# Time frame: 1957/01 (varying) - 2025/10 (varying)\n",
    "# (!!!) We cannot merge them, neither concatenate them as they have no common ground (neither country of exchnage rate)\n",
    "\n",
    "# Uploading as single dependent_df\n",
    "EXUSEU_m_raw.to_csv(\"aggregate_df/EXUSEU_dependent_df.csv\", index=False)\n",
    "EXUSBGN_m_raw.to_csv(\"aggregate_df/EXUSBGN_dependent_df.csv\", index=False)\n",
    "EXUSSKK_m_raw.to_csv(\"aggregate_df/EXUSSKK_dependent_df.csv\", index=False)\n",
    "EXUSDKK_m_raw.to_csv(\"aggregate_df/EXUSDKK_dependent_df.csv\", index=False)\n",
    "EXUSCZK_m_raw.to_csv(\"aggregate_df/EXUSCZK_dependent_df.csv\", index=False)\n",
    "EXUSHUF_m_raw.to_csv(\"aggregate_df/EXUSHUF_dependent_df.csv\", index=False)\n",
    "EXUSPLN_m_raw.to_csv(\"aggregate_df/EXUSPLN_dependent_df.csv\", index=False)\n",
    "EXUSRON_m_raw.to_csv(\"aggregate_df/EXUSRON_dependent_df.csv\", index=False)"
   ]
  },
  {
   "cell_type": "code",
   "execution_count": 174,
   "id": "3d563194",
   "metadata": {},
   "outputs": [],
   "source": [
    "# Aggregate Stock Index df\n",
    "# No merging, no concat, already cleaned \n",
    "# Time frame: 2015/01 - 2025/10 (but it can be extended)\n",
    "# (!!!) Not available on YFinance for Bulgaria, Croatia, Cyprus, Estonia, Greece, Hungary, Latvia, Lithuania, Luxembourg, Malta, Poland, Romania, Slovakia, Slovenia, Portugal and Sweden\n",
    "# (!!!) Volume column is dangerous, a lot of 0 values, depending on country, it must be carefully handled \n",
    "\n",
    "# Uploading in aggregate_df\n",
    "EURO_stock_m_raw.to_csv(\"aggregate_df/EURO_stock_dependent_df.csv\", index=False)"
   ]
  },
  {
   "cell_type": "code",
   "execution_count": 181,
   "id": "1dacf7aa",
   "metadata": {},
   "outputs": [],
   "source": [
    "# Aggregate Industrial Production Indexes df\n",
    "# No merging, no concat, already cleaned \n",
    "# Time frame: 1996/01 - 2025/08 (but it can be extended)\n",
    "# (!!!) Level 1 Indicators: Mining and Quarrying (B), Manufacturing (C), Electricity, gas, steam and air conditioning supply (D)\n",
    "\n",
    "# Uploading in aggregate_df\n",
    "EURO_indprod_m_raw.to_csv(\"aggregate_df/EURO_indprod_dependent_df.csv\", index=False)"
   ]
  },
  {
   "cell_type": "markdown",
   "id": "6ce960f4",
   "metadata": {},
   "source": [
    "#### **4.2) Regressors df (exposure metrics)**"
   ]
  },
  {
   "cell_type": "code",
   "execution_count": null,
   "id": "5308dfef",
   "metadata": {},
   "outputs": [],
   "source": []
  },
  {
   "cell_type": "markdown",
   "id": "82431c59",
   "metadata": {},
   "source": [
    "#### **4.3) Regime-shift transition factor df**"
   ]
  },
  {
   "cell_type": "code",
   "execution_count": 195,
   "id": "52f9ae22",
   "metadata": {},
   "outputs": [],
   "source": [
    "# Aggregate US Import Custom Value df\n",
    "# No merging, no concat, already cleaned \n",
    "# Time frame: 2020/01 - 2025/12 (empty obs)\n",
    "# (!!!) NAIC codes: 3334, 3353, 3399, 3312, 3331, 3339, 3351, 3357, 3363, 3398\n",
    "\n",
    "# Uploading in aggregate_df\n",
    "US_import_raw.to_csv(\"aggregate_df/US_import_regime_df.csv\", index=False)"
   ]
  },
  {
   "cell_type": "markdown",
   "id": "f2d9440b",
   "metadata": {},
   "source": [
    "#### **4.4) Global controls df**"
   ]
  },
  {
   "cell_type": "code",
   "execution_count": 184,
   "id": "fec1f2ed",
   "metadata": {},
   "outputs": [
    {
     "data": {
      "application/vnd.microsoft.datawrangler.viewer.v0+json": {
       "columns": [
        {
         "name": "index",
         "rawType": "int64",
         "type": "integer"
        },
        {
         "name": "Time",
         "rawType": "object",
         "type": "string"
        },
        {
         "name": "Crude Oil Price (Brent, Europe)",
         "rawType": "float64",
         "type": "float"
        },
        {
         "name": "Nominal Broad USD Index",
         "rawType": "float64",
         "type": "float"
        },
        {
         "name": "CBOE Volatility Index (VIX)",
         "rawType": "float64",
         "type": "float"
        },
        {
         "name": "Market Yield on 10-Year US Trasury Securities",
         "rawType": "float64",
         "type": "float"
        }
       ],
       "ref": "70b3372b-bb61-481e-b6c8-65de58abbf1c",
       "rows": [
        [
         "760",
         "2025-05",
         "64.45",
         "122.6869",
         "20.46227272727273",
         "4.423809523809524"
        ],
        [
         "761",
         "2025-06",
         "71.44",
         "120.9747",
         "18.403333333333336",
         "4.3835"
        ],
        [
         "762",
         "2025-07",
         "71.04",
         "120.5266",
         "16.381304347826084",
         "4.391818181818182"
        ],
        [
         "763",
         "2025-08",
         "67.87",
         "120.9844",
         "15.75",
         "4.2647619047619045"
        ],
        [
         "764",
         "2025-09",
         "67.99",
         "120.4534",
         "15.789090909090909",
         "4.12047619047619"
        ]
       ],
       "shape": {
        "columns": 5,
        "rows": 5
       }
      },
      "text/html": [
       "<div>\n",
       "<style scoped>\n",
       "    .dataframe tbody tr th:only-of-type {\n",
       "        vertical-align: middle;\n",
       "    }\n",
       "\n",
       "    .dataframe tbody tr th {\n",
       "        vertical-align: top;\n",
       "    }\n",
       "\n",
       "    .dataframe thead th {\n",
       "        text-align: right;\n",
       "    }\n",
       "</style>\n",
       "<table border=\"1\" class=\"dataframe\">\n",
       "  <thead>\n",
       "    <tr style=\"text-align: right;\">\n",
       "      <th></th>\n",
       "      <th>Time</th>\n",
       "      <th>Crude Oil Price (Brent, Europe)</th>\n",
       "      <th>Nominal Broad USD Index</th>\n",
       "      <th>CBOE Volatility Index (VIX)</th>\n",
       "      <th>Market Yield on 10-Year US Trasury Securities</th>\n",
       "    </tr>\n",
       "  </thead>\n",
       "  <tbody>\n",
       "    <tr>\n",
       "      <th>760</th>\n",
       "      <td>2025-05</td>\n",
       "      <td>64.45</td>\n",
       "      <td>122.6869</td>\n",
       "      <td>20.462273</td>\n",
       "      <td>4.423810</td>\n",
       "    </tr>\n",
       "    <tr>\n",
       "      <th>761</th>\n",
       "      <td>2025-06</td>\n",
       "      <td>71.44</td>\n",
       "      <td>120.9747</td>\n",
       "      <td>18.403333</td>\n",
       "      <td>4.383500</td>\n",
       "    </tr>\n",
       "    <tr>\n",
       "      <th>762</th>\n",
       "      <td>2025-07</td>\n",
       "      <td>71.04</td>\n",
       "      <td>120.5266</td>\n",
       "      <td>16.381304</td>\n",
       "      <td>4.391818</td>\n",
       "    </tr>\n",
       "    <tr>\n",
       "      <th>763</th>\n",
       "      <td>2025-08</td>\n",
       "      <td>67.87</td>\n",
       "      <td>120.9844</td>\n",
       "      <td>15.750000</td>\n",
       "      <td>4.264762</td>\n",
       "    </tr>\n",
       "    <tr>\n",
       "      <th>764</th>\n",
       "      <td>2025-09</td>\n",
       "      <td>67.99</td>\n",
       "      <td>120.4534</td>\n",
       "      <td>15.789091</td>\n",
       "      <td>4.120476</td>\n",
       "    </tr>\n",
       "  </tbody>\n",
       "</table>\n",
       "</div>"
      ],
      "text/plain": [
       "        Time  Crude Oil Price (Brent, Europe)  Nominal Broad USD Index  \\\n",
       "760  2025-05                            64.45                 122.6869   \n",
       "761  2025-06                            71.44                 120.9747   \n",
       "762  2025-07                            71.04                 120.5266   \n",
       "763  2025-08                            67.87                 120.9844   \n",
       "764  2025-09                            67.99                 120.4534   \n",
       "\n",
       "     CBOE Volatility Index (VIX)  \\\n",
       "760                    20.462273   \n",
       "761                    18.403333   \n",
       "762                    16.381304   \n",
       "763                    15.750000   \n",
       "764                    15.789091   \n",
       "\n",
       "     Market Yield on 10-Year US Trasury Securities  \n",
       "760                                       4.423810  \n",
       "761                                       4.383500  \n",
       "762                                       4.391818  \n",
       "763                                       4.264762  \n",
       "764                                       4.120476  "
      ]
     },
     "execution_count": 184,
     "metadata": {},
     "output_type": "execute_result"
    }
   ],
   "source": [
    "# Aggregate Global Control df\n",
    "# Merging Index: Time\n",
    "# Time frame: 2006/01 - 2025/09\n",
    "# (!!!) To run the model we need no NaN in the df, so we dop them, causing a shrinking of the df time range\n",
    "global_control_df = (oilprice_m_raw.merge(usdi_m_raw, on=\"Time\", how=\"outer\").merge(VIX_m_raw, on=\"Time\", how=\"outer\").merge(ustyield_m_raw, on=\"Time\", how=\"outer\").sort_values(\"Time\").reset_index(drop=True))\n",
    "global_control_df = global_control_df.dropna()\n",
    "\n",
    "# Uploading in aggregate_df\n",
    "global_control_df.to_csv(\"aggregate_df/global_control_df.csv\", index=False)\n",
    "\n",
    "global_control_df.tail()"
   ]
  },
  {
   "cell_type": "markdown",
   "id": "77b7c10b",
   "metadata": {},
   "source": [
    "#### **4.4) Country-specific controls df**"
   ]
  },
  {
   "cell_type": "code",
   "execution_count": 149,
   "id": "0b518e56",
   "metadata": {},
   "outputs": [
    {
     "data": {
      "application/vnd.microsoft.datawrangler.viewer.v0+json": {
       "columns": [
        {
         "name": "index",
         "rawType": "int64",
         "type": "integer"
        },
        {
         "name": "Country",
         "rawType": "object",
         "type": "string"
        },
        {
         "name": "Time",
         "rawType": "object",
         "type": "string"
        },
        {
         "name": "GDP (Million EUR)",
         "rawType": "float64",
         "type": "float"
        },
        {
         "name": "HICP (%, annual rate of change)",
         "rawType": "float64",
         "type": "float"
        },
        {
         "name": "Unemployment Rate (%pop in LF)",
         "rawType": "float64",
         "type": "float"
        }
       ],
       "ref": "f1550a4f-afc4-4426-b0af-6b5e0a2abe85",
       "rows": [
        [
         "12714",
         "SK",
         "2025-02",
         "30911.1",
         "4.1",
         "5.4"
        ],
        [
         "12715",
         "SK",
         "2025-03",
         "30911.1",
         "4.2",
         "5.3"
        ],
        [
         "12716",
         "SK",
         "2025-04",
         "34243.7",
         "3.9",
         "5.2"
        ],
        [
         "12717",
         "SK",
         "2025-05",
         "34243.7",
         "4.3",
         "5.2"
        ],
        [
         "12718",
         "SK",
         "2025-06",
         "34243.7",
         "4.6",
         "5.3"
        ]
       ],
       "shape": {
        "columns": 5,
        "rows": 5
       }
      },
      "text/html": [
       "<div>\n",
       "<style scoped>\n",
       "    .dataframe tbody tr th:only-of-type {\n",
       "        vertical-align: middle;\n",
       "    }\n",
       "\n",
       "    .dataframe tbody tr th {\n",
       "        vertical-align: top;\n",
       "    }\n",
       "\n",
       "    .dataframe thead th {\n",
       "        text-align: right;\n",
       "    }\n",
       "</style>\n",
       "<table border=\"1\" class=\"dataframe\">\n",
       "  <thead>\n",
       "    <tr style=\"text-align: right;\">\n",
       "      <th></th>\n",
       "      <th>Country</th>\n",
       "      <th>Time</th>\n",
       "      <th>GDP (Million EUR)</th>\n",
       "      <th>HICP (%, annual rate of change)</th>\n",
       "      <th>Unemployment Rate (%pop in LF)</th>\n",
       "    </tr>\n",
       "  </thead>\n",
       "  <tbody>\n",
       "    <tr>\n",
       "      <th>12714</th>\n",
       "      <td>SK</td>\n",
       "      <td>2025-02</td>\n",
       "      <td>30911.1</td>\n",
       "      <td>4.1</td>\n",
       "      <td>5.4</td>\n",
       "    </tr>\n",
       "    <tr>\n",
       "      <th>12715</th>\n",
       "      <td>SK</td>\n",
       "      <td>2025-03</td>\n",
       "      <td>30911.1</td>\n",
       "      <td>4.2</td>\n",
       "      <td>5.3</td>\n",
       "    </tr>\n",
       "    <tr>\n",
       "      <th>12716</th>\n",
       "      <td>SK</td>\n",
       "      <td>2025-04</td>\n",
       "      <td>34243.7</td>\n",
       "      <td>3.9</td>\n",
       "      <td>5.2</td>\n",
       "    </tr>\n",
       "    <tr>\n",
       "      <th>12717</th>\n",
       "      <td>SK</td>\n",
       "      <td>2025-05</td>\n",
       "      <td>34243.7</td>\n",
       "      <td>4.3</td>\n",
       "      <td>5.2</td>\n",
       "    </tr>\n",
       "    <tr>\n",
       "      <th>12718</th>\n",
       "      <td>SK</td>\n",
       "      <td>2025-06</td>\n",
       "      <td>34243.7</td>\n",
       "      <td>4.6</td>\n",
       "      <td>5.3</td>\n",
       "    </tr>\n",
       "  </tbody>\n",
       "</table>\n",
       "</div>"
      ],
      "text/plain": [
       "      Country     Time  GDP (Million EUR)  HICP (%, annual rate of change)  \\\n",
       "12714      SK  2025-02            30911.1                              4.1   \n",
       "12715      SK  2025-03            30911.1                              4.2   \n",
       "12716      SK  2025-04            34243.7                              3.9   \n",
       "12717      SK  2025-05            34243.7                              4.3   \n",
       "12718      SK  2025-06            34243.7                              4.6   \n",
       "\n",
       "       Unemployment Rate (%pop in LF)  \n",
       "12714                             5.4  \n",
       "12715                             5.3  \n",
       "12716                             5.2  \n",
       "12717                             5.2  \n",
       "12718                             5.3  "
      ]
     },
     "execution_count": 149,
     "metadata": {},
     "output_type": "execute_result"
    }
   ],
   "source": [
    "# Aggregate Country-Specific Control df\n",
    "# Merging Index: Country, Time\n",
    "# Time frame: 1997/01 - 2025/06\n",
    "# (!!!) To run the model we need no NaN in the df, so we dop them, causing a shrinking of the df time range\n",
    "# (!!!) As GDP data are quarterly, we lose at lot here by dropping NaN even for HICP and Unemployment Rate that were insetad fine\n",
    "country_control_df = (EURO_GDP_m_raw.merge(EURO_HICP_m_raw, on=[\"Country\", \"Time\"] , how=\"outer\").merge(EURO_unem_m_raw, on= [\"Country\", \"Time\"], how=\"outer\").sort_values([\"Country\", \"Time\"]).reset_index(drop=True))\n",
    "country_control_df = country_control_df.dropna()\n",
    "\n",
    "# Uploading in aggregate_df\n",
    "country_control_df.to_csv(\"aggregate_df/country_specific_control_df.csv\", index=False)\n",
    "\n",
    "country_control_df.tail()"
   ]
  }
 ],
 "metadata": {
  "kernelspec": {
   "display_name": "base",
   "language": "python",
   "name": "python3"
  },
  "language_info": {
   "codemirror_mode": {
    "name": "ipython",
    "version": 3
   },
   "file_extension": ".py",
   "mimetype": "text/x-python",
   "name": "python",
   "nbconvert_exporter": "python",
   "pygments_lexer": "ipython3",
   "version": "3.12.4"
  }
 },
 "nbformat": 4,
 "nbformat_minor": 5
}
