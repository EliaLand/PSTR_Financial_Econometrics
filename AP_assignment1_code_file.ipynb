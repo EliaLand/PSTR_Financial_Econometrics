{
 "cells": [
  {
   "cell_type": "markdown",
   "id": "cd89b54d",
   "metadata": {},
   "source": [
    "<p align=\"center\">\n",
    "<img src=\"Images/sorbonne_logo.png\" alt=\"Logo\" width=\"300\"/>\n",
    "</p>"
   ]
  },
  {
   "cell_type": "markdown",
   "id": "0ae697e7",
   "metadata": {},
   "source": [
    "# **ASSET PRICING - Assignment 1**"
   ]
  },
  {
   "cell_type": "markdown",
   "id": "67a9aa76",
   "metadata": {},
   "source": [
    "* **GROUP**: Elia Landini\n",
    "* **Course**: EESM2-Financial Economics \n",
    "* **Class**: Asset Pricing\n",
    "* **Supervisor**: Jean-Bernard Chatelain \n",
    "* **Reference Repository**: https://github.com/EliaLand/sorbonne_FE/tree/main/PSTR_Asset_Pricing"
   ]
  },
  {
   "cell_type": "markdown",
   "id": "ffd86234",
   "metadata": {},
   "source": [
    "### **LOREM IPSUM**"
   ]
  }
 ],
 "metadata": {
  "kernelspec": {
   "display_name": "base",
   "language": "python",
   "name": "python3"
  },
  "language_info": {
   "name": "python",
   "version": "3.12.4"
  }
 },
 "nbformat": 4,
 "nbformat_minor": 5
}
